{
 "cells": [
  {
   "cell_type": "code",
   "execution_count": 4,
   "metadata": {},
   "outputs": [],
   "source": [
    "#import libraries\n",
    "import pandas as pd"
   ]
  },
  {
   "cell_type": "markdown",
   "metadata": {},
   "source": [
    "# 1.1"
   ]
  },
  {
   "cell_type": "code",
   "execution_count": 5,
   "metadata": {},
   "outputs": [],
   "source": [
    "#download curated gene-diesase associtaions from https://www.disgenet.org/downloads and covnert tsv in csv\n",
    "\n",
    "\n",
    "data = pd.read_csv('dataset/1.1/curated_gene_disease_associations.csv')\n",
    "#get only data for intereted gene id C0043094\n",
    "gene_disease = data.loc[data['diseaseId'] == 'C0043094']\n",
    "\n",
    "#get list og gene symbols\n",
    "list_geneSymbol = gene_disease['geneSymbol']\n",
    "\n",
    "\n",
    "#download hgnc dataset from https://www.genenames.org/download/statistics-and-files/\n",
    "hgnc = pd.read_csv(\"dataset/1.1/hgnc_complete_set.txt\", sep='\\t', dtype = 'unicode')\n",
    "#get data (symbol,name,entrez_id,unirpot_idasdn status) for only genes stored in previous list\n",
    "genes_diseases_hgnc = hgnc.loc[hgnc['symbol'].isin(list_geneSymbol)][['symbol','name','entrez_id','uniprot_ids','status']]\n",
    "#get only approved data\n",
    "genes_diseases_hgnc_app = genes_diseases_hgnc.loc[genes_diseases_hgnc['status']=='Approved']\n",
    "\n",
    "\n",
    "#get list ofuniprotidthat we'll useto find gene descriptionin Uniprot\n",
    "list_uniprotID = genes_diseases_hgnc_app['uniprot_ids']\n",
    "\n",
    "#write in a file alll uniprot ids. This is necessary because we'll download only necessary description for these genes from uniprot \n",
    "with open('dataset/1.1/uniprot_ids.txt', 'w') as f:\n",
    "    for item in list_uniprotID:\n",
    "        f.write(\"%s\\n\" % item)\n",
    "    f.close()\n",
    "\n",
    "#download data containing description for every gene. We used txt file for download them\n",
    "gene_description = pd.read_csv('dataset/1.1/uniprot-yourlist%3AM20201123A94466D2655679D1FD8953E075198DA817123DO.csv')\n",
    "#rename column for the function of the gene\n",
    "gene_description=gene_description.rename(columns={\"yourlist:M20201123A94466D2655679D1FD8953E075198DA817123DO\":\"uniprot_ids\"})\n",
    "\n",
    "\n",
    "#merge two dataset. One containing all info about gene and the second one conatining description about their functions\n",
    "final_genes_deseas = pd.merge(gene_description, genes_diseases_hgnc_app, on='uniprot_ids')\n",
    "#rename column\n",
    "final_genes_deseas=final_genes_deseas.rename(columns={\"Function [CC]\":\"function\"})\n",
    "#get only first part of gene description\n",
    "final_genes_deseas['Description']= final_genes_deseas.function.str[10:150]\n",
    "#delete not necessary columns\n",
    "final_genes_deseas = final_genes_deseas.drop(['function','Entry','status'], axis = 1) \n",
    "final_genes_deseas = final_genes_deseas[['symbol','uniprot_ids','name','entrez_id','Description']]"
   ]
  },
  {
   "cell_type": "code",
   "execution_count": 6,
   "metadata": {},
   "outputs": [],
   "source": [
    "#fix column names and save xlsx file\n",
    "final_genes_deseas.rename(columns={\"symbol\":\"Gene symbol\",\"uniprot_ids\":\"Uniprot AC\",\"name\":'Protein name','entrez_id':\"Entrez Gene ID\"})\n",
    "final_genes_deseas.to_excel('dataset/1.1/1.1-gene_deseas_associations.xlsx')\n",
    "final_genes_deseas.to_csv('dataset/1.1/1.1-gene_deseas_associations.csv')"
   ]
  },
  {
   "cell_type": "markdown",
   "metadata": {},
   "source": [
    "# 1.2"
   ]
  },
  {
   "cell_type": "code",
   "execution_count": null,
   "metadata": {},
   "outputs": [],
   "source": []
  }
 ],
 "metadata": {
  "kernelspec": {
   "display_name": "Python 3",
   "language": "python",
   "name": "python3"
  },
  "language_info": {
   "codemirror_mode": {
    "name": "ipython",
    "version": 3
   },
   "file_extension": ".py",
   "mimetype": "text/x-python",
   "name": "python",
   "nbconvert_exporter": "python",
   "pygments_lexer": "ipython3",
   "version": "3.7.9"
  }
 },
 "nbformat": 4,
 "nbformat_minor": 4
}
