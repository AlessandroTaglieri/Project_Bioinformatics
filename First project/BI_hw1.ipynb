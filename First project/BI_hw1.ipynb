{
  "nbformat": 4,
  "nbformat_minor": 0,
  "metadata": {
    "colab": {
      "name": "BI_hw1.ipynb",
      "provenance": [],
      "include_colab_link": true
    },
    "kernelspec": {
      "display_name": "Python 3",
      "language": "python",
      "name": "python3"
    },
    "language_info": {
      "codemirror_mode": {
        "name": "ipython",
        "version": 3
      },
      "file_extension": ".py",
      "mimetype": "text/x-python",
      "name": "python",
      "nbconvert_exporter": "python",
      "pygments_lexer": "ipython3",
      "version": "3.7.9"
    }
  },
  "cells": [
    {
      "cell_type": "markdown",
      "metadata": {
        "id": "view-in-github",
        "colab_type": "text"
      },
      "source": [
        "<a href=\"https://colab.research.google.com/github/AlessandroTaglieri/Project_Bioinformatics/blob/main/First%20project/BI_hw1.ipynb\" target=\"_parent\"><img src=\"https://colab.research.google.com/assets/colab-badge.svg\" alt=\"Open In Colab\"/></a>"
      ]
    },
    {
      "cell_type": "code",
      "metadata": {
        "colab": {
          "base_uri": "https://localhost:8080/"
        },
        "id": "Wl57nROYOHl2",
        "outputId": "3579a2a4-de23-4da1-a1b2-28532f1c4c7c"
      },
      "source": [
        "\n",
        "#comment if not running on colab\n",
        "from google.colab import drive\n",
        "drive.mount('/content/drive')"
      ],
      "execution_count": 1,
      "outputs": [
        {
          "output_type": "stream",
          "text": [
            "Mounted at /content/drive\n"
          ],
          "name": "stdout"
        }
      ]
    },
    {
      "cell_type": "code",
      "metadata": {
        "id": "alx8FV2wNvpf"
      },
      "source": [
        "#import libraries\n",
        "import pandas as pd\n",
        "import os\n",
        "import numpy as np\n",
        "import collections"
      ],
      "execution_count": 2,
      "outputs": []
    },
    {
      "cell_type": "code",
      "metadata": {
        "id": "DZFUTIgrOdVR"
      },
      "source": [
        "#change project folder to match yours\n",
        "project_folder ='/content/drive/MyDrive/BioinfoProject/Project_Bioinformatics/First_project/'\n",
        "#project_folder ='/'"
      ],
      "execution_count": 3,
      "outputs": []
    },
    {
      "cell_type": "code",
      "metadata": {
        "id": "I5uthtmDO--E"
      },
      "source": [
        "#change dataset folder to match yours\n",
        "dataset_folder = os.path.join(project_folder,'dataset/')"
      ],
      "execution_count": 4,
      "outputs": []
    },
    {
      "cell_type": "code",
      "metadata": {
        "id": "v54OIcfYmoOg"
      },
      "source": [
        "#only in local\n",
        "#dataset_folder=\"dataset/\""
      ],
      "execution_count": 5,
      "outputs": []
    },
    {
      "cell_type": "markdown",
      "metadata": {
        "id": "Qmi-z0dbNvpg"
      },
      "source": [
        "# 1.1"
      ]
    },
    {
      "cell_type": "code",
      "metadata": {
        "id": "qEGJ9Cf8Nvpg"
      },
      "source": [
        "#download curated gene-diesase associtaions from https://www.disgenet.org/downloads and covnert tsv in csv\n",
        "\n",
        "data = pd.read_csv(dataset_folder+ '1.1/curated_gene_disease_associations.csv')\n",
        "#get only data for intereted gene id C0043094\n",
        "gene_disease = data.loc[data['diseaseId'] == 'C0043094']\n",
        "\n",
        "#get list og gene symbols\n",
        "list_geneSymbol = gene_disease['geneSymbol']\n",
        "\n",
        "\n",
        "#download hgnc dataset from https://www.genenames.org/download/statistics-and-files/\n",
        "hgnc = pd.read_csv(dataset_folder+ \"1.1/hgnc_complete_set.txt\", sep='\\t', dtype = 'unicode')\n",
        "\n",
        "#get data (symbol,name,entrez_id,unirpot_idasdn status) for only genes stored in previous list\n",
        "genes_diseases_hgnc = hgnc.loc[hgnc['symbol'].isin(list_geneSymbol)][['symbol','name','entrez_id','uniprot_ids','status']]\n",
        "\n",
        "#get only approved data\n",
        "genes_diseases_hgnc_app = genes_diseases_hgnc.loc[genes_diseases_hgnc['status']=='Approved']\n",
        "\n",
        "\n",
        "#get list ofuniprotidthat we'll useto find gene descriptionin Uniprot\n",
        "list_uniprotID = genes_diseases_hgnc_app['uniprot_ids']\n",
        "\n",
        "#write in a file alll uniprot ids. This is necessary because we'll download only necessary description for these genes from uniprot \n",
        "with open(dataset_folder+ '1.1/uniprot_ids.txt', 'w') as f:\n",
        "    for item in list_uniprotID:\n",
        "        f.write(\"%s\\n\" % item)\n",
        "    f.close()\n",
        "\n",
        "#download data containing description for every gene. We used txt file for download them\n",
        "gene_description = pd.read_csv(dataset_folder+ '1.1/uniprot-yourlist%3AM20201123A94466D2655679D1FD8953E075198DA817123DO.csv')\n",
        "\n",
        "#rename column for the function of the gene\n",
        "gene_description=gene_description.rename(columns={\"yourlist:M20201123A94466D2655679D1FD8953E075198DA817123DO\":\"uniprot_ids\"})\n",
        "\n",
        "#merge two dataset. One containing all info about gene and the second one conatining description about their functions\n",
        "final_genes_deseas = pd.merge(gene_description, genes_diseases_hgnc_app, on='uniprot_ids')\n",
        "#rename column\n",
        "final_genes_deseas=final_genes_deseas.rename(columns={\"Function [CC]\":\"function\"})\n",
        "#get only first part of gene description\n",
        "final_genes_deseas['Description']= final_genes_deseas.function.str[10:150]\n",
        "#delete not necessary columns\n",
        "final_genes_deseas = final_genes_deseas.drop(['function','Entry','status'], axis = 1) \n",
        "final_genes_deseas = final_genes_deseas[['symbol','uniprot_ids','name','entrez_id','Description']]"
      ],
      "execution_count": 6,
      "outputs": []
    },
    {
      "cell_type": "code",
      "metadata": {
        "id": "TAO1bw4ONvpg"
      },
      "source": [
        "#fix column names and save xlsx file\n",
        "final_genes_deseas.rename(columns={\"symbol\":\"Gene symbol\",\"uniprot_ids\":\"Uniprot AC\",\"name\":'Protein name','entrez_id':\"Entrez Gene ID\"})\n",
        "final_genes_deseas.to_excel(dataset_folder+ '1.1/1.1-gene_deseas_associations.xlsx')\n",
        "final_genes_deseas.to_csv(dataset_folder+ '1.1/1.1-gene_deseas_associations.csv')"
      ],
      "execution_count": 7,
      "outputs": []
    },
    {
      "cell_type": "code",
      "metadata": {
        "colab": {
          "base_uri": "https://localhost:8080/",
          "height": 407
        },
        "id": "9FVmghYoQdJR",
        "outputId": "8a1cacf0-e782-448e-8792-779c99bf4092"
      },
      "source": [
        "final_genes_deseas"
      ],
      "execution_count": 8,
      "outputs": [
        {
          "output_type": "execute_result",
          "data": {
            "text/html": [
              "<div>\n",
              "<style scoped>\n",
              "    .dataframe tbody tr th:only-of-type {\n",
              "        vertical-align: middle;\n",
              "    }\n",
              "\n",
              "    .dataframe tbody tr th {\n",
              "        vertical-align: top;\n",
              "    }\n",
              "\n",
              "    .dataframe thead th {\n",
              "        text-align: right;\n",
              "    }\n",
              "</style>\n",
              "<table border=\"1\" class=\"dataframe\">\n",
              "  <thead>\n",
              "    <tr style=\"text-align: right;\">\n",
              "      <th></th>\n",
              "      <th>symbol</th>\n",
              "      <th>uniprot_ids</th>\n",
              "      <th>name</th>\n",
              "      <th>entrez_id</th>\n",
              "      <th>Description</th>\n",
              "    </tr>\n",
              "  </thead>\n",
              "  <tbody>\n",
              "    <tr>\n",
              "      <th>0</th>\n",
              "      <td>ABCG1</td>\n",
              "      <td>P45844</td>\n",
              "      <td>ATP binding cassette subfamily G member 1</td>\n",
              "      <td>9619</td>\n",
              "      <td>Catalyzes the efflux of phospholipids such as ...</td>\n",
              "    </tr>\n",
              "    <tr>\n",
              "      <th>1</th>\n",
              "      <td>ACADM</td>\n",
              "      <td>P11310</td>\n",
              "      <td>acyl-CoA dehydrogenase medium chain</td>\n",
              "      <td>34</td>\n",
              "      <td>Acyl-CoA dehydrogenase specific for acyl chain...</td>\n",
              "    </tr>\n",
              "    <tr>\n",
              "      <th>2</th>\n",
              "      <td>ACE</td>\n",
              "      <td>P12821</td>\n",
              "      <td>angiotensin I converting enzyme</td>\n",
              "      <td>1636</td>\n",
              "      <td>Converts angiotensin I to angiotensin II by re...</td>\n",
              "    </tr>\n",
              "    <tr>\n",
              "      <th>3</th>\n",
              "      <td>ADIPOQ</td>\n",
              "      <td>Q15848</td>\n",
              "      <td>adiponectin, C1Q and collagen domain containing</td>\n",
              "      <td>9370</td>\n",
              "      <td>Important adipokine involved in the control of...</td>\n",
              "    </tr>\n",
              "    <tr>\n",
              "      <th>4</th>\n",
              "      <td>AHR</td>\n",
              "      <td>P35869</td>\n",
              "      <td>aryl hydrocarbon receptor</td>\n",
              "      <td>196</td>\n",
              "      <td>Ligand-activated transcriptional activator. Bi...</td>\n",
              "    </tr>\n",
              "    <tr>\n",
              "      <th>...</th>\n",
              "      <td>...</td>\n",
              "      <td>...</td>\n",
              "      <td>...</td>\n",
              "      <td>...</td>\n",
              "      <td>...</td>\n",
              "    </tr>\n",
              "    <tr>\n",
              "      <th>97</th>\n",
              "      <td>TSEN2</td>\n",
              "      <td>Q8NCE0</td>\n",
              "      <td>tRNA splicing endonuclease subunit 2</td>\n",
              "      <td>80746</td>\n",
              "      <td>Constitutes one of the two catalytic subunit o...</td>\n",
              "    </tr>\n",
              "    <tr>\n",
              "      <th>98</th>\n",
              "      <td>VIM</td>\n",
              "      <td>P08670</td>\n",
              "      <td>vimentin</td>\n",
              "      <td>7431</td>\n",
              "      <td>Vimentins are class-III intermediate filaments...</td>\n",
              "    </tr>\n",
              "    <tr>\n",
              "      <th>99</th>\n",
              "      <td>VPS13D</td>\n",
              "      <td>Q5THJ4</td>\n",
              "      <td>vacuolar protein sorting 13 homolog D</td>\n",
              "      <td>55187</td>\n",
              "      <td>Functions in promoting mitochondrial clearance...</td>\n",
              "    </tr>\n",
              "    <tr>\n",
              "      <th>100</th>\n",
              "      <td>ZDHHC2</td>\n",
              "      <td>Q9UIJ5</td>\n",
              "      <td>zinc finger DHHC-type palmitoyltransferase 2</td>\n",
              "      <td>51201</td>\n",
              "      <td>Palmitoyltransferase that catalyzes the additi...</td>\n",
              "    </tr>\n",
              "    <tr>\n",
              "      <th>101</th>\n",
              "      <td>ZWILCH</td>\n",
              "      <td>Q9H900</td>\n",
              "      <td>zwilch kinetochore protein</td>\n",
              "      <td>55055</td>\n",
              "      <td>Essential component of the mitotic checkpoint,...</td>\n",
              "    </tr>\n",
              "  </tbody>\n",
              "</table>\n",
              "<p>102 rows × 5 columns</p>\n",
              "</div>"
            ],
            "text/plain": [
              "     symbol  ...                                        Description\n",
              "0     ABCG1  ...  Catalyzes the efflux of phospholipids such as ...\n",
              "1     ACADM  ...  Acyl-CoA dehydrogenase specific for acyl chain...\n",
              "2       ACE  ...  Converts angiotensin I to angiotensin II by re...\n",
              "3    ADIPOQ  ...  Important adipokine involved in the control of...\n",
              "4       AHR  ...  Ligand-activated transcriptional activator. Bi...\n",
              "..      ...  ...                                                ...\n",
              "97    TSEN2  ...  Constitutes one of the two catalytic subunit o...\n",
              "98      VIM  ...  Vimentins are class-III intermediate filaments...\n",
              "99   VPS13D  ...  Functions in promoting mitochondrial clearance...\n",
              "100  ZDHHC2  ...  Palmitoyltransferase that catalyzes the additi...\n",
              "101  ZWILCH  ...  Essential component of the mitotic checkpoint,...\n",
              "\n",
              "[102 rows x 5 columns]"
            ]
          },
          "metadata": {
            "tags": []
          },
          "execution_count": 8
        }
      ]
    },
    {
      "cell_type": "code",
      "metadata": {
        "id": "RM7VwTRcZWae"
      },
      "source": [
        "## To save seed id and symbols correspondance\n",
        "seed_symbols, seed_ids = final_genes_deseas['symbol'].values ,final_genes_deseas['entrez_id'].values\n",
        "seed_symbols_to_ids = {}\n",
        "seed_ids_to_symbols = {}\n",
        "for key,value in zip(seed_symbols,seed_ids):\n",
        "  seed_symbols_to_ids[key] = value\n",
        "\n",
        "for key,value in zip(seed_ids,seed_symbols):\n",
        "  seed_ids_to_symbols[key] = value \n"
      ],
      "execution_count": 9,
      "outputs": []
    },
    {
      "cell_type": "markdown",
      "metadata": {
        "id": "QwICM-22Nvpg"
      },
      "source": [
        "# 1.2"
      ]
    },
    {
      "cell_type": "markdown",
      "metadata": {
        "id": "_NEfYc7Z2cGQ"
      },
      "source": [
        "# Get biogrid data"
      ]
    },
    {
      "cell_type": "code",
      "metadata": {
        "id": "4CKrwuvimoOh",
        "colab": {
          "base_uri": "https://localhost:8080/"
        },
        "outputId": "bc4f657e-93a3-4fe6-a0f8-036932cd45a5"
      },
      "source": [
        "#read biogrid dataset \n",
        "biogrid_datafile = dataset_folder+'1.2/BIOGRID-ORGANISM-Homo_sapiens-4.2.191.tab3.txt'\n",
        "biogrid_data = pd.read_csv(biogrid_datafile,sep='\\t')\n",
        "#biogrid_data.info()"
      ],
      "execution_count": 86,
      "outputs": [
        {
          "output_type": "stream",
          "text": [
            "/usr/local/lib/python3.6/dist-packages/IPython/core/interactiveshell.py:2718: DtypeWarning: Columns (1,18) have mixed types.Specify dtype option on import or set low_memory=False.\n",
            "  interactivity=interactivity, compiler=compiler, result=result)\n"
          ],
          "name": "stderr"
        }
      ]
    },
    {
      "cell_type": "code",
      "metadata": {
        "id": "2hrvXahB2W1Z",
        "outputId": "399b4f77-3d8b-45dd-fb3a-df7bda3feb53",
        "colab": {
          "base_uri": "https://localhost:8080/"
        }
      },
      "source": [
        "biogrid_data.info()"
      ],
      "execution_count": 79,
      "outputs": [
        {
          "output_type": "stream",
          "text": [
            "<class 'pandas.core.frame.DataFrame'>\n",
            "RangeIndex: 697802 entries, 0 to 697801\n",
            "Data columns (total 37 columns):\n",
            " #   Column                              Non-Null Count   Dtype \n",
            "---  ------                              --------------   ----- \n",
            " 0   #BioGRID Interaction ID             697802 non-null  int64 \n",
            " 1   Entrez Gene Interactor A            697802 non-null  object\n",
            " 2   Entrez Gene Interactor B            697802 non-null  int64 \n",
            " 3   BioGRID ID Interactor A             697802 non-null  int64 \n",
            " 4   BioGRID ID Interactor B             697802 non-null  int64 \n",
            " 5   Systematic Name Interactor A        697802 non-null  object\n",
            " 6   Systematic Name Interactor B        697802 non-null  object\n",
            " 7   Official Symbol Interactor A        697802 non-null  object\n",
            " 8   Official Symbol Interactor B        697802 non-null  object\n",
            " 9   Synonyms Interactor A               697802 non-null  object\n",
            " 10  Synonyms Interactor B               697802 non-null  object\n",
            " 11  Experimental System                 697802 non-null  object\n",
            " 12  Experimental System Type            697802 non-null  object\n",
            " 13  Author                              697802 non-null  object\n",
            " 14  Publication Source                  697802 non-null  object\n",
            " 15  Organism ID Interactor A            697802 non-null  int64 \n",
            " 16  Organism ID Interactor B            697802 non-null  int64 \n",
            " 17  Throughput                          697802 non-null  object\n",
            " 18  Score                               697802 non-null  object\n",
            " 19  Modification                        697802 non-null  object\n",
            " 20  Qualifications                      697802 non-null  object\n",
            " 21  Tags                                697802 non-null  object\n",
            " 22  Source Database                     697802 non-null  object\n",
            " 23  SWISS-PROT Accessions Interactor A  697802 non-null  object\n",
            " 24  TREMBL Accessions Interactor A      697802 non-null  object\n",
            " 25  REFSEQ Accessions Interactor A      697591 non-null  object\n",
            " 26  SWISS-PROT Accessions Interactor B  697802 non-null  object\n",
            " 27  TREMBL Accessions Interactor B      697802 non-null  object\n",
            " 28  REFSEQ Accessions Interactor B      697204 non-null  object\n",
            " 29  Ontology Term IDs                   697802 non-null  object\n",
            " 30  Ontology Term Names                 697802 non-null  object\n",
            " 31  Ontology Term Categories            697802 non-null  object\n",
            " 32  Ontology Term Qualifier IDs         697802 non-null  object\n",
            " 33  Ontology Term Qualifier Names       697802 non-null  object\n",
            " 34  Ontology Term Types                 697802 non-null  object\n",
            " 35  Organism Name Interactor A          697802 non-null  object\n",
            " 36  Organism Name Interactor B          697802 non-null  object\n",
            "dtypes: int64(6), object(31)\n",
            "memory usage: 197.0+ MB\n"
          ],
          "name": "stdout"
        }
      ]
    },
    {
      "cell_type": "code",
      "metadata": {
        "colab": {
          "base_uri": "https://localhost:8080/",
          "height": 391
        },
        "id": "5YHuXbx3RLid",
        "outputId": "7f163927-b1a2-4671-834a-d68616a22cd6"
      },
      "source": [
        "biogrid_data.head(5)"
      ],
      "execution_count": 11,
      "outputs": [
        {
          "output_type": "execute_result",
          "data": {
            "text/html": [
              "<div>\n",
              "<style scoped>\n",
              "    .dataframe tbody tr th:only-of-type {\n",
              "        vertical-align: middle;\n",
              "    }\n",
              "\n",
              "    .dataframe tbody tr th {\n",
              "        vertical-align: top;\n",
              "    }\n",
              "\n",
              "    .dataframe thead th {\n",
              "        text-align: right;\n",
              "    }\n",
              "</style>\n",
              "<table border=\"1\" class=\"dataframe\">\n",
              "  <thead>\n",
              "    <tr style=\"text-align: right;\">\n",
              "      <th></th>\n",
              "      <th>#BioGRID Interaction ID</th>\n",
              "      <th>Entrez Gene Interactor A</th>\n",
              "      <th>Entrez Gene Interactor B</th>\n",
              "      <th>BioGRID ID Interactor A</th>\n",
              "      <th>BioGRID ID Interactor B</th>\n",
              "      <th>Systematic Name Interactor A</th>\n",
              "      <th>Systematic Name Interactor B</th>\n",
              "      <th>Official Symbol Interactor A</th>\n",
              "      <th>Official Symbol Interactor B</th>\n",
              "      <th>Synonyms Interactor A</th>\n",
              "      <th>Synonyms Interactor B</th>\n",
              "      <th>Experimental System</th>\n",
              "      <th>Experimental System Type</th>\n",
              "      <th>Author</th>\n",
              "      <th>Publication Source</th>\n",
              "      <th>Organism ID Interactor A</th>\n",
              "      <th>Organism ID Interactor B</th>\n",
              "      <th>Throughput</th>\n",
              "      <th>Score</th>\n",
              "      <th>Modification</th>\n",
              "      <th>Qualifications</th>\n",
              "      <th>Tags</th>\n",
              "      <th>Source Database</th>\n",
              "      <th>SWISS-PROT Accessions Interactor A</th>\n",
              "      <th>TREMBL Accessions Interactor A</th>\n",
              "      <th>REFSEQ Accessions Interactor A</th>\n",
              "      <th>SWISS-PROT Accessions Interactor B</th>\n",
              "      <th>TREMBL Accessions Interactor B</th>\n",
              "      <th>REFSEQ Accessions Interactor B</th>\n",
              "      <th>Ontology Term IDs</th>\n",
              "      <th>Ontology Term Names</th>\n",
              "      <th>Ontology Term Categories</th>\n",
              "      <th>Ontology Term Qualifier IDs</th>\n",
              "      <th>Ontology Term Qualifier Names</th>\n",
              "      <th>Ontology Term Types</th>\n",
              "      <th>Organism Name Interactor A</th>\n",
              "      <th>Organism Name Interactor B</th>\n",
              "    </tr>\n",
              "  </thead>\n",
              "  <tbody>\n",
              "    <tr>\n",
              "      <th>0</th>\n",
              "      <td>103</td>\n",
              "      <td>6416</td>\n",
              "      <td>2318</td>\n",
              "      <td>112315</td>\n",
              "      <td>108607</td>\n",
              "      <td>-</td>\n",
              "      <td>-</td>\n",
              "      <td>MAP2K4</td>\n",
              "      <td>FLNC</td>\n",
              "      <td>JNKK|JNKK1|MAPKK4|MEK4|MKK4|PRKMK4|SAPKK-1|SAP...</td>\n",
              "      <td>ABP-280|ABP280A|ABPA|ABPL|FLN2|MFM5|MPD4</td>\n",
              "      <td>Two-hybrid</td>\n",
              "      <td>physical</td>\n",
              "      <td>Marti A (1997)</td>\n",
              "      <td>PUBMED:9006895</td>\n",
              "      <td>9606</td>\n",
              "      <td>9606</td>\n",
              "      <td>Low Throughput</td>\n",
              "      <td>-</td>\n",
              "      <td>-</td>\n",
              "      <td>-</td>\n",
              "      <td>-</td>\n",
              "      <td>BIOGRID</td>\n",
              "      <td>P45985</td>\n",
              "      <td>-</td>\n",
              "      <td>NP_003001|NP_001268364</td>\n",
              "      <td>Q14315</td>\n",
              "      <td>Q59H94</td>\n",
              "      <td>NP_001120959|NP_001449</td>\n",
              "      <td>-</td>\n",
              "      <td>-</td>\n",
              "      <td>-</td>\n",
              "      <td>-</td>\n",
              "      <td>-</td>\n",
              "      <td>-</td>\n",
              "      <td>Homo sapiens</td>\n",
              "      <td>Homo sapiens</td>\n",
              "    </tr>\n",
              "    <tr>\n",
              "      <th>1</th>\n",
              "      <td>117</td>\n",
              "      <td>84665</td>\n",
              "      <td>88</td>\n",
              "      <td>124185</td>\n",
              "      <td>106603</td>\n",
              "      <td>-</td>\n",
              "      <td>-</td>\n",
              "      <td>MYPN</td>\n",
              "      <td>ACTN2</td>\n",
              "      <td>CMD1DD|CMH22|MYOP|RCM4</td>\n",
              "      <td>CMD1AA</td>\n",
              "      <td>Two-hybrid</td>\n",
              "      <td>physical</td>\n",
              "      <td>Bang ML (2001)</td>\n",
              "      <td>PUBMED:11309420</td>\n",
              "      <td>9606</td>\n",
              "      <td>9606</td>\n",
              "      <td>Low Throughput</td>\n",
              "      <td>-</td>\n",
              "      <td>-</td>\n",
              "      <td>-</td>\n",
              "      <td>-</td>\n",
              "      <td>BIOGRID</td>\n",
              "      <td>Q86TC9</td>\n",
              "      <td>A0A087WX60</td>\n",
              "      <td>NP_001243197|NP_001243196|NP_115967</td>\n",
              "      <td>P35609</td>\n",
              "      <td>Q59FD9|F6THM6</td>\n",
              "      <td>NP_001094|NP_001265272|NP_001265273</td>\n",
              "      <td>-</td>\n",
              "      <td>-</td>\n",
              "      <td>-</td>\n",
              "      <td>-</td>\n",
              "      <td>-</td>\n",
              "      <td>-</td>\n",
              "      <td>Homo sapiens</td>\n",
              "      <td>Homo sapiens</td>\n",
              "    </tr>\n",
              "    <tr>\n",
              "      <th>2</th>\n",
              "      <td>183</td>\n",
              "      <td>90</td>\n",
              "      <td>2339</td>\n",
              "      <td>106605</td>\n",
              "      <td>108625</td>\n",
              "      <td>-</td>\n",
              "      <td>-</td>\n",
              "      <td>ACVR1</td>\n",
              "      <td>FNTA</td>\n",
              "      <td>ACTRI|ACVR1A|ACVRLK2|ALK2|FOP|SKR1|TSRI</td>\n",
              "      <td>FPTA|PGGT1A|PTAR2</td>\n",
              "      <td>Two-hybrid</td>\n",
              "      <td>physical</td>\n",
              "      <td>Wang T (1996)</td>\n",
              "      <td>PUBMED:8599089</td>\n",
              "      <td>9606</td>\n",
              "      <td>9606</td>\n",
              "      <td>Low Throughput</td>\n",
              "      <td>-</td>\n",
              "      <td>-</td>\n",
              "      <td>-</td>\n",
              "      <td>-</td>\n",
              "      <td>BIOGRID</td>\n",
              "      <td>Q04771</td>\n",
              "      <td>D3DPA4</td>\n",
              "      <td>NP_001104537|NP_001096</td>\n",
              "      <td>P49354</td>\n",
              "      <td>-</td>\n",
              "      <td>NP_002018</td>\n",
              "      <td>-</td>\n",
              "      <td>-</td>\n",
              "      <td>-</td>\n",
              "      <td>-</td>\n",
              "      <td>-</td>\n",
              "      <td>-</td>\n",
              "      <td>Homo sapiens</td>\n",
              "      <td>Homo sapiens</td>\n",
              "    </tr>\n",
              "    <tr>\n",
              "      <th>3</th>\n",
              "      <td>278</td>\n",
              "      <td>2624</td>\n",
              "      <td>5371</td>\n",
              "      <td>108894</td>\n",
              "      <td>111384</td>\n",
              "      <td>-</td>\n",
              "      <td>-</td>\n",
              "      <td>GATA2</td>\n",
              "      <td>PML</td>\n",
              "      <td>DCML|IMD21|MONOMAC|NFE1B</td>\n",
              "      <td>MYL|PP8675|RNF71|TRIM19</td>\n",
              "      <td>Two-hybrid</td>\n",
              "      <td>physical</td>\n",
              "      <td>Tsuzuki S (2000)</td>\n",
              "      <td>PUBMED:10938104</td>\n",
              "      <td>9606</td>\n",
              "      <td>9606</td>\n",
              "      <td>Low Throughput</td>\n",
              "      <td>-</td>\n",
              "      <td>-</td>\n",
              "      <td>-</td>\n",
              "      <td>-</td>\n",
              "      <td>BIOGRID</td>\n",
              "      <td>P23769</td>\n",
              "      <td>-</td>\n",
              "      <td>NP_001139134|NP_116027|NP_001139133</td>\n",
              "      <td>P29590</td>\n",
              "      <td>-</td>\n",
              "      <td>NP_150250|NP_150253|NP_150252|NP_150247|NP_150...</td>\n",
              "      <td>-</td>\n",
              "      <td>-</td>\n",
              "      <td>-</td>\n",
              "      <td>-</td>\n",
              "      <td>-</td>\n",
              "      <td>-</td>\n",
              "      <td>Homo sapiens</td>\n",
              "      <td>Homo sapiens</td>\n",
              "    </tr>\n",
              "    <tr>\n",
              "      <th>4</th>\n",
              "      <td>418</td>\n",
              "      <td>6118</td>\n",
              "      <td>6774</td>\n",
              "      <td>112038</td>\n",
              "      <td>112651</td>\n",
              "      <td>RP4-547C9.3</td>\n",
              "      <td>-</td>\n",
              "      <td>RPA2</td>\n",
              "      <td>STAT3</td>\n",
              "      <td>REPA2|RP-A p32|RP-A p34|RPA32</td>\n",
              "      <td>ADMIO|APRF|HIES</td>\n",
              "      <td>Two-hybrid</td>\n",
              "      <td>physical</td>\n",
              "      <td>Kim J (2000)</td>\n",
              "      <td>PUBMED:10875894</td>\n",
              "      <td>9606</td>\n",
              "      <td>9606</td>\n",
              "      <td>Low Throughput</td>\n",
              "      <td>-</td>\n",
              "      <td>-</td>\n",
              "      <td>-</td>\n",
              "      <td>-</td>\n",
              "      <td>BIOGRID</td>\n",
              "      <td>P15927</td>\n",
              "      <td>B4DUL2</td>\n",
              "      <td>NP_001342057|NP_002937|NP_001284487|NP_0013420...</td>\n",
              "      <td>P40763</td>\n",
              "      <td>-</td>\n",
              "      <td>NP_644805|NP_003141|NP_001356447|NP_001356443|...</td>\n",
              "      <td>-</td>\n",
              "      <td>-</td>\n",
              "      <td>-</td>\n",
              "      <td>-</td>\n",
              "      <td>-</td>\n",
              "      <td>-</td>\n",
              "      <td>Homo sapiens</td>\n",
              "      <td>Homo sapiens</td>\n",
              "    </tr>\n",
              "  </tbody>\n",
              "</table>\n",
              "</div>"
            ],
            "text/plain": [
              "   #BioGRID Interaction ID  ... Organism Name Interactor B\n",
              "0                      103  ...               Homo sapiens\n",
              "1                      117  ...               Homo sapiens\n",
              "2                      183  ...               Homo sapiens\n",
              "3                      278  ...               Homo sapiens\n",
              "4                      418  ...               Homo sapiens\n",
              "\n",
              "[5 rows x 37 columns]"
            ]
          },
          "metadata": {
            "tags": []
          },
          "execution_count": 11
        }
      ]
    },
    {
      "cell_type": "code",
      "metadata": {
        "id": "XQ5MvHVE11Dt"
      },
      "source": [
        "biogrid_data = biogrid_data[biogrid_data['Experimental System Type']=='physical']\n",
        "biogrid_data = biogrid_data[biogrid_data['Organism Name Interactor A']=='Homo sapiens']\n",
        "biogrid_data = biogrid_data[biogrid_data['Organism Name Interactor B']=='Homo sapiens']"
      ],
      "execution_count": 89,
      "outputs": []
    },
    {
      "cell_type": "code",
      "metadata": {
        "id": "8wJa07ID5eon",
        "outputId": "03a681b2-304c-4e4e-c567-5bd4e168767d",
        "colab": {
          "base_uri": "https://localhost:8080/",
          "height": 773
        }
      },
      "source": [
        "biogrid_data"
      ],
      "execution_count": 90,
      "outputs": [
        {
          "output_type": "execute_result",
          "data": {
            "text/html": [
              "<div>\n",
              "<style scoped>\n",
              "    .dataframe tbody tr th:only-of-type {\n",
              "        vertical-align: middle;\n",
              "    }\n",
              "\n",
              "    .dataframe tbody tr th {\n",
              "        vertical-align: top;\n",
              "    }\n",
              "\n",
              "    .dataframe thead th {\n",
              "        text-align: right;\n",
              "    }\n",
              "</style>\n",
              "<table border=\"1\" class=\"dataframe\">\n",
              "  <thead>\n",
              "    <tr style=\"text-align: right;\">\n",
              "      <th></th>\n",
              "      <th>#BioGRID Interaction ID</th>\n",
              "      <th>Entrez Gene Interactor A</th>\n",
              "      <th>Entrez Gene Interactor B</th>\n",
              "      <th>BioGRID ID Interactor A</th>\n",
              "      <th>BioGRID ID Interactor B</th>\n",
              "      <th>Systematic Name Interactor A</th>\n",
              "      <th>Systematic Name Interactor B</th>\n",
              "      <th>Official Symbol Interactor A</th>\n",
              "      <th>Official Symbol Interactor B</th>\n",
              "      <th>Synonyms Interactor A</th>\n",
              "      <th>Synonyms Interactor B</th>\n",
              "      <th>Experimental System</th>\n",
              "      <th>Experimental System Type</th>\n",
              "      <th>Author</th>\n",
              "      <th>Publication Source</th>\n",
              "      <th>Organism ID Interactor A</th>\n",
              "      <th>Organism ID Interactor B</th>\n",
              "      <th>Throughput</th>\n",
              "      <th>Score</th>\n",
              "      <th>Modification</th>\n",
              "      <th>Qualifications</th>\n",
              "      <th>Tags</th>\n",
              "      <th>Source Database</th>\n",
              "      <th>SWISS-PROT Accessions Interactor A</th>\n",
              "      <th>TREMBL Accessions Interactor A</th>\n",
              "      <th>REFSEQ Accessions Interactor A</th>\n",
              "      <th>SWISS-PROT Accessions Interactor B</th>\n",
              "      <th>TREMBL Accessions Interactor B</th>\n",
              "      <th>REFSEQ Accessions Interactor B</th>\n",
              "      <th>Ontology Term IDs</th>\n",
              "      <th>Ontology Term Names</th>\n",
              "      <th>Ontology Term Categories</th>\n",
              "      <th>Ontology Term Qualifier IDs</th>\n",
              "      <th>Ontology Term Qualifier Names</th>\n",
              "      <th>Ontology Term Types</th>\n",
              "      <th>Organism Name Interactor A</th>\n",
              "      <th>Organism Name Interactor B</th>\n",
              "    </tr>\n",
              "  </thead>\n",
              "  <tbody>\n",
              "    <tr>\n",
              "      <th>0</th>\n",
              "      <td>103</td>\n",
              "      <td>6416</td>\n",
              "      <td>2318</td>\n",
              "      <td>112315</td>\n",
              "      <td>108607</td>\n",
              "      <td>-</td>\n",
              "      <td>-</td>\n",
              "      <td>MAP2K4</td>\n",
              "      <td>FLNC</td>\n",
              "      <td>JNKK|JNKK1|MAPKK4|MEK4|MKK4|PRKMK4|SAPKK-1|SAP...</td>\n",
              "      <td>ABP-280|ABP280A|ABPA|ABPL|FLN2|MFM5|MPD4</td>\n",
              "      <td>Two-hybrid</td>\n",
              "      <td>physical</td>\n",
              "      <td>Marti A (1997)</td>\n",
              "      <td>PUBMED:9006895</td>\n",
              "      <td>9606</td>\n",
              "      <td>9606</td>\n",
              "      <td>Low Throughput</td>\n",
              "      <td>-</td>\n",
              "      <td>-</td>\n",
              "      <td>-</td>\n",
              "      <td>-</td>\n",
              "      <td>BIOGRID</td>\n",
              "      <td>P45985</td>\n",
              "      <td>-</td>\n",
              "      <td>NP_003001|NP_001268364</td>\n",
              "      <td>Q14315</td>\n",
              "      <td>Q59H94</td>\n",
              "      <td>NP_001120959|NP_001449</td>\n",
              "      <td>-</td>\n",
              "      <td>-</td>\n",
              "      <td>-</td>\n",
              "      <td>-</td>\n",
              "      <td>-</td>\n",
              "      <td>-</td>\n",
              "      <td>Homo sapiens</td>\n",
              "      <td>Homo sapiens</td>\n",
              "    </tr>\n",
              "    <tr>\n",
              "      <th>1</th>\n",
              "      <td>117</td>\n",
              "      <td>84665</td>\n",
              "      <td>88</td>\n",
              "      <td>124185</td>\n",
              "      <td>106603</td>\n",
              "      <td>-</td>\n",
              "      <td>-</td>\n",
              "      <td>MYPN</td>\n",
              "      <td>ACTN2</td>\n",
              "      <td>CMD1DD|CMH22|MYOP|RCM4</td>\n",
              "      <td>CMD1AA</td>\n",
              "      <td>Two-hybrid</td>\n",
              "      <td>physical</td>\n",
              "      <td>Bang ML (2001)</td>\n",
              "      <td>PUBMED:11309420</td>\n",
              "      <td>9606</td>\n",
              "      <td>9606</td>\n",
              "      <td>Low Throughput</td>\n",
              "      <td>-</td>\n",
              "      <td>-</td>\n",
              "      <td>-</td>\n",
              "      <td>-</td>\n",
              "      <td>BIOGRID</td>\n",
              "      <td>Q86TC9</td>\n",
              "      <td>A0A087WX60</td>\n",
              "      <td>NP_001243197|NP_001243196|NP_115967</td>\n",
              "      <td>P35609</td>\n",
              "      <td>Q59FD9|F6THM6</td>\n",
              "      <td>NP_001094|NP_001265272|NP_001265273</td>\n",
              "      <td>-</td>\n",
              "      <td>-</td>\n",
              "      <td>-</td>\n",
              "      <td>-</td>\n",
              "      <td>-</td>\n",
              "      <td>-</td>\n",
              "      <td>Homo sapiens</td>\n",
              "      <td>Homo sapiens</td>\n",
              "    </tr>\n",
              "    <tr>\n",
              "      <th>2</th>\n",
              "      <td>183</td>\n",
              "      <td>90</td>\n",
              "      <td>2339</td>\n",
              "      <td>106605</td>\n",
              "      <td>108625</td>\n",
              "      <td>-</td>\n",
              "      <td>-</td>\n",
              "      <td>ACVR1</td>\n",
              "      <td>FNTA</td>\n",
              "      <td>ACTRI|ACVR1A|ACVRLK2|ALK2|FOP|SKR1|TSRI</td>\n",
              "      <td>FPTA|PGGT1A|PTAR2</td>\n",
              "      <td>Two-hybrid</td>\n",
              "      <td>physical</td>\n",
              "      <td>Wang T (1996)</td>\n",
              "      <td>PUBMED:8599089</td>\n",
              "      <td>9606</td>\n",
              "      <td>9606</td>\n",
              "      <td>Low Throughput</td>\n",
              "      <td>-</td>\n",
              "      <td>-</td>\n",
              "      <td>-</td>\n",
              "      <td>-</td>\n",
              "      <td>BIOGRID</td>\n",
              "      <td>Q04771</td>\n",
              "      <td>D3DPA4</td>\n",
              "      <td>NP_001104537|NP_001096</td>\n",
              "      <td>P49354</td>\n",
              "      <td>-</td>\n",
              "      <td>NP_002018</td>\n",
              "      <td>-</td>\n",
              "      <td>-</td>\n",
              "      <td>-</td>\n",
              "      <td>-</td>\n",
              "      <td>-</td>\n",
              "      <td>-</td>\n",
              "      <td>Homo sapiens</td>\n",
              "      <td>Homo sapiens</td>\n",
              "    </tr>\n",
              "    <tr>\n",
              "      <th>3</th>\n",
              "      <td>278</td>\n",
              "      <td>2624</td>\n",
              "      <td>5371</td>\n",
              "      <td>108894</td>\n",
              "      <td>111384</td>\n",
              "      <td>-</td>\n",
              "      <td>-</td>\n",
              "      <td>GATA2</td>\n",
              "      <td>PML</td>\n",
              "      <td>DCML|IMD21|MONOMAC|NFE1B</td>\n",
              "      <td>MYL|PP8675|RNF71|TRIM19</td>\n",
              "      <td>Two-hybrid</td>\n",
              "      <td>physical</td>\n",
              "      <td>Tsuzuki S (2000)</td>\n",
              "      <td>PUBMED:10938104</td>\n",
              "      <td>9606</td>\n",
              "      <td>9606</td>\n",
              "      <td>Low Throughput</td>\n",
              "      <td>-</td>\n",
              "      <td>-</td>\n",
              "      <td>-</td>\n",
              "      <td>-</td>\n",
              "      <td>BIOGRID</td>\n",
              "      <td>P23769</td>\n",
              "      <td>-</td>\n",
              "      <td>NP_001139134|NP_116027|NP_001139133</td>\n",
              "      <td>P29590</td>\n",
              "      <td>-</td>\n",
              "      <td>NP_150250|NP_150253|NP_150252|NP_150247|NP_150...</td>\n",
              "      <td>-</td>\n",
              "      <td>-</td>\n",
              "      <td>-</td>\n",
              "      <td>-</td>\n",
              "      <td>-</td>\n",
              "      <td>-</td>\n",
              "      <td>Homo sapiens</td>\n",
              "      <td>Homo sapiens</td>\n",
              "    </tr>\n",
              "    <tr>\n",
              "      <th>4</th>\n",
              "      <td>418</td>\n",
              "      <td>6118</td>\n",
              "      <td>6774</td>\n",
              "      <td>112038</td>\n",
              "      <td>112651</td>\n",
              "      <td>RP4-547C9.3</td>\n",
              "      <td>-</td>\n",
              "      <td>RPA2</td>\n",
              "      <td>STAT3</td>\n",
              "      <td>REPA2|RP-A p32|RP-A p34|RPA32</td>\n",
              "      <td>ADMIO|APRF|HIES</td>\n",
              "      <td>Two-hybrid</td>\n",
              "      <td>physical</td>\n",
              "      <td>Kim J (2000)</td>\n",
              "      <td>PUBMED:10875894</td>\n",
              "      <td>9606</td>\n",
              "      <td>9606</td>\n",
              "      <td>Low Throughput</td>\n",
              "      <td>-</td>\n",
              "      <td>-</td>\n",
              "      <td>-</td>\n",
              "      <td>-</td>\n",
              "      <td>BIOGRID</td>\n",
              "      <td>P15927</td>\n",
              "      <td>B4DUL2</td>\n",
              "      <td>NP_001342057|NP_002937|NP_001284487|NP_0013420...</td>\n",
              "      <td>P40763</td>\n",
              "      <td>-</td>\n",
              "      <td>NP_644805|NP_003141|NP_001356447|NP_001356443|...</td>\n",
              "      <td>-</td>\n",
              "      <td>-</td>\n",
              "      <td>-</td>\n",
              "      <td>-</td>\n",
              "      <td>-</td>\n",
              "      <td>-</td>\n",
              "      <td>Homo sapiens</td>\n",
              "      <td>Homo sapiens</td>\n",
              "    </tr>\n",
              "    <tr>\n",
              "      <th>...</th>\n",
              "      <td>...</td>\n",
              "      <td>...</td>\n",
              "      <td>...</td>\n",
              "      <td>...</td>\n",
              "      <td>...</td>\n",
              "      <td>...</td>\n",
              "      <td>...</td>\n",
              "      <td>...</td>\n",
              "      <td>...</td>\n",
              "      <td>...</td>\n",
              "      <td>...</td>\n",
              "      <td>...</td>\n",
              "      <td>...</td>\n",
              "      <td>...</td>\n",
              "      <td>...</td>\n",
              "      <td>...</td>\n",
              "      <td>...</td>\n",
              "      <td>...</td>\n",
              "      <td>...</td>\n",
              "      <td>...</td>\n",
              "      <td>...</td>\n",
              "      <td>...</td>\n",
              "      <td>...</td>\n",
              "      <td>...</td>\n",
              "      <td>...</td>\n",
              "      <td>...</td>\n",
              "      <td>...</td>\n",
              "      <td>...</td>\n",
              "      <td>...</td>\n",
              "      <td>...</td>\n",
              "      <td>...</td>\n",
              "      <td>...</td>\n",
              "      <td>...</td>\n",
              "      <td>...</td>\n",
              "      <td>...</td>\n",
              "      <td>...</td>\n",
              "      <td>...</td>\n",
              "    </tr>\n",
              "    <tr>\n",
              "      <th>696765</th>\n",
              "      <td>2875130</td>\n",
              "      <td>9564</td>\n",
              "      <td>9768</td>\n",
              "      <td>114934</td>\n",
              "      <td>115114</td>\n",
              "      <td>hCG_1980470</td>\n",
              "      <td>L5</td>\n",
              "      <td>BCAR1</td>\n",
              "      <td>KIAA0101</td>\n",
              "      <td>CAS|CAS1|CASS1|CRKAS|P130Cas</td>\n",
              "      <td>NS5ATP9|OEATC|OEATC-1|OEATC1|PAF|PAF15|p15(PAF...</td>\n",
              "      <td>Affinity Capture-MS</td>\n",
              "      <td>physical</td>\n",
              "      <td>Mao CG (2020)</td>\n",
              "      <td>PUBMED:33001583</td>\n",
              "      <td>9606</td>\n",
              "      <td>9606</td>\n",
              "      <td>High Throughput</td>\n",
              "      <td>-</td>\n",
              "      <td>-</td>\n",
              "      <td>-</td>\n",
              "      <td>-</td>\n",
              "      <td>BIOGRID</td>\n",
              "      <td>P56945</td>\n",
              "      <td>B2RBL9|B3KWE2</td>\n",
              "      <td>NP_001164188|NP_001164189|NP_001164191|NP_0011...</td>\n",
              "      <td>Q15004</td>\n",
              "      <td>-</td>\n",
              "      <td>NP_001025160|NP_055551</td>\n",
              "      <td>-</td>\n",
              "      <td>-</td>\n",
              "      <td>-</td>\n",
              "      <td>-</td>\n",
              "      <td>-</td>\n",
              "      <td>-</td>\n",
              "      <td>Homo sapiens</td>\n",
              "      <td>Homo sapiens</td>\n",
              "    </tr>\n",
              "    <tr>\n",
              "      <th>696766</th>\n",
              "      <td>2875131</td>\n",
              "      <td>9564</td>\n",
              "      <td>65263</td>\n",
              "      <td>114934</td>\n",
              "      <td>122418</td>\n",
              "      <td>hCG_1980470</td>\n",
              "      <td>-</td>\n",
              "      <td>BCAR1</td>\n",
              "      <td>PYCRL</td>\n",
              "      <td>CAS|CAS1|CASS1|CRKAS|P130Cas</td>\n",
              "      <td>-</td>\n",
              "      <td>Affinity Capture-MS</td>\n",
              "      <td>physical</td>\n",
              "      <td>Mao CG (2020)</td>\n",
              "      <td>PUBMED:33001583</td>\n",
              "      <td>9606</td>\n",
              "      <td>9606</td>\n",
              "      <td>High Throughput</td>\n",
              "      <td>-</td>\n",
              "      <td>-</td>\n",
              "      <td>-</td>\n",
              "      <td>-</td>\n",
              "      <td>BIOGRID</td>\n",
              "      <td>P56945</td>\n",
              "      <td>B2RBL9|B3KWE2</td>\n",
              "      <td>NP_001164188|NP_001164189|NP_001164191|NP_0011...</td>\n",
              "      <td>Q53H96</td>\n",
              "      <td>-</td>\n",
              "      <td>NP_001316795|NP_075566</td>\n",
              "      <td>-</td>\n",
              "      <td>-</td>\n",
              "      <td>-</td>\n",
              "      <td>-</td>\n",
              "      <td>-</td>\n",
              "      <td>-</td>\n",
              "      <td>Homo sapiens</td>\n",
              "      <td>Homo sapiens</td>\n",
              "    </tr>\n",
              "    <tr>\n",
              "      <th>696767</th>\n",
              "      <td>2875132</td>\n",
              "      <td>9564</td>\n",
              "      <td>79691</td>\n",
              "      <td>114934</td>\n",
              "      <td>122812</td>\n",
              "      <td>hCG_1980470</td>\n",
              "      <td>-</td>\n",
              "      <td>BCAR1</td>\n",
              "      <td>QTRTD1</td>\n",
              "      <td>CAS|CAS1|CASS1|CRKAS|P130Cas</td>\n",
              "      <td>-</td>\n",
              "      <td>Affinity Capture-MS</td>\n",
              "      <td>physical</td>\n",
              "      <td>Mao CG (2020)</td>\n",
              "      <td>PUBMED:33001583</td>\n",
              "      <td>9606</td>\n",
              "      <td>9606</td>\n",
              "      <td>High Throughput</td>\n",
              "      <td>-</td>\n",
              "      <td>-</td>\n",
              "      <td>-</td>\n",
              "      <td>-</td>\n",
              "      <td>BIOGRID</td>\n",
              "      <td>P56945</td>\n",
              "      <td>B2RBL9|B3KWE2</td>\n",
              "      <td>NP_001164188|NP_001164189|NP_001164191|NP_0011...</td>\n",
              "      <td>Q9H974</td>\n",
              "      <td>-</td>\n",
              "      <td>NP_078914|NP_001243764|NP_001243765|NP_001243766</td>\n",
              "      <td>-</td>\n",
              "      <td>-</td>\n",
              "      <td>-</td>\n",
              "      <td>-</td>\n",
              "      <td>-</td>\n",
              "      <td>-</td>\n",
              "      <td>Homo sapiens</td>\n",
              "      <td>Homo sapiens</td>\n",
              "    </tr>\n",
              "    <tr>\n",
              "      <th>696768</th>\n",
              "      <td>2875133</td>\n",
              "      <td>9564</td>\n",
              "      <td>85465</td>\n",
              "      <td>114934</td>\n",
              "      <td>124549</td>\n",
              "      <td>hCG_1980470</td>\n",
              "      <td>-</td>\n",
              "      <td>BCAR1</td>\n",
              "      <td>EPT1</td>\n",
              "      <td>CAS|CAS1|CASS1|CRKAS|P130Cas</td>\n",
              "      <td>SELI|SEPI</td>\n",
              "      <td>Affinity Capture-MS</td>\n",
              "      <td>physical</td>\n",
              "      <td>Mao CG (2020)</td>\n",
              "      <td>PUBMED:33001583</td>\n",
              "      <td>9606</td>\n",
              "      <td>9606</td>\n",
              "      <td>High Throughput</td>\n",
              "      <td>-</td>\n",
              "      <td>-</td>\n",
              "      <td>-</td>\n",
              "      <td>-</td>\n",
              "      <td>BIOGRID</td>\n",
              "      <td>P56945</td>\n",
              "      <td>B2RBL9|B3KWE2</td>\n",
              "      <td>NP_001164188|NP_001164189|NP_001164191|NP_0011...</td>\n",
              "      <td>Q9C0D9</td>\n",
              "      <td>-</td>\n",
              "      <td>NP_277040</td>\n",
              "      <td>-</td>\n",
              "      <td>-</td>\n",
              "      <td>-</td>\n",
              "      <td>-</td>\n",
              "      <td>-</td>\n",
              "      <td>-</td>\n",
              "      <td>Homo sapiens</td>\n",
              "      <td>Homo sapiens</td>\n",
              "    </tr>\n",
              "    <tr>\n",
              "      <th>696769</th>\n",
              "      <td>2875134</td>\n",
              "      <td>9564</td>\n",
              "      <td>57103</td>\n",
              "      <td>114934</td>\n",
              "      <td>121369</td>\n",
              "      <td>hCG_1980470</td>\n",
              "      <td>-</td>\n",
              "      <td>BCAR1</td>\n",
              "      <td>C12orf5</td>\n",
              "      <td>CAS|CAS1|CASS1|CRKAS|P130Cas</td>\n",
              "      <td>FR2BP|TIGAR</td>\n",
              "      <td>Affinity Capture-MS</td>\n",
              "      <td>physical</td>\n",
              "      <td>Mao CG (2020)</td>\n",
              "      <td>PUBMED:33001583</td>\n",
              "      <td>9606</td>\n",
              "      <td>9606</td>\n",
              "      <td>High Throughput</td>\n",
              "      <td>-</td>\n",
              "      <td>-</td>\n",
              "      <td>-</td>\n",
              "      <td>-</td>\n",
              "      <td>BIOGRID</td>\n",
              "      <td>P56945</td>\n",
              "      <td>B2RBL9|B3KWE2</td>\n",
              "      <td>NP_001164188|NP_001164189|NP_001164191|NP_0011...</td>\n",
              "      <td>Q9NQ88</td>\n",
              "      <td>-</td>\n",
              "      <td>NP_065108</td>\n",
              "      <td>-</td>\n",
              "      <td>-</td>\n",
              "      <td>-</td>\n",
              "      <td>-</td>\n",
              "      <td>-</td>\n",
              "      <td>-</td>\n",
              "      <td>Homo sapiens</td>\n",
              "      <td>Homo sapiens</td>\n",
              "    </tr>\n",
              "  </tbody>\n",
              "</table>\n",
              "<p>630323 rows × 37 columns</p>\n",
              "</div>"
            ],
            "text/plain": [
              "        #BioGRID Interaction ID  ... Organism Name Interactor B\n",
              "0                           103  ...               Homo sapiens\n",
              "1                           117  ...               Homo sapiens\n",
              "2                           183  ...               Homo sapiens\n",
              "3                           278  ...               Homo sapiens\n",
              "4                           418  ...               Homo sapiens\n",
              "...                         ...  ...                        ...\n",
              "696765                  2875130  ...               Homo sapiens\n",
              "696766                  2875131  ...               Homo sapiens\n",
              "696767                  2875132  ...               Homo sapiens\n",
              "696768                  2875133  ...               Homo sapiens\n",
              "696769                  2875134  ...               Homo sapiens\n",
              "\n",
              "[630323 rows x 37 columns]"
            ]
          },
          "metadata": {
            "tags": []
          },
          "execution_count": 90
        }
      ]
    },
    {
      "cell_type": "code",
      "metadata": {
        "id": "IQXM5Cld2Kww",
        "outputId": "8a036835-0055-4c23-bb5b-279decf01b6c",
        "colab": {
          "base_uri": "https://localhost:8080/"
        }
      },
      "source": [
        "biogrid_data.info()"
      ],
      "execution_count": 91,
      "outputs": [
        {
          "output_type": "stream",
          "text": [
            "<class 'pandas.core.frame.DataFrame'>\n",
            "Int64Index: 630323 entries, 0 to 696769\n",
            "Data columns (total 37 columns):\n",
            " #   Column                              Non-Null Count   Dtype \n",
            "---  ------                              --------------   ----- \n",
            " 0   #BioGRID Interaction ID             630323 non-null  int64 \n",
            " 1   Entrez Gene Interactor A            630323 non-null  object\n",
            " 2   Entrez Gene Interactor B            630323 non-null  int64 \n",
            " 3   BioGRID ID Interactor A             630323 non-null  int64 \n",
            " 4   BioGRID ID Interactor B             630323 non-null  int64 \n",
            " 5   Systematic Name Interactor A        630323 non-null  object\n",
            " 6   Systematic Name Interactor B        630323 non-null  object\n",
            " 7   Official Symbol Interactor A        630323 non-null  object\n",
            " 8   Official Symbol Interactor B        630323 non-null  object\n",
            " 9   Synonyms Interactor A               630323 non-null  object\n",
            " 10  Synonyms Interactor B               630323 non-null  object\n",
            " 11  Experimental System                 630323 non-null  object\n",
            " 12  Experimental System Type            630323 non-null  object\n",
            " 13  Author                              630323 non-null  object\n",
            " 14  Publication Source                  630323 non-null  object\n",
            " 15  Organism ID Interactor A            630323 non-null  int64 \n",
            " 16  Organism ID Interactor B            630323 non-null  int64 \n",
            " 17  Throughput                          630323 non-null  object\n",
            " 18  Score                               630323 non-null  object\n",
            " 19  Modification                        630323 non-null  object\n",
            " 20  Qualifications                      630323 non-null  object\n",
            " 21  Tags                                630323 non-null  object\n",
            " 22  Source Database                     630323 non-null  object\n",
            " 23  SWISS-PROT Accessions Interactor A  630323 non-null  object\n",
            " 24  TREMBL Accessions Interactor A      630323 non-null  object\n",
            " 25  REFSEQ Accessions Interactor A      630240 non-null  object\n",
            " 26  SWISS-PROT Accessions Interactor B  630323 non-null  object\n",
            " 27  TREMBL Accessions Interactor B      630323 non-null  object\n",
            " 28  REFSEQ Accessions Interactor B      629939 non-null  object\n",
            " 29  Ontology Term IDs                   630323 non-null  object\n",
            " 30  Ontology Term Names                 630323 non-null  object\n",
            " 31  Ontology Term Categories            630323 non-null  object\n",
            " 32  Ontology Term Qualifier IDs         630323 non-null  object\n",
            " 33  Ontology Term Qualifier Names       630323 non-null  object\n",
            " 34  Ontology Term Types                 630323 non-null  object\n",
            " 35  Organism Name Interactor A          630323 non-null  object\n",
            " 36  Organism Name Interactor B          630323 non-null  object\n",
            "dtypes: int64(6), object(31)\n",
            "memory usage: 182.7+ MB\n"
          ],
          "name": "stdout"
        }
      ]
    },
    {
      "cell_type": "markdown",
      "metadata": {
        "id": "h7uYgIAt6fbi"
      },
      "source": [
        "#### Mapping protein Id to symbols\n"
      ]
    },
    {
      "cell_type": "code",
      "metadata": {
        "id": "cqLQV89pba0T"
      },
      "source": [
        "biogrid_ids_A,biogrid_symbols_A  = biogrid_data['Entrez Gene Interactor A'].values ,biogrid_data['Official Symbol Interactor A'].values\n",
        "biogrid_ids_B,biogrid_symbols_B  = biogrid_data['Entrez Gene Interactor B'].values ,biogrid_data['Official Symbol Interactor B'].values\n",
        "\n",
        "symbols_to_ids = {}\n",
        "ids_to_symbols = {}\n",
        "for key,value in zip(biogrid_symbols_A,biogrid_ids_A):\n",
        "  symbols_to_ids[key] = value\n",
        "\n",
        "for key,value in zip(biogrid_symbols_B,biogrid_ids_B):\n",
        "  symbols_to_ids[key] = value\n",
        "\n",
        "for key,value in zip(biogrid_ids_A,biogrid_symbols_A):\n",
        "  ids_to_symbols[key] = value \n",
        "\n",
        "for key,value in zip(biogrid_ids_B,biogrid_symbols_B):\n",
        "  ids_to_symbols[key] = value "
      ],
      "execution_count": 92,
      "outputs": []
    },
    {
      "cell_type": "code",
      "metadata": {
        "id": "fHUEWEC_Yu6H"
      },
      "source": [
        "def symbol_to_id(symbol):\n",
        "  return symbols_to_ids.get(symbol)\n",
        "\n",
        "def symbol_link_to_id_link(link):\n",
        "  return (symbol_to_id(link[0]),symbol_to_id(link[1]))\n"
      ],
      "execution_count": 94,
      "outputs": []
    },
    {
      "cell_type": "markdown",
      "metadata": {
        "id": "H4Jif0i0JY1V"
      },
      "source": [
        "#Get all nodes involved in interactions \n",
        "#removing non numeric nodes\n",
        "\n",
        "---\n",
        "\n"
      ]
    },
    {
      "cell_type": "code",
      "metadata": {
        "id": "-LGQgQwc_2uO"
      },
      "source": [
        "gene_A_list = biogrid_data.iloc[:,1].values\n",
        "gene_B_list = biogrid_data.iloc[:,2].values\n",
        "A_B_list = np.append(gene_A_list,gene_B_list)\n",
        "A_set = set(gene_A_list)\n",
        "\n",
        "B_set =  set(gene_B_list)\n",
        "A_B_set = set(A_B_list)"
      ],
      "execution_count": 93,
      "outputs": []
    },
    {
      "cell_type": "code",
      "metadata": {
        "colab": {
          "base_uri": "https://localhost:8080/"
        },
        "id": "YQ2tGfcAHpu6",
        "outputId": "bc483052-3bd1-4f6f-dbd3-bfbe4dec1e39"
      },
      "source": [
        "genes_biogrid = np.array([x for x in A_B_set if str.isdigit(str(x))])\n",
        "genes_biogrid"
      ],
      "execution_count": 17,
      "outputs": [
        {
          "output_type": "execute_result",
          "data": {
            "text/plain": [
              "array(['1', '2', '131076', ..., '131034', '6340', '6628'], dtype='<U21')"
            ]
          },
          "metadata": {
            "tags": []
          },
          "execution_count": 17
        }
      ]
    },
    {
      "cell_type": "markdown",
      "metadata": {
        "id": "KR4mMY8cJpV5"
      },
      "source": [
        "#Get all interactions \n",
        "#removing invalid nodes with invalid ID \n"
      ]
    },
    {
      "cell_type": "code",
      "metadata": {
        "colab": {
          "base_uri": "https://localhost:8080/"
        },
        "id": "gLR8LCg5D6TR",
        "outputId": "53325a16-7957-4380-8b6d-1854b38c916e"
      },
      "source": [
        "interactions = biogrid_data.iloc[:,1:3].values\n",
        "#interactions =np.array([[a,b] for a,b in interactions if(str.isdigit(str(a)) & str.isdigit(str(b)))])\n",
        "interactions =np.array([[a,b] for a,b in interactions ])\n",
        "interactions.shape"
      ],
      "execution_count": 96,
      "outputs": [
        {
          "output_type": "execute_result",
          "data": {
            "text/plain": [
              "(630323, 2)"
            ]
          },
          "metadata": {
            "tags": []
          },
          "execution_count": 96
        }
      ]
    },
    {
      "cell_type": "markdown",
      "metadata": {
        "id": "q6HEt4l2UQxA"
      },
      "source": [
        "# Seed gene list "
      ]
    },
    {
      "cell_type": "code",
      "metadata": {
        "colab": {
          "base_uri": "https://localhost:8080/"
        },
        "id": "nobmzU_UUPM8",
        "outputId": "601d87a9-d78b-4e7f-f2fb-0a4ab48b0a02"
      },
      "source": [
        "seed_genes_ids  =  final_genes_deseas['entrez_id'].values\n",
        "seed_genes_ids"
      ],
      "execution_count": 97,
      "outputs": [
        {
          "output_type": "execute_result",
          "data": {
            "text/plain": [
              "array(['9619', '34', '1636', '9370', '196', '1646', '302', '308', '323',\n",
              "       '351', '23365', '586', '801', '857', '284119', '948', '25932',\n",
              "       '1268', '26958', '1509', '1565', '8701', '1813', '1783', '2146',\n",
              "       '285172', '2199', '23014', '9637', '2246', '55277', '11167',\n",
              "       '79068', '9518', '2688', '51738', '2784', '2888', '2934', '84064',\n",
              "       '3358', '3620', '3488', '51141', '51194', '8826', '3778', '3779',\n",
              "       '9215', '3929', '3952', '3953', '9926', '4134', '22919', '4137',\n",
              "       '4199', '4232', '284207', '4313', '4321', '23164', '4430', '4651',\n",
              "       '55706', '4715', '140609', '4811', '4883', '114882', '5020',\n",
              "       '23022', '51449', '5290', '5443', '5467', '23683', '5631', '29108',\n",
              "       '10266', '5986', '6158', '6202', '6234', '6259', '51091', '91404',\n",
              "       '26040', '26037', '10569', '8470', '6678', '6711', '57620', '412',\n",
              "       '7124', '7171', '80746', '7431', '55187', '51201', '55055'],\n",
              "      dtype=object)"
            ]
          },
          "metadata": {
            "tags": []
          },
          "execution_count": 97
        }
      ]
    },
    {
      "cell_type": "markdown",
      "metadata": {
        "id": "9mzjaC-TU0ev"
      },
      "source": [
        "#Now we build a dictionary of all interactions"
      ]
    },
    {
      "cell_type": "code",
      "metadata": {
        "id": "ZuBk2xllVaX3"
      },
      "source": [
        "all_interactions_dict = collections.defaultdict(set)\n",
        "for a,b in interactions:\n",
        "  all_interactions_dict[a].add(b)\n",
        "  all_interactions_dict[b].add(a)"
      ],
      "execution_count": 20,
      "outputs": []
    },
    {
      "cell_type": "markdown",
      "metadata": {
        "id": "QTsPM8xqiLc9"
      },
      "source": [
        "# Interactions including seed genes "
      ]
    },
    {
      "cell_type": "code",
      "metadata": {
        "id": "yxTCUWjcZDqD"
      },
      "source": [
        "seed_interactions_dict = collections.defaultdict(set)\n",
        "for key in seed_genes_ids:\n",
        "  seed_interactions_dict[key] = all_interactions_dict[key]"
      ],
      "execution_count": 21,
      "outputs": []
    },
    {
      "cell_type": "markdown",
      "metadata": {
        "id": "s9sGTd8jifxs"
      },
      "source": [
        "# Protein interacting with seed genes"
      ]
    },
    {
      "cell_type": "code",
      "metadata": {
        "colab": {
          "base_uri": "https://localhost:8080/"
        },
        "id": "XGPKvfXViXRw",
        "outputId": "b868606e-877b-42fe-9770-b38f93ca169e"
      },
      "source": [
        "non_seed_genes_ids = set()\n",
        "# from seed genes interactions dictionary, we retrieve all genes interacting with them\n",
        "# performing union of all set \n",
        "for key in seed_interactions_dict.keys():\n",
        "  non_seed_genes_ids = non_seed_genes_ids.union(seed_interactions_dict[key]) \n",
        "\n",
        "#We remove all seed genes included in the set\n",
        "non_seed_genes_ids = np.array([x for x in non_seed_genes_ids if x not in seed_genes_ids])\n",
        "\n",
        "# There we get only non seed gene which interacted with at least one seed gene\n",
        "len(non_seed_genes_ids)"
      ],
      "execution_count": 22,
      "outputs": [
        {
          "output_type": "execute_result",
          "data": {
            "text/plain": [
              "6140"
            ]
          },
          "metadata": {
            "tags": []
          },
          "execution_count": 22
        }
      ]
    },
    {
      "cell_type": "markdown",
      "metadata": {
        "id": "Q5Nin_0Ylelk"
      },
      "source": [
        "#Then we create a dictionary for interactions of non seed genes involved with at least one seed gene"
      ]
    },
    {
      "cell_type": "code",
      "metadata": {
        "id": "vhayZxQEl-GB"
      },
      "source": [
        "non_seed_interactions_dict = collections.defaultdict(set)\n",
        "\n",
        "#looping on non seed gend ids \n",
        "for key in non_seed_genes_ids:\n",
        "  # we retrieve interactions from all interactions dictionary \n",
        "  related_genes = all_interactions_dict[key]\n",
        "\n",
        "  related_non_seed_genes = [x for x in related_genes if x not in seed_genes_ids]\n",
        "\n",
        "  #we add it tho the seed genes iteractions dictionary \n",
        "  non_seed_interactions_dict[key] = set(related_non_seed_genes)\n"
      ],
      "execution_count": 23,
      "outputs": []
    },
    {
      "cell_type": "markdown",
      "metadata": {
        "id": "1UYkzP2Ooq0y"
      },
      "source": [
        "#Lets put all this in a data frame"
      ]
    },
    {
      "cell_type": "code",
      "metadata": {
        "id": "kwCN8oVAov8X"
      },
      "source": [
        "values = []\n",
        "for a ,b in seed_interactions_dict.items():\n",
        "  values.append([a,'T',','.join(b)])\n",
        "\n",
        "for a ,b in non_seed_interactions_dict.items():\n",
        "  values.append([a,'F',','.join(b)])\n",
        "\n",
        "\n",
        "df = pd.DataFrame(values,columns=['gene_id','seed_gene_involved','interactions_seeds_ids'])"
      ],
      "execution_count": 24,
      "outputs": []
    },
    {
      "cell_type": "markdown",
      "metadata": {
        "id": "Rv7M3vN6kkyV"
      },
      "source": [
        ""
      ]
    },
    {
      "cell_type": "code",
      "metadata": {
        "colab": {
          "base_uri": "https://localhost:8080/",
          "height": 348
        },
        "id": "Vxu_l4gRgF1I",
        "outputId": "50932cd1-e8e2-46d3-af2f-46f0aae88ef9"
      },
      "source": [
        "df.sample(10)"
      ],
      "execution_count": 25,
      "outputs": [
        {
          "output_type": "execute_result",
          "data": {
            "text/html": [
              "<div>\n",
              "<style scoped>\n",
              "    .dataframe tbody tr th:only-of-type {\n",
              "        vertical-align: middle;\n",
              "    }\n",
              "\n",
              "    .dataframe tbody tr th {\n",
              "        vertical-align: top;\n",
              "    }\n",
              "\n",
              "    .dataframe thead th {\n",
              "        text-align: right;\n",
              "    }\n",
              "</style>\n",
              "<table border=\"1\" class=\"dataframe\">\n",
              "  <thead>\n",
              "    <tr style=\"text-align: right;\">\n",
              "      <th></th>\n",
              "      <th>gene_id</th>\n",
              "      <th>seed_gene_involved</th>\n",
              "      <th>interactions_seeds_ids</th>\n",
              "    </tr>\n",
              "  </thead>\n",
              "  <tbody>\n",
              "    <tr>\n",
              "      <th>5683</th>\n",
              "      <td>6188</td>\n",
              "      <td>F</td>\n",
              "      <td>27122,7415,5885,85437,69408,6231,9212,9343,117...</td>\n",
              "    </tr>\n",
              "    <tr>\n",
              "      <th>3071</th>\n",
              "      <td>1131</td>\n",
              "      <td>F</td>\n",
              "      <td>64854,9497,51651,152789,54965,23066,53407,2287...</td>\n",
              "    </tr>\n",
              "    <tr>\n",
              "      <th>4163</th>\n",
              "      <td>63976</td>\n",
              "      <td>F</td>\n",
              "      <td>9667,10061,9551,10432,10121,9688,84617,9377,72...</td>\n",
              "    </tr>\n",
              "    <tr>\n",
              "      <th>2883</th>\n",
              "      <td>4846</td>\n",
              "      <td>F</td>\n",
              "      <td>4846,5663,88,22983,54536,55165,23411,24242,348...</td>\n",
              "    </tr>\n",
              "    <tr>\n",
              "      <th>1648</th>\n",
              "      <td>3697</td>\n",
              "      <td>F</td>\n",
              "      <td>6659,213,10452,59343,2335</td>\n",
              "    </tr>\n",
              "    <tr>\n",
              "      <th>1879</th>\n",
              "      <td>5335</td>\n",
              "      <td>F</td>\n",
              "      <td>6714,145553,6655,10019,2048,4914,8766,60626,37...</td>\n",
              "    </tr>\n",
              "    <tr>\n",
              "      <th>2789</th>\n",
              "      <td>1856</td>\n",
              "      <td>F</td>\n",
              "      <td>856615,90268,407,9182,4914,23411,51224,84528,2...</td>\n",
              "    </tr>\n",
              "    <tr>\n",
              "      <th>3810</th>\n",
              "      <td>2058</td>\n",
              "      <td>F</td>\n",
              "      <td>155030,8359,407051,406884,123283,4914,11325,17...</td>\n",
              "    </tr>\n",
              "    <tr>\n",
              "      <th>1677</th>\n",
              "      <td>79568</td>\n",
              "      <td>F</td>\n",
              "      <td>79885,6047,84419,4720,9928,57664,9401,26469,29...</td>\n",
              "    </tr>\n",
              "    <tr>\n",
              "      <th>5343</th>\n",
              "      <td>5802</td>\n",
              "      <td>F</td>\n",
              "      <td>8499,7048,5707,161291,10592,7204,8243,10813,10...</td>\n",
              "    </tr>\n",
              "  </tbody>\n",
              "</table>\n",
              "</div>"
            ],
            "text/plain": [
              "     gene_id  ...                             interactions_seeds_ids\n",
              "5683    6188  ...  27122,7415,5885,85437,69408,6231,9212,9343,117...\n",
              "3071    1131  ...  64854,9497,51651,152789,54965,23066,53407,2287...\n",
              "4163   63976  ...  9667,10061,9551,10432,10121,9688,84617,9377,72...\n",
              "2883    4846  ...  4846,5663,88,22983,54536,55165,23411,24242,348...\n",
              "1648    3697  ...                          6659,213,10452,59343,2335\n",
              "1879    5335  ...  6714,145553,6655,10019,2048,4914,8766,60626,37...\n",
              "2789    1856  ...  856615,90268,407,9182,4914,23411,51224,84528,2...\n",
              "3810    2058  ...  155030,8359,407051,406884,123283,4914,11325,17...\n",
              "1677   79568  ...  79885,6047,84419,4720,9928,57664,9401,26469,29...\n",
              "5343    5802  ...  8499,7048,5707,161291,10592,7204,8243,10813,10...\n",
              "\n",
              "[10 rows x 3 columns]"
            ]
          },
          "metadata": {
            "tags": []
          },
          "execution_count": 25
        }
      ]
    },
    {
      "cell_type": "markdown",
      "metadata": {
        "id": "TJBbwYRHq7kN"
      },
      "source": [
        "#1.2 b - Store data in csv format"
      ]
    },
    {
      "cell_type": "code",
      "metadata": {
        "id": "QPjD8oRerEvB"
      },
      "source": [
        "filename = dataset_folder + '1.2/interactions.csv'\n",
        "df.to_csv(filename, sep='\\t',index=False)"
      ],
      "execution_count": 26,
      "outputs": []
    },
    {
      "cell_type": "markdown",
      "metadata": {
        "id": "UXgMRpllsi7k"
      },
      "source": [
        "#1.2 c - Summary"
      ]
    },
    {
      "cell_type": "code",
      "metadata": {
        "id": "YaG9DNm0sqUu"
      },
      "source": [
        "n_seed_disgenet = len(set(seed_genes_ids))\n",
        "n_seed_biogrid = len(set([gene for gene in genes_biogrid if gene in seed_genes_ids]))\n",
        "n_interacting_genes = len(set(genes_biogrid))\n",
        "n_interactions = biogrid_data.shape[0]"
      ],
      "execution_count": 27,
      "outputs": []
    },
    {
      "cell_type": "code",
      "metadata": {
        "colab": {
          "base_uri": "https://localhost:8080/",
          "height": 78
        },
        "id": "7FE6VV9fvlF6",
        "outputId": "ee870b91-a12f-438b-9851-1f1017adcca4"
      },
      "source": [
        "table = [[n_seed_disgenet,n_seed_biogrid,n_interacting_genes,n_interactions]]\n",
        "summary = pd.DataFrame(table, columns=['N° seed disgenet','N° seed biogrid','Interacting genes','Interactions'])\n",
        "summary"
      ],
      "execution_count": 28,
      "outputs": [
        {
          "output_type": "execute_result",
          "data": {
            "text/html": [
              "<div>\n",
              "<style scoped>\n",
              "    .dataframe tbody tr th:only-of-type {\n",
              "        vertical-align: middle;\n",
              "    }\n",
              "\n",
              "    .dataframe tbody tr th {\n",
              "        vertical-align: top;\n",
              "    }\n",
              "\n",
              "    .dataframe thead th {\n",
              "        text-align: right;\n",
              "    }\n",
              "</style>\n",
              "<table border=\"1\" class=\"dataframe\">\n",
              "  <thead>\n",
              "    <tr style=\"text-align: right;\">\n",
              "      <th></th>\n",
              "      <th>N° seed disgenet</th>\n",
              "      <th>N° seed biogrid</th>\n",
              "      <th>Interacting genes</th>\n",
              "      <th>Interactions</th>\n",
              "    </tr>\n",
              "  </thead>\n",
              "  <tbody>\n",
              "    <tr>\n",
              "      <th>0</th>\n",
              "      <td>102</td>\n",
              "      <td>101</td>\n",
              "      <td>26221</td>\n",
              "      <td>697802</td>\n",
              "    </tr>\n",
              "  </tbody>\n",
              "</table>\n",
              "</div>"
            ],
            "text/plain": [
              "   N° seed disgenet  N° seed biogrid  Interacting genes  Interactions\n",
              "0               102              101              26221        697802"
            ]
          },
          "metadata": {
            "tags": []
          },
          "execution_count": 28
        }
      ]
    },
    {
      "cell_type": "markdown",
      "metadata": {
        "id": "LV3ETnVpw0ec"
      },
      "source": [
        "#1.3 Arrange interaction data"
      ]
    },
    {
      "cell_type": "code",
      "metadata": {
        "id": "MCf_dUzU2KXV"
      },
      "source": [
        "genes_interactions = biogrid_data.values\n",
        "indexes = []\n",
        "i =0\n",
        "for row in genes_interactions:\n",
        "  check = str(row[1]) in seed_genes_ids\n",
        "  check_2 = str(row[2]) in seed_genes_ids\n",
        "  #  unwanted row were filtered out in biogrid data\n",
        "  if check_2  and check:\n",
        "    indexes.append(i)\n",
        "    i= i+1\n",
        "  \n",
        "\n"
      ],
      "execution_count": 29,
      "outputs": []
    },
    {
      "cell_type": "markdown",
      "metadata": {
        "id": "drl29t7ZB6K9"
      },
      "source": [
        "#1.2 a - seed genes interactome: interactions that involve seed genes only"
      ]
    },
    {
      "cell_type": "code",
      "metadata": {
        "id": "FfUbqMsL_mKS"
      },
      "source": [
        "only_seed_interactions = biogrid_data.iloc[indexes,[7,8,23,26]]\n",
        "only_seed_data = only_seed_interactions.values\n",
        "columns = ['interactor A gene symbol',' interactor B gene symbol', 'interactor A Uniprot AC', 'interactor B Uniprot AC']\n",
        "only_seed_interactions_df = pd.DataFrame(only_seed_data,columns=columns)"
      ],
      "execution_count": 30,
      "outputs": []
    },
    {
      "cell_type": "code",
      "metadata": {
        "id": "xmRUu8LcSrG_"
      },
      "source": [
        "#save gene seed interactions into csv file\n",
        "filename = dataset_folder + '1.3/gsi.csv'\n",
        "only_seed_interactions_df.to_csv(filename, sep='\\t',index=False)\n"
      ],
      "execution_count": 31,
      "outputs": []
    },
    {
      "cell_type": "markdown",
      "metadata": {
        "id": "zzPvmZDaCIMw"
      },
      "source": [
        "#1.2 All proteins interacting with at least one seed gene"
      ]
    },
    {
      "cell_type": "code",
      "metadata": {
        "id": "ijLfvZuyCbDf"
      },
      "source": [
        "proteins_interactions = biogrid_data.values\n",
        "indexes = []\n",
        "i =0\n",
        "for row in proteins_interactions:\n",
        "  check_1 = str(row[1]) in seed_genes_ids\n",
        "  check_2 = str(row[2]) in seed_genes_ids\n",
        "  # check_3 = row[35] =='Homo sapiens' # not necessary anymore because unwanted row were filtered out\n",
        "  # check_4 = row[36] =='Homo sapiens'\n",
        "  if (check_2  or check_1) :\n",
        "    indexes.append(i)\n",
        "    i= i+1"
      ],
      "execution_count": 32,
      "outputs": []
    },
    {
      "cell_type": "code",
      "metadata": {
        "id": "eDImrysbQyIs"
      },
      "source": [
        "all_proteins_interactions = biogrid_data.iloc[indexes,[7,8,23,26]]\n",
        "all_proteins_data = all_proteins_interactions.values\n",
        "columns = ['interactor A gene symbol',' interactor B gene symbol', 'interactor A Uniprot AC', 'interactor B Uniprot AC']\n",
        "all_proteins_interactions_df = pd.DataFrame(all_proteins_data,columns=columns)"
      ],
      "execution_count": 33,
      "outputs": []
    },
    {
      "cell_type": "code",
      "metadata": {
        "id": "siwZAzIds7DT",
        "colab": {
          "base_uri": "https://localhost:8080/",
          "height": 407
        },
        "outputId": "f1a0a63b-efbe-465a-a6af-c3a91bd7b4e7"
      },
      "source": [
        "all_proteins_interactions_df"
      ],
      "execution_count": 34,
      "outputs": [
        {
          "output_type": "execute_result",
          "data": {
            "text/html": [
              "<div>\n",
              "<style scoped>\n",
              "    .dataframe tbody tr th:only-of-type {\n",
              "        vertical-align: middle;\n",
              "    }\n",
              "\n",
              "    .dataframe tbody tr th {\n",
              "        vertical-align: top;\n",
              "    }\n",
              "\n",
              "    .dataframe thead th {\n",
              "        text-align: right;\n",
              "    }\n",
              "</style>\n",
              "<table border=\"1\" class=\"dataframe\">\n",
              "  <thead>\n",
              "    <tr style=\"text-align: right;\">\n",
              "      <th></th>\n",
              "      <th>interactor A gene symbol</th>\n",
              "      <th>interactor B gene symbol</th>\n",
              "      <th>interactor A Uniprot AC</th>\n",
              "      <th>interactor B Uniprot AC</th>\n",
              "    </tr>\n",
              "  </thead>\n",
              "  <tbody>\n",
              "    <tr>\n",
              "      <th>0</th>\n",
              "      <td>MAP2K4</td>\n",
              "      <td>FLNC</td>\n",
              "      <td>P45985</td>\n",
              "      <td>Q14315</td>\n",
              "    </tr>\n",
              "    <tr>\n",
              "      <th>1</th>\n",
              "      <td>MYPN</td>\n",
              "      <td>ACTN2</td>\n",
              "      <td>Q86TC9</td>\n",
              "      <td>P35609</td>\n",
              "    </tr>\n",
              "    <tr>\n",
              "      <th>2</th>\n",
              "      <td>ACVR1</td>\n",
              "      <td>FNTA</td>\n",
              "      <td>Q04771</td>\n",
              "      <td>P49354</td>\n",
              "    </tr>\n",
              "    <tr>\n",
              "      <th>3</th>\n",
              "      <td>GATA2</td>\n",
              "      <td>PML</td>\n",
              "      <td>P23769</td>\n",
              "      <td>P29590</td>\n",
              "    </tr>\n",
              "    <tr>\n",
              "      <th>4</th>\n",
              "      <td>RPA2</td>\n",
              "      <td>STAT3</td>\n",
              "      <td>P15927</td>\n",
              "      <td>P40763</td>\n",
              "    </tr>\n",
              "    <tr>\n",
              "      <th>...</th>\n",
              "      <td>...</td>\n",
              "      <td>...</td>\n",
              "      <td>...</td>\n",
              "      <td>...</td>\n",
              "    </tr>\n",
              "    <tr>\n",
              "      <th>13023</th>\n",
              "      <td>CLNS1A</td>\n",
              "      <td>WDR77</td>\n",
              "      <td>P54105</td>\n",
              "      <td>Q9BQA1</td>\n",
              "    </tr>\n",
              "    <tr>\n",
              "      <th>13024</th>\n",
              "      <td>CLNS1A</td>\n",
              "      <td>PRMT5</td>\n",
              "      <td>P54105</td>\n",
              "      <td>O14744</td>\n",
              "    </tr>\n",
              "    <tr>\n",
              "      <th>13025</th>\n",
              "      <td>PRMT5</td>\n",
              "      <td>CLNS1A</td>\n",
              "      <td>O14744</td>\n",
              "      <td>P54105</td>\n",
              "    </tr>\n",
              "    <tr>\n",
              "      <th>13026</th>\n",
              "      <td>PRMT5</td>\n",
              "      <td>WDR77</td>\n",
              "      <td>O14744</td>\n",
              "      <td>Q9BQA1</td>\n",
              "    </tr>\n",
              "    <tr>\n",
              "      <th>13027</th>\n",
              "      <td>WDR77</td>\n",
              "      <td>PRMT5</td>\n",
              "      <td>Q9BQA1</td>\n",
              "      <td>O14744</td>\n",
              "    </tr>\n",
              "  </tbody>\n",
              "</table>\n",
              "<p>13028 rows × 4 columns</p>\n",
              "</div>"
            ],
            "text/plain": [
              "      interactor A gene symbol  ... interactor B Uniprot AC\n",
              "0                       MAP2K4  ...                  Q14315\n",
              "1                         MYPN  ...                  P35609\n",
              "2                        ACVR1  ...                  P49354\n",
              "3                        GATA2  ...                  P29590\n",
              "4                         RPA2  ...                  P40763\n",
              "...                        ...  ...                     ...\n",
              "13023                   CLNS1A  ...                  Q9BQA1\n",
              "13024                   CLNS1A  ...                  O14744\n",
              "13025                    PRMT5  ...                  P54105\n",
              "13026                    PRMT5  ...                  Q9BQA1\n",
              "13027                    WDR77  ...                  O14744\n",
              "\n",
              "[13028 rows x 4 columns]"
            ]
          },
          "metadata": {
            "tags": []
          },
          "execution_count": 34
        }
      ]
    },
    {
      "cell_type": "markdown",
      "metadata": {
        "id": "EI2VCjlWqaJa"
      },
      "source": [
        "##1.3 Save interactome"
      ]
    },
    {
      "cell_type": "code",
      "metadata": {
        "id": "b9J0UnIOR0vF"
      },
      "source": [
        "#save inteactome disease csv\n",
        "filename = dataset_folder + '1.3/interactome.csv'\n",
        "all_proteins_interactions_df.to_csv(filename, sep='\\t',index=False)\n",
        "\n"
      ],
      "execution_count": 35,
      "outputs": []
    },
    {
      "cell_type": "markdown",
      "metadata": {
        "id": "K_CU5LlSqhLb"
      },
      "source": [
        "#2 - Data Analysis"
      ]
    },
    {
      "cell_type": "code",
      "metadata": {
        "id": "ywbrVqV-qU3O",
        "colab": {
          "base_uri": "https://localhost:8080/"
        },
        "outputId": "2b3d2c6e-166a-43ea-a197-3de11d4557d4"
      },
      "source": [
        "!pip install networkx  # to install package needed for the network"
      ],
      "execution_count": 36,
      "outputs": [
        {
          "output_type": "stream",
          "text": [
            "Requirement already satisfied: networkx in /usr/local/lib/python3.6/dist-packages (2.5)\n",
            "Requirement already satisfied: decorator>=4.3.0 in /usr/local/lib/python3.6/dist-packages (from networkx) (4.4.2)\n"
          ],
          "name": "stdout"
        }
      ]
    },
    {
      "cell_type": "code",
      "metadata": {
        "id": "6OHLCne-sVaG"
      },
      "source": [
        "import networkx as nx\n",
        "import matplotlib.pyplot as plt"
      ],
      "execution_count": 37,
      "outputs": []
    },
    {
      "cell_type": "markdown",
      "metadata": {
        "id": "b9-iZcxismtM"
      },
      "source": [
        "### Build a network object from our data "
      ]
    },
    {
      "cell_type": "code",
      "metadata": {
        "id": "AbKA1e2rstNe"
      },
      "source": [
        "bio_graph = nx.Graph()  # create the empty grap object "
      ],
      "execution_count": 38,
      "outputs": []
    },
    {
      "cell_type": "code",
      "metadata": {
        "id": "xgAZ0zbpud7P"
      },
      "source": [
        "links = all_proteins_interactions_df.iloc[:,:2].values# get all links \n",
        "edges = [tuple(link) for link in links ] # transform links in tuple for nx graph object "
      ],
      "execution_count": 64,
      "outputs": []
    },
    {
      "cell_type": "code",
      "metadata": {
        "id": "bs7GTqzlvNxz"
      },
      "source": [
        "bio_graph.add_edges_from(edges)"
      ],
      "execution_count": 65,
      "outputs": []
    },
    {
      "cell_type": "markdown",
      "metadata": {
        "id": "rhleg6u5wh--"
      },
      "source": [
        "### Visualize graph "
      ]
    },
    {
      "cell_type": "code",
      "metadata": {
        "id": "plTD9BEfySzP",
        "colab": {
          "base_uri": "https://localhost:8080/",
          "height": 248
        },
        "outputId": "be26226b-2833-4749-f710-b08dd746520e"
      },
      "source": [
        "nx.draw_networkx(bio_graph, \n",
        "                       with_labels=False,\n",
        "                       node_size=10,\n",
        "                       node_color=('b'), \n",
        "                       edge_color=('g'),\n",
        "                 \n",
        "\n",
        "                       )\n",
        "plt.show()"
      ],
      "execution_count": 41,
      "outputs": [
        {
          "output_type": "display_data",
          "data": {
            "image/png": "[encoded data removed]",
            "text/plain": [
              "<Figure size 432x288 with 1 Axes>"
            ]
          },
          "metadata": {
            "tags": []
          }
        }
      ]
    },
    {
      "cell_type": "markdown",
      "metadata": {
        "id": "PA4rfDFzTatP"
      },
      "source": [
        "##2.1 Main network measures"
      ]
    },
    {
      "cell_type": "markdown",
      "metadata": {
        "id": "_KF6_LYYqpH0"
      },
      "source": [
        "#### a - global measures"
      ]
    },
    {
      "cell_type": "code",
      "metadata": {
        "id": "m1Ky08d-USXN"
      },
      "source": [
        "avg_degree = sum(nx.average_neighbor_degree(bio_graph).values())/ nx.number_of_nodes(bio_graph)\n",
        "avg_clus_coef = nx.average_clustering(bio_graph)\n"
      ],
      "execution_count": 42,
      "outputs": []
    },
    {
      "cell_type": "code",
      "metadata": {
        "id": "qn7ufVNYUW9M"
      },
      "source": [
        "avg_paths = []\n",
        "radiuses = []\n",
        "diameters = []\n",
        "for cc in nx.connected_components(bio_graph):\n",
        "  g = bio_graph.subgraph(cc)   \n",
        "  avg_paths.append(nx.average_shortest_path_length(g))\n",
        "  radiuses.append(nx.radius(g))\n",
        "  diameters.append(nx.diameter(g)) \n"
      ],
      "execution_count": 43,
      "outputs": []
    },
    {
      "cell_type": "code",
      "metadata": {
        "id": "8UjjEsjOhfcf"
      },
      "source": [
        "avg_path_lengths = np.mean(avg_paths)\n",
        "radius = np.max(radiuses)\n",
        "diameter = np.max(diameters)"
      ],
      "execution_count": 44,
      "outputs": []
    },
    {
      "cell_type": "code",
      "metadata": {
        "id": "y5jCiiEW2d13",
        "colab": {
          "base_uri": "https://localhost:8080/"
        },
        "outputId": "c366e6fc-998c-4091-de6e-7c9d29d331ae"
      },
      "source": [
        "print(f\"Number of nodes               : {nx.number_of_nodes(bio_graph)}\")\n",
        "print(f\"Number of Links               : {nx.number_of_edges(bio_graph)}\")\n",
        "print(f\"Number of connected components: {nx.number_connected_components(bio_graph)}\")\n",
        "print(f\"Number of isolated nodes      : {nx.number_of_isolates(bio_graph)}\")\n",
        "print(f\"Average path length           : {avg_path_lengths}\")\n",
        "print(f\"Average Degree                : {avg_degree}\")\n",
        "print(f\"Average custering coefficient : {avg_clus_coef}\")\n",
        "print(f\"Network radius                : {radius}\")\n",
        "print(f\"Network diameter              : {diameter}\")"
      ],
      "execution_count": 45,
      "outputs": [
        {
          "output_type": "stream",
          "text": [
            "Number of nodes               : 5130\n",
            "Number of Links               : 10253\n",
            "Number of connected components: 206\n",
            "Number of isolated nodes      : 0\n",
            "Average path length           : 0.916324498283535\n",
            "Average Degree                : 19.61130027625086\n",
            "Average custering coefficient : 0.08547340570137117\n",
            "Network radius                : 8\n",
            "Network diameter              : 15\n"
          ],
          "name": "stdout"
        }
      ]
    },
    {
      "cell_type": "markdown",
      "metadata": {
        "id": "mfkQ3yHMqx2s"
      },
      "source": [
        "#### b- LCC Measures"
      ]
    },
    {
      "cell_type": "code",
      "metadata": {
        "id": "4CA71rRBtXcu"
      },
      "source": [
        "bio_graph_lcc = max(nx.connected_components(bio_graph), key=len)\n",
        "bio_graph_lcc = bio_graph.subgraph(bio_graph_lcc)"
      ],
      "execution_count": 46,
      "outputs": []
    },
    {
      "cell_type": "code",
      "metadata": {
        "id": "eCFfiWhhtiKn",
        "colab": {
          "base_uri": "https://localhost:8080/",
          "height": 248
        },
        "outputId": "cb2e212b-40eb-48fa-b099-8edb9281c56d"
      },
      "source": [
        "nx.draw_networkx(bio_graph_lcc, \n",
        "                 with_labels=False,\n",
        "                 node_size=5,\n",
        "                 node_color=('b'), \n",
        "                 edge_color=('g')\n",
        ")\n",
        "plt.show()"
      ],
      "execution_count": 47,
      "outputs": [
        {
          "output_type": "display_data",
          "data": {
            "image/png": "[encoded data removed]",
            "text/plain": [
              "<Figure size 432x288 with 1 Axes>"
            ]
          },
          "metadata": {
            "tags": []
          }
        }
      ]
    },
    {
      "cell_type": "markdown",
      "metadata": {
        "id": "-DQnEoW-q232"
      },
      "source": [
        "##### i - Global Measures"
      ]
    },
    {
      "cell_type": "code",
      "metadata": {
        "id": "4V79HmUyrAMk",
        "colab": {
          "base_uri": "https://localhost:8080/"
        },
        "outputId": "db09c835-b1a6-4607-a67f-1df827ea463f"
      },
      "source": [
        "print(f\"Number of nodes               : {nx.number_of_nodes(bio_graph_lcc)}\")\n",
        "print(f\"Number of Links               : {nx.number_of_edges(bio_graph_lcc)}\")\n",
        "print(f\"Number of connected components: {nx.number_connected_components(bio_graph_lcc)}\")\n",
        "print(f\"Number of isolated nodes      : {nx.number_of_isolates(bio_graph_lcc)}\")\n",
        "print(f\"Average path length           : {avg_path_lengths}\")\n",
        "#print(f\"Average Degree                : {nx.de}\")\n",
        "print(f\"Average custering coefficient : {nx.average_clustering(bio_graph_lcc)}\")\n",
        "print(f\"Network radius                : {nx.radius(bio_graph_lcc)}\")\n",
        "print(f\"Network diameter              : {nx.diameter(bio_graph_lcc)}\")"
      ],
      "execution_count": 48,
      "outputs": [
        {
          "output_type": "stream",
          "text": [
            "Number of nodes               : 4686\n",
            "Number of Links               : 9945\n",
            "Number of connected components: 1\n",
            "Number of isolated nodes      : 0\n",
            "Average path length           : 0.916324498283535\n",
            "Average custering coefficient : 0.09086895104169172\n",
            "Network radius                : 8\n",
            "Network diameter              : 15\n"
          ],
          "name": "stdout"
        }
      ]
    },
    {
      "cell_type": "markdown",
      "metadata": {
        "id": "RhQjKSoxq8pJ"
      },
      "source": [
        "##### i - Local Measures"
      ]
    },
    {
      "cell_type": "markdown",
      "metadata": {
        "id": "yfaqZv2h2EvT"
      },
      "source": [
        " ###### Node degree\n",
        "\n"
      ]
    },
    {
      "cell_type": "code",
      "metadata": {
        "id": "0WAy777t2yaE"
      },
      "source": [
        "g_degree = nx.degree(bio_graph_lcc)\n",
        "degree_df = pd.DataFrame(g_degree, columns=['Node','Degree'])\n",
        "#degree_df.head(10)"
      ],
      "execution_count": 49,
      "outputs": []
    },
    {
      "cell_type": "markdown",
      "metadata": {
        "id": "gEjQUknL2fg6"
      },
      "source": [
        "###### Betweenness centrality"
      ]
    },
    {
      "cell_type": "code",
      "metadata": {
        "id": "-y3tSz073fS5"
      },
      "source": [
        "g_b_centrality = nx.betweenness_centrality(bio_graph_lcc)\n",
        "#g_b_centrality"
      ],
      "execution_count": 50,
      "outputs": []
    },
    {
      "cell_type": "markdown",
      "metadata": {
        "id": "DkAAaV9m2FDJ"
      },
      "source": [
        "###### Eigenvector centrality\n"
      ]
    },
    {
      "cell_type": "code",
      "metadata": {
        "id": "YC4iurPf3tDM"
      },
      "source": [
        "g_e_centrality = nx.eigenvector_centrality(bio_graph_lcc)\n",
        "#g_e_centrality"
      ],
      "execution_count": 51,
      "outputs": []
    },
    {
      "cell_type": "markdown",
      "metadata": {
        "id": "MIYRiTqM2FIb"
      },
      "source": [
        "###### Closeness centrality"
      ]
    },
    {
      "cell_type": "code",
      "metadata": {
        "id": "5VGI9JUE35bF"
      },
      "source": [
        "g_c_centrality = nx.closeness_centrality(bio_graph_lcc)\n",
        "#g_c_centrality"
      ],
      "execution_count": 52,
      "outputs": []
    },
    {
      "cell_type": "markdown",
      "metadata": {
        "id": "LjleO4pz2FNn"
      },
      "source": [
        "###### Ratio Betweenness/Node degree"
      ]
    },
    {
      "cell_type": "code",
      "metadata": {
        "id": "K8_3EAsy4jLt"
      },
      "source": [
        ""
      ],
      "execution_count": 52,
      "outputs": []
    },
    {
      "cell_type": "markdown",
      "metadata": {
        "id": "iqG10Lc-NepF"
      },
      "source": [
        "##### Show all local measures"
      ]
    },
    {
      "cell_type": "code",
      "metadata": {
        "id": "4T9NbnN5I6yo"
      },
      "source": [
        "nodes = list(bio_graph_lcc.nodes)\n",
        "nodes_degree = list(degree_df['Degree'].values)\n",
        "b_centrality = list(g_b_centrality.values())\n",
        "e_centrality = list(g_e_centrality.values())\n",
        "c_centrality = list(g_c_centrality.values())\n",
        "ratio_b_d = np.array(b_centrality)/np.array(nodes_degree)"
      ],
      "execution_count": 53,
      "outputs": []
    },
    {
      "cell_type": "code",
      "metadata": {
        "id": "pD0anpG3LhVy",
        "colab": {
          "base_uri": "https://localhost:8080/",
          "height": 407
        },
        "outputId": "f2c62fcb-879a-4f8a-ce15-93c617bfb679"
      },
      "source": [
        "columns = ['nodes','Degree','Betweeness Centrality','Eigen centrality','closeness centrality','Ratio']\n",
        "data = [nodes,nodes_degree,b_centrality,e_centrality,c_centrality,ratio_b_d]\n",
        "data = np.array(data).T;\n",
        "df = pd.DataFrame(data, columns=columns)\n",
        "df"
      ],
      "execution_count": 54,
      "outputs": [
        {
          "output_type": "execute_result",
          "data": {
            "text/html": [
              "<div>\n",
              "<style scoped>\n",
              "    .dataframe tbody tr th:only-of-type {\n",
              "        vertical-align: middle;\n",
              "    }\n",
              "\n",
              "    .dataframe tbody tr th {\n",
              "        vertical-align: top;\n",
              "    }\n",
              "\n",
              "    .dataframe thead th {\n",
              "        text-align: right;\n",
              "    }\n",
              "</style>\n",
              "<table border=\"1\" class=\"dataframe\">\n",
              "  <thead>\n",
              "    <tr style=\"text-align: right;\">\n",
              "      <th></th>\n",
              "      <th>nodes</th>\n",
              "      <th>Degree</th>\n",
              "      <th>Betweeness Centrality</th>\n",
              "      <th>Eigen centrality</th>\n",
              "      <th>closeness centrality</th>\n",
              "      <th>Ratio</th>\n",
              "    </tr>\n",
              "  </thead>\n",
              "  <tbody>\n",
              "    <tr>\n",
              "      <th>0</th>\n",
              "      <td>84665</td>\n",
              "      <td>7</td>\n",
              "      <td>0.001171257768337529</td>\n",
              "      <td>1.811681362539474e-05</td>\n",
              "      <td>0.17869402700434817</td>\n",
              "      <td>0.0001673225383339327</td>\n",
              "    </tr>\n",
              "    <tr>\n",
              "      <th>1</th>\n",
              "      <td>88</td>\n",
              "      <td>4</td>\n",
              "      <td>0.000607938974603748</td>\n",
              "      <td>2.8244375644905724e-05</td>\n",
              "      <td>0.18077635437567527</td>\n",
              "      <td>0.000151984743650937</td>\n",
              "    </tr>\n",
              "    <tr>\n",
              "      <th>2</th>\n",
              "      <td>90</td>\n",
              "      <td>41</td>\n",
              "      <td>0.003957870148523747</td>\n",
              "      <td>0.00039060920696114325</td>\n",
              "      <td>0.17926838601056094</td>\n",
              "      <td>9.653341825667675e-05</td>\n",
              "    </tr>\n",
              "    <tr>\n",
              "      <th>3</th>\n",
              "      <td>2339</td>\n",
              "      <td>3</td>\n",
              "      <td>0.001304031805691842</td>\n",
              "      <td>6.3851195494871e-05</td>\n",
              "      <td>0.1736986504523209</td>\n",
              "      <td>0.00043467726856394735</td>\n",
              "    </tr>\n",
              "    <tr>\n",
              "      <th>4</th>\n",
              "      <td>2624</td>\n",
              "      <td>1</td>\n",
              "      <td>0.0</td>\n",
              "      <td>0.00013280783788944322</td>\n",
              "      <td>0.18586107033760463</td>\n",
              "      <td>0.0</td>\n",
              "    </tr>\n",
              "    <tr>\n",
              "      <th>...</th>\n",
              "      <td>...</td>\n",
              "      <td>...</td>\n",
              "      <td>...</td>\n",
              "      <td>...</td>\n",
              "      <td>...</td>\n",
              "      <td>...</td>\n",
              "    </tr>\n",
              "    <tr>\n",
              "      <th>4681</th>\n",
              "      <td>7764</td>\n",
              "      <td>1</td>\n",
              "      <td>0.0</td>\n",
              "      <td>5.583073009625911e-05</td>\n",
              "      <td>0.17573143285821455</td>\n",
              "      <td>0.0</td>\n",
              "    </tr>\n",
              "    <tr>\n",
              "      <th>4682</th>\n",
              "      <td>8544</td>\n",
              "      <td>2</td>\n",
              "      <td>1.075308748802557e-05</td>\n",
              "      <td>0.00011303859115685701</td>\n",
              "      <td>0.18218229895784727</td>\n",
              "      <td>5.376543744012785e-06</td>\n",
              "    </tr>\n",
              "    <tr>\n",
              "      <th>4683</th>\n",
              "      <td>5321</td>\n",
              "      <td>1</td>\n",
              "      <td>0.0</td>\n",
              "      <td>0.00012879166059418052</td>\n",
              "      <td>0.19076509629870922</td>\n",
              "      <td>0.0</td>\n",
              "    </tr>\n",
              "    <tr>\n",
              "      <th>4684</th>\n",
              "      <td>1909</td>\n",
              "      <td>2</td>\n",
              "      <td>0.0</td>\n",
              "      <td>0.00016142085119307976</td>\n",
              "      <td>0.1973961405578495</td>\n",
              "      <td>0.0</td>\n",
              "    </tr>\n",
              "    <tr>\n",
              "      <th>4685</th>\n",
              "      <td>79084</td>\n",
              "      <td>2</td>\n",
              "      <td>0.0</td>\n",
              "      <td>9.20623237115283e-06</td>\n",
              "      <td>0.16702912759813185</td>\n",
              "      <td>0.0</td>\n",
              "    </tr>\n",
              "  </tbody>\n",
              "</table>\n",
              "<p>4686 rows × 6 columns</p>\n",
              "</div>"
            ],
            "text/plain": [
              "      nodes Degree  ... closeness centrality                   Ratio\n",
              "0     84665      7  ...  0.17869402700434817   0.0001673225383339327\n",
              "1        88      4  ...  0.18077635437567527    0.000151984743650937\n",
              "2        90     41  ...  0.17926838601056094   9.653341825667675e-05\n",
              "3      2339      3  ...   0.1736986504523209  0.00043467726856394735\n",
              "4      2624      1  ...  0.18586107033760463                     0.0\n",
              "...     ...    ...  ...                  ...                     ...\n",
              "4681   7764      1  ...  0.17573143285821455                     0.0\n",
              "4682   8544      2  ...  0.18218229895784727   5.376543744012785e-06\n",
              "4683   5321      1  ...  0.19076509629870922                     0.0\n",
              "4684   1909      2  ...   0.1973961405578495                     0.0\n",
              "4685  79084      2  ...  0.16702912759813185                     0.0\n",
              "\n",
              "[4686 rows x 6 columns]"
            ]
          },
          "metadata": {
            "tags": []
          },
          "execution_count": 54
        }
      ]
    },
    {
      "cell_type": "markdown",
      "metadata": {
        "id": "CYqG9QQ_N4kO"
      },
      "source": [
        "#### 2.2 Clustering methods for disease modules discover"
      ]
    },
    {
      "cell_type": "code",
      "metadata": {
        "id": "0HCpRWPcTFOa",
        "outputId": "a1fb4b0d-fd58-4713-8d0b-604788512ad4",
        "colab": {
          "base_uri": "https://localhost:8080/"
        }
      },
      "source": [
        "!pip install markov_clustering[drawing]"
      ],
      "execution_count": 55,
      "outputs": [
        {
          "output_type": "stream",
          "text": [
            "Collecting markov_clustering[drawing]\n",
            "  Downloading https://files.pythonhosted.org/packages/76/42/19e11a42fa952d35116b90577e2cde31c541ce78364a52167f852864ba29/markov_clustering-0.0.6.dev0-py3-none-any.whl\n",
            "Requirement already satisfied: scikit-learn in /usr/local/lib/python3.6/dist-packages (from markov_clustering[drawing]) (0.22.2.post1)\n",
            "Requirement already satisfied: numpy in /usr/local/lib/python3.6/dist-packages (from markov_clustering[drawing]) (1.18.5)\n",
            "Requirement already satisfied: scipy>=0.19.0 in /usr/local/lib/python3.6/dist-packages (from markov_clustering[drawing]) (1.4.1)\n",
            "Requirement already satisfied: networkx; extra == \"drawing\" in /usr/local/lib/python3.6/dist-packages (from markov_clustering[drawing]) (2.5)\n",
            "Requirement already satisfied: matplotlib; extra == \"drawing\" in /usr/local/lib/python3.6/dist-packages (from markov_clustering[drawing]) (3.2.2)\n",
            "Requirement already satisfied: joblib>=0.11 in /usr/local/lib/python3.6/dist-packages (from scikit-learn->markov_clustering[drawing]) (0.17.0)\n",
            "Requirement already satisfied: decorator>=4.3.0 in /usr/local/lib/python3.6/dist-packages (from networkx; extra == \"drawing\"->markov_clustering[drawing]) (4.4.2)\n",
            "Requirement already satisfied: cycler>=0.10 in /usr/local/lib/python3.6/dist-packages (from matplotlib; extra == \"drawing\"->markov_clustering[drawing]) (0.10.0)\n",
            "Requirement already satisfied: kiwisolver>=1.0.1 in /usr/local/lib/python3.6/dist-packages (from matplotlib; extra == \"drawing\"->markov_clustering[drawing]) (1.3.1)\n",
            "Requirement already satisfied: python-dateutil>=2.1 in /usr/local/lib/python3.6/dist-packages (from matplotlib; extra == \"drawing\"->markov_clustering[drawing]) (2.8.1)\n",
            "Requirement already satisfied: pyparsing!=2.0.4,!=2.1.2,!=2.1.6,>=2.0.1 in /usr/local/lib/python3.6/dist-packages (from matplotlib; extra == \"drawing\"->markov_clustering[drawing]) (2.4.7)\n",
            "Requirement already satisfied: six in /usr/local/lib/python3.6/dist-packages (from cycler>=0.10->matplotlib; extra == \"drawing\"->markov_clustering[drawing]) (1.15.0)\n",
            "Installing collected packages: markov-clustering\n",
            "Successfully installed markov-clustering-0.0.6.dev0\n"
          ],
          "name": "stdout"
        }
      ]
    },
    {
      "cell_type": "code",
      "metadata": {
        "id": "Fsa31IyFOAdb"
      },
      "source": [
        "import markov_clustering as mc"
      ],
      "execution_count": 56,
      "outputs": []
    },
    {
      "cell_type": "code",
      "metadata": {
        "id": "W50wOtkgUjf2"
      },
      "source": [
        "#  get the adjacency matrix (in sparse form)\n",
        "matrix = nx.to_scipy_sparse_matrix(bio_graph)"
      ],
      "execution_count": 68,
      "outputs": []
    },
    {
      "cell_type": "code",
      "metadata": {
        "id": "1nOPw9HHUor4"
      },
      "source": [
        "result = mc.run_mcl(matrix)           # run MCL with default parameters\n",
        "clusters = mc.get_clusters(result) "
      ],
      "execution_count": 69,
      "outputs": []
    },
    {
      "cell_type": "markdown",
      "metadata": {
        "id": "yf-CMLM_7-e2"
      },
      "source": [
        "###### clusters with at least 10 nodes"
      ]
    },
    {
      "cell_type": "code",
      "metadata": {
        "id": "A6H_TNmZU9u6"
      },
      "source": [
        "above_10_clusters = [cluster for cluster in clusters if len(cluster)>=10]\n"
      ],
      "execution_count": 70,
      "outputs": []
    },
    {
      "cell_type": "markdown",
      "metadata": {
        "id": "cEOPqJwJ8RCC"
      },
      "source": [
        "#### hypergeometric test"
      ]
    },
    {
      "cell_type": "code",
      "metadata": {
        "id": "q3YmWUQdmu6a"
      },
      "source": [
        "nodes_list = list(bio_graph.nodes.items())\n",
        "#symbols_clusters = [tuple([nodes_list[i] for i in cluster]) for cluster in clusters]\n"
      ],
      "execution_count": 74,
      "outputs": []
    }
  ]
}