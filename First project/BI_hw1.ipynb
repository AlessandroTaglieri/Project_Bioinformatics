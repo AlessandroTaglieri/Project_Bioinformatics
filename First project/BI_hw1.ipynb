{
  "nbformat": 4,
  "nbformat_minor": 0,
  "metadata": {
    "colab": {
      "name": "BI_hw1.ipynb",
      "provenance": [],
      "include_colab_link": true
    },
    "kernelspec": {
      "display_name": "Python 3",
      "language": "python",
      "name": "python3"
    },
    "language_info": {
      "codemirror_mode": {
        "name": "ipython",
        "version": 3
      },
      "file_extension": ".py",
      "mimetype": "text/x-python",
      "name": "python",
      "nbconvert_exporter": "python",
      "pygments_lexer": "ipython3",
      "version": "3.7.9"
    }
  },
  "cells": [
    {
      "cell_type": "markdown",
      "metadata": {
        "id": "view-in-github",
        "colab_type": "text"
      },
      "source": [
        "<a href=\"https://colab.research.google.com/github/AlessandroTaglieri/Project_Bioinformatics/blob/main/First%20project/BI_hw1.ipynb\" target=\"_parent\"><img src=\"https://colab.research.google.com/assets/colab-badge.svg\" alt=\"Open In Colab\"/></a>"
      ]
    },
    {
      "cell_type": "code",
      "metadata": {
        "id": "Wl57nROYOHl2"
      },
      "source": [
        "\n",
        "#comment if not running on colab\n",
        "from google.colab import drive\n",
        "drive.mount('/content/drive')"
      ],
      "execution_count": null,
      "outputs": []
    },
    {
      "cell_type": "code",
      "metadata": {
        "id": "alx8FV2wNvpf"
      },
      "source": [
        "#import libraries\n",
        "import pandas as pd\n",
        "import os\n",
        "import numpy as np\n",
        "import collections"
      ],
      "execution_count": null,
      "outputs": []
    },
    {
      "cell_type": "code",
      "metadata": {
        "id": "DZFUTIgrOdVR"
      },
      "source": [
        "#change project folder to match yours\n",
        "project_folder ='/content/drive/MyDrive/BioinfoProject/Project_Bioinformatics/First_project/'\n",
        "#project_folder ='/'"
      ],
      "execution_count": null,
      "outputs": []
    },
    {
      "cell_type": "code",
      "metadata": {
        "id": "I5uthtmDO--E"
      },
      "source": [
        "#change dataset folder to match yours\n",
        "dataset_folder = os.path.join(project_folder,'dataset/')"
      ],
      "execution_count": null,
      "outputs": []
    },
    {
      "cell_type": "code",
      "metadata": {
        "id": "v54OIcfYmoOg"
      },
      "source": [
        "#only in local\n",
        "dataset_folder=\"dataset/\""
      ],
      "execution_count": null,
      "outputs": []
    },
    {
      "cell_type": "markdown",
      "metadata": {
        "id": "Qmi-z0dbNvpg"
      },
      "source": [
        "# 1.1"
      ]
    },
    {
      "cell_type": "code",
      "metadata": {
        "id": "qEGJ9Cf8Nvpg"
      },
      "source": [
        "#download curated gene-diesase associtaions from https://www.disgenet.org/downloads and covnert tsv in csv\n",
        "\n",
        "data = pd.read_csv(dataset_folder+ '1.1/curated_gene_disease_associations.csv')\n",
        "#get only data for intereted gene id C0043094\n",
        "gene_disease = data.loc[data['diseaseId'] == 'C0043094']\n",
        "\n",
        "#get list og gene symbols\n",
        "list_geneSymbol = gene_disease['geneSymbol']\n",
        "\n",
        "\n",
        "#download hgnc dataset from https://www.genenames.org/download/statistics-and-files/\n",
        "hgnc = pd.read_csv(dataset_folder+ \"1.1/hgnc_complete_set.txt\", sep='\\t', dtype = 'unicode')\n",
        "\n",
        "#get data (symbol,name,entrez_id,unirpot_idasdn status) for only genes stored in previous list\n",
        "genes_diseases_hgnc = hgnc.loc[hgnc['symbol'].isin(list_geneSymbol)][['symbol','name','entrez_id','uniprot_ids','status']]\n",
        "\n",
        "#get only approved data\n",
        "genes_diseases_hgnc_app = genes_diseases_hgnc.loc[genes_diseases_hgnc['status']=='Approved']\n",
        "\n",
        "\n",
        "#get list ofuniprotidthat we'll useto find gene descriptionin Uniprot\n",
        "list_uniprotID = genes_diseases_hgnc_app['uniprot_ids']\n",
        "\n",
        "#write in a file alll uniprot ids. This is necessary because we'll download only necessary description for these genes from uniprot \n",
        "with open(dataset_folder+ '1.1/uniprot_ids.txt', 'w') as f:\n",
        "    for item in list_uniprotID:\n",
        "        f.write(\"%s\\n\" % item)\n",
        "    f.close()\n",
        "\n",
        "#download data containing description for every gene. We used txt file for download them\n",
        "gene_description = pd.read_csv(dataset_folder+ '1.1/uniprot-yourlist%3AM20201123A94466D2655679D1FD8953E075198DA817123DO.csv')\n",
        "\n",
        "#rename column for the function of the gene\n",
        "gene_description=gene_description.rename(columns={\"yourlist:M20201123A94466D2655679D1FD8953E075198DA817123DO\":\"uniprot_ids\"})\n",
        "\n",
        "#merge two dataset. One containing all info about gene and the second one conatining description about their functions\n",
        "final_genes_deseas = pd.merge(gene_description, genes_diseases_hgnc_app, on='uniprot_ids')\n",
        "#rename column\n",
        "final_genes_deseas=final_genes_deseas.rename(columns={\"Function [CC]\":\"function\"})\n",
        "#get only first part of gene description\n",
        "final_genes_deseas['Description']= final_genes_deseas.function.str[10:150]\n",
        "#delete not necessary columns\n",
        "final_genes_deseas = final_genes_deseas.drop(['function','Entry','status'], axis = 1) \n",
        "final_genes_deseas = final_genes_deseas[['symbol','uniprot_ids','name','entrez_id','Description']]"
      ],
      "execution_count": null,
      "outputs": []
    },
    {
      "cell_type": "code",
      "metadata": {
        "id": "TAO1bw4ONvpg"
      },
      "source": [
        "#fix column names and save xlsx file\n",
        "final_genes_deseas.rename(columns={\"symbol\":\"Gene symbol\",\"uniprot_ids\":\"Uniprot AC\",\"name\":'Protein name','entrez_id':\"Entrez Gene ID\"})\n",
        "final_genes_deseas.to_excel(dataset_folder+ '1.1/1.1-gene_deseas_associations.xlsx')\n",
        "final_genes_deseas.to_csv(dataset_folder+ '1.1/1.1-gene_deseas_associations.csv')"
      ],
      "execution_count": null,
      "outputs": []
    },
    {
      "cell_type": "code",
      "metadata": {
        "colab": {
          "base_uri": "https://localhost:8080/",
          "height": 407
        },
        "id": "9FVmghYoQdJR",
        "outputId": "b728b73c-57be-4244-8194-d5bc860688c2"
      },
      "source": [
        "final_genes_deseas"
      ],
      "execution_count": null,
      "outputs": [
        {
          "output_type": "execute_result",
          "data": {
            "text/html": [
              "<div>\n",
              "<style scoped>\n",
              "    .dataframe tbody tr th:only-of-type {\n",
              "        vertical-align: middle;\n",
              "    }\n",
              "\n",
              "    .dataframe tbody tr th {\n",
              "        vertical-align: top;\n",
              "    }\n",
              "\n",
              "    .dataframe thead th {\n",
              "        text-align: right;\n",
              "    }\n",
              "</style>\n",
              "<table border=\"1\" class=\"dataframe\">\n",
              "  <thead>\n",
              "    <tr style=\"text-align: right;\">\n",
              "      <th></th>\n",
              "      <th>symbol</th>\n",
              "      <th>uniprot_ids</th>\n",
              "      <th>name</th>\n",
              "      <th>entrez_id</th>\n",
              "      <th>Description</th>\n",
              "    </tr>\n",
              "  </thead>\n",
              "  <tbody>\n",
              "    <tr>\n",
              "      <th>0</th>\n",
              "      <td>ABCG1</td>\n",
              "      <td>P45844</td>\n",
              "      <td>ATP binding cassette subfamily G member 1</td>\n",
              "      <td>9619</td>\n",
              "      <td>Catalyzes the efflux of phospholipids such as ...</td>\n",
              "    </tr>\n",
              "    <tr>\n",
              "      <th>1</th>\n",
              "      <td>ACADM</td>\n",
              "      <td>P11310</td>\n",
              "      <td>acyl-CoA dehydrogenase medium chain</td>\n",
              "      <td>34</td>\n",
              "      <td>Acyl-CoA dehydrogenase specific for acyl chain...</td>\n",
              "    </tr>\n",
              "    <tr>\n",
              "      <th>2</th>\n",
              "      <td>ACE</td>\n",
              "      <td>P12821</td>\n",
              "      <td>angiotensin I converting enzyme</td>\n",
              "      <td>1636</td>\n",
              "      <td>Converts angiotensin I to angiotensin II by re...</td>\n",
              "    </tr>\n",
              "    <tr>\n",
              "      <th>3</th>\n",
              "      <td>ADIPOQ</td>\n",
              "      <td>Q15848</td>\n",
              "      <td>adiponectin, C1Q and collagen domain containing</td>\n",
              "      <td>9370</td>\n",
              "      <td>Important adipokine involved in the control of...</td>\n",
              "    </tr>\n",
              "    <tr>\n",
              "      <th>4</th>\n",
              "      <td>AHR</td>\n",
              "      <td>P35869</td>\n",
              "      <td>aryl hydrocarbon receptor</td>\n",
              "      <td>196</td>\n",
              "      <td>Ligand-activated transcriptional activator. Bi...</td>\n",
              "    </tr>\n",
              "    <tr>\n",
              "      <th>...</th>\n",
              "      <td>...</td>\n",
              "      <td>...</td>\n",
              "      <td>...</td>\n",
              "      <td>...</td>\n",
              "      <td>...</td>\n",
              "    </tr>\n",
              "    <tr>\n",
              "      <th>97</th>\n",
              "      <td>TSEN2</td>\n",
              "      <td>Q8NCE0</td>\n",
              "      <td>tRNA splicing endonuclease subunit 2</td>\n",
              "      <td>80746</td>\n",
              "      <td>Constitutes one of the two catalytic subunit o...</td>\n",
              "    </tr>\n",
              "    <tr>\n",
              "      <th>98</th>\n",
              "      <td>VIM</td>\n",
              "      <td>P08670</td>\n",
              "      <td>vimentin</td>\n",
              "      <td>7431</td>\n",
              "      <td>Vimentins are class-III intermediate filaments...</td>\n",
              "    </tr>\n",
              "    <tr>\n",
              "      <th>99</th>\n",
              "      <td>VPS13D</td>\n",
              "      <td>Q5THJ4</td>\n",
              "      <td>vacuolar protein sorting 13 homolog D</td>\n",
              "      <td>55187</td>\n",
              "      <td>Functions in promoting mitochondrial clearance...</td>\n",
              "    </tr>\n",
              "    <tr>\n",
              "      <th>100</th>\n",
              "      <td>ZDHHC2</td>\n",
              "      <td>Q9UIJ5</td>\n",
              "      <td>zinc finger DHHC-type palmitoyltransferase 2</td>\n",
              "      <td>51201</td>\n",
              "      <td>Palmitoyltransferase that catalyzes the additi...</td>\n",
              "    </tr>\n",
              "    <tr>\n",
              "      <th>101</th>\n",
              "      <td>ZWILCH</td>\n",
              "      <td>Q9H900</td>\n",
              "      <td>zwilch kinetochore protein</td>\n",
              "      <td>55055</td>\n",
              "      <td>Essential component of the mitotic checkpoint,...</td>\n",
              "    </tr>\n",
              "  </tbody>\n",
              "</table>\n",
              "<p>102 rows × 5 columns</p>\n",
              "</div>"
            ],
            "text/plain": [
              "     symbol uniprot_ids                                             name  \\\n",
              "0     ABCG1      P45844        ATP binding cassette subfamily G member 1   \n",
              "1     ACADM      P11310              acyl-CoA dehydrogenase medium chain   \n",
              "2       ACE      P12821                  angiotensin I converting enzyme   \n",
              "3    ADIPOQ      Q15848  adiponectin, C1Q and collagen domain containing   \n",
              "4       AHR      P35869                        aryl hydrocarbon receptor   \n",
              "..      ...         ...                                              ...   \n",
              "97    TSEN2      Q8NCE0             tRNA splicing endonuclease subunit 2   \n",
              "98      VIM      P08670                                         vimentin   \n",
              "99   VPS13D      Q5THJ4            vacuolar protein sorting 13 homolog D   \n",
              "100  ZDHHC2      Q9UIJ5     zinc finger DHHC-type palmitoyltransferase 2   \n",
              "101  ZWILCH      Q9H900                       zwilch kinetochore protein   \n",
              "\n",
              "    entrez_id                                        Description  \n",
              "0        9619  Catalyzes the efflux of phospholipids such as ...  \n",
              "1          34  Acyl-CoA dehydrogenase specific for acyl chain...  \n",
              "2        1636  Converts angiotensin I to angiotensin II by re...  \n",
              "3        9370  Important adipokine involved in the control of...  \n",
              "4         196  Ligand-activated transcriptional activator. Bi...  \n",
              "..        ...                                                ...  \n",
              "97      80746  Constitutes one of the two catalytic subunit o...  \n",
              "98       7431  Vimentins are class-III intermediate filaments...  \n",
              "99      55187  Functions in promoting mitochondrial clearance...  \n",
              "100     51201  Palmitoyltransferase that catalyzes the additi...  \n",
              "101     55055  Essential component of the mitotic checkpoint,...  \n",
              "\n",
              "[102 rows x 5 columns]"
            ]
          },
          "metadata": {
            "tags": []
          },
          "execution_count": 5
        }
      ]
    },
    {
      "cell_type": "code",
      "metadata": {
        "id": "RM7VwTRcZWae"
      },
      "source": [
        "## To save seed id and symbols correspondance\n",
        "seed_symbols, seed_ids = final_genes_deseas['symbol'].values ,final_genes_deseas['entrez_id'].values\n",
        "seed_symbols_to_ids = {}\n",
        "seed_ids_to_symbols = {}\n",
        "for key,value in zip(seed_symbols,seed_ids):\n",
        "  seed_symbols_to_ids[key] = value\n",
        "  seed_ids_to_symbols[value] = key\n",
        "\n",
        "\n",
        "def seed_symbol_to_id(symbol):\n",
        "  '''\n",
        "  Convert seed symbol to id \n",
        "  '''\n",
        "  return seed_symbols_to_ids.get(symbol)\n",
        "\n",
        "def seed_id_to_symbol(id):\n",
        "  '''\n",
        "  Convert seed id  to symbol\n",
        "  '''\n",
        "  return seed_ids_to_symbols.get(id)\n"
      ],
      "execution_count": null,
      "outputs": []
    },
    {
      "cell_type": "markdown",
      "metadata": {
        "id": "QwICM-22Nvpg"
      },
      "source": [
        "# 1.2"
      ]
    },
    {
      "cell_type": "markdown",
      "metadata": {
        "id": "_NEfYc7Z2cGQ"
      },
      "source": [
        "# Get biogrid data"
      ]
    },
    {
      "cell_type": "code",
      "metadata": {
        "id": "SaBUxKZ7z_lZ"
      },
      "source": [
        "\n",
        "#only for Ale\n",
        "biogrid_datafile = '/Users/digitalfirst/Desktop/BI/BIOGRID-ORGANISM-Homo_sapiens-4.2.191.tab3.txt'\n",
        "#read biogrid dataset \n",
        "#biogrid_datafile = dataset_folder+'1.2/BIOGRID-ORGANISM-Homo_sapiens-4.2.191.tab3.txt'"
      ],
      "execution_count": null,
      "outputs": []
    },
    {
      "cell_type": "code",
      "metadata": {
        "colab": {
          "base_uri": "https://localhost:8080/"
        },
        "id": "4CKrwuvimoOh",
        "outputId": "f15bc1dd-06a6-4967-b6d7-5d12750662f2"
      },
      "source": [
        "\n",
        "biogrid_data = pd.read_csv(biogrid_datafile,sep='\\t')\n",
        "#biogrid_data.info()"
      ],
      "execution_count": null,
      "outputs": [
        {
          "output_type": "stream",
          "text": [
            "/opt/anaconda3/lib/python3.7/site-packages/IPython/core/interactiveshell.py:3146: DtypeWarning: Columns (1,18) have mixed types.Specify dtype option on import or set low_memory=False.\n",
            "  interactivity=interactivity, compiler=compiler, result=result)\n"
          ],
          "name": "stderr"
        }
      ]
    },
    {
      "cell_type": "code",
      "metadata": {
        "id": "XQ5MvHVE11Dt"
      },
      "source": [
        "# Filter data to only physical interactions and Homo sapiens genes\n",
        "biogrid_data = biogrid_data[biogrid_data['Experimental System Type']=='physical']\n",
        "biogrid_data = biogrid_data[biogrid_data['Organism Name Interactor A']=='Homo sapiens']\n",
        "biogrid_data = biogrid_data[biogrid_data['Organism Name Interactor B']=='Homo sapiens']"
      ],
      "execution_count": null,
      "outputs": []
    },
    {
      "cell_type": "code",
      "metadata": {
        "colab": {
          "base_uri": "https://localhost:8080/",
          "height": 391
        },
        "id": "8wJa07ID5eon",
        "outputId": "620443f7-9d2c-4742-882f-5b143420338a"
      },
      "source": [
        "biogrid_data.head(5)"
      ],
      "execution_count": null,
      "outputs": [
        {
          "output_type": "execute_result",
          "data": {
            "text/html": [
              "<div>\n",
              "<style scoped>\n",
              "    .dataframe tbody tr th:only-of-type {\n",
              "        vertical-align: middle;\n",
              "    }\n",
              "\n",
              "    .dataframe tbody tr th {\n",
              "        vertical-align: top;\n",
              "    }\n",
              "\n",
              "    .dataframe thead th {\n",
              "        text-align: right;\n",
              "    }\n",
              "</style>\n",
              "<table border=\"1\" class=\"dataframe\">\n",
              "  <thead>\n",
              "    <tr style=\"text-align: right;\">\n",
              "      <th></th>\n",
              "      <th>#BioGRID Interaction ID</th>\n",
              "      <th>Entrez Gene Interactor A</th>\n",
              "      <th>Entrez Gene Interactor B</th>\n",
              "      <th>BioGRID ID Interactor A</th>\n",
              "      <th>BioGRID ID Interactor B</th>\n",
              "      <th>Systematic Name Interactor A</th>\n",
              "      <th>Systematic Name Interactor B</th>\n",
              "      <th>Official Symbol Interactor A</th>\n",
              "      <th>Official Symbol Interactor B</th>\n",
              "      <th>Synonyms Interactor A</th>\n",
              "      <th>...</th>\n",
              "      <th>TREMBL Accessions Interactor B</th>\n",
              "      <th>REFSEQ Accessions Interactor B</th>\n",
              "      <th>Ontology Term IDs</th>\n",
              "      <th>Ontology Term Names</th>\n",
              "      <th>Ontology Term Categories</th>\n",
              "      <th>Ontology Term Qualifier IDs</th>\n",
              "      <th>Ontology Term Qualifier Names</th>\n",
              "      <th>Ontology Term Types</th>\n",
              "      <th>Organism Name Interactor A</th>\n",
              "      <th>Organism Name Interactor B</th>\n",
              "    </tr>\n",
              "  </thead>\n",
              "  <tbody>\n",
              "    <tr>\n",
              "      <th>0</th>\n",
              "      <td>103</td>\n",
              "      <td>6416</td>\n",
              "      <td>2318</td>\n",
              "      <td>112315</td>\n",
              "      <td>108607</td>\n",
              "      <td>-</td>\n",
              "      <td>-</td>\n",
              "      <td>MAP2K4</td>\n",
              "      <td>FLNC</td>\n",
              "      <td>JNKK|JNKK1|MAPKK4|MEK4|MKK4|PRKMK4|SAPKK-1|SAP...</td>\n",
              "      <td>...</td>\n",
              "      <td>Q59H94</td>\n",
              "      <td>NP_001120959|NP_001449</td>\n",
              "      <td>-</td>\n",
              "      <td>-</td>\n",
              "      <td>-</td>\n",
              "      <td>-</td>\n",
              "      <td>-</td>\n",
              "      <td>-</td>\n",
              "      <td>Homo sapiens</td>\n",
              "      <td>Homo sapiens</td>\n",
              "    </tr>\n",
              "    <tr>\n",
              "      <th>1</th>\n",
              "      <td>117</td>\n",
              "      <td>84665</td>\n",
              "      <td>88</td>\n",
              "      <td>124185</td>\n",
              "      <td>106603</td>\n",
              "      <td>-</td>\n",
              "      <td>-</td>\n",
              "      <td>MYPN</td>\n",
              "      <td>ACTN2</td>\n",
              "      <td>CMD1DD|CMH22|MYOP|RCM4</td>\n",
              "      <td>...</td>\n",
              "      <td>Q59FD9|F6THM6</td>\n",
              "      <td>NP_001094|NP_001265272|NP_001265273</td>\n",
              "      <td>-</td>\n",
              "      <td>-</td>\n",
              "      <td>-</td>\n",
              "      <td>-</td>\n",
              "      <td>-</td>\n",
              "      <td>-</td>\n",
              "      <td>Homo sapiens</td>\n",
              "      <td>Homo sapiens</td>\n",
              "    </tr>\n",
              "    <tr>\n",
              "      <th>2</th>\n",
              "      <td>183</td>\n",
              "      <td>90</td>\n",
              "      <td>2339</td>\n",
              "      <td>106605</td>\n",
              "      <td>108625</td>\n",
              "      <td>-</td>\n",
              "      <td>-</td>\n",
              "      <td>ACVR1</td>\n",
              "      <td>FNTA</td>\n",
              "      <td>ACTRI|ACVR1A|ACVRLK2|ALK2|FOP|SKR1|TSRI</td>\n",
              "      <td>...</td>\n",
              "      <td>-</td>\n",
              "      <td>NP_002018</td>\n",
              "      <td>-</td>\n",
              "      <td>-</td>\n",
              "      <td>-</td>\n",
              "      <td>-</td>\n",
              "      <td>-</td>\n",
              "      <td>-</td>\n",
              "      <td>Homo sapiens</td>\n",
              "      <td>Homo sapiens</td>\n",
              "    </tr>\n",
              "    <tr>\n",
              "      <th>3</th>\n",
              "      <td>278</td>\n",
              "      <td>2624</td>\n",
              "      <td>5371</td>\n",
              "      <td>108894</td>\n",
              "      <td>111384</td>\n",
              "      <td>-</td>\n",
              "      <td>-</td>\n",
              "      <td>GATA2</td>\n",
              "      <td>PML</td>\n",
              "      <td>DCML|IMD21|MONOMAC|NFE1B</td>\n",
              "      <td>...</td>\n",
              "      <td>-</td>\n",
              "      <td>NP_150250|NP_150253|NP_150252|NP_150247|NP_150...</td>\n",
              "      <td>-</td>\n",
              "      <td>-</td>\n",
              "      <td>-</td>\n",
              "      <td>-</td>\n",
              "      <td>-</td>\n",
              "      <td>-</td>\n",
              "      <td>Homo sapiens</td>\n",
              "      <td>Homo sapiens</td>\n",
              "    </tr>\n",
              "    <tr>\n",
              "      <th>4</th>\n",
              "      <td>418</td>\n",
              "      <td>6118</td>\n",
              "      <td>6774</td>\n",
              "      <td>112038</td>\n",
              "      <td>112651</td>\n",
              "      <td>RP4-547C9.3</td>\n",
              "      <td>-</td>\n",
              "      <td>RPA2</td>\n",
              "      <td>STAT3</td>\n",
              "      <td>REPA2|RP-A p32|RP-A p34|RPA32</td>\n",
              "      <td>...</td>\n",
              "      <td>-</td>\n",
              "      <td>NP_644805|NP_003141|NP_001356447|NP_001356443|...</td>\n",
              "      <td>-</td>\n",
              "      <td>-</td>\n",
              "      <td>-</td>\n",
              "      <td>-</td>\n",
              "      <td>-</td>\n",
              "      <td>-</td>\n",
              "      <td>Homo sapiens</td>\n",
              "      <td>Homo sapiens</td>\n",
              "    </tr>\n",
              "  </tbody>\n",
              "</table>\n",
              "<p>5 rows × 37 columns</p>\n",
              "</div>"
            ],
            "text/plain": [
              "   #BioGRID Interaction ID Entrez Gene Interactor A  Entrez Gene Interactor B  \\\n",
              "0                      103                     6416                      2318   \n",
              "1                      117                    84665                        88   \n",
              "2                      183                       90                      2339   \n",
              "3                      278                     2624                      5371   \n",
              "4                      418                     6118                      6774   \n",
              "\n",
              "   BioGRID ID Interactor A  BioGRID ID Interactor B  \\\n",
              "0                   112315                   108607   \n",
              "1                   124185                   106603   \n",
              "2                   106605                   108625   \n",
              "3                   108894                   111384   \n",
              "4                   112038                   112651   \n",
              "\n",
              "  Systematic Name Interactor A Systematic Name Interactor B  \\\n",
              "0                            -                            -   \n",
              "1                            -                            -   \n",
              "2                            -                            -   \n",
              "3                            -                            -   \n",
              "4                  RP4-547C9.3                            -   \n",
              "\n",
              "  Official Symbol Interactor A Official Symbol Interactor B  \\\n",
              "0                       MAP2K4                         FLNC   \n",
              "1                         MYPN                        ACTN2   \n",
              "2                        ACVR1                         FNTA   \n",
              "3                        GATA2                          PML   \n",
              "4                         RPA2                        STAT3   \n",
              "\n",
              "                               Synonyms Interactor A  ...  \\\n",
              "0  JNKK|JNKK1|MAPKK4|MEK4|MKK4|PRKMK4|SAPKK-1|SAP...  ...   \n",
              "1                             CMD1DD|CMH22|MYOP|RCM4  ...   \n",
              "2            ACTRI|ACVR1A|ACVRLK2|ALK2|FOP|SKR1|TSRI  ...   \n",
              "3                           DCML|IMD21|MONOMAC|NFE1B  ...   \n",
              "4                      REPA2|RP-A p32|RP-A p34|RPA32  ...   \n",
              "\n",
              "  TREMBL Accessions Interactor B  \\\n",
              "0                         Q59H94   \n",
              "1                  Q59FD9|F6THM6   \n",
              "2                              -   \n",
              "3                              -   \n",
              "4                              -   \n",
              "\n",
              "                      REFSEQ Accessions Interactor B Ontology Term IDs  \\\n",
              "0                             NP_001120959|NP_001449                 -   \n",
              "1                NP_001094|NP_001265272|NP_001265273                 -   \n",
              "2                                          NP_002018                 -   \n",
              "3  NP_150250|NP_150253|NP_150252|NP_150247|NP_150...                 -   \n",
              "4  NP_644805|NP_003141|NP_001356447|NP_001356443|...                 -   \n",
              "\n",
              "  Ontology Term Names Ontology Term Categories  Ontology Term Qualifier IDs  \\\n",
              "0                   -                        -                            -   \n",
              "1                   -                        -                            -   \n",
              "2                   -                        -                            -   \n",
              "3                   -                        -                            -   \n",
              "4                   -                        -                            -   \n",
              "\n",
              "   Ontology Term Qualifier Names Ontology Term Types  \\\n",
              "0                              -                   -   \n",
              "1                              -                   -   \n",
              "2                              -                   -   \n",
              "3                              -                   -   \n",
              "4                              -                   -   \n",
              "\n",
              "  Organism Name Interactor A Organism Name Interactor B  \n",
              "0               Homo sapiens               Homo sapiens  \n",
              "1               Homo sapiens               Homo sapiens  \n",
              "2               Homo sapiens               Homo sapiens  \n",
              "3               Homo sapiens               Homo sapiens  \n",
              "4               Homo sapiens               Homo sapiens  \n",
              "\n",
              "[5 rows x 37 columns]"
            ]
          },
          "metadata": {
            "tags": []
          },
          "execution_count": 10
        }
      ]
    },
    {
      "cell_type": "markdown",
      "metadata": {
        "id": "h7uYgIAt6fbi"
      },
      "source": [
        "#### Mapping protein Id to symbols\n"
      ]
    },
    {
      "cell_type": "code",
      "metadata": {
        "id": "cqLQV89pba0T"
      },
      "source": [
        "biogrid_ids_A,biogrid_symbols_A  = biogrid_data['Entrez Gene Interactor A'].values ,biogrid_data['Official Symbol Interactor A'].values\n",
        "biogrid_ids_B,biogrid_symbols_B  = biogrid_data['Entrez Gene Interactor B'].values ,biogrid_data['Official Symbol Interactor B'].values\n",
        "\n",
        "#Dict for proteins symbol to id mapping\n",
        "symbols_to_ids = {}\n",
        "ids_to_symbols = {}\n",
        "for key,value in zip(biogrid_symbols_A,biogrid_ids_A):\n",
        "  symbols_to_ids[key] = value\n",
        "  ids_to_symbols[value] = key\n",
        "\n",
        "for key,value in zip(biogrid_symbols_B,biogrid_ids_B):\n",
        "  symbols_to_ids[key] = value\n",
        "  ids_to_symbols[value] = key \n",
        "  "
      ],
      "execution_count": null,
      "outputs": []
    },
    {
      "cell_type": "code",
      "metadata": {
        "id": "fHUEWEC_Yu6H"
      },
      "source": [
        "# Functions to retrieve a symbol from protein id \n",
        "def symbol_to_id(symbol):\n",
        "  id = symbols_to_ids.get(symbol)\n",
        "  if id ==None:\n",
        "    return seed_symbol_to_id(symbol)\n",
        "  return id\n",
        "\n",
        "# Functions to retrieve an id from protein symbol\n",
        "def id_to_symbol(id):\n",
        "  symbol = ids_to_symbols.get(id)\n",
        "  if symbol == None:\n",
        "    return seed_id_to_symbol(id)\n",
        "  return symbol\n",
        "\n",
        "# Functions to convert an edges of symbols to ids\n",
        "def symbol_link_to_id_link(link):\n",
        "  return (symbol_to_id(link[0]),symbol_to_id(link[1]))\n"
      ],
      "execution_count": null,
      "outputs": []
    },
    {
      "cell_type": "markdown",
      "metadata": {
        "id": "H4Jif0i0JY1V"
      },
      "source": [
        "##Get all nodes involved in interactions \n",
        "\n",
        "\n",
        "---\n",
        "\n"
      ]
    },
    {
      "cell_type": "code",
      "metadata": {
        "id": "-LGQgQwc_2uO"
      },
      "source": [
        "# We get all the node that interacted in the biogrid\n",
        "gene_A_list = biogrid_data.iloc[:,1].values\n",
        "gene_B_list = biogrid_data.iloc[:,2].values\n",
        "A_B_list = np.append(gene_A_list,gene_B_list)\n",
        "A_set = set(gene_A_list)\n",
        "B_set =  set(gene_B_list)\n",
        "\n",
        "#And we create a set of unique values\n",
        "A_B_set = set(A_B_list)"
      ],
      "execution_count": null,
      "outputs": []
    },
    {
      "cell_type": "code",
      "metadata": {
        "colab": {
          "base_uri": "https://localhost:8080/"
        },
        "id": "YQ2tGfcAHpu6",
        "outputId": "833d2e80-abf3-401e-c917-d4622822f44e"
      },
      "source": [
        "#List of all protein inn the biogrid\n",
        "genes_biogrid = np.array([id_to_symbol(x) for x in A_B_set if str.isdigit(str(x))])\n",
        "genes_biogrid"
      ],
      "execution_count": null,
      "outputs": [
        {
          "output_type": "execute_result",
          "data": {
            "text/plain": [
              "array(['A1BG', 'A2M', 'CCDC58', ..., 'B4GAT1', 'CPNE4', 'FAF1'],\n",
              "      dtype='<U22')"
            ]
          },
          "metadata": {
            "tags": []
          },
          "execution_count": 14
        }
      ]
    },
    {
      "cell_type": "markdown",
      "metadata": {
        "id": "KR4mMY8cJpV5"
      },
      "source": [
        "##Get all interactions \n",
        "\n"
      ]
    },
    {
      "cell_type": "code",
      "metadata": {
        "colab": {
          "base_uri": "https://localhost:8080/"
        },
        "id": "gLR8LCg5D6TR",
        "outputId": "7f191901-adbb-4562-d696-d809620412da"
      },
      "source": [
        "# All the interactions in the biogrid\n",
        "interactions = biogrid_data.iloc[:,1:3].values\n",
        "interactions =np.array([[id_to_symbol(a),id_to_symbol(b)] for a,b in interactions ])\n"
      ],
      "execution_count": null,
      "outputs": [
        {
          "output_type": "execute_result",
          "data": {
            "text/plain": [
              "(630323, 2)"
            ]
          },
          "metadata": {
            "tags": []
          },
          "execution_count": 15
        }
      ]
    },
    {
      "cell_type": "code",
      "metadata": {
        "colab": {
          "base_uri": "https://localhost:8080/"
        },
        "id": "9Bqp5DyfW3Nj",
        "outputId": "c1fa5503-f7ad-4ccf-d5bb-b6dddf49e070"
      },
      "source": [
        "interactions"
      ],
      "execution_count": null,
      "outputs": [
        {
          "output_type": "execute_result",
          "data": {
            "text/plain": [
              "array([['MAP2K4', 'FLNC'],\n",
              "       ['MYPN', 'ACTN2'],\n",
              "       ['ACVR1', 'FNTA'],\n",
              "       ...,\n",
              "       ['BCAR1', 'QTRTD1'],\n",
              "       ['BCAR1', 'EPT1'],\n",
              "       ['BCAR1', 'C12orf5']], dtype='<U22')"
            ]
          },
          "metadata": {
            "tags": []
          },
          "execution_count": 16
        }
      ]
    },
    {
      "cell_type": "markdown",
      "metadata": {
        "id": "q6HEt4l2UQxA"
      },
      "source": [
        "# Seed gene list "
      ]
    },
    {
      "cell_type": "code",
      "metadata": {
        "id": "nobmzU_UUPM8"
      },
      "source": [
        "seed_genes_ids  =  final_genes_deseas['entrez_id'].values\n",
        "seed_genes_ids = [id_to_symbol(s) for s in seed_genes_ids]\n"
      ],
      "execution_count": null,
      "outputs": []
    },
    {
      "cell_type": "markdown",
      "metadata": {
        "id": "9mzjaC-TU0ev"
      },
      "source": [
        "##Now we build a dictionary of all interactions"
      ]
    },
    {
      "cell_type": "code",
      "metadata": {
        "id": "ZuBk2xllVaX3"
      },
      "source": [
        "#for each row in the biogrid \n",
        "# each couple a,b is saved as an interaction from a to b and from b to a\n",
        "all_interactions_dict = collections.defaultdict(set)\n",
        "for a,b in interactions:\n",
        "  all_interactions_dict[a].add(b)\n",
        "  all_interactions_dict[b].add(a)"
      ],
      "execution_count": null,
      "outputs": []
    },
    {
      "cell_type": "markdown",
      "metadata": {
        "id": "QTsPM8xqiLc9"
      },
      "source": [
        "# Interactions including seed genes "
      ]
    },
    {
      "cell_type": "code",
      "metadata": {
        "id": "yxTCUWjcZDqD"
      },
      "source": [
        "#We flter interactions including a seed gene\n",
        "seed_interactions_dict = collections.defaultdict(set)\n",
        "for key in seed_genes_ids:\n",
        "  seed_interactions_dict[key] = all_interactions_dict[key]"
      ],
      "execution_count": null,
      "outputs": []
    },
    {
      "cell_type": "markdown",
      "metadata": {
        "id": "s9sGTd8jifxs"
      },
      "source": [
        "# Protein interacting with seed genes"
      ]
    },
    {
      "cell_type": "code",
      "metadata": {
        "colab": {
          "base_uri": "https://localhost:8080/"
        },
        "id": "XGPKvfXViXRw",
        "outputId": "1cde8dbc-e10d-41cd-b512-70701ec088ec"
      },
      "source": [
        "non_seed_genes_ids = set()\n",
        "# from seed genes interactions dictionary, we retrieve all genes interacting with them\n",
        "# performing union of all set \n",
        "for key in seed_interactions_dict.keys():\n",
        "  non_seed_genes_ids = non_seed_genes_ids.union(seed_interactions_dict[key]) \n",
        "\n",
        "#We remove all seed genes included in the set\n",
        "non_seed_genes_ids = np.array([x for x in non_seed_genes_ids if x not in seed_genes_ids])\n",
        "\n",
        "# There we get only non seed gene which interacted with at least one seed gene\n",
        "len(non_seed_genes_ids)"
      ],
      "execution_count": null,
      "outputs": [
        {
          "output_type": "execute_result",
          "data": {
            "text/plain": [
              "5670"
            ]
          },
          "metadata": {
            "tags": []
          },
          "execution_count": 20
        }
      ]
    },
    {
      "cell_type": "markdown",
      "metadata": {
        "id": "Q5Nin_0Ylelk"
      },
      "source": [
        "##Then we create a dictionary for interactions of non seed genes involved with at least one seed gene"
      ]
    },
    {
      "cell_type": "code",
      "metadata": {
        "id": "vhayZxQEl-GB"
      },
      "source": [
        "non_seed_interactions_dict = collections.defaultdict(set)\n",
        "\n",
        "#looping on non seed gene ids \n",
        "for key in non_seed_genes_ids:\n",
        "  # we retrieve interactions from all interactions dictionary \n",
        "  related_genes = all_interactions_dict[key]\n",
        "\n",
        "  related_non_seed_genes = [x for x in related_genes if x not in seed_genes_ids]\n",
        "\n",
        "  #we add it tho the seed genes iteractions dictionary \n",
        "  non_seed_interactions_dict[key] = set(related_non_seed_genes)\n"
      ],
      "execution_count": null,
      "outputs": []
    },
    {
      "cell_type": "markdown",
      "metadata": {
        "id": "1UYkzP2Ooq0y"
      },
      "source": [
        "#Lets put all this in a data frame"
      ]
    },
    {
      "cell_type": "code",
      "metadata": {
        "id": "kwCN8oVAov8X"
      },
      "source": [
        "values = []\n",
        "#for all inteactions including a seed gene\n",
        "#We list the seed gene and genes interacting with it\n",
        "for a ,b in seed_interactions_dict.items():\n",
        "  values.append([a,'T',','.join(b)])\n",
        "\n",
        "\n",
        "#For all non seed genes interacting with at least one seed gene \n",
        "#We list genes interacting with them (no seed gen included)\n",
        "for a ,b in non_seed_interactions_dict.items():\n",
        "  values.append([a,'F',','.join(b)])\n",
        "\n",
        "\n",
        "df = pd.DataFrame(values,columns=['gene','seed_gene_involved','interactions_seeds'])"
      ],
      "execution_count": null,
      "outputs": []
    },
    {
      "cell_type": "markdown",
      "metadata": {
        "id": "YGk9ocfo24wW"
      },
      "source": [
        "### Sample of Table obtained"
      ]
    },
    {
      "cell_type": "code",
      "metadata": {
        "colab": {
          "base_uri": "https://localhost:8080/",
          "height": 348
        },
        "id": "Vxu_l4gRgF1I",
        "outputId": "7817fcb5-a05e-4591-f1a9-c48e29b6795e"
      },
      "source": [
        "#Seconf column inform on whetehr seed gen involved in relation\n",
        "df.sample(10)"
      ],
      "execution_count": null,
      "outputs": [
        {
          "output_type": "execute_result",
          "data": {
            "text/html": [
              "<div>\n",
              "<style scoped>\n",
              "    .dataframe tbody tr th:only-of-type {\n",
              "        vertical-align: middle;\n",
              "    }\n",
              "\n",
              "    .dataframe tbody tr th {\n",
              "        vertical-align: top;\n",
              "    }\n",
              "\n",
              "    .dataframe thead th {\n",
              "        text-align: right;\n",
              "    }\n",
              "</style>\n",
              "<table border=\"1\" class=\"dataframe\">\n",
              "  <thead>\n",
              "    <tr style=\"text-align: right;\">\n",
              "      <th></th>\n",
              "      <th>gene</th>\n",
              "      <th>seed_gene_involved</th>\n",
              "      <th>interactions_seeds</th>\n",
              "    </tr>\n",
              "  </thead>\n",
              "  <tbody>\n",
              "    <tr>\n",
              "      <th>3817</th>\n",
              "      <td>NRD1</td>\n",
              "      <td>F</td>\n",
              "      <td>PFDN1,PUS1,BAIAP2,BTRC,LYRM4,C6orf203,FMR1NB,N...</td>\n",
              "    </tr>\n",
              "    <tr>\n",
              "      <th>5511</th>\n",
              "      <td>WTAP</td>\n",
              "      <td>F</td>\n",
              "      <td>ZNF572,NME1,SNRPB2,HSPA5,HRNR,UBR5,SH3BP5L,DCD...</td>\n",
              "    </tr>\n",
              "    <tr>\n",
              "      <th>4407</th>\n",
              "      <td>C7orf31</td>\n",
              "      <td>F</td>\n",
              "      <td>PGK2,GDA,CLCNKA,KCTD9,BCL6,CLIC3,CYSRT1,OIP5,T...</td>\n",
              "    </tr>\n",
              "    <tr>\n",
              "      <th>78</th>\n",
              "      <td>PYCARD</td>\n",
              "      <td>T</td>\n",
              "      <td>RALB,MYO1C,CDK15,IL6ST,RIPK1,CUL2,CEP131,NUP10...</td>\n",
              "    </tr>\n",
              "    <tr>\n",
              "      <th>1631</th>\n",
              "      <td>FOXI1</td>\n",
              "      <td>F</td>\n",
              "      <td>FAM103A1,WWOX,HGS,PDS5A,ANKRD10,KRTAP19-1,FAM4...</td>\n",
              "    </tr>\n",
              "    <tr>\n",
              "      <th>3724</th>\n",
              "      <td>LPP</td>\n",
              "      <td>F</td>\n",
              "      <td>ARPC4,RPRD1B,HSPA5,EFTUD1,RNF2,HDAC2,CPT1A,NIF...</td>\n",
              "    </tr>\n",
              "    <tr>\n",
              "      <th>1356</th>\n",
              "      <td>ZNF35</td>\n",
              "      <td>F</td>\n",
              "      <td>ZAK,PNMA1,GOLGA2,PIBF1,CDR2,ARIH1,CEP70,CWF19L...</td>\n",
              "    </tr>\n",
              "    <tr>\n",
              "      <th>4050</th>\n",
              "      <td>SMAD3</td>\n",
              "      <td>F</td>\n",
              "      <td>PLAGL1,EBI3,WWOX,HGS,SMAD4,DDX4,TRIM25,HEY1,ZN...</td>\n",
              "    </tr>\n",
              "    <tr>\n",
              "      <th>753</th>\n",
              "      <td>EIF3E</td>\n",
              "      <td>F</td>\n",
              "      <td>CFTR,ICAM1,NCOA3,SAP18,DIEXF,VCAM1,WWP2,HAP1,U...</td>\n",
              "    </tr>\n",
              "    <tr>\n",
              "      <th>5752</th>\n",
              "      <td>TBC1D4</td>\n",
              "      <td>F</td>\n",
              "      <td>HIST2H2BE,SMC4,IQCF1,CEP57,CDKN1A,TP53INP1,CUL...</td>\n",
              "    </tr>\n",
              "  </tbody>\n",
              "</table>\n",
              "</div>"
            ],
            "text/plain": [
              "         gene seed_gene_involved  \\\n",
              "3817     NRD1                  F   \n",
              "5511     WTAP                  F   \n",
              "4407  C7orf31                  F   \n",
              "78     PYCARD                  T   \n",
              "1631    FOXI1                  F   \n",
              "3724      LPP                  F   \n",
              "1356    ZNF35                  F   \n",
              "4050    SMAD3                  F   \n",
              "753     EIF3E                  F   \n",
              "5752   TBC1D4                  F   \n",
              "\n",
              "                                     interactions_seeds  \n",
              "3817  PFDN1,PUS1,BAIAP2,BTRC,LYRM4,C6orf203,FMR1NB,N...  \n",
              "5511  ZNF572,NME1,SNRPB2,HSPA5,HRNR,UBR5,SH3BP5L,DCD...  \n",
              "4407  PGK2,GDA,CLCNKA,KCTD9,BCL6,CLIC3,CYSRT1,OIP5,T...  \n",
              "78    RALB,MYO1C,CDK15,IL6ST,RIPK1,CUL2,CEP131,NUP10...  \n",
              "1631  FAM103A1,WWOX,HGS,PDS5A,ANKRD10,KRTAP19-1,FAM4...  \n",
              "3724  ARPC4,RPRD1B,HSPA5,EFTUD1,RNF2,HDAC2,CPT1A,NIF...  \n",
              "1356  ZAK,PNMA1,GOLGA2,PIBF1,CDR2,ARIH1,CEP70,CWF19L...  \n",
              "4050  PLAGL1,EBI3,WWOX,HGS,SMAD4,DDX4,TRIM25,HEY1,ZN...  \n",
              "753   CFTR,ICAM1,NCOA3,SAP18,DIEXF,VCAM1,WWP2,HAP1,U...  \n",
              "5752  HIST2H2BE,SMC4,IQCF1,CEP57,CDKN1A,TP53INP1,CUL...  "
            ]
          },
          "metadata": {
            "tags": []
          },
          "execution_count": 23
        }
      ]
    },
    {
      "cell_type": "markdown",
      "metadata": {
        "id": "TJBbwYRHq7kN"
      },
      "source": [
        "#1.2 b - Store data in csv format"
      ]
    },
    {
      "cell_type": "code",
      "metadata": {
        "id": "QPjD8oRerEvB"
      },
      "source": [
        "filename = dataset_folder + '1.2/interactions.csv'\n",
        "df.to_csv(filename, sep='\\t',index=False)"
      ],
      "execution_count": null,
      "outputs": []
    },
    {
      "cell_type": "markdown",
      "metadata": {
        "id": "UXgMRpllsi7k"
      },
      "source": [
        "#1.2 c - Summary"
      ]
    },
    {
      "cell_type": "code",
      "metadata": {
        "id": "YaG9DNm0sqUu"
      },
      "source": [
        "n_seed_disgenet = len(set(seed_genes_ids))\n",
        "n_seed_biogrid = len(set([gene for gene in genes_biogrid if gene in seed_genes_ids]))\n",
        "n_interacting_genes = len(set(genes_biogrid))\n",
        "n_interactions = biogrid_data.shape[0]"
      ],
      "execution_count": null,
      "outputs": []
    },
    {
      "cell_type": "code",
      "metadata": {
        "colab": {
          "base_uri": "https://localhost:8080/",
          "height": 78
        },
        "id": "7FE6VV9fvlF6",
        "outputId": "465a17c3-200b-4952-b80d-7d120255eab5"
      },
      "source": [
        "table = [[n_seed_disgenet,n_seed_biogrid,n_interacting_genes,n_interactions]]\n",
        "summary = pd.DataFrame(table, columns=['N° seed disgenet','N° seed biogrid','Interacting genes','Interactions'])\n",
        "summary"
      ],
      "execution_count": null,
      "outputs": [
        {
          "output_type": "execute_result",
          "data": {
            "text/html": [
              "<div>\n",
              "<style scoped>\n",
              "    .dataframe tbody tr th:only-of-type {\n",
              "        vertical-align: middle;\n",
              "    }\n",
              "\n",
              "    .dataframe tbody tr th {\n",
              "        vertical-align: top;\n",
              "    }\n",
              "\n",
              "    .dataframe thead th {\n",
              "        text-align: right;\n",
              "    }\n",
              "</style>\n",
              "<table border=\"1\" class=\"dataframe\">\n",
              "  <thead>\n",
              "    <tr style=\"text-align: right;\">\n",
              "      <th></th>\n",
              "      <th>N° seed disgenet</th>\n",
              "      <th>N° seed biogrid</th>\n",
              "      <th>Interacting genes</th>\n",
              "      <th>Interactions</th>\n",
              "    </tr>\n",
              "  </thead>\n",
              "  <tbody>\n",
              "    <tr>\n",
              "      <th>0</th>\n",
              "      <td>102</td>\n",
              "      <td>100</td>\n",
              "      <td>18909</td>\n",
              "      <td>630323</td>\n",
              "    </tr>\n",
              "  </tbody>\n",
              "</table>\n",
              "</div>"
            ],
            "text/plain": [
              "   N° seed disgenet  N° seed biogrid  Interacting genes  Interactions\n",
              "0               102              100              18909        630323"
            ]
          },
          "metadata": {
            "tags": []
          },
          "execution_count": 26
        }
      ]
    },
    {
      "cell_type": "markdown",
      "metadata": {
        "id": "LV3ETnVpw0ec"
      },
      "source": [
        "#1.3 Arrange interaction data"
      ]
    },
    {
      "cell_type": "code",
      "metadata": {
        "id": "MCf_dUzU2KXV"
      },
      "source": [
        "# We get interaction between seed gens only \n",
        "genes_interactions = biogrid_data.values\n",
        "indexes = []\n",
        "i =0\n",
        "for row in genes_interactions:\n",
        "  check = str(row[7]) in seed_genes_ids\n",
        "  check_2 = str(row[8]) in seed_genes_ids\n",
        "  #  unwanted row were filtered out in biogrid data\n",
        "  if check_2  and check:\n",
        "    indexes.append(i)\n",
        "    i= i+1\n",
        "  \n",
        "\n"
      ],
      "execution_count": null,
      "outputs": []
    },
    {
      "cell_type": "markdown",
      "metadata": {
        "id": "drl29t7ZB6K9"
      },
      "source": [
        "#1.3 a - seed genes interactome: interactions that involve seed genes only"
      ]
    },
    {
      "cell_type": "code",
      "metadata": {
        "id": "FfUbqMsL_mKS"
      },
      "source": [
        "#We retrieve feature of interest in the biogrid \n",
        "only_seed_interactions = biogrid_data.iloc[indexes,[7,8,23,26]]\n",
        "only_seed_data = only_seed_interactions.values\n",
        "columns = ['interactor A gene symbol',' interactor B gene symbol', 'interactor A Uniprot AC', 'interactor B Uniprot AC']\n",
        "only_seed_interactions_df = pd.DataFrame(only_seed_data,columns=columns)"
      ],
      "execution_count": null,
      "outputs": []
    },
    {
      "cell_type": "code",
      "metadata": {
        "id": "xmRUu8LcSrG_"
      },
      "source": [
        "#save gene seed interactions into csv file\n",
        "filename = dataset_folder + '1.3/gsi.csv'\n",
        "only_seed_interactions_df.to_csv(filename, sep='\\t',index=False)\n"
      ],
      "execution_count": null,
      "outputs": []
    },
    {
      "cell_type": "code",
      "metadata": {
        "colab": {
          "base_uri": "https://localhost:8080/",
          "height": 407
        },
        "id": "oJGIysXL4pp6",
        "outputId": "562c07a3-6ba0-4b43-970f-ba44c533b8f7"
      },
      "source": [
        "only_seed_interactions_df"
      ],
      "execution_count": null,
      "outputs": [
        {
          "output_type": "execute_result",
          "data": {
            "text/html": [
              "<div>\n",
              "<style scoped>\n",
              "    .dataframe tbody tr th:only-of-type {\n",
              "        vertical-align: middle;\n",
              "    }\n",
              "\n",
              "    .dataframe tbody tr th {\n",
              "        vertical-align: top;\n",
              "    }\n",
              "\n",
              "    .dataframe thead th {\n",
              "        text-align: right;\n",
              "    }\n",
              "</style>\n",
              "<table border=\"1\" class=\"dataframe\">\n",
              "  <thead>\n",
              "    <tr style=\"text-align: right;\">\n",
              "      <th></th>\n",
              "      <th>interactor A gene symbol</th>\n",
              "      <th>interactor B gene symbol</th>\n",
              "      <th>interactor A Uniprot AC</th>\n",
              "      <th>interactor B Uniprot AC</th>\n",
              "    </tr>\n",
              "  </thead>\n",
              "  <tbody>\n",
              "    <tr>\n",
              "      <th>0</th>\n",
              "      <td>MAP2K4</td>\n",
              "      <td>FLNC</td>\n",
              "      <td>P45985</td>\n",
              "      <td>Q14315</td>\n",
              "    </tr>\n",
              "    <tr>\n",
              "      <th>1</th>\n",
              "      <td>MYPN</td>\n",
              "      <td>ACTN2</td>\n",
              "      <td>Q86TC9</td>\n",
              "      <td>P35609</td>\n",
              "    </tr>\n",
              "    <tr>\n",
              "      <th>2</th>\n",
              "      <td>ACVR1</td>\n",
              "      <td>FNTA</td>\n",
              "      <td>Q04771</td>\n",
              "      <td>P49354</td>\n",
              "    </tr>\n",
              "    <tr>\n",
              "      <th>3</th>\n",
              "      <td>GATA2</td>\n",
              "      <td>PML</td>\n",
              "      <td>P23769</td>\n",
              "      <td>P29590</td>\n",
              "    </tr>\n",
              "    <tr>\n",
              "      <th>4</th>\n",
              "      <td>RPA2</td>\n",
              "      <td>STAT3</td>\n",
              "      <td>P15927</td>\n",
              "      <td>P40763</td>\n",
              "    </tr>\n",
              "    <tr>\n",
              "      <th>...</th>\n",
              "      <td>...</td>\n",
              "      <td>...</td>\n",
              "      <td>...</td>\n",
              "      <td>...</td>\n",
              "    </tr>\n",
              "    <tr>\n",
              "      <th>147</th>\n",
              "      <td>JAK2</td>\n",
              "      <td>SOCS1</td>\n",
              "      <td>O60674</td>\n",
              "      <td>O15524</td>\n",
              "    </tr>\n",
              "    <tr>\n",
              "      <th>148</th>\n",
              "      <td>BYSL</td>\n",
              "      <td>KRT8</td>\n",
              "      <td>Q13895</td>\n",
              "      <td>P05787</td>\n",
              "    </tr>\n",
              "    <tr>\n",
              "      <th>149</th>\n",
              "      <td>KRT18</td>\n",
              "      <td>CBL</td>\n",
              "      <td>P05783</td>\n",
              "      <td>P22681</td>\n",
              "    </tr>\n",
              "    <tr>\n",
              "      <th>150</th>\n",
              "      <td>KRT18</td>\n",
              "      <td>DNAJB6</td>\n",
              "      <td>P05783</td>\n",
              "      <td>O75190</td>\n",
              "    </tr>\n",
              "    <tr>\n",
              "      <th>151</th>\n",
              "      <td>LMNA</td>\n",
              "      <td>LMNB1</td>\n",
              "      <td>P02545</td>\n",
              "      <td>P20700</td>\n",
              "    </tr>\n",
              "  </tbody>\n",
              "</table>\n",
              "<p>152 rows × 4 columns</p>\n",
              "</div>"
            ],
            "text/plain": [
              "    interactor A gene symbol  interactor B gene symbol  \\\n",
              "0                     MAP2K4                      FLNC   \n",
              "1                       MYPN                     ACTN2   \n",
              "2                      ACVR1                      FNTA   \n",
              "3                      GATA2                       PML   \n",
              "4                       RPA2                     STAT3   \n",
              "..                       ...                       ...   \n",
              "147                     JAK2                     SOCS1   \n",
              "148                     BYSL                      KRT8   \n",
              "149                    KRT18                       CBL   \n",
              "150                    KRT18                    DNAJB6   \n",
              "151                     LMNA                     LMNB1   \n",
              "\n",
              "    interactor A Uniprot AC interactor B Uniprot AC  \n",
              "0                    P45985                  Q14315  \n",
              "1                    Q86TC9                  P35609  \n",
              "2                    Q04771                  P49354  \n",
              "3                    P23769                  P29590  \n",
              "4                    P15927                  P40763  \n",
              "..                      ...                     ...  \n",
              "147                  O60674                  O15524  \n",
              "148                  Q13895                  P05787  \n",
              "149                  P05783                  P22681  \n",
              "150                  P05783                  O75190  \n",
              "151                  P02545                  P20700  \n",
              "\n",
              "[152 rows x 4 columns]"
            ]
          },
          "metadata": {
            "tags": []
          },
          "execution_count": 30
        }
      ]
    },
    {
      "cell_type": "markdown",
      "metadata": {
        "id": "zzPvmZDaCIMw"
      },
      "source": [
        "##1.3-b All proteins interacting with at least one seed gene"
      ]
    },
    {
      "cell_type": "code",
      "metadata": {
        "id": "ijLfvZuyCbDf"
      },
      "source": [
        "# We get interaction between non seed gens only \n",
        "proteins_interactions = biogrid_data.values\n",
        "indexes = []\n",
        "i =0\n",
        "for row in proteins_interactions:\n",
        "  # We check if at least one gene involved is a seed gene\n",
        "  check_1 = str(row[7]) in seed_genes_ids\n",
        "  check_2 = str(row[8]) in seed_genes_ids\n",
        "  if (check_2  or check_1) :\n",
        "    indexes.append(i)\n",
        "    i= i+1"
      ],
      "execution_count": null,
      "outputs": []
    },
    {
      "cell_type": "code",
      "metadata": {
        "id": "eDImrysbQyIs"
      },
      "source": [
        "all_proteins_interactions = biogrid_data.iloc[indexes,[7,8,23,26]]\n",
        "all_proteins_data = all_proteins_interactions.values\n",
        "columns = ['interactor A gene symbol',' interactor B gene symbol', 'interactor A Uniprot AC', 'interactor B Uniprot AC']\n",
        "all_proteins_interactions_df = pd.DataFrame(all_proteins_data,columns=columns)"
      ],
      "execution_count": null,
      "outputs": []
    },
    {
      "cell_type": "code",
      "metadata": {
        "colab": {
          "base_uri": "https://localhost:8080/",
          "height": 407
        },
        "id": "siwZAzIds7DT",
        "outputId": "5ad0aa08-6197-4dc0-fb3a-1b61b98f4118"
      },
      "source": [
        "all_proteins_interactions_df"
      ],
      "execution_count": null,
      "outputs": [
        {
          "output_type": "execute_result",
          "data": {
            "text/html": [
              "<div>\n",
              "<style scoped>\n",
              "    .dataframe tbody tr th:only-of-type {\n",
              "        vertical-align: middle;\n",
              "    }\n",
              "\n",
              "    .dataframe tbody tr th {\n",
              "        vertical-align: top;\n",
              "    }\n",
              "\n",
              "    .dataframe thead th {\n",
              "        text-align: right;\n",
              "    }\n",
              "</style>\n",
              "<table border=\"1\" class=\"dataframe\">\n",
              "  <thead>\n",
              "    <tr style=\"text-align: right;\">\n",
              "      <th></th>\n",
              "      <th>interactor A gene symbol</th>\n",
              "      <th>interactor B gene symbol</th>\n",
              "      <th>interactor A Uniprot AC</th>\n",
              "      <th>interactor B Uniprot AC</th>\n",
              "    </tr>\n",
              "  </thead>\n",
              "  <tbody>\n",
              "    <tr>\n",
              "      <th>0</th>\n",
              "      <td>MAP2K4</td>\n",
              "      <td>FLNC</td>\n",
              "      <td>P45985</td>\n",
              "      <td>Q14315</td>\n",
              "    </tr>\n",
              "    <tr>\n",
              "      <th>1</th>\n",
              "      <td>MYPN</td>\n",
              "      <td>ACTN2</td>\n",
              "      <td>Q86TC9</td>\n",
              "      <td>P35609</td>\n",
              "    </tr>\n",
              "    <tr>\n",
              "      <th>2</th>\n",
              "      <td>ACVR1</td>\n",
              "      <td>FNTA</td>\n",
              "      <td>Q04771</td>\n",
              "      <td>P49354</td>\n",
              "    </tr>\n",
              "    <tr>\n",
              "      <th>3</th>\n",
              "      <td>GATA2</td>\n",
              "      <td>PML</td>\n",
              "      <td>P23769</td>\n",
              "      <td>P29590</td>\n",
              "    </tr>\n",
              "    <tr>\n",
              "      <th>4</th>\n",
              "      <td>RPA2</td>\n",
              "      <td>STAT3</td>\n",
              "      <td>P15927</td>\n",
              "      <td>P40763</td>\n",
              "    </tr>\n",
              "    <tr>\n",
              "      <th>...</th>\n",
              "      <td>...</td>\n",
              "      <td>...</td>\n",
              "      <td>...</td>\n",
              "      <td>...</td>\n",
              "    </tr>\n",
              "    <tr>\n",
              "      <th>12882</th>\n",
              "      <td>RB1</td>\n",
              "      <td>HDAC1</td>\n",
              "      <td>P06400</td>\n",
              "      <td>Q13547</td>\n",
              "    </tr>\n",
              "    <tr>\n",
              "      <th>12883</th>\n",
              "      <td>MYOD1</td>\n",
              "      <td>HDAC1</td>\n",
              "      <td>P15172</td>\n",
              "      <td>Q13547</td>\n",
              "    </tr>\n",
              "    <tr>\n",
              "      <th>12884</th>\n",
              "      <td>RUVBL1</td>\n",
              "      <td>EP400</td>\n",
              "      <td>Q9Y265</td>\n",
              "      <td>Q96L91</td>\n",
              "    </tr>\n",
              "    <tr>\n",
              "      <th>12885</th>\n",
              "      <td>EP400</td>\n",
              "      <td>RUVBL1</td>\n",
              "      <td>Q96L91</td>\n",
              "      <td>Q9Y265</td>\n",
              "    </tr>\n",
              "    <tr>\n",
              "      <th>12886</th>\n",
              "      <td>MYC</td>\n",
              "      <td>RUVBL1</td>\n",
              "      <td>P01106</td>\n",
              "      <td>Q9Y265</td>\n",
              "    </tr>\n",
              "  </tbody>\n",
              "</table>\n",
              "<p>12887 rows × 4 columns</p>\n",
              "</div>"
            ],
            "text/plain": [
              "      interactor A gene symbol  interactor B gene symbol  \\\n",
              "0                       MAP2K4                      FLNC   \n",
              "1                         MYPN                     ACTN2   \n",
              "2                        ACVR1                      FNTA   \n",
              "3                        GATA2                       PML   \n",
              "4                         RPA2                     STAT3   \n",
              "...                        ...                       ...   \n",
              "12882                      RB1                     HDAC1   \n",
              "12883                    MYOD1                     HDAC1   \n",
              "12884                   RUVBL1                     EP400   \n",
              "12885                    EP400                    RUVBL1   \n",
              "12886                      MYC                    RUVBL1   \n",
              "\n",
              "      interactor A Uniprot AC interactor B Uniprot AC  \n",
              "0                      P45985                  Q14315  \n",
              "1                      Q86TC9                  P35609  \n",
              "2                      Q04771                  P49354  \n",
              "3                      P23769                  P29590  \n",
              "4                      P15927                  P40763  \n",
              "...                       ...                     ...  \n",
              "12882                  P06400                  Q13547  \n",
              "12883                  P15172                  Q13547  \n",
              "12884                  Q9Y265                  Q96L91  \n",
              "12885                  Q96L91                  Q9Y265  \n",
              "12886                  P01106                  Q9Y265  \n",
              "\n",
              "[12887 rows x 4 columns]"
            ]
          },
          "metadata": {
            "tags": []
          },
          "execution_count": 60
        }
      ]
    },
    {
      "cell_type": "markdown",
      "metadata": {
        "id": "EI2VCjlWqaJa"
      },
      "source": [
        "##Save interactome"
      ]
    },
    {
      "cell_type": "code",
      "metadata": {
        "id": "b9J0UnIOR0vF"
      },
      "source": [
        "#save inteactome disease csv\n",
        "filename = dataset_folder + '1.3/interactome.csv'\n",
        "all_proteins_interactions_df.to_csv(filename, sep='\\t',index=False)\n",
        "\n"
      ],
      "execution_count": null,
      "outputs": []
    },
    {
      "cell_type": "markdown",
      "metadata": {
        "id": "K_CU5LlSqhLb"
      },
      "source": [
        "#2 - Data Analysis"
      ]
    },
    {
      "cell_type": "code",
      "metadata": {
        "id": "ywbrVqV-qU3O"
      },
      "source": [
        "!pip install networkx  # to install package needed for the network"
      ],
      "execution_count": null,
      "outputs": []
    },
    {
      "cell_type": "code",
      "metadata": {
        "id": "6OHLCne-sVaG"
      },
      "source": [
        "import networkx as nx\n",
        "import matplotlib.pyplot as plt"
      ],
      "execution_count": null,
      "outputs": []
    },
    {
      "cell_type": "markdown",
      "metadata": {
        "id": "b9-iZcxismtM"
      },
      "source": [
        "### Build a network object from our data "
      ]
    },
    {
      "cell_type": "code",
      "metadata": {
        "id": "AbKA1e2rstNe"
      },
      "source": [
        "bio_graph = nx.Graph()  # create the empty grap object "
      ],
      "execution_count": null,
      "outputs": []
    },
    {
      "cell_type": "code",
      "metadata": {
        "id": "xgAZ0zbpud7P"
      },
      "source": [
        "links = all_proteins_interactions_df.iloc[:,:2].values# get all links \n",
        "edges = [tuple(link) for link in links ] # transform links in tuple for nx graph object "
      ],
      "execution_count": null,
      "outputs": []
    },
    {
      "cell_type": "code",
      "metadata": {
        "id": "bs7GTqzlvNxz"
      },
      "source": [
        "bio_graph.add_edges_from(edges)"
      ],
      "execution_count": null,
      "outputs": []
    },
    {
      "cell_type": "markdown",
      "metadata": {
        "id": "rhleg6u5wh--"
      },
      "source": [
        "### Visualize graph "
      ]
    },
    {
      "cell_type": "code",
      "metadata": {
        "id": "plTD9BEfySzP"
      },
      "source": [
        "nx.draw_networkx(bio_graph, \n",
        "                       with_labels=False,\n",
        "                       node_size=10,\n",
        "                       node_color=('b'), \n",
        "                       edge_color=('g'),\n",
        "                 \n",
        "\n",
        "                       )\n",
        "plt.show()"
      ],
      "execution_count": null,
      "outputs": []
    },
    {
      "cell_type": "markdown",
      "metadata": {
        "id": "PA4rfDFzTatP"
      },
      "source": [
        "##2.1 Main network measures"
      ]
    },
    {
      "cell_type": "markdown",
      "metadata": {
        "id": "_KF6_LYYqpH0"
      },
      "source": [
        "#### a - global measures"
      ]
    },
    {
      "cell_type": "code",
      "metadata": {
        "id": "m1Ky08d-USXN"
      },
      "source": [
        "avg_degree = sum(nx.average_neighbor_degree(bio_graph).values())/ nx.number_of_nodes(bio_graph)\n",
        "avg_clus_coef = nx.average_clustering(bio_graph)\n"
      ],
      "execution_count": null,
      "outputs": []
    },
    {
      "cell_type": "code",
      "metadata": {
        "id": "qn7ufVNYUW9M"
      },
      "source": [
        "avg_paths = []\n",
        "radiuses = []\n",
        "diameters = []\n",
        "for cc in nx.connected_components(bio_graph):\n",
        "  g = bio_graph.subgraph(cc)   \n",
        "  avg_paths.append(nx.average_shortest_path_length(g))\n",
        "  radiuses.append(nx.radius(g))\n",
        "  diameters.append(nx.diameter(g)) \n"
      ],
      "execution_count": null,
      "outputs": []
    },
    {
      "cell_type": "code",
      "metadata": {
        "id": "8UjjEsjOhfcf"
      },
      "source": [
        "avg_path_lengths = np.mean(avg_paths)\n",
        "radius = np.max(radiuses)\n",
        "diameter = np.max(diameters)"
      ],
      "execution_count": null,
      "outputs": []
    },
    {
      "cell_type": "code",
      "metadata": {
        "id": "y5jCiiEW2d13"
      },
      "source": [
        "print(f\"Number of nodes               : {nx.number_of_nodes(bio_graph)}\")\n",
        "print(f\"Number of Links               : {nx.number_of_edges(bio_graph)}\")\n",
        "print(f\"Number of connected components: {nx.number_connected_components(bio_graph)}\")\n",
        "print(f\"Number of isolated nodes      : {nx.number_of_isolates(bio_graph)}\")\n",
        "print(f\"Average path length           : {avg_path_lengths}\")\n",
        "print(f\"Average Degree                : {avg_degree}\")\n",
        "print(f\"Average custering coefficient : {avg_clus_coef}\")\n",
        "print(f\"Network radius                : {radius}\")\n",
        "print(f\"Network diameter              : {diameter}\")\n",
        "print(f\"Network centralization              : {'#TODO'}\")"
      ],
      "execution_count": null,
      "outputs": []
    },
    {
      "cell_type": "markdown",
      "metadata": {
        "id": "mfkQ3yHMqx2s"
      },
      "source": [
        "#### b- LCC Measures"
      ]
    },
    {
      "cell_type": "code",
      "metadata": {
        "id": "4CA71rRBtXcu"
      },
      "source": [
        "## LCC - Largest connected compoened \n",
        "bio_graph_lcc = max(nx.connected_components(bio_graph), key=len)\n",
        "bio_graph_lcc = bio_graph.subgraph(bio_graph_lcc)"
      ],
      "execution_count": null,
      "outputs": []
    },
    {
      "cell_type": "code",
      "metadata": {
        "id": "eCFfiWhhtiKn"
      },
      "source": [
        "nx.draw_networkx(bio_graph_lcc, \n",
        "                 with_labels=False,\n",
        "                 node_size=5,\n",
        "                 node_color=('b'), \n",
        "                 edge_color=('g')\n",
        ")\n",
        "plt.show()"
      ],
      "execution_count": null,
      "outputs": []
    },
    {
      "cell_type": "code",
      "metadata": {
        "id": "dD5zu_Huz_lp"
      },
      "source": [
        "#calculate newtork centralization and network degree\n",
        "degs = list(bio_graph_lcc.degree(bio_graph_lcc.nodes))\n",
        "vals=[]\n",
        "d = nx.density(bio_graph_lcc)\n",
        "for k,v in degs:\n",
        "    vals.append(v)\n",
        "mm=max(vals)\n",
        "num_n = float(len(bio_graph_lcc.nodes()))\n",
        "centralization = (num_n/(num_n-2))*(mm/(num_n-1)-d)\n",
        "avg_degree = sum(nx.average_neighbor_degree(bio_graph_lcc).values())/ nx.number_of_nodes(bio_graph_lcc)\n",
        "avg_path_lengths = nx.average_shortest_path_length(bio_graph_lcc)"
      ],
      "execution_count": null,
      "outputs": []
    },
    {
      "cell_type": "markdown",
      "metadata": {
        "id": "-DQnEoW-q232"
      },
      "source": [
        "##### i - Global Measures"
      ]
    },
    {
      "cell_type": "code",
      "metadata": {
        "id": "4V79HmUyrAMk"
      },
      "source": [
        "print(f\"Number of nodes               : {nx.number_of_nodes(bio_graph_lcc)}\")\n",
        "print(f\"Number of Links               : {nx.number_of_edges(bio_graph_lcc)}\")\n",
        "print(f\"Number of connected components: {nx.number_connected_components(bio_graph_lcc)}\")\n",
        "print(f\"Number of isolated nodes      : {nx.number_of_isolates(bio_graph_lcc)}\")\n",
        "print(f\"Average path length           : {avg_path_lengths}\")\n",
        "print(f\"Average Degree                : {avg_degree}\")\n",
        "print(f\"Average custering coefficient : {nx.average_clustering(bio_graph_lcc)}\")\n",
        "print(f\"Network radius                : {nx.radius(bio_graph_lcc)}\")\n",
        "print(f\"Network diameter              : {nx.diameter(bio_graph_lcc)}\")\n",
        "print(f\"Network centralization        : {centralization}\")"
      ],
      "execution_count": null,
      "outputs": []
    },
    {
      "cell_type": "markdown",
      "metadata": {
        "id": "RhQjKSoxq8pJ"
      },
      "source": [
        "##### ii - Local Measures"
      ]
    },
    {
      "cell_type": "markdown",
      "metadata": {
        "id": "yfaqZv2h2EvT"
      },
      "source": [
        " ###### Node degree\n",
        "\n"
      ]
    },
    {
      "cell_type": "code",
      "metadata": {
        "id": "0WAy777t2yaE"
      },
      "source": [
        "#Degree of each node in lcc graph\n",
        "g_degree = nx.degree(bio_graph_lcc)\n",
        "degree_df = pd.DataFrame(g_degree, columns=['Node','Degree'])\n",
        "#degree_df.head(10)"
      ],
      "execution_count": null,
      "outputs": []
    },
    {
      "cell_type": "markdown",
      "metadata": {
        "id": "gEjQUknL2fg6"
      },
      "source": [
        "###### Betweenness centrality"
      ]
    },
    {
      "cell_type": "code",
      "metadata": {
        "id": "-y3tSz073fS5"
      },
      "source": [
        "g_b_centrality = nx.betweenness_centrality(bio_graph_lcc)\n",
        "#g_b_centrality"
      ],
      "execution_count": null,
      "outputs": []
    },
    {
      "cell_type": "markdown",
      "metadata": {
        "id": "DkAAaV9m2FDJ"
      },
      "source": [
        "###### Eigenvector centrality\n"
      ]
    },
    {
      "cell_type": "code",
      "metadata": {
        "id": "YC4iurPf3tDM"
      },
      "source": [
        "g_e_centrality = nx.eigenvector_centrality(bio_graph_lcc)\n",
        "#g_e_centrality"
      ],
      "execution_count": null,
      "outputs": []
    },
    {
      "cell_type": "markdown",
      "metadata": {
        "id": "MIYRiTqM2FIb"
      },
      "source": [
        "###### Closeness centrality"
      ]
    },
    {
      "cell_type": "code",
      "metadata": {
        "id": "5VGI9JUE35bF"
      },
      "source": [
        "g_c_centrality = nx.closeness_centrality(bio_graph_lcc)\n",
        "#g_c_centrality"
      ],
      "execution_count": null,
      "outputs": []
    },
    {
      "cell_type": "markdown",
      "metadata": {
        "id": "iqG10Lc-NepF"
      },
      "source": [
        "##### Show all local measures"
      ]
    },
    {
      "cell_type": "code",
      "metadata": {
        "id": "4T9NbnN5I6yo"
      },
      "source": [
        "nodes = list(bio_graph_lcc.nodes)\n",
        "nodes_degree = list(degree_df['Degree'].values)\n",
        "b_centrality = list(g_b_centrality.values())\n",
        "e_centrality = list(g_e_centrality.values())\n",
        "c_centrality = list(g_c_centrality.values())\n"
      ],
      "execution_count": null,
      "outputs": []
    },
    {
      "cell_type": "markdown",
      "metadata": {
        "id": "LjleO4pz2FNn"
      },
      "source": [
        "###### Ratio Betweenness/Node degree"
      ]
    },
    {
      "cell_type": "code",
      "metadata": {
        "id": "K8_3EAsy4jLt"
      },
      "source": [
        "ratio_b_d = np.array(b_centrality)/np.array(nodes_degree)"
      ],
      "execution_count": null,
      "outputs": []
    },
    {
      "cell_type": "code",
      "metadata": {
        "id": "pD0anpG3LhVy"
      },
      "source": [
        "columns = ['nodes','Degree','Betweeness Centrality','Eigen centrality','closeness centrality','Ratio']\n",
        "data = [nodes,nodes_degree,b_centrality,e_centrality,c_centrality,ratio_b_d]\n",
        "data = np.array(data).T;\n",
        "df = pd.DataFrame(data, columns=columns)\n",
        "df.sort_values(by='Betweeness Centrality',ascending=False)\n",
        "df['Betweeness Centrality','Eigen centrality','closeness centrality','Ratio'] = df['Betweeness Centrality','Eigen centrality','closeness centrality','Ratio'].round(5)\n",
        "df.head(20)"
      ],
      "execution_count": null,
      "outputs": []
    },
    {
      "cell_type": "markdown",
      "metadata": {
        "id": "CYqG9QQ_N4kO"
      },
      "source": [
        "#### 2.2 Clustering methods for disease modules discover"
      ]
    },
    {
      "cell_type": "code",
      "metadata": {
        "id": "0HCpRWPcTFOa"
      },
      "source": [
        "!pip install markov_clustering[drawing]"
      ],
      "execution_count": null,
      "outputs": []
    },
    {
      "cell_type": "code",
      "metadata": {
        "id": "Fsa31IyFOAdb"
      },
      "source": [
        "import markov_clustering as mc"
      ],
      "execution_count": null,
      "outputs": []
    },
    {
      "cell_type": "code",
      "metadata": {
        "id": "W50wOtkgUjf2"
      },
      "source": [
        "#  get the adjacency matrix (in sparse form)\n",
        "matrix = nx.to_scipy_sparse_matrix(bio_graph)"
      ],
      "execution_count": null,
      "outputs": []
    },
    {
      "cell_type": "code",
      "metadata": {
        "id": "1nOPw9HHUor4"
      },
      "source": [
        "result = mc.run_mcl(matrix)           # run MCL with default parameters\n",
        "clusters = mc.get_clusters(result)   # each element in cluster is represented by internal ID number"
      ],
      "execution_count": null,
      "outputs": []
    },
    {
      "cell_type": "markdown",
      "metadata": {
        "id": "yf-CMLM_7-e2"
      },
      "source": [
        "###### clusters with at least 10 nodes"
      ]
    },
    {
      "cell_type": "code",
      "metadata": {
        "id": "A6H_TNmZU9u6"
      },
      "source": [
        "# we retrieve cluster with at least 10 elements \n",
        "above_10_clusters = [cluster for cluster in clusters if len(cluster)>=10]\n",
        "\n",
        "# We convert back the IDs to genes symbols\n",
        "nodes_list = list(bio_graph.nodes)\n",
        "symbols_clusters = [tuple([nodes_list[i] for i in cluster]) for cluster in above_10_clusters]"
      ],
      "execution_count": null,
      "outputs": []
    },
    {
      "cell_type": "markdown",
      "metadata": {
        "id": "cEOPqJwJ8RCC"
      },
      "source": [
        "#### hypergeometric test"
      ]
    },
    {
      "cell_type": "code",
      "metadata": {
        "id": "VldrTTHnKydC"
      },
      "source": [
        "import random\n",
        "from collections import Counter\n",
        "from scipy.stats import hypergeom\n"
      ],
      "execution_count": null,
      "outputs": []
    },
    {
      "cell_type": "code",
      "metadata": {
        "id": "vMWSdrBrNgEn"
      },
      "source": [
        "collection =  list(all_proteins_interactions_df.iloc[:,:2].values.flatten())\n",
        "collection_set = set(collection)"
      ],
      "execution_count": null,
      "outputs": []
    },
    {
      "cell_type": "code",
      "metadata": {
        "colab": {
          "base_uri": "https://localhost:8080/"
        },
        "id": "BLIdQTwbFkn3",
        "outputId": "d76ecdd9-e62b-436f-95a5-a68474ec4a69"
      },
      "source": [
        "N_seed_genes = n_seed_biogrid # number of seed genes in biogrid\n",
        "N_all_genes = len(genes_biogrid) # List can contain multiple time same gene, to show its probability\n",
        "N_non_seed_genes = N_all_genes - N_seed_genes\n",
        "prob_seed = N_seed_genes / N_all_genes\n",
        "prob_seed"
      ],
      "execution_count": null,
      "outputs": [
        {
          "output_type": "execute_result",
          "data": {
            "text/plain": [
              "0.004557054320087495"
            ]
          },
          "metadata": {
            "tags": []
          },
          "execution_count": 45
        }
      ]
    },
    {
      "cell_type": "code",
      "metadata": {
        "id": "1FGKaqQrK4cK"
      },
      "source": [
        "sample_size_max = 10"
      ],
      "execution_count": null,
      "outputs": []
    },
    {
      "cell_type": "code",
      "metadata": {
        "colab": {
          "base_uri": "https://localhost:8080/"
        },
        "id": "ob2E18wwM246",
        "outputId": "bee0c2cb-5d63-4744-d1c4-6d1ca1e26217"
      },
      "source": [
        "# We check the size of the sample needed to get p <0.05 for size between 0 and 10\n",
        "# using an hypergeometric test\n",
        "probs = {}\n",
        "hpd = hypergeom(N_all_genes,N_seed_genes,sample_size_max)\n",
        "for x in range(1,sample_size_max):\n",
        "  probs[x] = hpd.pmf(x)\n",
        "\n",
        "probs"
      ],
      "execution_count": null,
      "outputs": [
        {
          "output_type": "execute_result",
          "data": {
            "text/plain": [
              "{1: 0.043752861133658456,\n",
              " 2: 0.0008926497360273107,\n",
              " 3: 1.0682746302870106e-05,\n",
              " 4: 8.303856511132288e-08,\n",
              " 5: 4.38025674278221e-10,\n",
              " 6: 1.5877762155442661e-12,\n",
              " 7: 3.904869982719714e-15,\n",
              " 8: 6.234884197727557e-18,\n",
              " 9: 5.8356793296410964e-21}"
            ]
          },
          "metadata": {
            "tags": []
          },
          "execution_count": 47
        }
      ]
    },
    {
      "cell_type": "markdown",
      "metadata": {
        "id": "KqfVrG6TQcU3"
      },
      "source": [
        "With this we can say that the probability to get a least one seed gene in sample is lower than 0.05"
      ]
    },
    {
      "cell_type": "markdown",
      "metadata": {
        "id": "lgy-l_9xXpUS"
      },
      "source": [
        "#### Check cluster that contains the over represented Nodes"
      ]
    },
    {
      "cell_type": "code",
      "metadata": {
        "id": "YRrgvccqRGuu"
      },
      "source": [
        "putative_disease_modules = []\n",
        "#for each cluster \n",
        "for cluster in symbols_clusters:\n",
        "  #check if cluster contains seed genes\n",
        "  s = len(set(cluster).intersection(set(seed_genes_ids)))\n",
        "  if s > 0:\n",
        "    putative_disease_modules.append(cluster)\n",
        "\n",
        "#putative_disease_modules"
      ],
      "execution_count": null,
      "outputs": []
    },
    {
      "cell_type": "code",
      "metadata": {
        "id": "OnsjhRZATFQR"
      },
      "source": [
        "module_data = []\n",
        "columns = ['module ID', 'no.of seed genes in the module',\n",
        "           'total no. of genes in each module', 'seed gene IDs', 'all gene IDs in the module', 'p-value']\n",
        "for id,module in enumerate(putative_disease_modules):\n",
        "  module_id = f'MOD_{id}'\n",
        "  n_seed_gene = len(set(module).intersection(set(seed_genes_ids)))\n",
        "  module_size = len(module)\n",
        "  seed_genes = ','.join(set(module).intersection(set(seed_genes_ids)))\n",
        "  all_genes = ','.join(module)\n",
        "  p_value = hypergeom(N_all_genes,N_seed_genes,module_size).pmf(n_seed_gene)\n",
        "\n",
        "  module_data.append([module_id,n_seed_gene,module_size,seed_genes,all_genes,p_value])\n",
        "\n",
        "  "
      ],
      "execution_count": null,
      "outputs": []
    },
    {
      "cell_type": "code",
      "metadata": {
        "colab": {
          "base_uri": "https://localhost:8080/",
          "height": 275
        },
        "id": "DhNRUbj5WD8r",
        "outputId": "1e7eac0d-dfae-43f4-bc7a-a008ef1bc3fe"
      },
      "source": [
        "moduledf = pd.DataFrame(module_data,columns=columns)\n",
        "moduledf"
      ],
      "execution_count": null,
      "outputs": [
        {
          "output_type": "execute_result",
          "data": {
            "text/html": [
              "<div>\n",
              "<style scoped>\n",
              "    .dataframe tbody tr th:only-of-type {\n",
              "        vertical-align: middle;\n",
              "    }\n",
              "\n",
              "    .dataframe tbody tr th {\n",
              "        vertical-align: top;\n",
              "    }\n",
              "\n",
              "    .dataframe thead th {\n",
              "        text-align: right;\n",
              "    }\n",
              "</style>\n",
              "<table border=\"1\" class=\"dataframe\">\n",
              "  <thead>\n",
              "    <tr style=\"text-align: right;\">\n",
              "      <th></th>\n",
              "      <th>module ID</th>\n",
              "      <th>no.of seed genes in the module</th>\n",
              "      <th>total no. of genes in each module</th>\n",
              "      <th>seed gene IDs</th>\n",
              "      <th>all gene IDs in the module</th>\n",
              "      <th>p-value</th>\n",
              "    </tr>\n",
              "  </thead>\n",
              "  <tbody>\n",
              "    <tr>\n",
              "      <th>0</th>\n",
              "      <td>MOD_0</td>\n",
              "      <td>1</td>\n",
              "      <td>54</td>\n",
              "      <td>SIPA1L1</td>\n",
              "      <td>SFN,CDC42EP1,FAM189A2,BAG3,CHST1,MAPKAP1,IRS2,...</td>\n",
              "      <td>0.193585</td>\n",
              "    </tr>\n",
              "    <tr>\n",
              "      <th>1</th>\n",
              "      <td>MOD_1</td>\n",
              "      <td>1</td>\n",
              "      <td>50</td>\n",
              "      <td>KCNMB1</td>\n",
              "      <td>FASN,EWSR1,ZDHHC3,MYL6,NUDT21,SLC22A24,MVK,PGL...</td>\n",
              "      <td>0.182524</td>\n",
              "    </tr>\n",
              "    <tr>\n",
              "      <th>2</th>\n",
              "      <td>MOD_2</td>\n",
              "      <td>1</td>\n",
              "      <td>26</td>\n",
              "      <td>TNF</td>\n",
              "      <td>TRAIP,FLII,TRAF1,HIVEP3,TRAF2,TNFRSF25,TRADD,F...</td>\n",
              "      <td>0.105812</td>\n",
              "    </tr>\n",
              "    <tr>\n",
              "      <th>3</th>\n",
              "      <td>MOD_3</td>\n",
              "      <td>1</td>\n",
              "      <td>14</td>\n",
              "      <td>MYO1B</td>\n",
              "      <td>EIF4A1,AKAP17A,EIF4E,EIF4A2,PDCD4,MYO1B,EIF4G3...</td>\n",
              "      <td>0.060156</td>\n",
              "    </tr>\n",
              "    <tr>\n",
              "      <th>4</th>\n",
              "      <td>MOD_4</td>\n",
              "      <td>1</td>\n",
              "      <td>51</td>\n",
              "      <td>VIM</td>\n",
              "      <td>KIAA0408,CCDC85B,CEP70,VIM,KANSL1,ZBTB43,ZC2HC...</td>\n",
              "      <td>0.185333</td>\n",
              "    </tr>\n",
              "    <tr>\n",
              "      <th>5</th>\n",
              "      <td>MOD_5</td>\n",
              "      <td>1</td>\n",
              "      <td>30</td>\n",
              "      <td>NDUFB9</td>\n",
              "      <td>MAGEA11,MGME1,ENOX1,DNAJC10,MXD3,COX7A2L,ACTN1...</td>\n",
              "      <td>0.119900</td>\n",
              "    </tr>\n",
              "    <tr>\n",
              "      <th>6</th>\n",
              "      <td>MOD_6</td>\n",
              "      <td>1</td>\n",
              "      <td>10</td>\n",
              "      <td>TPM4</td>\n",
              "      <td>SF3A3,TCERG1,RNU2-1,RNU1-4,PRPF40A,SF3A1,DNAJB...</td>\n",
              "      <td>0.043753</td>\n",
              "    </tr>\n",
              "  </tbody>\n",
              "</table>\n",
              "</div>"
            ],
            "text/plain": [
              "  module ID  no.of seed genes in the module  \\\n",
              "0     MOD_0                               1   \n",
              "1     MOD_1                               1   \n",
              "2     MOD_2                               1   \n",
              "3     MOD_3                               1   \n",
              "4     MOD_4                               1   \n",
              "5     MOD_5                               1   \n",
              "6     MOD_6                               1   \n",
              "\n",
              "   total no. of genes in each module seed gene IDs  \\\n",
              "0                                 54       SIPA1L1   \n",
              "1                                 50        KCNMB1   \n",
              "2                                 26           TNF   \n",
              "3                                 14         MYO1B   \n",
              "4                                 51           VIM   \n",
              "5                                 30        NDUFB9   \n",
              "6                                 10          TPM4   \n",
              "\n",
              "                          all gene IDs in the module   p-value  \n",
              "0  SFN,CDC42EP1,FAM189A2,BAG3,CHST1,MAPKAP1,IRS2,...  0.193585  \n",
              "1  FASN,EWSR1,ZDHHC3,MYL6,NUDT21,SLC22A24,MVK,PGL...  0.182524  \n",
              "2  TRAIP,FLII,TRAF1,HIVEP3,TRAF2,TNFRSF25,TRADD,F...  0.105812  \n",
              "3  EIF4A1,AKAP17A,EIF4E,EIF4A2,PDCD4,MYO1B,EIF4G3...  0.060156  \n",
              "4  KIAA0408,CCDC85B,CEP70,VIM,KANSL1,ZBTB43,ZC2HC...  0.185333  \n",
              "5  MAGEA11,MGME1,ENOX1,DNAJC10,MXD3,COX7A2L,ACTN1...  0.119900  \n",
              "6  SF3A3,TCERG1,RNU2-1,RNU1-4,PRPF40A,SF3A1,DNAJB...  0.043753  "
            ]
          },
          "metadata": {
            "tags": []
          },
          "execution_count": 50
        }
      ]
    },
    {
      "cell_type": "code",
      "metadata": {
        "id": "OV5cejebz_lv"
      },
      "source": [
        "moduledf.to_csv('dataset/2.2/modules.csv')"
      ],
      "execution_count": null,
      "outputs": []
    },
    {
      "cell_type": "markdown",
      "metadata": {
        "id": "zeStNopiz_lw"
      },
      "source": [
        "# DIAMOnD\n",
        "\n",
        "data preparation for diamond analysis"
      ]
    },
    {
      "cell_type": "code",
      "metadata": {
        "id": "cXXgKnxoz_lw"
      },
      "source": [
        "df = all_proteins_interactions_df[['interactor A gene symbol',' interactor B gene symbol']]\n",
        "df.to_csv(r'dataset/2.4/DIAMOnD/iip.txt', header=None, index=None, sep=' ', mode='a')\n",
        "df_seed_genes = pd.DataFrame(seed_genes_ids)\n",
        "df_seed_genes.to_csv(r'dataset/2.4/DIAMOnD/seed_genes.txt', header=None, index=None, sep=' ', mode='a')"
      ],
      "execution_count": null,
      "outputs": []
    },
    {
      "cell_type": "code",
      "metadata": {
        "id": "J3kGygfFz_lw"
      },
      "source": [
        "#get only genes for enrichr analysis"
      ],
      "execution_count": null,
      "outputs": []
    },
    {
      "cell_type": "code",
      "metadata": {
        "id": "SwTMMD5Ez_lw"
      },
      "source": [
        "result_diamond = pd.read_csv('dataset/2.4/DIAMOnD/first_200_added_nodes_weight_1.txt', sep='\\t')"
      ],
      "execution_count": null,
      "outputs": []
    },
    {
      "cell_type": "code",
      "metadata": {
        "id": "EbKa6Ojdz_lw"
      },
      "source": [
        "result_diamond.to_csv('dataset/2.4/DIAMOnD/result_diamond.csv')"
      ],
      "execution_count": null,
      "outputs": []
    }
  ]
}