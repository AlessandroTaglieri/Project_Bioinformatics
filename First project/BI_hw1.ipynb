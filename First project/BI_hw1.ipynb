{
  "nbformat": 4,
  "nbformat_minor": 0,
  "metadata": {
    "kernelspec": {
      "display_name": "Python 3",
      "language": "python",
      "name": "python3"
    },
    "language_info": {
      "codemirror_mode": {
        "name": "ipython",
        "version": 3
      },
      "file_extension": ".py",
      "mimetype": "text/x-python",
      "name": "python",
      "nbconvert_exporter": "python",
      "pygments_lexer": "ipython3",
      "version": "3.7.9"
    },
    "colab": {
      "name": "BI_hw1.ipynb",
      "provenance": [],
      "include_colab_link": true
    }
  },
  "cells": [
    {
      "cell_type": "markdown",
      "metadata": {
        "id": "view-in-github",
        "colab_type": "text"
      },
      "source": [
        "<a href=\"https://colab.research.google.com/github/AlessandroTaglieri/Project_Bioinformatics/blob/main/First%20project/BI_hw1.ipynb\" target=\"_parent\"><img src=\"https://colab.research.google.com/assets/colab-badge.svg\" alt=\"Open In Colab\"/></a>"
      ]
    },
    {
      "cell_type": "code",
      "metadata": {
        "colab": {
          "base_uri": "https://localhost:8080/"
        },
        "id": "Wl57nROYOHl2",
        "outputId": "60f63e2a-a183-4394-84ed-cde9be6f9fb6"
      },
      "source": [
        "from google.colab import drive\n",
        "drive.mount('/content/drive')"
      ],
      "execution_count": 1,
      "outputs": [
        {
          "output_type": "stream",
          "text": [
            "Mounted at /content/drive\n"
          ],
          "name": "stdout"
        }
      ]
    },
    {
      "cell_type": "code",
      "metadata": {
        "id": "alx8FV2wNvpf"
      },
      "source": [
        "#import libraries\n",
        "import pandas as pd\n",
        "import os\n",
        "import numpy as np\n",
        "import collections"
      ],
      "execution_count": 55,
      "outputs": []
    },
    {
      "cell_type": "code",
      "metadata": {
        "id": "DZFUTIgrOdVR"
      },
      "source": [
        "project_folder ='/content/drive/MyDrive/BioinfoProject/Project_Bioinformatics/First_project/'"
      ],
      "execution_count": 5,
      "outputs": []
    },
    {
      "cell_type": "code",
      "metadata": {
        "id": "I5uthtmDO--E"
      },
      "source": [
        "dataset_folder = os.path.join(project_folder,'dataset/')"
      ],
      "execution_count": 6,
      "outputs": []
    },
    {
      "cell_type": "markdown",
      "metadata": {
        "id": "Qmi-z0dbNvpg"
      },
      "source": [
        "# 1.1"
      ]
    },
    {
      "cell_type": "code",
      "metadata": {
        "id": "qEGJ9Cf8Nvpg"
      },
      "source": [
        "#download curated gene-diesase associtaions from https://www.disgenet.org/downloads and covnert tsv in csv\n",
        "\n",
        "data = pd.read_csv(dataset_folder+ '1.1/curated_gene_disease_associations.csv')\n",
        "#get only data for intereted gene id C0043094\n",
        "gene_disease = data.loc[data['diseaseId'] == 'C0043094']\n",
        "\n",
        "#get list og gene symbols\n",
        "list_geneSymbol = gene_disease['geneSymbol']\n",
        "\n",
        "\n",
        "#download hgnc dataset from https://www.genenames.org/download/statistics-and-files/\n",
        "hgnc = pd.read_csv(dataset_folder+ \"1.1/hgnc_complete_set.txt\", sep='\\t', dtype = 'unicode')\n",
        "\n",
        "#get data (symbol,name,entrez_id,unirpot_idasdn status) for only genes stored in previous list\n",
        "genes_diseases_hgnc = hgnc.loc[hgnc['symbol'].isin(list_geneSymbol)][['symbol','name','entrez_id','uniprot_ids','status']]\n",
        "\n",
        "#get only approved data\n",
        "genes_diseases_hgnc_app = genes_diseases_hgnc.loc[genes_diseases_hgnc['status']=='Approved']\n",
        "\n",
        "\n",
        "#get list ofuniprotidthat we'll useto find gene descriptionin Uniprot\n",
        "list_uniprotID = genes_diseases_hgnc_app['uniprot_ids']\n",
        "\n",
        "#write in a file alll uniprot ids. This is necessary because we'll download only necessary description for these genes from uniprot \n",
        "with open(dataset_folder+ '1.1/uniprot_ids.txt', 'w') as f:\n",
        "    for item in list_uniprotID:\n",
        "        f.write(\"%s\\n\" % item)\n",
        "    f.close()\n",
        "\n",
        "#download data containing description for every gene. We used txt file for download them\n",
        "gene_description = pd.read_csv(dataset_folder+ '1.1/uniprot-yourlist%3AM20201123A94466D2655679D1FD8953E075198DA817123DO.csv')\n",
        "\n",
        "#rename column for the function of the gene\n",
        "gene_description=gene_description.rename(columns={\"yourlist:M20201123A94466D2655679D1FD8953E075198DA817123DO\":\"uniprot_ids\"})\n",
        "\n",
        "#merge two dataset. One containing all info about gene and the second one conatining description about their functions\n",
        "final_genes_deseas = pd.merge(gene_description, genes_diseases_hgnc_app, on='uniprot_ids')\n",
        "#rename column\n",
        "final_genes_deseas=final_genes_deseas.rename(columns={\"Function [CC]\":\"function\"})\n",
        "#get only first part of gene description\n",
        "final_genes_deseas['Description']= final_genes_deseas.function.str[10:150]\n",
        "#delete not necessary columns\n",
        "final_genes_deseas = final_genes_deseas.drop(['function','Entry','status'], axis = 1) \n",
        "final_genes_deseas = final_genes_deseas[['symbol','uniprot_ids','name','entrez_id','Description']]"
      ],
      "execution_count": 8,
      "outputs": []
    },
    {
      "cell_type": "code",
      "metadata": {
        "colab": {
          "base_uri": "https://localhost:8080/"
        },
        "id": "gwWXURdMTK5S",
        "outputId": "98a92738-c95a-4790-ffed-c75738617ac7"
      },
      "source": [
        "final_genes_deseas.shape"
      ],
      "execution_count": 80,
      "outputs": [
        {
          "output_type": "execute_result",
          "data": {
            "text/plain": [
              "(102, 5)"
            ]
          },
          "metadata": {
            "tags": []
          },
          "execution_count": 80
        }
      ]
    },
    {
      "cell_type": "code",
      "metadata": {
        "id": "TAO1bw4ONvpg"
      },
      "source": [
        "#fix column names and save xlsx file\n",
        "final_genes_deseas.rename(columns={\"symbol\":\"Gene symbol\",\"uniprot_ids\":\"Uniprot AC\",\"name\":'Protein name','entrez_id':\"Entrez Gene ID\"})\n",
        "final_genes_deseas.to_excel(dataset_folder+ '1.1/1.1-gene_deseas_associations.xlsx')\n",
        "final_genes_deseas.to_csv(dataset_folder+ '1.1/1.1-gene_deseas_associations.csv')"
      ],
      "execution_count": 10,
      "outputs": []
    },
    {
      "cell_type": "code",
      "metadata": {
        "colab": {
          "base_uri": "https://localhost:8080/",
          "height": 391
        },
        "id": "9FVmghYoQdJR",
        "outputId": "d721742f-1284-4850-d3b3-670d18478156"
      },
      "source": [
        "final_genes_deseas"
      ],
      "execution_count": 11,
      "outputs": [
        {
          "output_type": "execute_result",
          "data": {
            "text/html": [
              "<div>\n",
              "<style scoped>\n",
              "    .dataframe tbody tr th:only-of-type {\n",
              "        vertical-align: middle;\n",
              "    }\n",
              "\n",
              "    .dataframe tbody tr th {\n",
              "        vertical-align: top;\n",
              "    }\n",
              "\n",
              "    .dataframe thead th {\n",
              "        text-align: right;\n",
              "    }\n",
              "</style>\n",
              "<table border=\"1\" class=\"dataframe\">\n",
              "  <thead>\n",
              "    <tr style=\"text-align: right;\">\n",
              "      <th></th>\n",
              "      <th>symbol</th>\n",
              "      <th>uniprot_ids</th>\n",
              "      <th>name</th>\n",
              "      <th>entrez_id</th>\n",
              "      <th>Description</th>\n",
              "    </tr>\n",
              "  </thead>\n",
              "  <tbody>\n",
              "    <tr>\n",
              "      <th>0</th>\n",
              "      <td>ABCG1</td>\n",
              "      <td>P45844</td>\n",
              "      <td>ATP binding cassette subfamily G member 1</td>\n",
              "      <td>9619</td>\n",
              "      <td>Catalyzes the efflux of phospholipids such as ...</td>\n",
              "    </tr>\n",
              "    <tr>\n",
              "      <th>1</th>\n",
              "      <td>ACADM</td>\n",
              "      <td>P11310</td>\n",
              "      <td>acyl-CoA dehydrogenase medium chain</td>\n",
              "      <td>34</td>\n",
              "      <td>Acyl-CoA dehydrogenase specific for acyl chain...</td>\n",
              "    </tr>\n",
              "    <tr>\n",
              "      <th>2</th>\n",
              "      <td>ACE</td>\n",
              "      <td>P12821</td>\n",
              "      <td>angiotensin I converting enzyme</td>\n",
              "      <td>1636</td>\n",
              "      <td>Converts angiotensin I to angiotensin II by re...</td>\n",
              "    </tr>\n",
              "    <tr>\n",
              "      <th>3</th>\n",
              "      <td>ADIPOQ</td>\n",
              "      <td>Q15848</td>\n",
              "      <td>adiponectin, C1Q and collagen domain containing</td>\n",
              "      <td>9370</td>\n",
              "      <td>Important adipokine involved in the control of...</td>\n",
              "    </tr>\n",
              "    <tr>\n",
              "      <th>4</th>\n",
              "      <td>AHR</td>\n",
              "      <td>P35869</td>\n",
              "      <td>aryl hydrocarbon receptor</td>\n",
              "      <td>196</td>\n",
              "      <td>Ligand-activated transcriptional activator. Bi...</td>\n",
              "    </tr>\n",
              "    <tr>\n",
              "      <th>...</th>\n",
              "      <td>...</td>\n",
              "      <td>...</td>\n",
              "      <td>...</td>\n",
              "      <td>...</td>\n",
              "      <td>...</td>\n",
              "    </tr>\n",
              "    <tr>\n",
              "      <th>97</th>\n",
              "      <td>TSEN2</td>\n",
              "      <td>Q8NCE0</td>\n",
              "      <td>tRNA splicing endonuclease subunit 2</td>\n",
              "      <td>80746</td>\n",
              "      <td>Constitutes one of the two catalytic subunit o...</td>\n",
              "    </tr>\n",
              "    <tr>\n",
              "      <th>98</th>\n",
              "      <td>VIM</td>\n",
              "      <td>P08670</td>\n",
              "      <td>vimentin</td>\n",
              "      <td>7431</td>\n",
              "      <td>Vimentins are class-III intermediate filaments...</td>\n",
              "    </tr>\n",
              "    <tr>\n",
              "      <th>99</th>\n",
              "      <td>VPS13D</td>\n",
              "      <td>Q5THJ4</td>\n",
              "      <td>vacuolar protein sorting 13 homolog D</td>\n",
              "      <td>55187</td>\n",
              "      <td>Functions in promoting mitochondrial clearance...</td>\n",
              "    </tr>\n",
              "    <tr>\n",
              "      <th>100</th>\n",
              "      <td>ZDHHC2</td>\n",
              "      <td>Q9UIJ5</td>\n",
              "      <td>zinc finger DHHC-type palmitoyltransferase 2</td>\n",
              "      <td>51201</td>\n",
              "      <td>Palmitoyltransferase that catalyzes the additi...</td>\n",
              "    </tr>\n",
              "    <tr>\n",
              "      <th>101</th>\n",
              "      <td>ZWILCH</td>\n",
              "      <td>Q9H900</td>\n",
              "      <td>zwilch kinetochore protein</td>\n",
              "      <td>55055</td>\n",
              "      <td>Essential component of the mitotic checkpoint,...</td>\n",
              "    </tr>\n",
              "  </tbody>\n",
              "</table>\n",
              "<p>102 rows × 5 columns</p>\n",
              "</div>"
            ],
            "text/plain": [
              "     symbol  ...                                        Description\n",
              "0     ABCG1  ...  Catalyzes the efflux of phospholipids such as ...\n",
              "1     ACADM  ...  Acyl-CoA dehydrogenase specific for acyl chain...\n",
              "2       ACE  ...  Converts angiotensin I to angiotensin II by re...\n",
              "3    ADIPOQ  ...  Important adipokine involved in the control of...\n",
              "4       AHR  ...  Ligand-activated transcriptional activator. Bi...\n",
              "..      ...  ...                                                ...\n",
              "97    TSEN2  ...  Constitutes one of the two catalytic subunit o...\n",
              "98      VIM  ...  Vimentins are class-III intermediate filaments...\n",
              "99   VPS13D  ...  Functions in promoting mitochondrial clearance...\n",
              "100  ZDHHC2  ...  Palmitoyltransferase that catalyzes the additi...\n",
              "101  ZWILCH  ...  Essential component of the mitotic checkpoint,...\n",
              "\n",
              "[102 rows x 5 columns]"
            ]
          },
          "metadata": {
            "tags": []
          },
          "execution_count": 11
        }
      ]
    },
    {
      "cell_type": "markdown",
      "metadata": {
        "id": "QwICM-22Nvpg"
      },
      "source": [
        "# 1.2"
      ]
    },
    {
      "cell_type": "markdown",
      "metadata": {
        "id": "_NEfYc7Z2cGQ"
      },
      "source": [
        "# Get biogrid data"
      ]
    },
    {
      "cell_type": "code",
      "metadata": {
        "colab": {
          "base_uri": "https://localhost:8080/"
        },
        "id": "FC5W8m2kNvpg",
        "outputId": "0ae3186c-a091-4363-baf8-6bc6aaa0ddce"
      },
      "source": [
        "#read biogrid dataset\n",
        "biogrid_datafile = dataset_folder+'1.2/BIOGRID-ORGANISM-Homo_sapiens-4.2.191.tab3.txt'\n",
        "biogrid_data = pd.read_csv(biogrid_datafile,sep='\\t')\n",
        "#biogrid_data.info()"
      ],
      "execution_count": 34,
      "outputs": [
        {
          "output_type": "stream",
          "text": [
            "/usr/local/lib/python3.6/dist-packages/IPython/core/interactiveshell.py:2718: DtypeWarning: Columns (1,18) have mixed types.Specify dtype option on import or set low_memory=False.\n",
            "  interactivity=interactivity, compiler=compiler, result=result)\n"
          ],
          "name": "stderr"
        }
      ]
    },
    {
      "cell_type": "code",
      "metadata": {
        "colab": {
          "base_uri": "https://localhost:8080/",
          "height": 373
        },
        "id": "5YHuXbx3RLid",
        "outputId": "6d822183-10a3-407e-dfb5-8462847b5869"
      },
      "source": [
        "biogrid_data.head(5)"
      ],
      "execution_count": 128,
      "outputs": [
        {
          "output_type": "execute_result",
          "data": {
            "text/html": [
              "<div>\n",
              "<style scoped>\n",
              "    .dataframe tbody tr th:only-of-type {\n",
              "        vertical-align: middle;\n",
              "    }\n",
              "\n",
              "    .dataframe tbody tr th {\n",
              "        vertical-align: top;\n",
              "    }\n",
              "\n",
              "    .dataframe thead th {\n",
              "        text-align: right;\n",
              "    }\n",
              "</style>\n",
              "<table border=\"1\" class=\"dataframe\">\n",
              "  <thead>\n",
              "    <tr style=\"text-align: right;\">\n",
              "      <th></th>\n",
              "      <th>#BioGRID Interaction ID</th>\n",
              "      <th>Entrez Gene Interactor A</th>\n",
              "      <th>Entrez Gene Interactor B</th>\n",
              "      <th>BioGRID ID Interactor A</th>\n",
              "      <th>BioGRID ID Interactor B</th>\n",
              "      <th>Systematic Name Interactor A</th>\n",
              "      <th>Systematic Name Interactor B</th>\n",
              "      <th>Official Symbol Interactor A</th>\n",
              "      <th>Official Symbol Interactor B</th>\n",
              "      <th>Synonyms Interactor A</th>\n",
              "      <th>Synonyms Interactor B</th>\n",
              "      <th>Experimental System</th>\n",
              "      <th>Experimental System Type</th>\n",
              "      <th>Author</th>\n",
              "      <th>Publication Source</th>\n",
              "      <th>Organism ID Interactor A</th>\n",
              "      <th>Organism ID Interactor B</th>\n",
              "      <th>Throughput</th>\n",
              "      <th>Score</th>\n",
              "      <th>Modification</th>\n",
              "      <th>Qualifications</th>\n",
              "      <th>Tags</th>\n",
              "      <th>Source Database</th>\n",
              "      <th>SWISS-PROT Accessions Interactor A</th>\n",
              "      <th>TREMBL Accessions Interactor A</th>\n",
              "      <th>REFSEQ Accessions Interactor A</th>\n",
              "      <th>SWISS-PROT Accessions Interactor B</th>\n",
              "      <th>TREMBL Accessions Interactor B</th>\n",
              "      <th>REFSEQ Accessions Interactor B</th>\n",
              "      <th>Ontology Term IDs</th>\n",
              "      <th>Ontology Term Names</th>\n",
              "      <th>Ontology Term Categories</th>\n",
              "      <th>Ontology Term Qualifier IDs</th>\n",
              "      <th>Ontology Term Qualifier Names</th>\n",
              "      <th>Ontology Term Types</th>\n",
              "      <th>Organism Name Interactor A</th>\n",
              "      <th>Organism Name Interactor B</th>\n",
              "    </tr>\n",
              "  </thead>\n",
              "  <tbody>\n",
              "    <tr>\n",
              "      <th>0</th>\n",
              "      <td>103</td>\n",
              "      <td>6416</td>\n",
              "      <td>2318</td>\n",
              "      <td>112315</td>\n",
              "      <td>108607</td>\n",
              "      <td>-</td>\n",
              "      <td>-</td>\n",
              "      <td>MAP2K4</td>\n",
              "      <td>FLNC</td>\n",
              "      <td>JNKK|JNKK1|MAPKK4|MEK4|MKK4|PRKMK4|SAPKK-1|SAP...</td>\n",
              "      <td>ABP-280|ABP280A|ABPA|ABPL|FLN2|MFM5|MPD4</td>\n",
              "      <td>Two-hybrid</td>\n",
              "      <td>physical</td>\n",
              "      <td>Marti A (1997)</td>\n",
              "      <td>PUBMED:9006895</td>\n",
              "      <td>9606</td>\n",
              "      <td>9606</td>\n",
              "      <td>Low Throughput</td>\n",
              "      <td>-</td>\n",
              "      <td>-</td>\n",
              "      <td>-</td>\n",
              "      <td>-</td>\n",
              "      <td>BIOGRID</td>\n",
              "      <td>P45985</td>\n",
              "      <td>-</td>\n",
              "      <td>NP_003001|NP_001268364</td>\n",
              "      <td>Q14315</td>\n",
              "      <td>Q59H94</td>\n",
              "      <td>NP_001120959|NP_001449</td>\n",
              "      <td>-</td>\n",
              "      <td>-</td>\n",
              "      <td>-</td>\n",
              "      <td>-</td>\n",
              "      <td>-</td>\n",
              "      <td>-</td>\n",
              "      <td>Homo sapiens</td>\n",
              "      <td>Homo sapiens</td>\n",
              "    </tr>\n",
              "    <tr>\n",
              "      <th>1</th>\n",
              "      <td>117</td>\n",
              "      <td>84665</td>\n",
              "      <td>88</td>\n",
              "      <td>124185</td>\n",
              "      <td>106603</td>\n",
              "      <td>-</td>\n",
              "      <td>-</td>\n",
              "      <td>MYPN</td>\n",
              "      <td>ACTN2</td>\n",
              "      <td>CMD1DD|CMH22|MYOP|RCM4</td>\n",
              "      <td>CMD1AA</td>\n",
              "      <td>Two-hybrid</td>\n",
              "      <td>physical</td>\n",
              "      <td>Bang ML (2001)</td>\n",
              "      <td>PUBMED:11309420</td>\n",
              "      <td>9606</td>\n",
              "      <td>9606</td>\n",
              "      <td>Low Throughput</td>\n",
              "      <td>-</td>\n",
              "      <td>-</td>\n",
              "      <td>-</td>\n",
              "      <td>-</td>\n",
              "      <td>BIOGRID</td>\n",
              "      <td>Q86TC9</td>\n",
              "      <td>A0A087WX60</td>\n",
              "      <td>NP_001243197|NP_001243196|NP_115967</td>\n",
              "      <td>P35609</td>\n",
              "      <td>Q59FD9|F6THM6</td>\n",
              "      <td>NP_001094|NP_001265272|NP_001265273</td>\n",
              "      <td>-</td>\n",
              "      <td>-</td>\n",
              "      <td>-</td>\n",
              "      <td>-</td>\n",
              "      <td>-</td>\n",
              "      <td>-</td>\n",
              "      <td>Homo sapiens</td>\n",
              "      <td>Homo sapiens</td>\n",
              "    </tr>\n",
              "    <tr>\n",
              "      <th>2</th>\n",
              "      <td>183</td>\n",
              "      <td>90</td>\n",
              "      <td>2339</td>\n",
              "      <td>106605</td>\n",
              "      <td>108625</td>\n",
              "      <td>-</td>\n",
              "      <td>-</td>\n",
              "      <td>ACVR1</td>\n",
              "      <td>FNTA</td>\n",
              "      <td>ACTRI|ACVR1A|ACVRLK2|ALK2|FOP|SKR1|TSRI</td>\n",
              "      <td>FPTA|PGGT1A|PTAR2</td>\n",
              "      <td>Two-hybrid</td>\n",
              "      <td>physical</td>\n",
              "      <td>Wang T (1996)</td>\n",
              "      <td>PUBMED:8599089</td>\n",
              "      <td>9606</td>\n",
              "      <td>9606</td>\n",
              "      <td>Low Throughput</td>\n",
              "      <td>-</td>\n",
              "      <td>-</td>\n",
              "      <td>-</td>\n",
              "      <td>-</td>\n",
              "      <td>BIOGRID</td>\n",
              "      <td>Q04771</td>\n",
              "      <td>D3DPA4</td>\n",
              "      <td>NP_001104537|NP_001096</td>\n",
              "      <td>P49354</td>\n",
              "      <td>-</td>\n",
              "      <td>NP_002018</td>\n",
              "      <td>-</td>\n",
              "      <td>-</td>\n",
              "      <td>-</td>\n",
              "      <td>-</td>\n",
              "      <td>-</td>\n",
              "      <td>-</td>\n",
              "      <td>Homo sapiens</td>\n",
              "      <td>Homo sapiens</td>\n",
              "    </tr>\n",
              "    <tr>\n",
              "      <th>3</th>\n",
              "      <td>278</td>\n",
              "      <td>2624</td>\n",
              "      <td>5371</td>\n",
              "      <td>108894</td>\n",
              "      <td>111384</td>\n",
              "      <td>-</td>\n",
              "      <td>-</td>\n",
              "      <td>GATA2</td>\n",
              "      <td>PML</td>\n",
              "      <td>DCML|IMD21|MONOMAC|NFE1B</td>\n",
              "      <td>MYL|PP8675|RNF71|TRIM19</td>\n",
              "      <td>Two-hybrid</td>\n",
              "      <td>physical</td>\n",
              "      <td>Tsuzuki S (2000)</td>\n",
              "      <td>PUBMED:10938104</td>\n",
              "      <td>9606</td>\n",
              "      <td>9606</td>\n",
              "      <td>Low Throughput</td>\n",
              "      <td>-</td>\n",
              "      <td>-</td>\n",
              "      <td>-</td>\n",
              "      <td>-</td>\n",
              "      <td>BIOGRID</td>\n",
              "      <td>P23769</td>\n",
              "      <td>-</td>\n",
              "      <td>NP_001139134|NP_116027|NP_001139133</td>\n",
              "      <td>P29590</td>\n",
              "      <td>-</td>\n",
              "      <td>NP_150250|NP_150253|NP_150252|NP_150247|NP_150...</td>\n",
              "      <td>-</td>\n",
              "      <td>-</td>\n",
              "      <td>-</td>\n",
              "      <td>-</td>\n",
              "      <td>-</td>\n",
              "      <td>-</td>\n",
              "      <td>Homo sapiens</td>\n",
              "      <td>Homo sapiens</td>\n",
              "    </tr>\n",
              "    <tr>\n",
              "      <th>4</th>\n",
              "      <td>418</td>\n",
              "      <td>6118</td>\n",
              "      <td>6774</td>\n",
              "      <td>112038</td>\n",
              "      <td>112651</td>\n",
              "      <td>RP4-547C9.3</td>\n",
              "      <td>-</td>\n",
              "      <td>RPA2</td>\n",
              "      <td>STAT3</td>\n",
              "      <td>REPA2|RP-A p32|RP-A p34|RPA32</td>\n",
              "      <td>ADMIO|APRF|HIES</td>\n",
              "      <td>Two-hybrid</td>\n",
              "      <td>physical</td>\n",
              "      <td>Kim J (2000)</td>\n",
              "      <td>PUBMED:10875894</td>\n",
              "      <td>9606</td>\n",
              "      <td>9606</td>\n",
              "      <td>Low Throughput</td>\n",
              "      <td>-</td>\n",
              "      <td>-</td>\n",
              "      <td>-</td>\n",
              "      <td>-</td>\n",
              "      <td>BIOGRID</td>\n",
              "      <td>P15927</td>\n",
              "      <td>B4DUL2</td>\n",
              "      <td>NP_001342057|NP_002937|NP_001284487|NP_0013420...</td>\n",
              "      <td>P40763</td>\n",
              "      <td>-</td>\n",
              "      <td>NP_644805|NP_003141|NP_001356447|NP_001356443|...</td>\n",
              "      <td>-</td>\n",
              "      <td>-</td>\n",
              "      <td>-</td>\n",
              "      <td>-</td>\n",
              "      <td>-</td>\n",
              "      <td>-</td>\n",
              "      <td>Homo sapiens</td>\n",
              "      <td>Homo sapiens</td>\n",
              "    </tr>\n",
              "  </tbody>\n",
              "</table>\n",
              "</div>"
            ],
            "text/plain": [
              "   #BioGRID Interaction ID  ... Organism Name Interactor B\n",
              "0                      103  ...               Homo sapiens\n",
              "1                      117  ...               Homo sapiens\n",
              "2                      183  ...               Homo sapiens\n",
              "3                      278  ...               Homo sapiens\n",
              "4                      418  ...               Homo sapiens\n",
              "\n",
              "[5 rows x 37 columns]"
            ]
          },
          "metadata": {
            "tags": []
          },
          "execution_count": 128
        }
      ]
    },
    {
      "cell_type": "code",
      "metadata": {
        "colab": {
          "base_uri": "https://localhost:8080/"
        },
        "id": "-LGQgQwc_2uO",
        "outputId": "8dbaba68-826e-4b38-b763-8e9b0e4ef185"
      },
      "source": [
        "gene_A_list = biogrid_data.iloc[:,1].values\n",
        "gene_B_list = biogrid_data.iloc[:,2].values\n",
        "A_B_list = np.append(gene_A_list,gene_B_list)\n",
        "A_set = set(gene_A_list)\n",
        "len(A_set)\n"
      ],
      "execution_count": 31,
      "outputs": [
        {
          "output_type": "execute_result",
          "data": {
            "text/plain": [
              "20765"
            ]
          },
          "metadata": {
            "tags": []
          },
          "execution_count": 31
        }
      ]
    },
    {
      "cell_type": "code",
      "metadata": {
        "colab": {
          "base_uri": "https://localhost:8080/"
        },
        "id": "2yRlt0GsEmL_",
        "outputId": "1b7af4dd-8047-49c7-ecd4-ecc99612c8ae"
      },
      "source": [
        "B_set =  set(gene_B_list)\n",
        "len(B_set)"
      ],
      "execution_count": 32,
      "outputs": [
        {
          "output_type": "execute_result",
          "data": {
            "text/plain": [
              "23834"
            ]
          },
          "metadata": {
            "tags": []
          },
          "execution_count": 32
        }
      ]
    },
    {
      "cell_type": "code",
      "metadata": {
        "colab": {
          "base_uri": "https://localhost:8080/"
        },
        "id": "Dihn_yMlF4va",
        "outputId": "4ad2c287-5fc5-4a36-a006-13915e507f66"
      },
      "source": [
        "A_B_set = set(A_B_list)\n",
        "len(A_B_set)"
      ],
      "execution_count": 33,
      "outputs": [
        {
          "output_type": "execute_result",
          "data": {
            "text/plain": [
              "29449"
            ]
          },
          "metadata": {
            "tags": []
          },
          "execution_count": 33
        }
      ]
    },
    {
      "cell_type": "markdown",
      "metadata": {
        "id": "H4Jif0i0JY1V"
      },
      "source": [
        "#Get all nodes involved in interactions \n",
        "#removing non numeric nodes\n",
        "\n",
        "---\n",
        "\n"
      ]
    },
    {
      "cell_type": "code",
      "metadata": {
        "colab": {
          "base_uri": "https://localhost:8080/"
        },
        "id": "YQ2tGfcAHpu6",
        "outputId": "b7a2a9a1-6891-493f-b466-a3a3fa9d5de4"
      },
      "source": [
        "genes_biogrid = np.array([x for x in A_B_set if str.isdigit(str(x))])\n",
        "genes_biogrid"
      ],
      "execution_count": 115,
      "outputs": [
        {
          "output_type": "execute_result",
          "data": {
            "text/plain": [
              "array(['1', '2', '131076', ..., '7763', '3190', '140908'], dtype='<U21')"
            ]
          },
          "metadata": {
            "tags": []
          },
          "execution_count": 115
        }
      ]
    },
    {
      "cell_type": "markdown",
      "metadata": {
        "id": "KR4mMY8cJpV5"
      },
      "source": [
        "#Get all interactions \n",
        "#removing invalid nodes with invalid ID \n"
      ]
    },
    {
      "cell_type": "code",
      "metadata": {
        "colab": {
          "base_uri": "https://localhost:8080/"
        },
        "id": "gLR8LCg5D6TR",
        "outputId": "65a18ba3-3464-4add-ed33-cad090e7c3ff"
      },
      "source": [
        "interactions = biogrid_data.iloc[:,1:3].values\n",
        "#interactions =np.array([[a,b] for a,b in interactions if(str.isdigit(str(a)) & str.isdigit(str(b)))])\n",
        "interactions =np.array([[a,b] for a,b in interactions ])\n",
        "interactions.shape"
      ],
      "execution_count": 133,
      "outputs": [
        {
          "output_type": "execute_result",
          "data": {
            "text/plain": [
              "(697802, 2)"
            ]
          },
          "metadata": {
            "tags": []
          },
          "execution_count": 133
        }
      ]
    },
    {
      "cell_type": "markdown",
      "metadata": {
        "id": "q6HEt4l2UQxA"
      },
      "source": [
        "# Seed gene list "
      ]
    },
    {
      "cell_type": "code",
      "metadata": {
        "colab": {
          "base_uri": "https://localhost:8080/"
        },
        "id": "nobmzU_UUPM8",
        "outputId": "ad3c3a55-6fe2-4cf5-cb19-dc0c497a4e6b"
      },
      "source": [
        "seed_genes_ids  =  final_genes_deseas['entrez_id'].values\n",
        "seed_genes_ids"
      ],
      "execution_count": 134,
      "outputs": [
        {
          "output_type": "execute_result",
          "data": {
            "text/plain": [
              "array(['9619', '34', '1636', '9370', '196', '1646', '302', '308', '323',\n",
              "       '351', '23365', '586', '801', '857', '284119', '948', '25932',\n",
              "       '1268', '26958', '1509', '1565', '8701', '1813', '1783', '2146',\n",
              "       '285172', '2199', '23014', '9637', '2246', '55277', '11167',\n",
              "       '79068', '9518', '2688', '51738', '2784', '2888', '2934', '84064',\n",
              "       '3358', '3620', '3488', '51141', '51194', '8826', '3778', '3779',\n",
              "       '9215', '3929', '3952', '3953', '9926', '4134', '22919', '4137',\n",
              "       '4199', '4232', '284207', '4313', '4321', '23164', '4430', '4651',\n",
              "       '55706', '4715', '140609', '4811', '4883', '114882', '5020',\n",
              "       '23022', '51449', '5290', '5443', '5467', '23683', '5631', '29108',\n",
              "       '10266', '5986', '6158', '6202', '6234', '6259', '51091', '91404',\n",
              "       '26040', '26037', '10569', '8470', '6678', '6711', '57620', '412',\n",
              "       '7124', '7171', '80746', '7431', '55187', '51201', '55055'],\n",
              "      dtype=object)"
            ]
          },
          "metadata": {
            "tags": []
          },
          "execution_count": 134
        }
      ]
    },
    {
      "cell_type": "code",
      "metadata": {
        "colab": {
          "base_uri": "https://localhost:8080/"
        },
        "id": "etUDpbKd90JB",
        "outputId": "07f18fd1-a9ca-47a9-c19c-117a1935d675"
      },
      "source": [
        "print('10266' in seed_genes_ids)"
      ],
      "execution_count": 148,
      "outputs": [
        {
          "output_type": "stream",
          "text": [
            "True\n"
          ],
          "name": "stdout"
        }
      ]
    },
    {
      "cell_type": "markdown",
      "metadata": {
        "id": "9mzjaC-TU0ev"
      },
      "source": [
        "#Now we build a dictionary of all interactions"
      ]
    },
    {
      "cell_type": "code",
      "metadata": {
        "id": "ZuBk2xllVaX3"
      },
      "source": [
        "all_interactions_dict = collections.defaultdict(set)\n",
        "for a,b in interactions:\n",
        "  all_interactions_dict[a].add(b)\n",
        "  all_interactions_dict[b].add(a)"
      ],
      "execution_count": 135,
      "outputs": []
    },
    {
      "cell_type": "markdown",
      "metadata": {
        "id": "QTsPM8xqiLc9"
      },
      "source": [
        "# Interactions including seed genes "
      ]
    },
    {
      "cell_type": "code",
      "metadata": {
        "id": "yxTCUWjcZDqD"
      },
      "source": [
        "seed_interactions_dict = collections.defaultdict(set)\n",
        "for key in seed_genes_ids:\n",
        "  seed_interactions_dict[key] = all_interactions_dict[key]"
      ],
      "execution_count": 136,
      "outputs": []
    },
    {
      "cell_type": "markdown",
      "metadata": {
        "id": "s9sGTd8jifxs"
      },
      "source": [
        "# Protein interacting with seed genes"
      ]
    },
    {
      "cell_type": "code",
      "metadata": {
        "colab": {
          "base_uri": "https://localhost:8080/"
        },
        "id": "XGPKvfXViXRw",
        "outputId": "f954da62-3de9-4df8-eb44-df5753d92a73"
      },
      "source": [
        "non_seed_genes_ids = set()\n",
        "# from seed genes interactions dictionary, we retrieve all genes interacting with them\n",
        "# performing union of all set \n",
        "for key in seed_interactions_dict.keys():\n",
        "  non_seed_genes_ids = non_seed_genes_ids.union(seed_interactions_dict[key]) \n",
        "\n",
        "#We remove all seed genes included in the set\n",
        "non_seed_genes_ids = np.array([x for x in non_seed_genes_ids if x not in seed_genes_ids])\n",
        "\n",
        "# There we get only non seed gene which interacted with at least one seed gene\n",
        "len(non_seed_genes_ids)"
      ],
      "execution_count": 137,
      "outputs": [
        {
          "output_type": "execute_result",
          "data": {
            "text/plain": [
              "6140"
            ]
          },
          "metadata": {
            "tags": []
          },
          "execution_count": 137
        }
      ]
    },
    {
      "cell_type": "markdown",
      "metadata": {
        "id": "Q5Nin_0Ylelk"
      },
      "source": [
        "#Then to the seed genes interactions dictionary we also add interactions of no seed genes involved with at least one seed gene"
      ]
    },
    {
      "cell_type": "code",
      "metadata": {
        "id": "vhayZxQEl-GB"
      },
      "source": [
        "non_seed_interactions_dict = collections.defaultdict(set)\n",
        "\n",
        "#looping on non seed gend ids \n",
        "for key in non_seed_genes_ids:\n",
        "  # we retrieve interactions from all interactions dictionary \n",
        "  related_genes = all_interactions_dict[key]\n",
        "\n",
        "  related_non_seed_genes = [x for x in related_genes if x not in seed_genes_ids]\n",
        "\n",
        "  #we add it tho the seed genes iteractions dictionary \n",
        "  non_seed_interactions_dict[key] = set(related_non_seed_genes)\n"
      ],
      "execution_count": 138,
      "outputs": []
    },
    {
      "cell_type": "code",
      "metadata": {
        "id": "n3Hchh3coPIk"
      },
      "source": [
        "#non_seed_genes_interactions_dict"
      ],
      "execution_count": 107,
      "outputs": []
    },
    {
      "cell_type": "markdown",
      "metadata": {
        "id": "1UYkzP2Ooq0y"
      },
      "source": [
        "#Lets put all this in a data frame"
      ]
    },
    {
      "cell_type": "code",
      "metadata": {
        "id": "kwCN8oVAov8X"
      },
      "source": [
        "values = []\n",
        "for a ,b in seed_interactions_dict.items():\n",
        "  values.append([a,'T',','.join(b)])\n",
        "\n",
        "for a ,b in non_seed_interactions_dict.items():\n",
        "  values.append([a,'F',','.join(b)])\n",
        "\n",
        "\n",
        "df = pd.DataFrame(values,columns=['gene_id','seed_gene_involved','interactions_seeds_ids'])"
      ],
      "execution_count": 139,
      "outputs": []
    },
    {
      "cell_type": "markdown",
      "metadata": {
        "id": "Rv7M3vN6kkyV"
      },
      "source": [
        ""
      ]
    },
    {
      "cell_type": "code",
      "metadata": {
        "colab": {
          "base_uri": "https://localhost:8080/",
          "height": 335
        },
        "id": "Vxu_l4gRgF1I",
        "outputId": "83825e09-0fa5-4e9d-99d1-be42a9cd158c"
      },
      "source": [
        "df.sample(10)"
      ],
      "execution_count": 140,
      "outputs": [
        {
          "output_type": "execute_result",
          "data": {
            "text/html": [
              "<div>\n",
              "<style scoped>\n",
              "    .dataframe tbody tr th:only-of-type {\n",
              "        vertical-align: middle;\n",
              "    }\n",
              "\n",
              "    .dataframe tbody tr th {\n",
              "        vertical-align: top;\n",
              "    }\n",
              "\n",
              "    .dataframe thead th {\n",
              "        text-align: right;\n",
              "    }\n",
              "</style>\n",
              "<table border=\"1\" class=\"dataframe\">\n",
              "  <thead>\n",
              "    <tr style=\"text-align: right;\">\n",
              "      <th></th>\n",
              "      <th>gene_id</th>\n",
              "      <th>seed_gene_involved</th>\n",
              "      <th>interactions_seeds_ids</th>\n",
              "    </tr>\n",
              "  </thead>\n",
              "  <tbody>\n",
              "    <tr>\n",
              "      <th>5530</th>\n",
              "      <td>23554</td>\n",
              "      <td>F</td>\n",
              "      <td>130827,8760,91869,4259,10430,9482,220441,61321...</td>\n",
              "    </tr>\n",
              "    <tr>\n",
              "      <th>3830</th>\n",
              "      <td>92346</td>\n",
              "      <td>F</td>\n",
              "      <td>55128,5601,8994,100130827,5684,84080,9533,25793</td>\n",
              "    </tr>\n",
              "    <tr>\n",
              "      <th>4878</th>\n",
              "      <td>23019</td>\n",
              "      <td>F</td>\n",
              "      <td>80315,4076,7916,232791,23609,11097,10010,20479...</td>\n",
              "    </tr>\n",
              "    <tr>\n",
              "      <th>437</th>\n",
              "      <td>69908</td>\n",
              "      <td>F</td>\n",
              "      <td>7046,4089,90</td>\n",
              "    </tr>\n",
              "    <tr>\n",
              "      <th>4066</th>\n",
              "      <td>6134</td>\n",
              "      <td>F</td>\n",
              "      <td>11113,213539,51642,9031,4931,2099,6625,51154,6...</td>\n",
              "    </tr>\n",
              "    <tr>\n",
              "      <th>1024</th>\n",
              "      <td>26298</td>\n",
              "      <td>F</td>\n",
              "      <td>2547,448834,2487,1999,3191,1474,7520,383</td>\n",
              "    </tr>\n",
              "    <tr>\n",
              "      <th>3158</th>\n",
              "      <td>51264</td>\n",
              "      <td>F</td>\n",
              "      <td>124995,3396,1431,92399,53970,54534,19345,51204...</td>\n",
              "    </tr>\n",
              "    <tr>\n",
              "      <th>1701</th>\n",
              "      <td>9984</td>\n",
              "      <td>F</td>\n",
              "      <td>11113,51637,5925,22950,84217,25929,8975,8683,9...</td>\n",
              "    </tr>\n",
              "    <tr>\n",
              "      <th>6180</th>\n",
              "      <td>254295</td>\n",
              "      <td>F</td>\n",
              "      <td>92906,25913</td>\n",
              "    </tr>\n",
              "    <tr>\n",
              "      <th>4784</th>\n",
              "      <td>348487</td>\n",
              "      <td>F</td>\n",
              "      <td>55885,4609,7447,4692,2896,8379,2130,9814,51440...</td>\n",
              "    </tr>\n",
              "  </tbody>\n",
              "</table>\n",
              "</div>"
            ],
            "text/plain": [
              "     gene_id  ...                             interactions_seeds_ids\n",
              "5530   23554  ...  130827,8760,91869,4259,10430,9482,220441,61321...\n",
              "3830   92346  ...    55128,5601,8994,100130827,5684,84080,9533,25793\n",
              "4878   23019  ...  80315,4076,7916,232791,23609,11097,10010,20479...\n",
              "437    69908  ...                                       7046,4089,90\n",
              "4066    6134  ...  11113,213539,51642,9031,4931,2099,6625,51154,6...\n",
              "1024   26298  ...           2547,448834,2487,1999,3191,1474,7520,383\n",
              "3158   51264  ...  124995,3396,1431,92399,53970,54534,19345,51204...\n",
              "1701    9984  ...  11113,51637,5925,22950,84217,25929,8975,8683,9...\n",
              "6180  254295  ...                                        92906,25913\n",
              "4784  348487  ...  55885,4609,7447,4692,2896,8379,2130,9814,51440...\n",
              "\n",
              "[10 rows x 3 columns]"
            ]
          },
          "metadata": {
            "tags": []
          },
          "execution_count": 140
        }
      ]
    },
    {
      "cell_type": "markdown",
      "metadata": {
        "id": "TJBbwYRHq7kN"
      },
      "source": [
        "#1.2 b - Store data in csv format"
      ]
    },
    {
      "cell_type": "code",
      "metadata": {
        "id": "QPjD8oRerEvB"
      },
      "source": [
        "filename = dataset_folder + '1.2/interactions.csv'\n",
        "df.to_csv(filename, sep='\\t',index=False)"
      ],
      "execution_count": 141,
      "outputs": []
    },
    {
      "cell_type": "markdown",
      "metadata": {
        "id": "UXgMRpllsi7k"
      },
      "source": [
        "#1.2 c - Summary"
      ]
    },
    {
      "cell_type": "code",
      "metadata": {
        "id": "YaG9DNm0sqUu"
      },
      "source": [
        "n_seed_disgenet = len(set(seed_genes_ids))\n",
        "n_seed_biogrid = len(set([gene for gene in genes_biogrid if gene in seed_genes_ids]))\n",
        "n_interacting_genes = len(set(genes_biogrid))\n",
        "n_interactions = biogrid_data.shape[0]"
      ],
      "execution_count": 142,
      "outputs": []
    },
    {
      "cell_type": "code",
      "metadata": {
        "colab": {
          "base_uri": "https://localhost:8080/",
          "height": 76
        },
        "id": "7FE6VV9fvlF6",
        "outputId": "11c7c702-c2aa-463a-81ed-1251df8946a8"
      },
      "source": [
        "table = [[n_seed_disgenet,n_seed_biogrid,n_interacting_genes,n_interactions]]\n",
        "summary = pd.DataFrame(table, columns=['N° seed disgenet','N° seed biogrid','Interacting genes','Interactions'])\n",
        "summary"
      ],
      "execution_count": 124,
      "outputs": [
        {
          "output_type": "execute_result",
          "data": {
            "text/html": [
              "<div>\n",
              "<style scoped>\n",
              "    .dataframe tbody tr th:only-of-type {\n",
              "        vertical-align: middle;\n",
              "    }\n",
              "\n",
              "    .dataframe tbody tr th {\n",
              "        vertical-align: top;\n",
              "    }\n",
              "\n",
              "    .dataframe thead th {\n",
              "        text-align: right;\n",
              "    }\n",
              "</style>\n",
              "<table border=\"1\" class=\"dataframe\">\n",
              "  <thead>\n",
              "    <tr style=\"text-align: right;\">\n",
              "      <th></th>\n",
              "      <th>N° seed disgenet</th>\n",
              "      <th>N° seed biogrid</th>\n",
              "      <th>Interacting genes</th>\n",
              "      <th>Interactions</th>\n",
              "    </tr>\n",
              "  </thead>\n",
              "  <tbody>\n",
              "    <tr>\n",
              "      <th>0</th>\n",
              "      <td>102</td>\n",
              "      <td>101</td>\n",
              "      <td>26221</td>\n",
              "      <td>697802</td>\n",
              "    </tr>\n",
              "  </tbody>\n",
              "</table>\n",
              "</div>"
            ],
            "text/plain": [
              "   N° seed disgenet  N° seed biogrid  Interacting genes  Interactions\n",
              "0               102              101              26221        697802"
            ]
          },
          "metadata": {
            "tags": []
          },
          "execution_count": 124
        }
      ]
    },
    {
      "cell_type": "markdown",
      "metadata": {
        "id": "LV3ETnVpw0ec"
      },
      "source": [
        "#1.3 Arrange interaction data"
      ]
    },
    {
      "cell_type": "code",
      "metadata": {
        "id": "MCf_dUzU2KXV"
      },
      "source": [
        "genes_interactions = biogrid_data.values\n",
        "indexes = []\n",
        "i =0\n",
        "for row in genes_interactions:\n",
        "  check = str(row[1]) in seed_genes_ids\n",
        "  check_2 = str(row[2]) in seed_genes_ids\n",
        "  if check_2  and check:\n",
        "    indexes.append(i)\n",
        "    i= i+1\n",
        "  \n",
        "\n"
      ],
      "execution_count": 156,
      "outputs": []
    },
    {
      "cell_type": "markdown",
      "metadata": {
        "id": "drl29t7ZB6K9"
      },
      "source": [
        "#1.2 a - seed genes interactome: interactions that involve seed genes only"
      ]
    },
    {
      "cell_type": "code",
      "metadata": {
        "colab": {
          "base_uri": "https://localhost:8080/",
          "height": 391
        },
        "id": "FfUbqMsL_mKS",
        "outputId": "cd886369-079d-4412-da15-81dcbd71acad"
      },
      "source": [
        "only_seed_interactions = biogrid_data.iloc[indexes,[7,8,23,26]]\n",
        "only_seed_interactions"
      ],
      "execution_count": 160,
      "outputs": [
        {
          "output_type": "execute_result",
          "data": {
            "text/html": [
              "<div>\n",
              "<style scoped>\n",
              "    .dataframe tbody tr th:only-of-type {\n",
              "        vertical-align: middle;\n",
              "    }\n",
              "\n",
              "    .dataframe tbody tr th {\n",
              "        vertical-align: top;\n",
              "    }\n",
              "\n",
              "    .dataframe thead th {\n",
              "        text-align: right;\n",
              "    }\n",
              "</style>\n",
              "<table border=\"1\" class=\"dataframe\">\n",
              "  <thead>\n",
              "    <tr style=\"text-align: right;\">\n",
              "      <th></th>\n",
              "      <th>Official Symbol Interactor A</th>\n",
              "      <th>Official Symbol Interactor B</th>\n",
              "      <th>SWISS-PROT Accessions Interactor A</th>\n",
              "      <th>SWISS-PROT Accessions Interactor B</th>\n",
              "    </tr>\n",
              "  </thead>\n",
              "  <tbody>\n",
              "    <tr>\n",
              "      <th>0</th>\n",
              "      <td>MAP2K4</td>\n",
              "      <td>FLNC</td>\n",
              "      <td>P45985</td>\n",
              "      <td>Q14315</td>\n",
              "    </tr>\n",
              "    <tr>\n",
              "      <th>1</th>\n",
              "      <td>MYPN</td>\n",
              "      <td>ACTN2</td>\n",
              "      <td>Q86TC9</td>\n",
              "      <td>P35609</td>\n",
              "    </tr>\n",
              "    <tr>\n",
              "      <th>2</th>\n",
              "      <td>ACVR1</td>\n",
              "      <td>FNTA</td>\n",
              "      <td>Q04771</td>\n",
              "      <td>P49354</td>\n",
              "    </tr>\n",
              "    <tr>\n",
              "      <th>3</th>\n",
              "      <td>GATA2</td>\n",
              "      <td>PML</td>\n",
              "      <td>P23769</td>\n",
              "      <td>P29590</td>\n",
              "    </tr>\n",
              "    <tr>\n",
              "      <th>4</th>\n",
              "      <td>RPA2</td>\n",
              "      <td>STAT3</td>\n",
              "      <td>P15927</td>\n",
              "      <td>P40763</td>\n",
              "    </tr>\n",
              "    <tr>\n",
              "      <th>...</th>\n",
              "      <td>...</td>\n",
              "      <td>...</td>\n",
              "      <td>...</td>\n",
              "      <td>...</td>\n",
              "    </tr>\n",
              "    <tr>\n",
              "      <th>148</th>\n",
              "      <td>BYSL</td>\n",
              "      <td>KRT8</td>\n",
              "      <td>Q13895</td>\n",
              "      <td>P05787</td>\n",
              "    </tr>\n",
              "    <tr>\n",
              "      <th>149</th>\n",
              "      <td>KRT18</td>\n",
              "      <td>CBL</td>\n",
              "      <td>P05783</td>\n",
              "      <td>P22681</td>\n",
              "    </tr>\n",
              "    <tr>\n",
              "      <th>150</th>\n",
              "      <td>KRT18</td>\n",
              "      <td>DNAJB6</td>\n",
              "      <td>P05783</td>\n",
              "      <td>O75190</td>\n",
              "    </tr>\n",
              "    <tr>\n",
              "      <th>151</th>\n",
              "      <td>LMNA</td>\n",
              "      <td>LMNB1</td>\n",
              "      <td>P02545</td>\n",
              "      <td>P20700</td>\n",
              "    </tr>\n",
              "    <tr>\n",
              "      <th>152</th>\n",
              "      <td>LMNA</td>\n",
              "      <td>SREBF1</td>\n",
              "      <td>P02545</td>\n",
              "      <td>P36956</td>\n",
              "    </tr>\n",
              "  </tbody>\n",
              "</table>\n",
              "<p>153 rows × 4 columns</p>\n",
              "</div>"
            ],
            "text/plain": [
              "    Official Symbol Interactor A  ... SWISS-PROT Accessions Interactor B\n",
              "0                         MAP2K4  ...                             Q14315\n",
              "1                           MYPN  ...                             P35609\n",
              "2                          ACVR1  ...                             P49354\n",
              "3                          GATA2  ...                             P29590\n",
              "4                           RPA2  ...                             P40763\n",
              "..                           ...  ...                                ...\n",
              "148                         BYSL  ...                             P05787\n",
              "149                        KRT18  ...                             P22681\n",
              "150                        KRT18  ...                             O75190\n",
              "151                         LMNA  ...                             P20700\n",
              "152                         LMNA  ...                             P36956\n",
              "\n",
              "[153 rows x 4 columns]"
            ]
          },
          "metadata": {
            "tags": []
          },
          "execution_count": 160
        }
      ]
    },
    {
      "cell_type": "markdown",
      "metadata": {
        "id": "zzPvmZDaCIMw"
      },
      "source": [
        "#1.2 All proteins interacting with at least one seed gene"
      ]
    },
    {
      "cell_type": "code",
      "metadata": {
        "id": "ijLfvZuyCbDf"
      },
      "source": [
        ""
      ],
      "execution_count": null,
      "outputs": []
    },
    {
      "cell_type": "markdown",
      "metadata": {
        "id": "BZLAlssjB4xV"
      },
      "source": [
        ""
      ]
    }
  ]
}