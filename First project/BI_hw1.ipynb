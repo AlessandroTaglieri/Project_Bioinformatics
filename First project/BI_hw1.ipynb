{
 "cells": [
  {
   "cell_type": "code",
   "execution_count": null,
   "metadata": {
    "colab": {
     "base_uri": "https://localhost:8080/"
    },
    "id": "Wl57nROYOHl2",
    "outputId": "60f63e2a-a183-4394-84ed-cde9be6f9fb6"
   },
   "outputs": [],
   "source": [
    "\n",
    "#comment if not running on colab\n",
    "from google.colab import drive\n",
    "drive.mount('/content/drive')"
   ]
  },
  {
   "cell_type": "code",
   "execution_count": 1,
   "metadata": {
    "id": "alx8FV2wNvpf"
   },
   "outputs": [],
   "source": [
    "#import libraries\n",
    "import pandas as pd\n",
    "import os\n",
    "import numpy as np\n",
    "import collections"
   ]
  },
  {
   "cell_type": "code",
   "execution_count": 10,
   "metadata": {
    "id": "DZFUTIgrOdVR"
   },
   "outputs": [],
   "source": [
    "#change project folder to match yours\n",
    "#project_folder ='/content/drive/MyDrive/BioinfoProject/Project_Bioinformatics/First_project/'\n",
    "project_folder ='/'"
   ]
  },
  {
   "cell_type": "code",
   "execution_count": 11,
   "metadata": {
    "id": "I5uthtmDO--E"
   },
   "outputs": [],
   "source": [
    "#change dataset folder to match yours\n",
    "dataset_folder = os.path.join(project_folder,'dataset/')"
   ]
  },
  {
   "cell_type": "code",
   "execution_count": 2,
   "metadata": {},
   "outputs": [],
   "source": [
    "#only in local\n",
    "#dataset_folder=\"dataset/\""
   ]
  },
  {
   "cell_type": "markdown",
   "metadata": {
    "id": "Qmi-z0dbNvpg"
   },
   "source": [
    "# 1.1"
   ]
  },
  {
   "cell_type": "code",
   "execution_count": 3,
   "metadata": {
    "id": "qEGJ9Cf8Nvpg"
   },
   "outputs": [],
   "source": [
    "#download curated gene-diesase associtaions from https://www.disgenet.org/downloads and covnert tsv in csv\n",
    "\n",
    "data = pd.read_csv(dataset_folder+ '1.1/curated_gene_disease_associations.csv')\n",
    "#get only data for intereted gene id C0043094\n",
    "gene_disease = data.loc[data['diseaseId'] == 'C0043094']\n",
    "\n",
    "#get list og gene symbols\n",
    "list_geneSymbol = gene_disease['geneSymbol']\n",
    "\n",
    "\n",
    "#download hgnc dataset from https://www.genenames.org/download/statistics-and-files/\n",
    "hgnc = pd.read_csv(dataset_folder+ \"1.1/hgnc_complete_set.txt\", sep='\\t', dtype = 'unicode')\n",
    "\n",
    "#get data (symbol,name,entrez_id,unirpot_idasdn status) for only genes stored in previous list\n",
    "genes_diseases_hgnc = hgnc.loc[hgnc['symbol'].isin(list_geneSymbol)][['symbol','name','entrez_id','uniprot_ids','status']]\n",
    "\n",
    "#get only approved data\n",
    "genes_diseases_hgnc_app = genes_diseases_hgnc.loc[genes_diseases_hgnc['status']=='Approved']\n",
    "\n",
    "\n",
    "#get list ofuniprotidthat we'll useto find gene descriptionin Uniprot\n",
    "list_uniprotID = genes_diseases_hgnc_app['uniprot_ids']\n",
    "\n",
    "#write in a file alll uniprot ids. This is necessary because we'll download only necessary description for these genes from uniprot \n",
    "with open(dataset_folder+ '1.1/uniprot_ids.txt', 'w') as f:\n",
    "    for item in list_uniprotID:\n",
    "        f.write(\"%s\\n\" % item)\n",
    "    f.close()\n",
    "\n",
    "#download data containing description for every gene. We used txt file for download them\n",
    "gene_description = pd.read_csv(dataset_folder+ '1.1/uniprot-yourlist%3AM20201123A94466D2655679D1FD8953E075198DA817123DO.csv')\n",
    "\n",
    "#rename column for the function of the gene\n",
    "gene_description=gene_description.rename(columns={\"yourlist:M20201123A94466D2655679D1FD8953E075198DA817123DO\":\"uniprot_ids\"})\n",
    "\n",
    "#merge two dataset. One containing all info about gene and the second one conatining description about their functions\n",
    "final_genes_deseas = pd.merge(gene_description, genes_diseases_hgnc_app, on='uniprot_ids')\n",
    "#rename column\n",
    "final_genes_deseas=final_genes_deseas.rename(columns={\"Function [CC]\":\"function\"})\n",
    "#get only first part of gene description\n",
    "final_genes_deseas['Description']= final_genes_deseas.function.str[10:150]\n",
    "#delete not necessary columns\n",
    "final_genes_deseas = final_genes_deseas.drop(['function','Entry','status'], axis = 1) \n",
    "final_genes_deseas = final_genes_deseas[['symbol','uniprot_ids','name','entrez_id','Description']]"
   ]
  },
  {
   "cell_type": "code",
   "execution_count": 4,
   "metadata": {
    "id": "TAO1bw4ONvpg"
   },
   "outputs": [],
   "source": [
    "#fix column names and save xlsx file\n",
    "final_genes_deseas.rename(columns={\"symbol\":\"Gene symbol\",\"uniprot_ids\":\"Uniprot AC\",\"name\":'Protein name','entrez_id':\"Entrez Gene ID\"})\n",
    "final_genes_deseas.to_excel(dataset_folder+ '1.1/1.1-gene_deseas_associations.xlsx')\n",
    "final_genes_deseas.to_csv(dataset_folder+ '1.1/1.1-gene_deseas_associations.csv')"
   ]
  },
  {
   "cell_type": "code",
   "execution_count": 5,
   "metadata": {
    "colab": {
     "base_uri": "https://localhost:8080/",
     "height": 391
    },
    "id": "9FVmghYoQdJR",
    "outputId": "d721742f-1284-4850-d3b3-670d18478156"
   },
   "outputs": [
    {
     "data": {
      "text/html": [
       "<div>\n",
       "<style scoped>\n",
       "    .dataframe tbody tr th:only-of-type {\n",
       "        vertical-align: middle;\n",
       "    }\n",
       "\n",
       "    .dataframe tbody tr th {\n",
       "        vertical-align: top;\n",
       "    }\n",
       "\n",
       "    .dataframe thead th {\n",
       "        text-align: right;\n",
       "    }\n",
       "</style>\n",
       "<table border=\"1\" class=\"dataframe\">\n",
       "  <thead>\n",
       "    <tr style=\"text-align: right;\">\n",
       "      <th></th>\n",
       "      <th>symbol</th>\n",
       "      <th>uniprot_ids</th>\n",
       "      <th>name</th>\n",
       "      <th>entrez_id</th>\n",
       "      <th>Description</th>\n",
       "    </tr>\n",
       "  </thead>\n",
       "  <tbody>\n",
       "    <tr>\n",
       "      <th>0</th>\n",
       "      <td>ABCG1</td>\n",
       "      <td>P45844</td>\n",
       "      <td>ATP binding cassette subfamily G member 1</td>\n",
       "      <td>9619</td>\n",
       "      <td>Catalyzes the efflux of phospholipids such as ...</td>\n",
       "    </tr>\n",
       "    <tr>\n",
       "      <th>1</th>\n",
       "      <td>ACADM</td>\n",
       "      <td>P11310</td>\n",
       "      <td>acyl-CoA dehydrogenase medium chain</td>\n",
       "      <td>34</td>\n",
       "      <td>Acyl-CoA dehydrogenase specific for acyl chain...</td>\n",
       "    </tr>\n",
       "    <tr>\n",
       "      <th>2</th>\n",
       "      <td>ACE</td>\n",
       "      <td>P12821</td>\n",
       "      <td>angiotensin I converting enzyme</td>\n",
       "      <td>1636</td>\n",
       "      <td>Converts angiotensin I to angiotensin II by re...</td>\n",
       "    </tr>\n",
       "    <tr>\n",
       "      <th>3</th>\n",
       "      <td>ADIPOQ</td>\n",
       "      <td>Q15848</td>\n",
       "      <td>adiponectin, C1Q and collagen domain containing</td>\n",
       "      <td>9370</td>\n",
       "      <td>Important adipokine involved in the control of...</td>\n",
       "    </tr>\n",
       "    <tr>\n",
       "      <th>4</th>\n",
       "      <td>AHR</td>\n",
       "      <td>P35869</td>\n",
       "      <td>aryl hydrocarbon receptor</td>\n",
       "      <td>196</td>\n",
       "      <td>Ligand-activated transcriptional activator. Bi...</td>\n",
       "    </tr>\n",
       "    <tr>\n",
       "      <th>...</th>\n",
       "      <td>...</td>\n",
       "      <td>...</td>\n",
       "      <td>...</td>\n",
       "      <td>...</td>\n",
       "      <td>...</td>\n",
       "    </tr>\n",
       "    <tr>\n",
       "      <th>97</th>\n",
       "      <td>TSEN2</td>\n",
       "      <td>Q8NCE0</td>\n",
       "      <td>tRNA splicing endonuclease subunit 2</td>\n",
       "      <td>80746</td>\n",
       "      <td>Constitutes one of the two catalytic subunit o...</td>\n",
       "    </tr>\n",
       "    <tr>\n",
       "      <th>98</th>\n",
       "      <td>VIM</td>\n",
       "      <td>P08670</td>\n",
       "      <td>vimentin</td>\n",
       "      <td>7431</td>\n",
       "      <td>Vimentins are class-III intermediate filaments...</td>\n",
       "    </tr>\n",
       "    <tr>\n",
       "      <th>99</th>\n",
       "      <td>VPS13D</td>\n",
       "      <td>Q5THJ4</td>\n",
       "      <td>vacuolar protein sorting 13 homolog D</td>\n",
       "      <td>55187</td>\n",
       "      <td>Functions in promoting mitochondrial clearance...</td>\n",
       "    </tr>\n",
       "    <tr>\n",
       "      <th>100</th>\n",
       "      <td>ZDHHC2</td>\n",
       "      <td>Q9UIJ5</td>\n",
       "      <td>zinc finger DHHC-type palmitoyltransferase 2</td>\n",
       "      <td>51201</td>\n",
       "      <td>Palmitoyltransferase that catalyzes the additi...</td>\n",
       "    </tr>\n",
       "    <tr>\n",
       "      <th>101</th>\n",
       "      <td>ZWILCH</td>\n",
       "      <td>Q9H900</td>\n",
       "      <td>zwilch kinetochore protein</td>\n",
       "      <td>55055</td>\n",
       "      <td>Essential component of the mitotic checkpoint,...</td>\n",
       "    </tr>\n",
       "  </tbody>\n",
       "</table>\n",
       "<p>102 rows × 5 columns</p>\n",
       "</div>"
      ],
      "text/plain": [
       "     symbol uniprot_ids                                             name  \\\n",
       "0     ABCG1      P45844        ATP binding cassette subfamily G member 1   \n",
       "1     ACADM      P11310              acyl-CoA dehydrogenase medium chain   \n",
       "2       ACE      P12821                  angiotensin I converting enzyme   \n",
       "3    ADIPOQ      Q15848  adiponectin, C1Q and collagen domain containing   \n",
       "4       AHR      P35869                        aryl hydrocarbon receptor   \n",
       "..      ...         ...                                              ...   \n",
       "97    TSEN2      Q8NCE0             tRNA splicing endonuclease subunit 2   \n",
       "98      VIM      P08670                                         vimentin   \n",
       "99   VPS13D      Q5THJ4            vacuolar protein sorting 13 homolog D   \n",
       "100  ZDHHC2      Q9UIJ5     zinc finger DHHC-type palmitoyltransferase 2   \n",
       "101  ZWILCH      Q9H900                       zwilch kinetochore protein   \n",
       "\n",
       "    entrez_id                                        Description  \n",
       "0        9619  Catalyzes the efflux of phospholipids such as ...  \n",
       "1          34  Acyl-CoA dehydrogenase specific for acyl chain...  \n",
       "2        1636  Converts angiotensin I to angiotensin II by re...  \n",
       "3        9370  Important adipokine involved in the control of...  \n",
       "4         196  Ligand-activated transcriptional activator. Bi...  \n",
       "..        ...                                                ...  \n",
       "97      80746  Constitutes one of the two catalytic subunit o...  \n",
       "98       7431  Vimentins are class-III intermediate filaments...  \n",
       "99      55187  Functions in promoting mitochondrial clearance...  \n",
       "100     51201  Palmitoyltransferase that catalyzes the additi...  \n",
       "101     55055  Essential component of the mitotic checkpoint,...  \n",
       "\n",
       "[102 rows x 5 columns]"
      ]
     },
     "execution_count": 5,
     "metadata": {},
     "output_type": "execute_result"
    }
   ],
   "source": [
    "final_genes_deseas"
   ]
  },
  {
   "cell_type": "markdown",
   "metadata": {
    "id": "QwICM-22Nvpg"
   },
   "source": [
    "# 1.2"
   ]
  },
  {
   "cell_type": "markdown",
   "metadata": {
    "id": "_NEfYc7Z2cGQ"
   },
   "source": [
    "# Get biogrid data"
   ]
  },
  {
   "cell_type": "code",
   "execution_count": 13,
   "metadata": {},
   "outputs": [
    {
     "name": "stderr",
     "output_type": "stream",
     "text": [
      "/opt/anaconda3/lib/python3.7/site-packages/IPython/core/interactiveshell.py:3146: DtypeWarning: Columns (1,18) have mixed types.Specify dtype option on import or set low_memory=False.\n",
      "  interactivity=interactivity, compiler=compiler, result=result)\n"
     ]
    }
   ],
   "source": [
    "#read biogrid dataset \n",
    "biogrid_datafile = dataset_folder+'1.2/BIOGRID-ORGANISM-Homo_sapiens-4.2.191.tab3.txt'\n",
    "biogrid_data = pd.read_csv(biogrid_datafile,sep='\\t')\n",
    "#biogrid_data.info()"
   ]
  },
  {
   "cell_type": "code",
   "execution_count": 21,
   "metadata": {
    "colab": {
     "base_uri": "https://localhost:8080/",
     "height": 373
    },
    "id": "5YHuXbx3RLid",
    "outputId": "6d822183-10a3-407e-dfb5-8462847b5869"
   },
   "outputs": [
    {
     "data": {
      "text/html": [
       "<div>\n",
       "<style scoped>\n",
       "    .dataframe tbody tr th:only-of-type {\n",
       "        vertical-align: middle;\n",
       "    }\n",
       "\n",
       "    .dataframe tbody tr th {\n",
       "        vertical-align: top;\n",
       "    }\n",
       "\n",
       "    .dataframe thead th {\n",
       "        text-align: right;\n",
       "    }\n",
       "</style>\n",
       "<table border=\"1\" class=\"dataframe\">\n",
       "  <thead>\n",
       "    <tr style=\"text-align: right;\">\n",
       "      <th></th>\n",
       "      <th>#BioGRID Interaction ID</th>\n",
       "      <th>Entrez Gene Interactor A</th>\n",
       "      <th>Entrez Gene Interactor B</th>\n",
       "      <th>BioGRID ID Interactor A</th>\n",
       "      <th>BioGRID ID Interactor B</th>\n",
       "      <th>Systematic Name Interactor A</th>\n",
       "      <th>Systematic Name Interactor B</th>\n",
       "      <th>Official Symbol Interactor A</th>\n",
       "      <th>Official Symbol Interactor B</th>\n",
       "      <th>Synonyms Interactor A</th>\n",
       "      <th>...</th>\n",
       "      <th>TREMBL Accessions Interactor B</th>\n",
       "      <th>REFSEQ Accessions Interactor B</th>\n",
       "      <th>Ontology Term IDs</th>\n",
       "      <th>Ontology Term Names</th>\n",
       "      <th>Ontology Term Categories</th>\n",
       "      <th>Ontology Term Qualifier IDs</th>\n",
       "      <th>Ontology Term Qualifier Names</th>\n",
       "      <th>Ontology Term Types</th>\n",
       "      <th>Organism Name Interactor A</th>\n",
       "      <th>Organism Name Interactor B</th>\n",
       "    </tr>\n",
       "  </thead>\n",
       "  <tbody>\n",
       "    <tr>\n",
       "      <th>0</th>\n",
       "      <td>103</td>\n",
       "      <td>6416</td>\n",
       "      <td>2318</td>\n",
       "      <td>112315</td>\n",
       "      <td>108607</td>\n",
       "      <td>-</td>\n",
       "      <td>-</td>\n",
       "      <td>MAP2K4</td>\n",
       "      <td>FLNC</td>\n",
       "      <td>JNKK|JNKK1|MAPKK4|MEK4|MKK4|PRKMK4|SAPKK-1|SAP...</td>\n",
       "      <td>...</td>\n",
       "      <td>Q59H94</td>\n",
       "      <td>NP_001120959|NP_001449</td>\n",
       "      <td>-</td>\n",
       "      <td>-</td>\n",
       "      <td>-</td>\n",
       "      <td>-</td>\n",
       "      <td>-</td>\n",
       "      <td>-</td>\n",
       "      <td>Homo sapiens</td>\n",
       "      <td>Homo sapiens</td>\n",
       "    </tr>\n",
       "    <tr>\n",
       "      <th>1</th>\n",
       "      <td>117</td>\n",
       "      <td>84665</td>\n",
       "      <td>88</td>\n",
       "      <td>124185</td>\n",
       "      <td>106603</td>\n",
       "      <td>-</td>\n",
       "      <td>-</td>\n",
       "      <td>MYPN</td>\n",
       "      <td>ACTN2</td>\n",
       "      <td>CMD1DD|CMH22|MYOP|RCM4</td>\n",
       "      <td>...</td>\n",
       "      <td>Q59FD9|F6THM6</td>\n",
       "      <td>NP_001094|NP_001265272|NP_001265273</td>\n",
       "      <td>-</td>\n",
       "      <td>-</td>\n",
       "      <td>-</td>\n",
       "      <td>-</td>\n",
       "      <td>-</td>\n",
       "      <td>-</td>\n",
       "      <td>Homo sapiens</td>\n",
       "      <td>Homo sapiens</td>\n",
       "    </tr>\n",
       "    <tr>\n",
       "      <th>2</th>\n",
       "      <td>183</td>\n",
       "      <td>90</td>\n",
       "      <td>2339</td>\n",
       "      <td>106605</td>\n",
       "      <td>108625</td>\n",
       "      <td>-</td>\n",
       "      <td>-</td>\n",
       "      <td>ACVR1</td>\n",
       "      <td>FNTA</td>\n",
       "      <td>ACTRI|ACVR1A|ACVRLK2|ALK2|FOP|SKR1|TSRI</td>\n",
       "      <td>...</td>\n",
       "      <td>-</td>\n",
       "      <td>NP_002018</td>\n",
       "      <td>-</td>\n",
       "      <td>-</td>\n",
       "      <td>-</td>\n",
       "      <td>-</td>\n",
       "      <td>-</td>\n",
       "      <td>-</td>\n",
       "      <td>Homo sapiens</td>\n",
       "      <td>Homo sapiens</td>\n",
       "    </tr>\n",
       "    <tr>\n",
       "      <th>3</th>\n",
       "      <td>278</td>\n",
       "      <td>2624</td>\n",
       "      <td>5371</td>\n",
       "      <td>108894</td>\n",
       "      <td>111384</td>\n",
       "      <td>-</td>\n",
       "      <td>-</td>\n",
       "      <td>GATA2</td>\n",
       "      <td>PML</td>\n",
       "      <td>DCML|IMD21|MONOMAC|NFE1B</td>\n",
       "      <td>...</td>\n",
       "      <td>-</td>\n",
       "      <td>NP_150250|NP_150253|NP_150252|NP_150247|NP_150...</td>\n",
       "      <td>-</td>\n",
       "      <td>-</td>\n",
       "      <td>-</td>\n",
       "      <td>-</td>\n",
       "      <td>-</td>\n",
       "      <td>-</td>\n",
       "      <td>Homo sapiens</td>\n",
       "      <td>Homo sapiens</td>\n",
       "    </tr>\n",
       "    <tr>\n",
       "      <th>4</th>\n",
       "      <td>418</td>\n",
       "      <td>6118</td>\n",
       "      <td>6774</td>\n",
       "      <td>112038</td>\n",
       "      <td>112651</td>\n",
       "      <td>RP4-547C9.3</td>\n",
       "      <td>-</td>\n",
       "      <td>RPA2</td>\n",
       "      <td>STAT3</td>\n",
       "      <td>REPA2|RP-A p32|RP-A p34|RPA32</td>\n",
       "      <td>...</td>\n",
       "      <td>-</td>\n",
       "      <td>NP_644805|NP_003141|NP_001356447|NP_001356443|...</td>\n",
       "      <td>-</td>\n",
       "      <td>-</td>\n",
       "      <td>-</td>\n",
       "      <td>-</td>\n",
       "      <td>-</td>\n",
       "      <td>-</td>\n",
       "      <td>Homo sapiens</td>\n",
       "      <td>Homo sapiens</td>\n",
       "    </tr>\n",
       "  </tbody>\n",
       "</table>\n",
       "<p>5 rows × 37 columns</p>\n",
       "</div>"
      ],
      "text/plain": [
       "   #BioGRID Interaction ID Entrez Gene Interactor A  Entrez Gene Interactor B  \\\n",
       "0                      103                     6416                      2318   \n",
       "1                      117                    84665                        88   \n",
       "2                      183                       90                      2339   \n",
       "3                      278                     2624                      5371   \n",
       "4                      418                     6118                      6774   \n",
       "\n",
       "   BioGRID ID Interactor A  BioGRID ID Interactor B  \\\n",
       "0                   112315                   108607   \n",
       "1                   124185                   106603   \n",
       "2                   106605                   108625   \n",
       "3                   108894                   111384   \n",
       "4                   112038                   112651   \n",
       "\n",
       "  Systematic Name Interactor A Systematic Name Interactor B  \\\n",
       "0                            -                            -   \n",
       "1                            -                            -   \n",
       "2                            -                            -   \n",
       "3                            -                            -   \n",
       "4                  RP4-547C9.3                            -   \n",
       "\n",
       "  Official Symbol Interactor A Official Symbol Interactor B  \\\n",
       "0                       MAP2K4                         FLNC   \n",
       "1                         MYPN                        ACTN2   \n",
       "2                        ACVR1                         FNTA   \n",
       "3                        GATA2                          PML   \n",
       "4                         RPA2                        STAT3   \n",
       "\n",
       "                               Synonyms Interactor A  ...  \\\n",
       "0  JNKK|JNKK1|MAPKK4|MEK4|MKK4|PRKMK4|SAPKK-1|SAP...  ...   \n",
       "1                             CMD1DD|CMH22|MYOP|RCM4  ...   \n",
       "2            ACTRI|ACVR1A|ACVRLK2|ALK2|FOP|SKR1|TSRI  ...   \n",
       "3                           DCML|IMD21|MONOMAC|NFE1B  ...   \n",
       "4                      REPA2|RP-A p32|RP-A p34|RPA32  ...   \n",
       "\n",
       "  TREMBL Accessions Interactor B  \\\n",
       "0                         Q59H94   \n",
       "1                  Q59FD9|F6THM6   \n",
       "2                              -   \n",
       "3                              -   \n",
       "4                              -   \n",
       "\n",
       "                      REFSEQ Accessions Interactor B Ontology Term IDs  \\\n",
       "0                             NP_001120959|NP_001449                 -   \n",
       "1                NP_001094|NP_001265272|NP_001265273                 -   \n",
       "2                                          NP_002018                 -   \n",
       "3  NP_150250|NP_150253|NP_150252|NP_150247|NP_150...                 -   \n",
       "4  NP_644805|NP_003141|NP_001356447|NP_001356443|...                 -   \n",
       "\n",
       "  Ontology Term Names Ontology Term Categories  Ontology Term Qualifier IDs  \\\n",
       "0                   -                        -                            -   \n",
       "1                   -                        -                            -   \n",
       "2                   -                        -                            -   \n",
       "3                   -                        -                            -   \n",
       "4                   -                        -                            -   \n",
       "\n",
       "   Ontology Term Qualifier Names Ontology Term Types  \\\n",
       "0                              -                   -   \n",
       "1                              -                   -   \n",
       "2                              -                   -   \n",
       "3                              -                   -   \n",
       "4                              -                   -   \n",
       "\n",
       "  Organism Name Interactor A Organism Name Interactor B  \n",
       "0               Homo sapiens               Homo sapiens  \n",
       "1               Homo sapiens               Homo sapiens  \n",
       "2               Homo sapiens               Homo sapiens  \n",
       "3               Homo sapiens               Homo sapiens  \n",
       "4               Homo sapiens               Homo sapiens  \n",
       "\n",
       "[5 rows x 37 columns]"
      ]
     },
     "execution_count": 21,
     "metadata": {},
     "output_type": "execute_result"
    }
   ],
   "source": [
    "biogrid_data.head(5)"
   ]
  },
  {
   "cell_type": "code",
   "execution_count": 22,
   "metadata": {
    "colab": {
     "base_uri": "https://localhost:8080/"
    },
    "id": "-LGQgQwc_2uO",
    "outputId": "8dbaba68-826e-4b38-b763-8e9b0e4ef185"
   },
   "outputs": [
    {
     "data": {
      "text/plain": [
       "20765"
      ]
     },
     "execution_count": 22,
     "metadata": {},
     "output_type": "execute_result"
    }
   ],
   "source": [
    "gene_A_list = biogrid_data.iloc[:,1].values\n",
    "gene_B_list = biogrid_data.iloc[:,2].values\n",
    "A_B_list = np.append(gene_A_list,gene_B_list)\n",
    "A_set = set(gene_A_list)\n",
    "len(A_set)\n"
   ]
  },
  {
   "cell_type": "code",
   "execution_count": 23,
   "metadata": {
    "colab": {
     "base_uri": "https://localhost:8080/"
    },
    "id": "2yRlt0GsEmL_",
    "outputId": "1b7af4dd-8047-49c7-ecd4-ecc99612c8ae"
   },
   "outputs": [
    {
     "data": {
      "text/plain": [
       "23834"
      ]
     },
     "execution_count": 23,
     "metadata": {},
     "output_type": "execute_result"
    }
   ],
   "source": [
    "B_set =  set(gene_B_list)\n",
    "len(B_set)"
   ]
  },
  {
   "cell_type": "code",
   "execution_count": 24,
   "metadata": {
    "colab": {
     "base_uri": "https://localhost:8080/"
    },
    "id": "Dihn_yMlF4va",
    "outputId": "4ad2c287-5fc5-4a36-a006-13915e507f66"
   },
   "outputs": [
    {
     "data": {
      "text/plain": [
       "29449"
      ]
     },
     "execution_count": 24,
     "metadata": {},
     "output_type": "execute_result"
    }
   ],
   "source": [
    "A_B_set = set(A_B_list)\n",
    "len(A_B_set)"
   ]
  },
  {
   "cell_type": "markdown",
   "metadata": {
    "id": "H4Jif0i0JY1V"
   },
   "source": [
    "#Get all nodes involved in interactions \n",
    "#removing non numeric nodes\n",
    "\n",
    "---\n",
    "\n"
   ]
  },
  {
   "cell_type": "code",
   "execution_count": 25,
   "metadata": {
    "colab": {
     "base_uri": "https://localhost:8080/"
    },
    "id": "YQ2tGfcAHpu6",
    "outputId": "b7a2a9a1-6891-493f-b466-a3a3fa9d5de4"
   },
   "outputs": [
    {
     "data": {
      "text/plain": [
       "array(['1', '2', '131076', ..., '115209', '2101', '23383'], dtype='<U21')"
      ]
     },
     "execution_count": 25,
     "metadata": {},
     "output_type": "execute_result"
    }
   ],
   "source": [
    "genes_biogrid = np.array([x for x in A_B_set if str.isdigit(str(x))])\n",
    "genes_biogrid"
   ]
  },
  {
   "cell_type": "markdown",
   "metadata": {
    "id": "KR4mMY8cJpV5"
   },
   "source": [
    "#Get all interactions \n",
    "#removing invalid nodes with invalid ID \n"
   ]
  },
  {
   "cell_type": "code",
   "execution_count": 26,
   "metadata": {
    "colab": {
     "base_uri": "https://localhost:8080/"
    },
    "id": "gLR8LCg5D6TR",
    "outputId": "65a18ba3-3464-4add-ed33-cad090e7c3ff"
   },
   "outputs": [
    {
     "data": {
      "text/plain": [
       "(697802, 2)"
      ]
     },
     "execution_count": 26,
     "metadata": {},
     "output_type": "execute_result"
    }
   ],
   "source": [
    "interactions = biogrid_data.iloc[:,1:3].values\n",
    "#interactions =np.array([[a,b] for a,b in interactions if(str.isdigit(str(a)) & str.isdigit(str(b)))])\n",
    "interactions =np.array([[a,b] for a,b in interactions ])\n",
    "interactions.shape"
   ]
  },
  {
   "cell_type": "markdown",
   "metadata": {
    "id": "q6HEt4l2UQxA"
   },
   "source": [
    "# Seed gene list "
   ]
  },
  {
   "cell_type": "code",
   "execution_count": 27,
   "metadata": {
    "colab": {
     "base_uri": "https://localhost:8080/"
    },
    "id": "nobmzU_UUPM8",
    "outputId": "ad3c3a55-6fe2-4cf5-cb19-dc0c497a4e6b"
   },
   "outputs": [
    {
     "data": {
      "text/plain": [
       "array(['9619', '34', '1636', '9370', '196', '1646', '302', '308', '323',\n",
       "       '351', '23365', '586', '801', '857', '284119', '948', '25932',\n",
       "       '1268', '26958', '1509', '1565', '8701', '1813', '1783', '2146',\n",
       "       '285172', '2199', '23014', '9637', '2246', '55277', '11167',\n",
       "       '79068', '9518', '2688', '51738', '2784', '2888', '2934', '84064',\n",
       "       '3358', '3620', '3488', '51141', '51194', '8826', '3778', '3779',\n",
       "       '9215', '3929', '3952', '3953', '9926', '4134', '22919', '4137',\n",
       "       '4199', '4232', '284207', '4313', '4321', '23164', '4430', '4651',\n",
       "       '55706', '4715', '140609', '4811', '4883', '114882', '5020',\n",
       "       '23022', '51449', '5290', '5443', '5467', '23683', '5631', '29108',\n",
       "       '10266', '5986', '6158', '6202', '6234', '6259', '51091', '91404',\n",
       "       '26040', '26037', '10569', '8470', '6678', '6711', '57620', '412',\n",
       "       '7124', '7171', '80746', '7431', '55187', '51201', '55055'],\n",
       "      dtype=object)"
      ]
     },
     "execution_count": 27,
     "metadata": {},
     "output_type": "execute_result"
    }
   ],
   "source": [
    "seed_genes_ids  =  final_genes_deseas['entrez_id'].values\n",
    "seed_genes_ids"
   ]
  },
  {
   "cell_type": "markdown",
   "metadata": {
    "id": "9mzjaC-TU0ev"
   },
   "source": [
    "#Now we build a dictionary of all interactions"
   ]
  },
  {
   "cell_type": "code",
   "execution_count": 28,
   "metadata": {
    "id": "ZuBk2xllVaX3"
   },
   "outputs": [],
   "source": [
    "all_interactions_dict = collections.defaultdict(set)\n",
    "for a,b in interactions:\n",
    "  all_interactions_dict[a].add(b)\n",
    "  all_interactions_dict[b].add(a)"
   ]
  },
  {
   "cell_type": "markdown",
   "metadata": {
    "id": "QTsPM8xqiLc9"
   },
   "source": [
    "# Interactions including seed genes "
   ]
  },
  {
   "cell_type": "code",
   "execution_count": 29,
   "metadata": {
    "id": "yxTCUWjcZDqD"
   },
   "outputs": [],
   "source": [
    "seed_interactions_dict = collections.defaultdict(set)\n",
    "for key in seed_genes_ids:\n",
    "  seed_interactions_dict[key] = all_interactions_dict[key]"
   ]
  },
  {
   "cell_type": "markdown",
   "metadata": {
    "id": "s9sGTd8jifxs"
   },
   "source": [
    "# Protein interacting with seed genes"
   ]
  },
  {
   "cell_type": "code",
   "execution_count": 30,
   "metadata": {
    "colab": {
     "base_uri": "https://localhost:8080/"
    },
    "id": "XGPKvfXViXRw",
    "outputId": "f954da62-3de9-4df8-eb44-df5753d92a73"
   },
   "outputs": [
    {
     "data": {
      "text/plain": [
       "6140"
      ]
     },
     "execution_count": 30,
     "metadata": {},
     "output_type": "execute_result"
    }
   ],
   "source": [
    "non_seed_genes_ids = set()\n",
    "# from seed genes interactions dictionary, we retrieve all genes interacting with them\n",
    "# performing union of all set \n",
    "for key in seed_interactions_dict.keys():\n",
    "  non_seed_genes_ids = non_seed_genes_ids.union(seed_interactions_dict[key]) \n",
    "\n",
    "#We remove all seed genes included in the set\n",
    "non_seed_genes_ids = np.array([x for x in non_seed_genes_ids if x not in seed_genes_ids])\n",
    "\n",
    "# There we get only non seed gene which interacted with at least one seed gene\n",
    "len(non_seed_genes_ids)"
   ]
  },
  {
   "cell_type": "markdown",
   "metadata": {
    "id": "Q5Nin_0Ylelk"
   },
   "source": [
    "#Then we create a dictionary for interactions of non seed genes involved with at least one seed gene"
   ]
  },
  {
   "cell_type": "code",
   "execution_count": 31,
   "metadata": {
    "id": "vhayZxQEl-GB"
   },
   "outputs": [],
   "source": [
    "non_seed_interactions_dict = collections.defaultdict(set)\n",
    "\n",
    "#looping on non seed gend ids \n",
    "for key in non_seed_genes_ids:\n",
    "  # we retrieve interactions from all interactions dictionary \n",
    "  related_genes = all_interactions_dict[key]\n",
    "\n",
    "  related_non_seed_genes = [x for x in related_genes if x not in seed_genes_ids]\n",
    "\n",
    "  #we add it tho the seed genes iteractions dictionary \n",
    "  non_seed_interactions_dict[key] = set(related_non_seed_genes)\n"
   ]
  },
  {
   "cell_type": "markdown",
   "metadata": {
    "id": "1UYkzP2Ooq0y"
   },
   "source": [
    "#Lets put all this in a data frame"
   ]
  },
  {
   "cell_type": "code",
   "execution_count": 32,
   "metadata": {
    "id": "kwCN8oVAov8X"
   },
   "outputs": [],
   "source": [
    "values = []\n",
    "for a ,b in seed_interactions_dict.items():\n",
    "  values.append([a,'T',','.join(b)])\n",
    "\n",
    "for a ,b in non_seed_interactions_dict.items():\n",
    "  values.append([a,'F',','.join(b)])\n",
    "\n",
    "\n",
    "df = pd.DataFrame(values,columns=['gene_id','seed_gene_involved','interactions_seeds_ids'])"
   ]
  },
  {
   "cell_type": "markdown",
   "metadata": {
    "id": "Rv7M3vN6kkyV"
   },
   "source": []
  },
  {
   "cell_type": "code",
   "execution_count": 33,
   "metadata": {
    "colab": {
     "base_uri": "https://localhost:8080/",
     "height": 335
    },
    "id": "Vxu_l4gRgF1I",
    "outputId": "83825e09-0fa5-4e9d-99d1-be42a9cd158c"
   },
   "outputs": [
    {
     "data": {
      "text/html": [
       "<div>\n",
       "<style scoped>\n",
       "    .dataframe tbody tr th:only-of-type {\n",
       "        vertical-align: middle;\n",
       "    }\n",
       "\n",
       "    .dataframe tbody tr th {\n",
       "        vertical-align: top;\n",
       "    }\n",
       "\n",
       "    .dataframe thead th {\n",
       "        text-align: right;\n",
       "    }\n",
       "</style>\n",
       "<table border=\"1\" class=\"dataframe\">\n",
       "  <thead>\n",
       "    <tr style=\"text-align: right;\">\n",
       "      <th></th>\n",
       "      <th>gene_id</th>\n",
       "      <th>seed_gene_involved</th>\n",
       "      <th>interactions_seeds_ids</th>\n",
       "    </tr>\n",
       "  </thead>\n",
       "  <tbody>\n",
       "    <tr>\n",
       "      <th>1218</th>\n",
       "      <td>257629</td>\n",
       "      <td>F</td>\n",
       "      <td>10083,9258,5339,120892,57154</td>\n",
       "    </tr>\n",
       "    <tr>\n",
       "      <th>1861</th>\n",
       "      <td>238</td>\n",
       "      <td>F</td>\n",
       "      <td>10188,3009,10399,1025,142679,53358,5335,2064,3...</td>\n",
       "    </tr>\n",
       "    <tr>\n",
       "      <th>1708</th>\n",
       "      <td>114880</td>\n",
       "      <td>F</td>\n",
       "      <td>8844,112399,49854,6242,55667,10959,51133,57622...</td>\n",
       "    </tr>\n",
       "    <tr>\n",
       "      <th>10</th>\n",
       "      <td>23365</td>\n",
       "      <td>T</td>\n",
       "      <td>7706,5792,387,55789,115708,4646,10672,27252,10...</td>\n",
       "    </tr>\n",
       "    <tr>\n",
       "      <th>5511</th>\n",
       "      <td>18053</td>\n",
       "      <td>F</td>\n",
       "      <td>2885</td>\n",
       "    </tr>\n",
       "    <tr>\n",
       "      <th>1722</th>\n",
       "      <td>48</td>\n",
       "      <td>F</td>\n",
       "      <td>4703,113246,10482,84817,4343,856924,1540,14896...</td>\n",
       "    </tr>\n",
       "    <tr>\n",
       "      <th>2637</th>\n",
       "      <td>733686</td>\n",
       "      <td>F</td>\n",
       "      <td>54627</td>\n",
       "    </tr>\n",
       "    <tr>\n",
       "      <th>4748</th>\n",
       "      <td>5469</td>\n",
       "      <td>F</td>\n",
       "      <td>9439,23476,9412,547,29079,80854,9150,55671,857...</td>\n",
       "    </tr>\n",
       "    <tr>\n",
       "      <th>3976</th>\n",
       "      <td>9939</td>\n",
       "      <td>F</td>\n",
       "      <td>65110,22928,9055,4799,3921,7919,9675,155871,55...</td>\n",
       "    </tr>\n",
       "    <tr>\n",
       "      <th>3175</th>\n",
       "      <td>132141</td>\n",
       "      <td>F</td>\n",
       "      <td>22884,817,441250,55034,22894,5824,10381,8458,2...</td>\n",
       "    </tr>\n",
       "  </tbody>\n",
       "</table>\n",
       "</div>"
      ],
      "text/plain": [
       "     gene_id seed_gene_involved  \\\n",
       "1218  257629                  F   \n",
       "1861     238                  F   \n",
       "1708  114880                  F   \n",
       "10     23365                  T   \n",
       "5511   18053                  F   \n",
       "1722      48                  F   \n",
       "2637  733686                  F   \n",
       "4748    5469                  F   \n",
       "3976    9939                  F   \n",
       "3175  132141                  F   \n",
       "\n",
       "                                 interactions_seeds_ids  \n",
       "1218                       10083,9258,5339,120892,57154  \n",
       "1861  10188,3009,10399,1025,142679,53358,5335,2064,3...  \n",
       "1708  8844,112399,49854,6242,55667,10959,51133,57622...  \n",
       "10    7706,5792,387,55789,115708,4646,10672,27252,10...  \n",
       "5511                                               2885  \n",
       "1722  4703,113246,10482,84817,4343,856924,1540,14896...  \n",
       "2637                                              54627  \n",
       "4748  9439,23476,9412,547,29079,80854,9150,55671,857...  \n",
       "3976  65110,22928,9055,4799,3921,7919,9675,155871,55...  \n",
       "3175  22884,817,441250,55034,22894,5824,10381,8458,2...  "
      ]
     },
     "execution_count": 33,
     "metadata": {},
     "output_type": "execute_result"
    }
   ],
   "source": [
    "df.sample(10)"
   ]
  },
  {
   "cell_type": "markdown",
   "metadata": {
    "id": "TJBbwYRHq7kN"
   },
   "source": [
    "#1.2 b - Store data in csv format"
   ]
  },
  {
   "cell_type": "code",
   "execution_count": 34,
   "metadata": {
    "id": "QPjD8oRerEvB"
   },
   "outputs": [],
   "source": [
    "filename = dataset_folder + '1.2/interactions.csv'\n",
    "df.to_csv(filename, sep='\\t',index=False)"
   ]
  },
  {
   "cell_type": "markdown",
   "metadata": {
    "id": "UXgMRpllsi7k"
   },
   "source": [
    "#1.2 c - Summary"
   ]
  },
  {
   "cell_type": "code",
   "execution_count": 35,
   "metadata": {
    "id": "YaG9DNm0sqUu"
   },
   "outputs": [],
   "source": [
    "n_seed_disgenet = len(set(seed_genes_ids))\n",
    "n_seed_biogrid = len(set([gene for gene in genes_biogrid if gene in seed_genes_ids]))\n",
    "n_interacting_genes = len(set(genes_biogrid))\n",
    "n_interactions = biogrid_data.shape[0]"
   ]
  },
  {
   "cell_type": "code",
   "execution_count": 36,
   "metadata": {
    "colab": {
     "base_uri": "https://localhost:8080/",
     "height": 76
    },
    "id": "7FE6VV9fvlF6",
    "outputId": "11c7c702-c2aa-463a-81ed-1251df8946a8"
   },
   "outputs": [
    {
     "data": {
      "text/html": [
       "<div>\n",
       "<style scoped>\n",
       "    .dataframe tbody tr th:only-of-type {\n",
       "        vertical-align: middle;\n",
       "    }\n",
       "\n",
       "    .dataframe tbody tr th {\n",
       "        vertical-align: top;\n",
       "    }\n",
       "\n",
       "    .dataframe thead th {\n",
       "        text-align: right;\n",
       "    }\n",
       "</style>\n",
       "<table border=\"1\" class=\"dataframe\">\n",
       "  <thead>\n",
       "    <tr style=\"text-align: right;\">\n",
       "      <th></th>\n",
       "      <th>N° seed disgenet</th>\n",
       "      <th>N° seed biogrid</th>\n",
       "      <th>Interacting genes</th>\n",
       "      <th>Interactions</th>\n",
       "    </tr>\n",
       "  </thead>\n",
       "  <tbody>\n",
       "    <tr>\n",
       "      <th>0</th>\n",
       "      <td>102</td>\n",
       "      <td>101</td>\n",
       "      <td>26221</td>\n",
       "      <td>697802</td>\n",
       "    </tr>\n",
       "  </tbody>\n",
       "</table>\n",
       "</div>"
      ],
      "text/plain": [
       "   N° seed disgenet  N° seed biogrid  Interacting genes  Interactions\n",
       "0               102              101              26221        697802"
      ]
     },
     "execution_count": 36,
     "metadata": {},
     "output_type": "execute_result"
    }
   ],
   "source": [
    "table = [[n_seed_disgenet,n_seed_biogrid,n_interacting_genes,n_interactions]]\n",
    "summary = pd.DataFrame(table, columns=['N° seed disgenet','N° seed biogrid','Interacting genes','Interactions'])\n",
    "summary"
   ]
  },
  {
   "cell_type": "markdown",
   "metadata": {
    "id": "LV3ETnVpw0ec"
   },
   "source": [
    "#1.3 Arrange interaction data"
   ]
  },
  {
   "cell_type": "code",
   "execution_count": 37,
   "metadata": {
    "id": "MCf_dUzU2KXV"
   },
   "outputs": [],
   "source": [
    "genes_interactions = biogrid_data.values\n",
    "indexes = []\n",
    "i =0\n",
    "for row in genes_interactions:\n",
    "  check = str(row[1]) in seed_genes_ids\n",
    "  check_2 = str(row[2]) in seed_genes_ids\n",
    "  if check_2  and check:\n",
    "    indexes.append(i)\n",
    "    i= i+1\n",
    "  \n",
    "\n"
   ]
  },
  {
   "cell_type": "markdown",
   "metadata": {
    "id": "drl29t7ZB6K9"
   },
   "source": [
    "#1.2 a - seed genes interactome: interactions that involve seed genes only"
   ]
  },
  {
   "cell_type": "code",
   "execution_count": 38,
   "metadata": {
    "id": "FfUbqMsL_mKS"
   },
   "outputs": [],
   "source": [
    "only_seed_interactions = biogrid_data.iloc[indexes,[7,8,23,26]]\n",
    "only_seed_data = only_seed_interactions.values\n",
    "columns = ['interactor A gene symbol',' interactor B gene symbol', 'interactor A Uniprot AC', 'interactor B Uniprot AC']\n",
    "only_seed_interactions_df = pd.DataFrame(only_seed_data,columns=columns)"
   ]
  },
  {
   "cell_type": "code",
   "execution_count": 39,
   "metadata": {
    "colab": {
     "base_uri": "https://localhost:8080/",
     "height": 391
    },
    "id": "xmRUu8LcSrG_",
    "outputId": "99c4a4ae-b3f7-4902-f3cd-c595b46648d6"
   },
   "outputs": [],
   "source": [
    "#save gene seed interactions into csv file\n",
    "filename = dataset_folder + '1.3/gsi.csv'\n",
    "only_seed_interactions_df.to_csv(filename, sep='\\t',index=False)\n"
   ]
  },
  {
   "cell_type": "markdown",
   "metadata": {
    "id": "zzPvmZDaCIMw"
   },
   "source": [
    "#1.2 All proteins interacting with at least one seed gene"
   ]
  },
  {
   "cell_type": "code",
   "execution_count": 40,
   "metadata": {
    "colab": {
     "base_uri": "https://localhost:8080/"
    },
    "id": "ijLfvZuyCbDf",
    "outputId": "37609a82-13b5-447b-8ccc-ca1b19e642dd"
   },
   "outputs": [],
   "source": [
    "proteins_interactions = biogrid_data.values\n",
    "indexes = []\n",
    "i =0\n",
    "for row in proteins_interactions:\n",
    "  check_1 = str(row[1]) in seed_genes_ids\n",
    "  check_2 = str(row[2]) in seed_genes_ids\n",
    "  check_3 = row[35] =='Homo sapiens'\n",
    "  check_4 = row[36] =='Homo sapiens'\n",
    "  if (check_2  or check_1) & check_3 & check_4:\n",
    "    indexes.append(i)\n",
    "    i= i+1"
   ]
  },
  {
   "cell_type": "code",
   "execution_count": 41,
   "metadata": {
    "id": "eDImrysbQyIs"
   },
   "outputs": [],
   "source": [
    "all_proteins_interactions = biogrid_data.iloc[indexes,[7,8,23,26]]\n",
    "all_proteins_data = all_proteins_interactions.values\n",
    "columns = ['interactor A gene symbol',' interactor B gene symbol', 'interactor A Uniprot AC', 'interactor B Uniprot AC']\n",
    "all_proteins_interactions_df = pd.DataFrame(all_proteins_data,columns=columns)"
   ]
  },
  {
   "cell_type": "code",
   "execution_count": 42,
   "metadata": {
    "colab": {
     "base_uri": "https://localhost:8080/",
     "height": 391
    },
    "id": "b9J0UnIOR0vF",
    "outputId": "fb9bf065-1455-4b28-d3eb-042ba85381bc"
   },
   "outputs": [],
   "source": [
    "#save inteactome disease csv\n",
    "filename = dataset_folder + '1.3/interactome.csv'\n",
    "all_proteins_interactions_df.to_csv(filename, sep='\\t',index=False)\n",
    "\n"
   ]
  },
  {
   "cell_type": "markdown",
   "metadata": {
    "id": "BZLAlssjB4xV"
   },
   "source": []
  }
 ],
 "metadata": {
  "colab": {
   "name": "BI_hw1.ipynb",
   "provenance": []
  },
  "kernelspec": {
   "display_name": "Python 3",
   "language": "python",
   "name": "python3"
  },
  "language_info": {
   "codemirror_mode": {
    "name": "ipython",
    "version": 3
   },
   "file_extension": ".py",
   "mimetype": "text/x-python",
   "name": "python",
   "nbconvert_exporter": "python",
   "pygments_lexer": "ipython3",
   "version": "3.7.9"
  }
 },
 "nbformat": 4,
 "nbformat_minor": 1
}
