{
  "nbformat": 4,
  "nbformat_minor": 0,
  "metadata": {
    "colab": {
      "name": "BI_hw1.ipynb",
      "provenance": [],
      "include_colab_link": true
    },
    "kernelspec": {
      "display_name": "Python 3",
      "language": "python",
      "name": "python3"
    },
    "language_info": {
      "codemirror_mode": {
        "name": "ipython",
        "version": 3
      },
      "file_extension": ".py",
      "mimetype": "text/x-python",
      "name": "python",
      "nbconvert_exporter": "python",
      "pygments_lexer": "ipython3",
      "version": "3.7.9"
    }
  },
  "cells": [
    {
      "cell_type": "markdown",
      "metadata": {
        "id": "view-in-github",
        "colab_type": "text"
      },
      "source": [
        "<a href=\"https://colab.research.google.com/github/AlessandroTaglieri/Project_Bioinformatics/blob/main/First%20project/BI_hw1.ipynb\" target=\"_parent\"><img src=\"https://colab.research.google.com/assets/colab-badge.svg\" alt=\"Open In Colab\"/></a>"
      ]
    },
    {
      "cell_type": "code",
      "metadata": {
        "colab": {
          "base_uri": "https://localhost:8080/"
        },
        "id": "Wl57nROYOHl2",
        "outputId": "c8776330-829a-481d-a4ff-9404a2193ade"
      },
      "source": [
        "\n",
        "#comment if not running on colab\n",
        "from google.colab import drive\n",
        "drive.mount('/content/drive')"
      ],
      "execution_count": 1,
      "outputs": [
        {
          "output_type": "stream",
          "text": [
            "Mounted at /content/drive\n"
          ],
          "name": "stdout"
        }
      ]
    },
    {
      "cell_type": "code",
      "metadata": {
        "id": "alx8FV2wNvpf"
      },
      "source": [
        "#import libraries\n",
        "import pandas as pd\n",
        "import os\n",
        "import numpy as np\n",
        "import collections"
      ],
      "execution_count": 2,
      "outputs": []
    },
    {
      "cell_type": "code",
      "metadata": {
        "id": "DZFUTIgrOdVR"
      },
      "source": [
        "#change project folder to match yours\n",
        "project_folder ='/content/drive/MyDrive/BioinfoProject/Project_Bioinformatics/First_project/'\n",
        "#project_folder ='/'"
      ],
      "execution_count": 4,
      "outputs": []
    },
    {
      "cell_type": "code",
      "metadata": {
        "id": "I5uthtmDO--E"
      },
      "source": [
        "#change dataset folder to match yours\n",
        "dataset_folder = os.path.join(project_folder,'dataset/')"
      ],
      "execution_count": 5,
      "outputs": []
    },
    {
      "cell_type": "code",
      "metadata": {
        "id": "v54OIcfYmoOg"
      },
      "source": [
        "#only in local\n",
        "#dataset_folder=\"dataset/\""
      ],
      "execution_count": null,
      "outputs": []
    },
    {
      "cell_type": "markdown",
      "metadata": {
        "id": "Qmi-z0dbNvpg"
      },
      "source": [
        "# 1.1"
      ]
    },
    {
      "cell_type": "code",
      "metadata": {
        "id": "qEGJ9Cf8Nvpg"
      },
      "source": [
        "#download curated gene-diesase associtaions from https://www.disgenet.org/downloads and covnert tsv in csv\n",
        "\n",
        "data = pd.read_csv(dataset_folder+ '1.1/curated_gene_disease_associations.csv')\n",
        "#get only data for intereted gene id C0043094\n",
        "gene_disease = data.loc[data['diseaseId'] == 'C0043094']\n",
        "\n",
        "#get list og gene symbols\n",
        "list_geneSymbol = gene_disease['geneSymbol']\n",
        "\n",
        "\n",
        "#download hgnc dataset from https://www.genenames.org/download/statistics-and-files/\n",
        "hgnc = pd.read_csv(dataset_folder+ \"1.1/hgnc_complete_set.txt\", sep='\\t', dtype = 'unicode')\n",
        "\n",
        "#get data (symbol,name,entrez_id,unirpot_idasdn status) for only genes stored in previous list\n",
        "genes_diseases_hgnc = hgnc.loc[hgnc['symbol'].isin(list_geneSymbol)][['symbol','name','entrez_id','uniprot_ids','status']]\n",
        "\n",
        "#get only approved data\n",
        "genes_diseases_hgnc_app = genes_diseases_hgnc.loc[genes_diseases_hgnc['status']=='Approved']\n",
        "\n",
        "\n",
        "#get list ofuniprotidthat we'll useto find gene descriptionin Uniprot\n",
        "list_uniprotID = genes_diseases_hgnc_app['uniprot_ids']\n",
        "\n",
        "#write in a file alll uniprot ids. This is necessary because we'll download only necessary description for these genes from uniprot \n",
        "with open(dataset_folder+ '1.1/uniprot_ids.txt', 'w') as f:\n",
        "    for item in list_uniprotID:\n",
        "        f.write(\"%s\\n\" % item)\n",
        "    f.close()\n",
        "\n",
        "#download data containing description for every gene. We used txt file for download them\n",
        "gene_description = pd.read_csv(dataset_folder+ '1.1/uniprot-yourlist%3AM20201123A94466D2655679D1FD8953E075198DA817123DO.csv')\n",
        "\n",
        "#rename column for the function of the gene\n",
        "gene_description=gene_description.rename(columns={\"yourlist:M20201123A94466D2655679D1FD8953E075198DA817123DO\":\"uniprot_ids\"})\n",
        "\n",
        "#merge two dataset. One containing all info about gene and the second one conatining description about their functions\n",
        "final_genes_deseas = pd.merge(gene_description, genes_diseases_hgnc_app, on='uniprot_ids')\n",
        "#rename column\n",
        "final_genes_deseas=final_genes_deseas.rename(columns={\"Function [CC]\":\"function\"})\n",
        "#get only first part of gene description\n",
        "final_genes_deseas['Description']= final_genes_deseas.function.str[10:150]\n",
        "#delete not necessary columns\n",
        "final_genes_deseas = final_genes_deseas.drop(['function','Entry','status'], axis = 1) \n",
        "final_genes_deseas = final_genes_deseas[['symbol','uniprot_ids','name','entrez_id','Description']]"
      ],
      "execution_count": 6,
      "outputs": []
    },
    {
      "cell_type": "code",
      "metadata": {
        "id": "TAO1bw4ONvpg"
      },
      "source": [
        "#fix column names and save xlsx file\n",
        "final_genes_deseas.rename(columns={\"symbol\":\"Gene symbol\",\"uniprot_ids\":\"Uniprot AC\",\"name\":'Protein name','entrez_id':\"Entrez Gene ID\"})\n",
        "final_genes_deseas.to_excel(dataset_folder+ '1.1/1.1-gene_deseas_associations.xlsx')\n",
        "final_genes_deseas.to_csv(dataset_folder+ '1.1/1.1-gene_deseas_associations.csv')"
      ],
      "execution_count": 7,
      "outputs": []
    },
    {
      "cell_type": "code",
      "metadata": {
        "colab": {
          "base_uri": "https://localhost:8080/",
          "height": 0
        },
        "id": "9FVmghYoQdJR",
        "outputId": "30543494-3f77-4aef-d3f1-32fc35bcb400"
      },
      "source": [
        "final_genes_deseas"
      ],
      "execution_count": 8,
      "outputs": [
        {
          "output_type": "execute_result",
          "data": {
            "text/html": [
              "<div>\n",
              "<style scoped>\n",
              "    .dataframe tbody tr th:only-of-type {\n",
              "        vertical-align: middle;\n",
              "    }\n",
              "\n",
              "    .dataframe tbody tr th {\n",
              "        vertical-align: top;\n",
              "    }\n",
              "\n",
              "    .dataframe thead th {\n",
              "        text-align: right;\n",
              "    }\n",
              "</style>\n",
              "<table border=\"1\" class=\"dataframe\">\n",
              "  <thead>\n",
              "    <tr style=\"text-align: right;\">\n",
              "      <th></th>\n",
              "      <th>symbol</th>\n",
              "      <th>uniprot_ids</th>\n",
              "      <th>name</th>\n",
              "      <th>entrez_id</th>\n",
              "      <th>Description</th>\n",
              "    </tr>\n",
              "  </thead>\n",
              "  <tbody>\n",
              "    <tr>\n",
              "      <th>0</th>\n",
              "      <td>ABCG1</td>\n",
              "      <td>P45844</td>\n",
              "      <td>ATP binding cassette subfamily G member 1</td>\n",
              "      <td>9619</td>\n",
              "      <td>Catalyzes the efflux of phospholipids such as ...</td>\n",
              "    </tr>\n",
              "    <tr>\n",
              "      <th>1</th>\n",
              "      <td>ACADM</td>\n",
              "      <td>P11310</td>\n",
              "      <td>acyl-CoA dehydrogenase medium chain</td>\n",
              "      <td>34</td>\n",
              "      <td>Acyl-CoA dehydrogenase specific for acyl chain...</td>\n",
              "    </tr>\n",
              "    <tr>\n",
              "      <th>2</th>\n",
              "      <td>ACE</td>\n",
              "      <td>P12821</td>\n",
              "      <td>angiotensin I converting enzyme</td>\n",
              "      <td>1636</td>\n",
              "      <td>Converts angiotensin I to angiotensin II by re...</td>\n",
              "    </tr>\n",
              "    <tr>\n",
              "      <th>3</th>\n",
              "      <td>ADIPOQ</td>\n",
              "      <td>Q15848</td>\n",
              "      <td>adiponectin, C1Q and collagen domain containing</td>\n",
              "      <td>9370</td>\n",
              "      <td>Important adipokine involved in the control of...</td>\n",
              "    </tr>\n",
              "    <tr>\n",
              "      <th>4</th>\n",
              "      <td>AHR</td>\n",
              "      <td>P35869</td>\n",
              "      <td>aryl hydrocarbon receptor</td>\n",
              "      <td>196</td>\n",
              "      <td>Ligand-activated transcriptional activator. Bi...</td>\n",
              "    </tr>\n",
              "    <tr>\n",
              "      <th>...</th>\n",
              "      <td>...</td>\n",
              "      <td>...</td>\n",
              "      <td>...</td>\n",
              "      <td>...</td>\n",
              "      <td>...</td>\n",
              "    </tr>\n",
              "    <tr>\n",
              "      <th>97</th>\n",
              "      <td>TSEN2</td>\n",
              "      <td>Q8NCE0</td>\n",
              "      <td>tRNA splicing endonuclease subunit 2</td>\n",
              "      <td>80746</td>\n",
              "      <td>Constitutes one of the two catalytic subunit o...</td>\n",
              "    </tr>\n",
              "    <tr>\n",
              "      <th>98</th>\n",
              "      <td>VIM</td>\n",
              "      <td>P08670</td>\n",
              "      <td>vimentin</td>\n",
              "      <td>7431</td>\n",
              "      <td>Vimentins are class-III intermediate filaments...</td>\n",
              "    </tr>\n",
              "    <tr>\n",
              "      <th>99</th>\n",
              "      <td>VPS13D</td>\n",
              "      <td>Q5THJ4</td>\n",
              "      <td>vacuolar protein sorting 13 homolog D</td>\n",
              "      <td>55187</td>\n",
              "      <td>Functions in promoting mitochondrial clearance...</td>\n",
              "    </tr>\n",
              "    <tr>\n",
              "      <th>100</th>\n",
              "      <td>ZDHHC2</td>\n",
              "      <td>Q9UIJ5</td>\n",
              "      <td>zinc finger DHHC-type palmitoyltransferase 2</td>\n",
              "      <td>51201</td>\n",
              "      <td>Palmitoyltransferase that catalyzes the additi...</td>\n",
              "    </tr>\n",
              "    <tr>\n",
              "      <th>101</th>\n",
              "      <td>ZWILCH</td>\n",
              "      <td>Q9H900</td>\n",
              "      <td>zwilch kinetochore protein</td>\n",
              "      <td>55055</td>\n",
              "      <td>Essential component of the mitotic checkpoint,...</td>\n",
              "    </tr>\n",
              "  </tbody>\n",
              "</table>\n",
              "<p>102 rows × 5 columns</p>\n",
              "</div>"
            ],
            "text/plain": [
              "     symbol  ...                                        Description\n",
              "0     ABCG1  ...  Catalyzes the efflux of phospholipids such as ...\n",
              "1     ACADM  ...  Acyl-CoA dehydrogenase specific for acyl chain...\n",
              "2       ACE  ...  Converts angiotensin I to angiotensin II by re...\n",
              "3    ADIPOQ  ...  Important adipokine involved in the control of...\n",
              "4       AHR  ...  Ligand-activated transcriptional activator. Bi...\n",
              "..      ...  ...                                                ...\n",
              "97    TSEN2  ...  Constitutes one of the two catalytic subunit o...\n",
              "98      VIM  ...  Vimentins are class-III intermediate filaments...\n",
              "99   VPS13D  ...  Functions in promoting mitochondrial clearance...\n",
              "100  ZDHHC2  ...  Palmitoyltransferase that catalyzes the additi...\n",
              "101  ZWILCH  ...  Essential component of the mitotic checkpoint,...\n",
              "\n",
              "[102 rows x 5 columns]"
            ]
          },
          "metadata": {
            "tags": []
          },
          "execution_count": 8
        }
      ]
    },
    {
      "cell_type": "markdown",
      "metadata": {
        "id": "QwICM-22Nvpg"
      },
      "source": [
        "# 1.2"
      ]
    },
    {
      "cell_type": "markdown",
      "metadata": {
        "id": "_NEfYc7Z2cGQ"
      },
      "source": [
        "# Get biogrid data"
      ]
    },
    {
      "cell_type": "code",
      "metadata": {
        "id": "4CKrwuvimoOh",
        "outputId": "825da403-e551-42bc-bdd1-966d57b0ad9c",
        "colab": {
          "base_uri": "https://localhost:8080/"
        }
      },
      "source": [
        "#read biogrid dataset \n",
        "biogrid_datafile = dataset_folder+'1.2/BIOGRID-ORGANISM-Homo_sapiens-4.2.191.tab3.txt'\n",
        "biogrid_data = pd.read_csv(biogrid_datafile,sep='\\t')\n",
        "#biogrid_data.info()"
      ],
      "execution_count": 9,
      "outputs": [
        {
          "output_type": "stream",
          "text": [
            "/usr/local/lib/python3.6/dist-packages/IPython/core/interactiveshell.py:2718: DtypeWarning: Columns (1,18) have mixed types.Specify dtype option on import or set low_memory=False.\n",
            "  interactivity=interactivity, compiler=compiler, result=result)\n"
          ],
          "name": "stderr"
        }
      ]
    },
    {
      "cell_type": "code",
      "metadata": {
        "colab": {
          "base_uri": "https://localhost:8080/",
          "height": 0
        },
        "id": "5YHuXbx3RLid",
        "outputId": "07bfc45c-c4dd-4001-99d8-b2d996a70d22"
      },
      "source": [
        "biogrid_data.head(5)"
      ],
      "execution_count": 10,
      "outputs": [
        {
          "output_type": "execute_result",
          "data": {
            "text/html": [
              "<div>\n",
              "<style scoped>\n",
              "    .dataframe tbody tr th:only-of-type {\n",
              "        vertical-align: middle;\n",
              "    }\n",
              "\n",
              "    .dataframe tbody tr th {\n",
              "        vertical-align: top;\n",
              "    }\n",
              "\n",
              "    .dataframe thead th {\n",
              "        text-align: right;\n",
              "    }\n",
              "</style>\n",
              "<table border=\"1\" class=\"dataframe\">\n",
              "  <thead>\n",
              "    <tr style=\"text-align: right;\">\n",
              "      <th></th>\n",
              "      <th>#BioGRID Interaction ID</th>\n",
              "      <th>Entrez Gene Interactor A</th>\n",
              "      <th>Entrez Gene Interactor B</th>\n",
              "      <th>BioGRID ID Interactor A</th>\n",
              "      <th>BioGRID ID Interactor B</th>\n",
              "      <th>Systematic Name Interactor A</th>\n",
              "      <th>Systematic Name Interactor B</th>\n",
              "      <th>Official Symbol Interactor A</th>\n",
              "      <th>Official Symbol Interactor B</th>\n",
              "      <th>Synonyms Interactor A</th>\n",
              "      <th>Synonyms Interactor B</th>\n",
              "      <th>Experimental System</th>\n",
              "      <th>Experimental System Type</th>\n",
              "      <th>Author</th>\n",
              "      <th>Publication Source</th>\n",
              "      <th>Organism ID Interactor A</th>\n",
              "      <th>Organism ID Interactor B</th>\n",
              "      <th>Throughput</th>\n",
              "      <th>Score</th>\n",
              "      <th>Modification</th>\n",
              "      <th>Qualifications</th>\n",
              "      <th>Tags</th>\n",
              "      <th>Source Database</th>\n",
              "      <th>SWISS-PROT Accessions Interactor A</th>\n",
              "      <th>TREMBL Accessions Interactor A</th>\n",
              "      <th>REFSEQ Accessions Interactor A</th>\n",
              "      <th>SWISS-PROT Accessions Interactor B</th>\n",
              "      <th>TREMBL Accessions Interactor B</th>\n",
              "      <th>REFSEQ Accessions Interactor B</th>\n",
              "      <th>Ontology Term IDs</th>\n",
              "      <th>Ontology Term Names</th>\n",
              "      <th>Ontology Term Categories</th>\n",
              "      <th>Ontology Term Qualifier IDs</th>\n",
              "      <th>Ontology Term Qualifier Names</th>\n",
              "      <th>Ontology Term Types</th>\n",
              "      <th>Organism Name Interactor A</th>\n",
              "      <th>Organism Name Interactor B</th>\n",
              "    </tr>\n",
              "  </thead>\n",
              "  <tbody>\n",
              "    <tr>\n",
              "      <th>0</th>\n",
              "      <td>103</td>\n",
              "      <td>6416</td>\n",
              "      <td>2318</td>\n",
              "      <td>112315</td>\n",
              "      <td>108607</td>\n",
              "      <td>-</td>\n",
              "      <td>-</td>\n",
              "      <td>MAP2K4</td>\n",
              "      <td>FLNC</td>\n",
              "      <td>JNKK|JNKK1|MAPKK4|MEK4|MKK4|PRKMK4|SAPKK-1|SAP...</td>\n",
              "      <td>ABP-280|ABP280A|ABPA|ABPL|FLN2|MFM5|MPD4</td>\n",
              "      <td>Two-hybrid</td>\n",
              "      <td>physical</td>\n",
              "      <td>Marti A (1997)</td>\n",
              "      <td>PUBMED:9006895</td>\n",
              "      <td>9606</td>\n",
              "      <td>9606</td>\n",
              "      <td>Low Throughput</td>\n",
              "      <td>-</td>\n",
              "      <td>-</td>\n",
              "      <td>-</td>\n",
              "      <td>-</td>\n",
              "      <td>BIOGRID</td>\n",
              "      <td>P45985</td>\n",
              "      <td>-</td>\n",
              "      <td>NP_003001|NP_001268364</td>\n",
              "      <td>Q14315</td>\n",
              "      <td>Q59H94</td>\n",
              "      <td>NP_001120959|NP_001449</td>\n",
              "      <td>-</td>\n",
              "      <td>-</td>\n",
              "      <td>-</td>\n",
              "      <td>-</td>\n",
              "      <td>-</td>\n",
              "      <td>-</td>\n",
              "      <td>Homo sapiens</td>\n",
              "      <td>Homo sapiens</td>\n",
              "    </tr>\n",
              "    <tr>\n",
              "      <th>1</th>\n",
              "      <td>117</td>\n",
              "      <td>84665</td>\n",
              "      <td>88</td>\n",
              "      <td>124185</td>\n",
              "      <td>106603</td>\n",
              "      <td>-</td>\n",
              "      <td>-</td>\n",
              "      <td>MYPN</td>\n",
              "      <td>ACTN2</td>\n",
              "      <td>CMD1DD|CMH22|MYOP|RCM4</td>\n",
              "      <td>CMD1AA</td>\n",
              "      <td>Two-hybrid</td>\n",
              "      <td>physical</td>\n",
              "      <td>Bang ML (2001)</td>\n",
              "      <td>PUBMED:11309420</td>\n",
              "      <td>9606</td>\n",
              "      <td>9606</td>\n",
              "      <td>Low Throughput</td>\n",
              "      <td>-</td>\n",
              "      <td>-</td>\n",
              "      <td>-</td>\n",
              "      <td>-</td>\n",
              "      <td>BIOGRID</td>\n",
              "      <td>Q86TC9</td>\n",
              "      <td>A0A087WX60</td>\n",
              "      <td>NP_001243197|NP_001243196|NP_115967</td>\n",
              "      <td>P35609</td>\n",
              "      <td>Q59FD9|F6THM6</td>\n",
              "      <td>NP_001094|NP_001265272|NP_001265273</td>\n",
              "      <td>-</td>\n",
              "      <td>-</td>\n",
              "      <td>-</td>\n",
              "      <td>-</td>\n",
              "      <td>-</td>\n",
              "      <td>-</td>\n",
              "      <td>Homo sapiens</td>\n",
              "      <td>Homo sapiens</td>\n",
              "    </tr>\n",
              "    <tr>\n",
              "      <th>2</th>\n",
              "      <td>183</td>\n",
              "      <td>90</td>\n",
              "      <td>2339</td>\n",
              "      <td>106605</td>\n",
              "      <td>108625</td>\n",
              "      <td>-</td>\n",
              "      <td>-</td>\n",
              "      <td>ACVR1</td>\n",
              "      <td>FNTA</td>\n",
              "      <td>ACTRI|ACVR1A|ACVRLK2|ALK2|FOP|SKR1|TSRI</td>\n",
              "      <td>FPTA|PGGT1A|PTAR2</td>\n",
              "      <td>Two-hybrid</td>\n",
              "      <td>physical</td>\n",
              "      <td>Wang T (1996)</td>\n",
              "      <td>PUBMED:8599089</td>\n",
              "      <td>9606</td>\n",
              "      <td>9606</td>\n",
              "      <td>Low Throughput</td>\n",
              "      <td>-</td>\n",
              "      <td>-</td>\n",
              "      <td>-</td>\n",
              "      <td>-</td>\n",
              "      <td>BIOGRID</td>\n",
              "      <td>Q04771</td>\n",
              "      <td>D3DPA4</td>\n",
              "      <td>NP_001104537|NP_001096</td>\n",
              "      <td>P49354</td>\n",
              "      <td>-</td>\n",
              "      <td>NP_002018</td>\n",
              "      <td>-</td>\n",
              "      <td>-</td>\n",
              "      <td>-</td>\n",
              "      <td>-</td>\n",
              "      <td>-</td>\n",
              "      <td>-</td>\n",
              "      <td>Homo sapiens</td>\n",
              "      <td>Homo sapiens</td>\n",
              "    </tr>\n",
              "    <tr>\n",
              "      <th>3</th>\n",
              "      <td>278</td>\n",
              "      <td>2624</td>\n",
              "      <td>5371</td>\n",
              "      <td>108894</td>\n",
              "      <td>111384</td>\n",
              "      <td>-</td>\n",
              "      <td>-</td>\n",
              "      <td>GATA2</td>\n",
              "      <td>PML</td>\n",
              "      <td>DCML|IMD21|MONOMAC|NFE1B</td>\n",
              "      <td>MYL|PP8675|RNF71|TRIM19</td>\n",
              "      <td>Two-hybrid</td>\n",
              "      <td>physical</td>\n",
              "      <td>Tsuzuki S (2000)</td>\n",
              "      <td>PUBMED:10938104</td>\n",
              "      <td>9606</td>\n",
              "      <td>9606</td>\n",
              "      <td>Low Throughput</td>\n",
              "      <td>-</td>\n",
              "      <td>-</td>\n",
              "      <td>-</td>\n",
              "      <td>-</td>\n",
              "      <td>BIOGRID</td>\n",
              "      <td>P23769</td>\n",
              "      <td>-</td>\n",
              "      <td>NP_001139134|NP_116027|NP_001139133</td>\n",
              "      <td>P29590</td>\n",
              "      <td>-</td>\n",
              "      <td>NP_150250|NP_150253|NP_150252|NP_150247|NP_150...</td>\n",
              "      <td>-</td>\n",
              "      <td>-</td>\n",
              "      <td>-</td>\n",
              "      <td>-</td>\n",
              "      <td>-</td>\n",
              "      <td>-</td>\n",
              "      <td>Homo sapiens</td>\n",
              "      <td>Homo sapiens</td>\n",
              "    </tr>\n",
              "    <tr>\n",
              "      <th>4</th>\n",
              "      <td>418</td>\n",
              "      <td>6118</td>\n",
              "      <td>6774</td>\n",
              "      <td>112038</td>\n",
              "      <td>112651</td>\n",
              "      <td>RP4-547C9.3</td>\n",
              "      <td>-</td>\n",
              "      <td>RPA2</td>\n",
              "      <td>STAT3</td>\n",
              "      <td>REPA2|RP-A p32|RP-A p34|RPA32</td>\n",
              "      <td>ADMIO|APRF|HIES</td>\n",
              "      <td>Two-hybrid</td>\n",
              "      <td>physical</td>\n",
              "      <td>Kim J (2000)</td>\n",
              "      <td>PUBMED:10875894</td>\n",
              "      <td>9606</td>\n",
              "      <td>9606</td>\n",
              "      <td>Low Throughput</td>\n",
              "      <td>-</td>\n",
              "      <td>-</td>\n",
              "      <td>-</td>\n",
              "      <td>-</td>\n",
              "      <td>BIOGRID</td>\n",
              "      <td>P15927</td>\n",
              "      <td>B4DUL2</td>\n",
              "      <td>NP_001342057|NP_002937|NP_001284487|NP_0013420...</td>\n",
              "      <td>P40763</td>\n",
              "      <td>-</td>\n",
              "      <td>NP_644805|NP_003141|NP_001356447|NP_001356443|...</td>\n",
              "      <td>-</td>\n",
              "      <td>-</td>\n",
              "      <td>-</td>\n",
              "      <td>-</td>\n",
              "      <td>-</td>\n",
              "      <td>-</td>\n",
              "      <td>Homo sapiens</td>\n",
              "      <td>Homo sapiens</td>\n",
              "    </tr>\n",
              "  </tbody>\n",
              "</table>\n",
              "</div>"
            ],
            "text/plain": [
              "   #BioGRID Interaction ID  ... Organism Name Interactor B\n",
              "0                      103  ...               Homo sapiens\n",
              "1                      117  ...               Homo sapiens\n",
              "2                      183  ...               Homo sapiens\n",
              "3                      278  ...               Homo sapiens\n",
              "4                      418  ...               Homo sapiens\n",
              "\n",
              "[5 rows x 37 columns]"
            ]
          },
          "metadata": {
            "tags": []
          },
          "execution_count": 10
        }
      ]
    },
    {
      "cell_type": "code",
      "metadata": {
        "colab": {
          "base_uri": "https://localhost:8080/"
        },
        "id": "-LGQgQwc_2uO",
        "outputId": "f02bd850-52b4-4167-f29c-710731dd981a"
      },
      "source": [
        "gene_A_list = biogrid_data.iloc[:,1].values\n",
        "gene_B_list = biogrid_data.iloc[:,2].values\n",
        "A_B_list = np.append(gene_A_list,gene_B_list)\n",
        "A_set = set(gene_A_list)\n",
        "len(A_set)\n"
      ],
      "execution_count": 11,
      "outputs": [
        {
          "output_type": "execute_result",
          "data": {
            "text/plain": [
              "20765"
            ]
          },
          "metadata": {
            "tags": []
          },
          "execution_count": 11
        }
      ]
    },
    {
      "cell_type": "code",
      "metadata": {
        "colab": {
          "base_uri": "https://localhost:8080/"
        },
        "id": "2yRlt0GsEmL_",
        "outputId": "c63cea00-b2fe-4975-f430-6a9e2179202f"
      },
      "source": [
        "B_set =  set(gene_B_list)\n",
        "len(B_set)"
      ],
      "execution_count": 12,
      "outputs": [
        {
          "output_type": "execute_result",
          "data": {
            "text/plain": [
              "23834"
            ]
          },
          "metadata": {
            "tags": []
          },
          "execution_count": 12
        }
      ]
    },
    {
      "cell_type": "code",
      "metadata": {
        "colab": {
          "base_uri": "https://localhost:8080/"
        },
        "id": "Dihn_yMlF4va",
        "outputId": "106c3c6c-ea90-4edc-bfd7-0a779f168e58"
      },
      "source": [
        "A_B_set = set(A_B_list)\n",
        "len(A_B_set)"
      ],
      "execution_count": 13,
      "outputs": [
        {
          "output_type": "execute_result",
          "data": {
            "text/plain": [
              "29449"
            ]
          },
          "metadata": {
            "tags": []
          },
          "execution_count": 13
        }
      ]
    },
    {
      "cell_type": "markdown",
      "metadata": {
        "id": "H4Jif0i0JY1V"
      },
      "source": [
        "#Get all nodes involved in interactions \n",
        "#removing non numeric nodes\n",
        "\n",
        "---\n",
        "\n"
      ]
    },
    {
      "cell_type": "code",
      "metadata": {
        "colab": {
          "base_uri": "https://localhost:8080/"
        },
        "id": "YQ2tGfcAHpu6",
        "outputId": "7a036427-9070-4226-8cbe-37beb681b671"
      },
      "source": [
        "genes_biogrid = np.array([x for x in A_B_set if str.isdigit(str(x))])\n",
        "genes_biogrid"
      ],
      "execution_count": 14,
      "outputs": [
        {
          "output_type": "execute_result",
          "data": {
            "text/plain": [
              "array(['1', '2', '131076', ..., '131034', '5977', '4830'], dtype='<U21')"
            ]
          },
          "metadata": {
            "tags": []
          },
          "execution_count": 14
        }
      ]
    },
    {
      "cell_type": "markdown",
      "metadata": {
        "id": "KR4mMY8cJpV5"
      },
      "source": [
        "#Get all interactions \n",
        "#removing invalid nodes with invalid ID \n"
      ]
    },
    {
      "cell_type": "code",
      "metadata": {
        "colab": {
          "base_uri": "https://localhost:8080/"
        },
        "id": "gLR8LCg5D6TR",
        "outputId": "9ce1729e-57a4-4134-b826-ec159ca02054"
      },
      "source": [
        "interactions = biogrid_data.iloc[:,1:3].values\n",
        "#interactions =np.array([[a,b] for a,b in interactions if(str.isdigit(str(a)) & str.isdigit(str(b)))])\n",
        "interactions =np.array([[a,b] for a,b in interactions ])\n",
        "interactions.shape"
      ],
      "execution_count": 15,
      "outputs": [
        {
          "output_type": "execute_result",
          "data": {
            "text/plain": [
              "(697802, 2)"
            ]
          },
          "metadata": {
            "tags": []
          },
          "execution_count": 15
        }
      ]
    },
    {
      "cell_type": "markdown",
      "metadata": {
        "id": "q6HEt4l2UQxA"
      },
      "source": [
        "# Seed gene list "
      ]
    },
    {
      "cell_type": "code",
      "metadata": {
        "colab": {
          "base_uri": "https://localhost:8080/"
        },
        "id": "nobmzU_UUPM8",
        "outputId": "d3813451-5d20-4959-e808-bc7f875f4b92"
      },
      "source": [
        "seed_genes_ids  =  final_genes_deseas['entrez_id'].values\n",
        "seed_genes_ids"
      ],
      "execution_count": 16,
      "outputs": [
        {
          "output_type": "execute_result",
          "data": {
            "text/plain": [
              "array(['9619', '34', '1636', '9370', '196', '1646', '302', '308', '323',\n",
              "       '351', '23365', '586', '801', '857', '284119', '948', '25932',\n",
              "       '1268', '26958', '1509', '1565', '8701', '1813', '1783', '2146',\n",
              "       '285172', '2199', '23014', '9637', '2246', '55277', '11167',\n",
              "       '79068', '9518', '2688', '51738', '2784', '2888', '2934', '84064',\n",
              "       '3358', '3620', '3488', '51141', '51194', '8826', '3778', '3779',\n",
              "       '9215', '3929', '3952', '3953', '9926', '4134', '22919', '4137',\n",
              "       '4199', '4232', '284207', '4313', '4321', '23164', '4430', '4651',\n",
              "       '55706', '4715', '140609', '4811', '4883', '114882', '5020',\n",
              "       '23022', '51449', '5290', '5443', '5467', '23683', '5631', '29108',\n",
              "       '10266', '5986', '6158', '6202', '6234', '6259', '51091', '91404',\n",
              "       '26040', '26037', '10569', '8470', '6678', '6711', '57620', '412',\n",
              "       '7124', '7171', '80746', '7431', '55187', '51201', '55055'],\n",
              "      dtype=object)"
            ]
          },
          "metadata": {
            "tags": []
          },
          "execution_count": 16
        }
      ]
    },
    {
      "cell_type": "markdown",
      "metadata": {
        "id": "9mzjaC-TU0ev"
      },
      "source": [
        "#Now we build a dictionary of all interactions"
      ]
    },
    {
      "cell_type": "code",
      "metadata": {
        "id": "ZuBk2xllVaX3"
      },
      "source": [
        "all_interactions_dict = collections.defaultdict(set)\n",
        "for a,b in interactions:\n",
        "  all_interactions_dict[a].add(b)\n",
        "  all_interactions_dict[b].add(a)"
      ],
      "execution_count": 17,
      "outputs": []
    },
    {
      "cell_type": "markdown",
      "metadata": {
        "id": "QTsPM8xqiLc9"
      },
      "source": [
        "# Interactions including seed genes "
      ]
    },
    {
      "cell_type": "code",
      "metadata": {
        "id": "yxTCUWjcZDqD"
      },
      "source": [
        "seed_interactions_dict = collections.defaultdict(set)\n",
        "for key in seed_genes_ids:\n",
        "  seed_interactions_dict[key] = all_interactions_dict[key]"
      ],
      "execution_count": 18,
      "outputs": []
    },
    {
      "cell_type": "markdown",
      "metadata": {
        "id": "s9sGTd8jifxs"
      },
      "source": [
        "# Protein interacting with seed genes"
      ]
    },
    {
      "cell_type": "code",
      "metadata": {
        "colab": {
          "base_uri": "https://localhost:8080/"
        },
        "id": "XGPKvfXViXRw",
        "outputId": "9c5e6b32-6cb6-49bb-cbef-c89df83a87ed"
      },
      "source": [
        "non_seed_genes_ids = set()\n",
        "# from seed genes interactions dictionary, we retrieve all genes interacting with them\n",
        "# performing union of all set \n",
        "for key in seed_interactions_dict.keys():\n",
        "  non_seed_genes_ids = non_seed_genes_ids.union(seed_interactions_dict[key]) \n",
        "\n",
        "#We remove all seed genes included in the set\n",
        "non_seed_genes_ids = np.array([x for x in non_seed_genes_ids if x not in seed_genes_ids])\n",
        "\n",
        "# There we get only non seed gene which interacted with at least one seed gene\n",
        "len(non_seed_genes_ids)"
      ],
      "execution_count": 19,
      "outputs": [
        {
          "output_type": "execute_result",
          "data": {
            "text/plain": [
              "6140"
            ]
          },
          "metadata": {
            "tags": []
          },
          "execution_count": 19
        }
      ]
    },
    {
      "cell_type": "markdown",
      "metadata": {
        "id": "Q5Nin_0Ylelk"
      },
      "source": [
        "#Then we create a dictionary for interactions of non seed genes involved with at least one seed gene"
      ]
    },
    {
      "cell_type": "code",
      "metadata": {
        "id": "vhayZxQEl-GB"
      },
      "source": [
        "non_seed_interactions_dict = collections.defaultdict(set)\n",
        "\n",
        "#looping on non seed gend ids \n",
        "for key in non_seed_genes_ids:\n",
        "  # we retrieve interactions from all interactions dictionary \n",
        "  related_genes = all_interactions_dict[key]\n",
        "\n",
        "  related_non_seed_genes = [x for x in related_genes if x not in seed_genes_ids]\n",
        "\n",
        "  #we add it tho the seed genes iteractions dictionary \n",
        "  non_seed_interactions_dict[key] = set(related_non_seed_genes)\n"
      ],
      "execution_count": 20,
      "outputs": []
    },
    {
      "cell_type": "markdown",
      "metadata": {
        "id": "1UYkzP2Ooq0y"
      },
      "source": [
        "#Lets put all this in a data frame"
      ]
    },
    {
      "cell_type": "code",
      "metadata": {
        "id": "kwCN8oVAov8X"
      },
      "source": [
        "values = []\n",
        "for a ,b in seed_interactions_dict.items():\n",
        "  values.append([a,'T',','.join(b)])\n",
        "\n",
        "for a ,b in non_seed_interactions_dict.items():\n",
        "  values.append([a,'F',','.join(b)])\n",
        "\n",
        "\n",
        "df = pd.DataFrame(values,columns=['gene_id','seed_gene_involved','interactions_seeds_ids'])"
      ],
      "execution_count": 21,
      "outputs": []
    },
    {
      "cell_type": "markdown",
      "metadata": {
        "id": "Rv7M3vN6kkyV"
      },
      "source": [
        ""
      ]
    },
    {
      "cell_type": "code",
      "metadata": {
        "colab": {
          "base_uri": "https://localhost:8080/",
          "height": 0
        },
        "id": "Vxu_l4gRgF1I",
        "outputId": "d4027738-bf92-4682-a7f4-e908e938a1cb"
      },
      "source": [
        "df.sample(10)"
      ],
      "execution_count": 22,
      "outputs": [
        {
          "output_type": "execute_result",
          "data": {
            "text/html": [
              "<div>\n",
              "<style scoped>\n",
              "    .dataframe tbody tr th:only-of-type {\n",
              "        vertical-align: middle;\n",
              "    }\n",
              "\n",
              "    .dataframe tbody tr th {\n",
              "        vertical-align: top;\n",
              "    }\n",
              "\n",
              "    .dataframe thead th {\n",
              "        text-align: right;\n",
              "    }\n",
              "</style>\n",
              "<table border=\"1\" class=\"dataframe\">\n",
              "  <thead>\n",
              "    <tr style=\"text-align: right;\">\n",
              "      <th></th>\n",
              "      <th>gene_id</th>\n",
              "      <th>seed_gene_involved</th>\n",
              "      <th>interactions_seeds_ids</th>\n",
              "    </tr>\n",
              "  </thead>\n",
              "  <tbody>\n",
              "    <tr>\n",
              "      <th>3213</th>\n",
              "      <td>133690</td>\n",
              "      <td>F</td>\n",
              "      <td>54465</td>\n",
              "    </tr>\n",
              "    <tr>\n",
              "      <th>3355</th>\n",
              "      <td>26589</td>\n",
              "      <td>F</td>\n",
              "      <td>92667,85476,3192,23078,154791,1491,51335,12830...</td>\n",
              "    </tr>\n",
              "    <tr>\n",
              "      <th>2393</th>\n",
              "      <td>1741</td>\n",
              "      <td>F</td>\n",
              "      <td>64949,3845,43740577,60412,9228,9028,8453,491,7...</td>\n",
              "    </tr>\n",
              "    <tr>\n",
              "      <th>2419</th>\n",
              "      <td>253827</td>\n",
              "      <td>F</td>\n",
              "      <td>11281,2987,10482,136319,205,79754,-,23142,2582...</td>\n",
              "    </tr>\n",
              "    <tr>\n",
              "      <th>3117</th>\n",
              "      <td>6712</td>\n",
              "      <td>F</td>\n",
              "      <td>3845,11346,43740571,999,6709,830,17913,20877,6...</td>\n",
              "    </tr>\n",
              "    <tr>\n",
              "      <th>3287</th>\n",
              "      <td>7410</td>\n",
              "      <td>F</td>\n",
              "      <td>3185,17196,25820,79711,9240,9412,2534,868,1956...</td>\n",
              "    </tr>\n",
              "    <tr>\n",
              "      <th>2928</th>\n",
              "      <td>4140</td>\n",
              "      <td>F</td>\n",
              "      <td>10189,999,10971,5923,2099,12055,28513,4133,551...</td>\n",
              "    </tr>\n",
              "    <tr>\n",
              "      <th>5757</th>\n",
              "      <td>25923</td>\n",
              "      <td>F</td>\n",
              "      <td>9554,285282,5861,7182,2846,6522,154091,55,6408...</td>\n",
              "    </tr>\n",
              "    <tr>\n",
              "      <th>2565</th>\n",
              "      <td>5464</td>\n",
              "      <td>F</td>\n",
              "      <td>56954,7182,3315,55611,120892,9869,54187,25980,...</td>\n",
              "    </tr>\n",
              "    <tr>\n",
              "      <th>3001</th>\n",
              "      <td>245934</td>\n",
              "      <td>F</td>\n",
              "      <td>255758,387921,958,10956,1292,81607,221806,9466...</td>\n",
              "    </tr>\n",
              "  </tbody>\n",
              "</table>\n",
              "</div>"
            ],
            "text/plain": [
              "     gene_id  ...                             interactions_seeds_ids\n",
              "3213  133690  ...                                              54465\n",
              "3355   26589  ...  92667,85476,3192,23078,154791,1491,51335,12830...\n",
              "2393    1741  ...  64949,3845,43740577,60412,9228,9028,8453,491,7...\n",
              "2419  253827  ...  11281,2987,10482,136319,205,79754,-,23142,2582...\n",
              "3117    6712  ...  3845,11346,43740571,999,6709,830,17913,20877,6...\n",
              "3287    7410  ...  3185,17196,25820,79711,9240,9412,2534,868,1956...\n",
              "2928    4140  ...  10189,999,10971,5923,2099,12055,28513,4133,551...\n",
              "5757   25923  ...  9554,285282,5861,7182,2846,6522,154091,55,6408...\n",
              "2565    5464  ...  56954,7182,3315,55611,120892,9869,54187,25980,...\n",
              "3001  245934  ...  255758,387921,958,10956,1292,81607,221806,9466...\n",
              "\n",
              "[10 rows x 3 columns]"
            ]
          },
          "metadata": {
            "tags": []
          },
          "execution_count": 22
        }
      ]
    },
    {
      "cell_type": "markdown",
      "metadata": {
        "id": "TJBbwYRHq7kN"
      },
      "source": [
        "#1.2 b - Store data in csv format"
      ]
    },
    {
      "cell_type": "code",
      "metadata": {
        "id": "QPjD8oRerEvB"
      },
      "source": [
        "filename = dataset_folder + '1.2/interactions.csv'\n",
        "df.to_csv(filename, sep='\\t',index=False)"
      ],
      "execution_count": 23,
      "outputs": []
    },
    {
      "cell_type": "markdown",
      "metadata": {
        "id": "UXgMRpllsi7k"
      },
      "source": [
        "#1.2 c - Summary"
      ]
    },
    {
      "cell_type": "code",
      "metadata": {
        "id": "YaG9DNm0sqUu"
      },
      "source": [
        "n_seed_disgenet = len(set(seed_genes_ids))\n",
        "n_seed_biogrid = len(set([gene for gene in genes_biogrid if gene in seed_genes_ids]))\n",
        "n_interacting_genes = len(set(genes_biogrid))\n",
        "n_interactions = biogrid_data.shape[0]"
      ],
      "execution_count": 24,
      "outputs": []
    },
    {
      "cell_type": "code",
      "metadata": {
        "colab": {
          "base_uri": "https://localhost:8080/",
          "height": 0
        },
        "id": "7FE6VV9fvlF6",
        "outputId": "4c7dfc03-e7bf-423e-a5a7-4e4f8ca90581"
      },
      "source": [
        "table = [[n_seed_disgenet,n_seed_biogrid,n_interacting_genes,n_interactions]]\n",
        "summary = pd.DataFrame(table, columns=['N° seed disgenet','N° seed biogrid','Interacting genes','Interactions'])\n",
        "summary"
      ],
      "execution_count": 25,
      "outputs": [
        {
          "output_type": "execute_result",
          "data": {
            "text/html": [
              "<div>\n",
              "<style scoped>\n",
              "    .dataframe tbody tr th:only-of-type {\n",
              "        vertical-align: middle;\n",
              "    }\n",
              "\n",
              "    .dataframe tbody tr th {\n",
              "        vertical-align: top;\n",
              "    }\n",
              "\n",
              "    .dataframe thead th {\n",
              "        text-align: right;\n",
              "    }\n",
              "</style>\n",
              "<table border=\"1\" class=\"dataframe\">\n",
              "  <thead>\n",
              "    <tr style=\"text-align: right;\">\n",
              "      <th></th>\n",
              "      <th>N° seed disgenet</th>\n",
              "      <th>N° seed biogrid</th>\n",
              "      <th>Interacting genes</th>\n",
              "      <th>Interactions</th>\n",
              "    </tr>\n",
              "  </thead>\n",
              "  <tbody>\n",
              "    <tr>\n",
              "      <th>0</th>\n",
              "      <td>102</td>\n",
              "      <td>101</td>\n",
              "      <td>26221</td>\n",
              "      <td>697802</td>\n",
              "    </tr>\n",
              "  </tbody>\n",
              "</table>\n",
              "</div>"
            ],
            "text/plain": [
              "   N° seed disgenet  N° seed biogrid  Interacting genes  Interactions\n",
              "0               102              101              26221        697802"
            ]
          },
          "metadata": {
            "tags": []
          },
          "execution_count": 25
        }
      ]
    },
    {
      "cell_type": "markdown",
      "metadata": {
        "id": "LV3ETnVpw0ec"
      },
      "source": [
        "#1.3 Arrange interaction data"
      ]
    },
    {
      "cell_type": "code",
      "metadata": {
        "id": "MCf_dUzU2KXV"
      },
      "source": [
        "genes_interactions = biogrid_data.values\n",
        "indexes = []\n",
        "i =0\n",
        "for row in genes_interactions:\n",
        "  check = str(row[1]) in seed_genes_ids\n",
        "  check_2 = str(row[2]) in seed_genes_ids\n",
        "  if check_2  and check:\n",
        "    indexes.append(i)\n",
        "    i= i+1\n",
        "  \n",
        "\n"
      ],
      "execution_count": 26,
      "outputs": []
    },
    {
      "cell_type": "markdown",
      "metadata": {
        "id": "drl29t7ZB6K9"
      },
      "source": [
        "#1.2 a - seed genes interactome: interactions that involve seed genes only"
      ]
    },
    {
      "cell_type": "code",
      "metadata": {
        "id": "FfUbqMsL_mKS"
      },
      "source": [
        "only_seed_interactions = biogrid_data.iloc[indexes,[7,8,23,26]]\n",
        "only_seed_data = only_seed_interactions.values\n",
        "columns = ['interactor A gene symbol',' interactor B gene symbol', 'interactor A Uniprot AC', 'interactor B Uniprot AC']\n",
        "only_seed_interactions_df = pd.DataFrame(only_seed_data,columns=columns)"
      ],
      "execution_count": 27,
      "outputs": []
    },
    {
      "cell_type": "code",
      "metadata": {
        "id": "xmRUu8LcSrG_"
      },
      "source": [
        "#save gene seed interactions into csv file\n",
        "filename = dataset_folder + '1.3/gsi.csv'\n",
        "only_seed_interactions_df.to_csv(filename, sep='\\t',index=False)\n"
      ],
      "execution_count": 29,
      "outputs": []
    },
    {
      "cell_type": "markdown",
      "metadata": {
        "id": "zzPvmZDaCIMw"
      },
      "source": [
        "#1.2 All proteins interacting with at least one seed gene"
      ]
    },
    {
      "cell_type": "code",
      "metadata": {
        "id": "ijLfvZuyCbDf"
      },
      "source": [
        "proteins_interactions = biogrid_data.values\n",
        "indexes = []\n",
        "i =0\n",
        "for row in proteins_interactions:\n",
        "  check_1 = str(row[1]) in seed_genes_ids\n",
        "  check_2 = str(row[2]) in seed_genes_ids\n",
        "  check_3 = row[35] =='Homo sapiens'\n",
        "  check_4 = row[36] =='Homo sapiens'\n",
        "  if (check_2  or check_1) & check_3 & check_4:\n",
        "    indexes.append(i)\n",
        "    i= i+1"
      ],
      "execution_count": 30,
      "outputs": []
    },
    {
      "cell_type": "code",
      "metadata": {
        "id": "eDImrysbQyIs"
      },
      "source": [
        "all_proteins_interactions = biogrid_data.iloc[indexes,[7,8,23,26]]\n",
        "all_proteins_data = all_proteins_interactions.values\n",
        "columns = ['interactor A gene symbol',' interactor B gene symbol', 'interactor A Uniprot AC', 'interactor B Uniprot AC']\n",
        "all_proteins_interactions_df = pd.DataFrame(all_proteins_data,columns=columns)"
      ],
      "execution_count": 31,
      "outputs": []
    },
    {
      "cell_type": "code",
      "metadata": {
        "id": "siwZAzIds7DT",
        "outputId": "e000ee04-4a87-4aef-a7cd-040216aa25c8",
        "colab": {
          "base_uri": "https://localhost:8080/",
          "height": 402
        }
      },
      "source": [
        "all_proteins_interactions_df"
      ],
      "execution_count": 35,
      "outputs": [
        {
          "output_type": "execute_result",
          "data": {
            "text/html": [
              "<div>\n",
              "<style scoped>\n",
              "    .dataframe tbody tr th:only-of-type {\n",
              "        vertical-align: middle;\n",
              "    }\n",
              "\n",
              "    .dataframe tbody tr th {\n",
              "        vertical-align: top;\n",
              "    }\n",
              "\n",
              "    .dataframe thead th {\n",
              "        text-align: right;\n",
              "    }\n",
              "</style>\n",
              "<table border=\"1\" class=\"dataframe\">\n",
              "  <thead>\n",
              "    <tr style=\"text-align: right;\">\n",
              "      <th></th>\n",
              "      <th>interactor A gene symbol</th>\n",
              "      <th>interactor B gene symbol</th>\n",
              "      <th>interactor A Uniprot AC</th>\n",
              "      <th>interactor B Uniprot AC</th>\n",
              "    </tr>\n",
              "  </thead>\n",
              "  <tbody>\n",
              "    <tr>\n",
              "      <th>0</th>\n",
              "      <td>MAP2K4</td>\n",
              "      <td>FLNC</td>\n",
              "      <td>P45985</td>\n",
              "      <td>Q14315</td>\n",
              "    </tr>\n",
              "    <tr>\n",
              "      <th>1</th>\n",
              "      <td>MYPN</td>\n",
              "      <td>ACTN2</td>\n",
              "      <td>Q86TC9</td>\n",
              "      <td>P35609</td>\n",
              "    </tr>\n",
              "    <tr>\n",
              "      <th>2</th>\n",
              "      <td>ACVR1</td>\n",
              "      <td>FNTA</td>\n",
              "      <td>Q04771</td>\n",
              "      <td>P49354</td>\n",
              "    </tr>\n",
              "    <tr>\n",
              "      <th>3</th>\n",
              "      <td>GATA2</td>\n",
              "      <td>PML</td>\n",
              "      <td>P23769</td>\n",
              "      <td>P29590</td>\n",
              "    </tr>\n",
              "    <tr>\n",
              "      <th>4</th>\n",
              "      <td>RPA2</td>\n",
              "      <td>STAT3</td>\n",
              "      <td>P15927</td>\n",
              "      <td>P40763</td>\n",
              "    </tr>\n",
              "    <tr>\n",
              "      <th>...</th>\n",
              "      <td>...</td>\n",
              "      <td>...</td>\n",
              "      <td>...</td>\n",
              "      <td>...</td>\n",
              "    </tr>\n",
              "    <tr>\n",
              "      <th>13023</th>\n",
              "      <td>CLNS1A</td>\n",
              "      <td>WDR77</td>\n",
              "      <td>P54105</td>\n",
              "      <td>Q9BQA1</td>\n",
              "    </tr>\n",
              "    <tr>\n",
              "      <th>13024</th>\n",
              "      <td>CLNS1A</td>\n",
              "      <td>PRMT5</td>\n",
              "      <td>P54105</td>\n",
              "      <td>O14744</td>\n",
              "    </tr>\n",
              "    <tr>\n",
              "      <th>13025</th>\n",
              "      <td>PRMT5</td>\n",
              "      <td>CLNS1A</td>\n",
              "      <td>O14744</td>\n",
              "      <td>P54105</td>\n",
              "    </tr>\n",
              "    <tr>\n",
              "      <th>13026</th>\n",
              "      <td>PRMT5</td>\n",
              "      <td>WDR77</td>\n",
              "      <td>O14744</td>\n",
              "      <td>Q9BQA1</td>\n",
              "    </tr>\n",
              "    <tr>\n",
              "      <th>13027</th>\n",
              "      <td>WDR77</td>\n",
              "      <td>PRMT5</td>\n",
              "      <td>Q9BQA1</td>\n",
              "      <td>O14744</td>\n",
              "    </tr>\n",
              "  </tbody>\n",
              "</table>\n",
              "<p>13028 rows × 4 columns</p>\n",
              "</div>"
            ],
            "text/plain": [
              "      interactor A gene symbol  ... interactor B Uniprot AC\n",
              "0                       MAP2K4  ...                  Q14315\n",
              "1                         MYPN  ...                  P35609\n",
              "2                        ACVR1  ...                  P49354\n",
              "3                        GATA2  ...                  P29590\n",
              "4                         RPA2  ...                  P40763\n",
              "...                        ...  ...                     ...\n",
              "13023                   CLNS1A  ...                  Q9BQA1\n",
              "13024                   CLNS1A  ...                  O14744\n",
              "13025                    PRMT5  ...                  P54105\n",
              "13026                    PRMT5  ...                  Q9BQA1\n",
              "13027                    WDR77  ...                  O14744\n",
              "\n",
              "[13028 rows x 4 columns]"
            ]
          },
          "metadata": {
            "tags": []
          },
          "execution_count": 35
        }
      ]
    },
    {
      "cell_type": "markdown",
      "metadata": {
        "id": "EI2VCjlWqaJa"
      },
      "source": [
        "##1.3 Save interactome"
      ]
    },
    {
      "cell_type": "code",
      "metadata": {
        "id": "b9J0UnIOR0vF"
      },
      "source": [
        "#save inteactome disease csv\n",
        "filename = dataset_folder + '1.3/interactome.csv'\n",
        "all_proteins_interactions_df.to_csv(filename, sep='\\t',index=False)\n",
        "\n"
      ],
      "execution_count": 32,
      "outputs": []
    },
    {
      "cell_type": "markdown",
      "metadata": {
        "id": "K_CU5LlSqhLb"
      },
      "source": [
        "#2 - Data Analysis"
      ]
    },
    {
      "cell_type": "code",
      "metadata": {
        "id": "ywbrVqV-qU3O",
        "outputId": "a989e8d0-f6f3-4309-d1fb-a8db39918cd6",
        "colab": {
          "base_uri": "https://localhost:8080/"
        }
      },
      "source": [
        "!pip install networkx  # to install package needed for the network"
      ],
      "execution_count": 33,
      "outputs": [
        {
          "output_type": "stream",
          "text": [
            "Requirement already satisfied: networkx in /usr/local/lib/python3.6/dist-packages (2.5)\n",
            "Requirement already satisfied: decorator>=4.3.0 in /usr/local/lib/python3.6/dist-packages (from networkx) (4.4.2)\n"
          ],
          "name": "stdout"
        }
      ]
    },
    {
      "cell_type": "code",
      "metadata": {
        "id": "6OHLCne-sVaG"
      },
      "source": [
        "import networkx as nx\n",
        "import matplotlib.pyplot as plt"
      ],
      "execution_count": 49,
      "outputs": []
    },
    {
      "cell_type": "markdown",
      "metadata": {
        "id": "b9-iZcxismtM"
      },
      "source": [
        "### Build a network object from our data "
      ]
    },
    {
      "cell_type": "code",
      "metadata": {
        "id": "AbKA1e2rstNe"
      },
      "source": [
        "bio_graph = nx.Graph()  # create the empty grap object "
      ],
      "execution_count": 42,
      "outputs": []
    },
    {
      "cell_type": "code",
      "metadata": {
        "id": "xgAZ0zbpud7P"
      },
      "source": [
        "links = all_proteins_interactions_df.iloc[:,:2].values# get all links \n",
        "edges = [tuple(link) for link in links ] # transform links in tuple for nx graph object "
      ],
      "execution_count": 47,
      "outputs": []
    },
    {
      "cell_type": "code",
      "metadata": {
        "id": "bs7GTqzlvNxz"
      },
      "source": [
        "bio_graph.add_edges_from(edges)"
      ],
      "execution_count": 48,
      "outputs": []
    },
    {
      "cell_type": "markdown",
      "metadata": {
        "id": "rhleg6u5wh--"
      },
      "source": [
        "### Visualize graph "
      ]
    },
    {
      "cell_type": "code",
      "metadata": {
        "id": "plTD9BEfySzP",
        "outputId": "18cc3cee-ef8e-4f65-bad0-e6f4c7fab071",
        "colab": {
          "base_uri": "https://localhost:8080/",
          "height": 248
        }
      },
      "source": [
        "nx.draw_networkx(bio_graph, \n",
        "                       with_labels=False,\n",
        "                       node_size=10,\n",
        "                       node_color=('b'), \n",
        "                       edge_color=('g'),\n",
        "                 \n",
        "\n",
        "                       )\n",
        "plt.show()"
      ],
      "execution_count": 64,
      "outputs": [
        {
          "output_type": "display_data",
          "data": {
            "image/png": "[encoded data removed]",
            "text/plain": [
              "<Figure size 432x288 with 1 Axes>"
            ]
          },
          "metadata": {
            "tags": []
          }
        }
      ]
    },
    {
      "cell_type": "markdown",
      "metadata": {
        "id": "PA4rfDFzTatP"
      },
      "source": [
        "##2.1 Main network measures"
      ]
    },
    {
      "cell_type": "markdown",
      "metadata": {
        "id": "_KF6_LYYqpH0"
      },
      "source": [
        "#### a - global measures"
      ]
    },
    {
      "cell_type": "code",
      "metadata": {
        "id": "m1Ky08d-USXN"
      },
      "source": [
        "avg_degree = sum(nx.average_neighbor_degree(bio_graph).values())/ nx.number_of_nodes(bio_graph)\n",
        "avg_clus_coef = nx.average_clustering(bio_graph)\n"
      ],
      "execution_count": 112,
      "outputs": []
    },
    {
      "cell_type": "code",
      "metadata": {
        "id": "qn7ufVNYUW9M"
      },
      "source": [
        "avg_paths = []\n",
        "radiuses = []\n",
        "diameters = []\n",
        "for cc in nx.connected_components(bio_graph):\n",
        "  g = bio_graph.subgraph(cc)   \n",
        "  avg_paths.append(nx.average_shortest_path_length(g))\n",
        "  radiuses.append(nx.radius(g))\n",
        "  diameters.append(nx.diameter(g)) \n"
      ],
      "execution_count": 117,
      "outputs": []
    },
    {
      "cell_type": "code",
      "metadata": {
        "id": "8UjjEsjOhfcf"
      },
      "source": [
        "avg_path_lengths = np.mean(avg_paths)\n",
        "radius = np.max(radiuses)\n",
        "diameter = np.max(diameters)"
      ],
      "execution_count": 122,
      "outputs": []
    },
    {
      "cell_type": "code",
      "metadata": {
        "id": "y5jCiiEW2d13",
        "outputId": "7cce7018-87c7-4376-80ea-687739f7a191",
        "colab": {
          "base_uri": "https://localhost:8080/"
        }
      },
      "source": [
        "print(f\"Number of nodes               : {nx.number_of_nodes(bio_graph)}\")\n",
        "print(f\"Number of Links               : {nx.number_of_edges(bio_graph)}\")\n",
        "print(f\"Number of connected components: {nx.number_connected_components(bio_graph)}\")\n",
        "print(f\"Number of isolated nodes      : {nx.number_of_isolates(bio_graph)}\")\n",
        "print(f\"Average path length           : {avg_path_lengths}\")\n",
        "print(f\"Average Degree                : {avg_degree}\")\n",
        "print(f\"Average custering coefficient : {avg_clus_coef}\")\n",
        "print(f\"Network radius                : {radius}\")\n",
        "print(f\"Network diameter              : {diameter}\")"
      ],
      "execution_count": 121,
      "outputs": [
        {
          "output_type": "stream",
          "text": [
            "Number of nodes               : 5130\n",
            "Number of Links               : 10253\n",
            "Number of connected components: 206\n",
            "Number of isolated nodes      : 0\n",
            "Average path length           : 0.916324498283535\n",
            "Average Degree                : 19.61130027625086\n",
            "Average custering coefficient : 0.08547340570137117\n",
            "Network radius                : 0.8689320388349514\n",
            "Network diameter              : 15\n"
          ],
          "name": "stdout"
        }
      ]
    },
    {
      "cell_type": "markdown",
      "metadata": {
        "id": "mfkQ3yHMqx2s"
      },
      "source": [
        "#### b- LCC Measures"
      ]
    },
    {
      "cell_type": "code",
      "metadata": {
        "id": "4CA71rRBtXcu"
      },
      "source": [
        "bio_graph_lcc = max(nx.connected_components(bio_graph), key=len)\n",
        "bio_graph_lcc = bio_graph.subgraph(bio_graph_lcc)"
      ],
      "execution_count": 127,
      "outputs": []
    },
    {
      "cell_type": "code",
      "metadata": {
        "id": "eCFfiWhhtiKn",
        "outputId": "52027896-d536-4cd7-b220-12b107b58ddc",
        "colab": {
          "base_uri": "https://localhost:8080/",
          "height": 248
        }
      },
      "source": [
        "nx.draw_networkx(bio_graph_lcc, \n",
        "                 with_labels=False,\n",
        "                 node_size=5,\n",
        "                 node_color=('b'), \n",
        "                 edge_color=('g')\n",
        ")\n",
        "plt.show()"
      ],
      "execution_count": 129,
      "outputs": [
        {
          "output_type": "display_data",
          "data": {
            "image/png": "[encoded data removed]",
            "text/plain": [
              "<Figure size 432x288 with 1 Axes>"
            ]
          },
          "metadata": {
            "tags": []
          }
        }
      ]
    },
    {
      "cell_type": "markdown",
      "metadata": {
        "id": "-DQnEoW-q232"
      },
      "source": [
        "##### i - Global Measures"
      ]
    },
    {
      "cell_type": "code",
      "metadata": {
        "id": "4V79HmUyrAMk",
        "outputId": "36e7bf25-2eea-40bc-9c4c-4a437f3716bb",
        "colab": {
          "base_uri": "https://localhost:8080/"
        }
      },
      "source": [
        "print(f\"Number of nodes               : {nx.number_of_nodes(bio_graph_lcc)}\")\n",
        "print(f\"Number of Links               : {nx.number_of_edges(bio_graph_lcc)}\")\n",
        "print(f\"Number of connected components: {nx.number_connected_components(bio_graph_lcc)}\")\n",
        "print(f\"Number of isolated nodes      : {nx.number_of_isolates(bio_graph_lcc)}\")\n",
        "print(f\"Average path length           : {avg_path_lengths}\")\n",
        "#print(f\"Average Degree                : {nx.de}\")\n",
        "print(f\"Average custering coefficient : {nx.average_clustering(bio_graph_lcc)}\")\n",
        "print(f\"Network radius                : {nx.radius(bio_graph_lcc)}\")\n",
        "print(f\"Network diameter              : {nx.diameter(bio_graph_lcc)}\")"
      ],
      "execution_count": 132,
      "outputs": [
        {
          "output_type": "stream",
          "text": [
            "Number of nodes               : 4686\n",
            "Number of Links               : 9945\n",
            "Number of connected components: 1\n",
            "Number of isolated nodes      : 0\n",
            "Average path length           : 0.916324498283535\n",
            "Average custering coefficient : 0.09086895104169172\n",
            "Network radius                : 8\n",
            "Network diameter              : 15\n"
          ],
          "name": "stdout"
        }
      ]
    },
    {
      "cell_type": "markdown",
      "metadata": {
        "id": "RhQjKSoxq8pJ"
      },
      "source": [
        "##### i - Local Measures"
      ]
    },
    {
      "cell_type": "markdown",
      "metadata": {
        "id": "yfaqZv2h2EvT"
      },
      "source": [
        " ###### Node degree\n",
        "\n"
      ]
    },
    {
      "cell_type": "code",
      "metadata": {
        "id": "0WAy777t2yaE"
      },
      "source": [
        "g_degree = nx.degree(bio_graph_lcc)\n",
        "degree_df = pd.DataFrame(g_degree, columns=['Node','Degree'])\n",
        "#degree_df.head(10)"
      ],
      "execution_count": 155,
      "outputs": []
    },
    {
      "cell_type": "markdown",
      "metadata": {
        "id": "gEjQUknL2fg6"
      },
      "source": [
        "###### Betweenness centrality"
      ]
    },
    {
      "cell_type": "code",
      "metadata": {
        "id": "-y3tSz073fS5"
      },
      "source": [
        "g_b_centrality = nx.betweenness_centrality(bio_graph_lcc)\n",
        "#g_b_centrality"
      ],
      "execution_count": 156,
      "outputs": []
    },
    {
      "cell_type": "markdown",
      "metadata": {
        "id": "DkAAaV9m2FDJ"
      },
      "source": [
        "###### Eigenvector centrality\n"
      ]
    },
    {
      "cell_type": "code",
      "metadata": {
        "id": "YC4iurPf3tDM"
      },
      "source": [
        "g_e_centrality = nx.eigenvector_centrality(bio_graph_lcc)\n",
        "#g_e_centrality"
      ],
      "execution_count": 157,
      "outputs": []
    },
    {
      "cell_type": "markdown",
      "metadata": {
        "id": "MIYRiTqM2FIb"
      },
      "source": [
        "###### Closeness centrality"
      ]
    },
    {
      "cell_type": "code",
      "metadata": {
        "id": "5VGI9JUE35bF"
      },
      "source": [
        "g_c_centrality = nx.closeness_centrality(bio_graph_lcc)\n",
        "#g_c_centrality"
      ],
      "execution_count": 158,
      "outputs": []
    },
    {
      "cell_type": "markdown",
      "metadata": {
        "id": "LjleO4pz2FNn"
      },
      "source": [
        "###### Ratio Betweenness/Node degree"
      ]
    },
    {
      "cell_type": "code",
      "metadata": {
        "id": "K8_3EAsy4jLt"
      },
      "source": [
        ""
      ],
      "execution_count": 158,
      "outputs": []
    },
    {
      "cell_type": "markdown",
      "metadata": {
        "id": "iqG10Lc-NepF"
      },
      "source": [
        "##### Show all local measures"
      ]
    },
    {
      "cell_type": "code",
      "metadata": {
        "id": "4T9NbnN5I6yo"
      },
      "source": [
        "nodes = list(bio_graph_lcc.nodes)\n",
        "nodes_degree = list(degree_df['Degree'].values)\n",
        "b_centrality = list(g_b_centrality.values())\n",
        "e_centrality = list(g_e_centrality.values())\n",
        "c_centrality = list(g_c_centrality.values())\n",
        "ratio_b_d = np.array(b_centrality)/np.array(nodes_degree)"
      ],
      "execution_count": 162,
      "outputs": []
    },
    {
      "cell_type": "code",
      "metadata": {
        "id": "pD0anpG3LhVy",
        "outputId": "36d4f5b6-43bd-4c27-ac53-ba6f42541026",
        "colab": {
          "base_uri": "https://localhost:8080/",
          "height": 402
        }
      },
      "source": [
        "columns = ['nodes','Degree','Betweeness Centrality','Eigen centrality','closeness centrality','Ratio']\n",
        "data = [nodes,nodes_degree,b_centrality,e_centrality,c_centrality,ratio_b_d]\n",
        "data = np.array(data).T;\n",
        "df = pd.DataFrame(data, columns=columns)\n",
        "df"
      ],
      "execution_count": 163,
      "outputs": [
        {
          "output_type": "execute_result",
          "data": {
            "text/html": [
              "<div>\n",
              "<style scoped>\n",
              "    .dataframe tbody tr th:only-of-type {\n",
              "        vertical-align: middle;\n",
              "    }\n",
              "\n",
              "    .dataframe tbody tr th {\n",
              "        vertical-align: top;\n",
              "    }\n",
              "\n",
              "    .dataframe thead th {\n",
              "        text-align: right;\n",
              "    }\n",
              "</style>\n",
              "<table border=\"1\" class=\"dataframe\">\n",
              "  <thead>\n",
              "    <tr style=\"text-align: right;\">\n",
              "      <th></th>\n",
              "      <th>nodes</th>\n",
              "      <th>Degree</th>\n",
              "      <th>Betweeness Centrality</th>\n",
              "      <th>Eigen centrality</th>\n",
              "      <th>closeness centrality</th>\n",
              "      <th>Ratio</th>\n",
              "    </tr>\n",
              "  </thead>\n",
              "  <tbody>\n",
              "    <tr>\n",
              "      <th>0</th>\n",
              "      <td>MYPN</td>\n",
              "      <td>7</td>\n",
              "      <td>0.001171257768337529</td>\n",
              "      <td>1.811681362539474e-05</td>\n",
              "      <td>0.17869402700434817</td>\n",
              "      <td>0.0001673225383339327</td>\n",
              "    </tr>\n",
              "    <tr>\n",
              "      <th>1</th>\n",
              "      <td>ACTN2</td>\n",
              "      <td>4</td>\n",
              "      <td>0.000607938974603748</td>\n",
              "      <td>2.8244375644905724e-05</td>\n",
              "      <td>0.18077635437567527</td>\n",
              "      <td>0.000151984743650937</td>\n",
              "    </tr>\n",
              "    <tr>\n",
              "      <th>2</th>\n",
              "      <td>ACVR1</td>\n",
              "      <td>41</td>\n",
              "      <td>0.003957870148523747</td>\n",
              "      <td>0.00039060920696114325</td>\n",
              "      <td>0.17926838601056094</td>\n",
              "      <td>9.653341825667675e-05</td>\n",
              "    </tr>\n",
              "    <tr>\n",
              "      <th>3</th>\n",
              "      <td>FNTA</td>\n",
              "      <td>3</td>\n",
              "      <td>0.001304031805691842</td>\n",
              "      <td>6.3851195494871e-05</td>\n",
              "      <td>0.1736986504523209</td>\n",
              "      <td>0.00043467726856394735</td>\n",
              "    </tr>\n",
              "    <tr>\n",
              "      <th>4</th>\n",
              "      <td>GATA2</td>\n",
              "      <td>1</td>\n",
              "      <td>0.0</td>\n",
              "      <td>0.00013280783788944322</td>\n",
              "      <td>0.18586107033760463</td>\n",
              "      <td>0.0</td>\n",
              "    </tr>\n",
              "    <tr>\n",
              "      <th>...</th>\n",
              "      <td>...</td>\n",
              "      <td>...</td>\n",
              "      <td>...</td>\n",
              "      <td>...</td>\n",
              "      <td>...</td>\n",
              "      <td>...</td>\n",
              "    </tr>\n",
              "    <tr>\n",
              "      <th>4681</th>\n",
              "      <td>ZNF217</td>\n",
              "      <td>1</td>\n",
              "      <td>0.0</td>\n",
              "      <td>5.583073009625911e-05</td>\n",
              "      <td>0.17573143285821455</td>\n",
              "      <td>0.0</td>\n",
              "    </tr>\n",
              "    <tr>\n",
              "      <th>4682</th>\n",
              "      <td>PIR</td>\n",
              "      <td>2</td>\n",
              "      <td>1.075308748802557e-05</td>\n",
              "      <td>0.00011303859115685701</td>\n",
              "      <td>0.18218229895784727</td>\n",
              "      <td>5.376543744012785e-06</td>\n",
              "    </tr>\n",
              "    <tr>\n",
              "      <th>4683</th>\n",
              "      <td>PLA2G4A</td>\n",
              "      <td>1</td>\n",
              "      <td>0.0</td>\n",
              "      <td>0.00012879166059418052</td>\n",
              "      <td>0.19076509629870922</td>\n",
              "      <td>0.0</td>\n",
              "    </tr>\n",
              "    <tr>\n",
              "      <th>4684</th>\n",
              "      <td>EDNRA</td>\n",
              "      <td>2</td>\n",
              "      <td>0.0</td>\n",
              "      <td>0.00016142085119307976</td>\n",
              "      <td>0.1973961405578495</td>\n",
              "      <td>0.0</td>\n",
              "    </tr>\n",
              "    <tr>\n",
              "      <th>4685</th>\n",
              "      <td>WDR77</td>\n",
              "      <td>2</td>\n",
              "      <td>0.0</td>\n",
              "      <td>9.20623237115283e-06</td>\n",
              "      <td>0.16702912759813185</td>\n",
              "      <td>0.0</td>\n",
              "    </tr>\n",
              "  </tbody>\n",
              "</table>\n",
              "<p>4686 rows × 6 columns</p>\n",
              "</div>"
            ],
            "text/plain": [
              "        nodes Degree  ... closeness centrality                   Ratio\n",
              "0        MYPN      7  ...  0.17869402700434817   0.0001673225383339327\n",
              "1       ACTN2      4  ...  0.18077635437567527    0.000151984743650937\n",
              "2       ACVR1     41  ...  0.17926838601056094   9.653341825667675e-05\n",
              "3        FNTA      3  ...   0.1736986504523209  0.00043467726856394735\n",
              "4       GATA2      1  ...  0.18586107033760463                     0.0\n",
              "...       ...    ...  ...                  ...                     ...\n",
              "4681   ZNF217      1  ...  0.17573143285821455                     0.0\n",
              "4682      PIR      2  ...  0.18218229895784727   5.376543744012785e-06\n",
              "4683  PLA2G4A      1  ...  0.19076509629870922                     0.0\n",
              "4684    EDNRA      2  ...   0.1973961405578495                     0.0\n",
              "4685    WDR77      2  ...  0.16702912759813185                     0.0\n",
              "\n",
              "[4686 rows x 6 columns]"
            ]
          },
          "metadata": {
            "tags": []
          },
          "execution_count": 163
        }
      ]
    },
    {
      "cell_type": "markdown",
      "metadata": {
        "id": "CYqG9QQ_N4kO"
      },
      "source": [
        "#### 2.2 Clustering methods for disease modules discover"
      ]
    },
    {
      "cell_type": "code",
      "metadata": {
        "id": "Fsa31IyFOAdb"
      },
      "source": [
        ""
      ],
      "execution_count": null,
      "outputs": []
    }
  ]
}