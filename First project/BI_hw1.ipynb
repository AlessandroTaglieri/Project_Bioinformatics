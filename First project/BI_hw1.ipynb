{
 "cells": [
  {
   "cell_type": "markdown",
   "metadata": {
    "colab_type": "text",
    "id": "view-in-github"
   },
   "source": [
    "<a href=\"https://colab.research.google.com/github/AlessandroTaglieri/Project_Bioinformatics/blob/main/First%20project/BI_hw1.ipynb\" target=\"_parent\"><img src=\"https://colab.research.google.com/assets/colab-badge.svg\" alt=\"Open In Colab\"/></a>"
   ]
  },
  {
   "cell_type": "code",
   "execution_count": null,
   "metadata": {
    "colab": {
     "base_uri": "https://localhost:8080/"
    },
    "id": "Wl57nROYOHl2",
    "outputId": "30e4b880-32f2-4ca7-c8f7-b149fe2d6104"
   },
   "outputs": [],
   "source": [
    "\n",
    "#comment if not running on colab\n",
    "from google.colab import drive\n",
    "drive.mount('/content/drive')"
   ]
  },
  {
   "cell_type": "code",
   "execution_count": null,
   "metadata": {
    "id": "alx8FV2wNvpf"
   },
   "outputs": [],
   "source": [
    "#import libraries\n",
    "import pandas as pd\n",
    "import os\n",
    "import numpy as np\n",
    "import collections"
   ]
  },
  {
   "cell_type": "code",
   "execution_count": null,
   "metadata": {
    "id": "DZFUTIgrOdVR"
   },
   "outputs": [],
   "source": [
    "#change project folder to match yours\n",
    "project_folder ='/content/drive/MyDrive/BioinfoProject/Project_Bioinformatics/First_project/'\n",
    "#project_folder ='/'"
   ]
  },
  {
   "cell_type": "code",
   "execution_count": null,
   "metadata": {
    "id": "I5uthtmDO--E"
   },
   "outputs": [],
   "source": [
    "#change dataset folder to match yours\n",
    "dataset_folder = os.path.join(project_folder,'dataset/')"
   ]
  },
  {
   "cell_type": "code",
   "execution_count": null,
   "metadata": {
    "id": "v54OIcfYmoOg"
   },
   "outputs": [],
   "source": [
    "#only in local\n",
    "dataset_folder=\"dataset/\""
   ]
  },
  {
   "cell_type": "markdown",
   "metadata": {
    "id": "Qmi-z0dbNvpg"
   },
   "source": [
    "# 1.1"
   ]
  },
  {
   "cell_type": "code",
   "execution_count": null,
   "metadata": {
    "id": "qEGJ9Cf8Nvpg"
   },
   "outputs": [],
   "source": [
    "#download curated gene-diesase associtaions from https://www.disgenet.org/downloads and covnert tsv in csv\n",
    "\n",
    "data = pd.read_csv(dataset_folder+ '1.1/curated_gene_disease_associations.csv')\n",
    "#get only data for intereted gene id C0043094\n",
    "gene_disease = data.loc[data['diseaseId'] == 'C0043094']\n",
    "\n",
    "#get list og gene symbols\n",
    "list_geneSymbol = gene_disease['geneSymbol']\n",
    "\n",
    "\n",
    "#download hgnc dataset from https://www.genenames.org/download/statistics-and-files/\n",
    "hgnc = pd.read_csv(dataset_folder+ \"1.1/hgnc_complete_set.txt\", sep='\\t', dtype = 'unicode')\n",
    "\n",
    "#get data (symbol,name,entrez_id,unirpot_idasdn status) for only genes stored in previous list\n",
    "genes_diseases_hgnc = hgnc.loc[hgnc['symbol'].isin(list_geneSymbol)][['symbol','name','entrez_id','uniprot_ids','status']]\n",
    "\n",
    "#get only approved data\n",
    "genes_diseases_hgnc_app = genes_diseases_hgnc.loc[genes_diseases_hgnc['status']=='Approved']\n",
    "\n",
    "\n",
    "#get list ofuniprotidthat we'll useto find gene descriptionin Uniprot\n",
    "list_uniprotID = genes_diseases_hgnc_app['uniprot_ids']\n",
    "\n",
    "#write in a file alll uniprot ids. This is necessary because we'll download only necessary description for these genes from uniprot \n",
    "with open(dataset_folder+ '1.1/uniprot_ids.txt', 'w') as f:\n",
    "    for item in list_uniprotID:\n",
    "        f.write(\"%s\\n\" % item)\n",
    "    f.close()\n",
    "\n",
    "#download data containing description for every gene. We used txt file for download them\n",
    "gene_description = pd.read_csv(dataset_folder+ '1.1/uniprot-yourlist%3AM20201123A94466D2655679D1FD8953E075198DA817123DO.csv')\n",
    "\n",
    "#rename column for the function of the gene\n",
    "gene_description=gene_description.rename(columns={\"yourlist:M20201123A94466D2655679D1FD8953E075198DA817123DO\":\"uniprot_ids\"})\n",
    "\n",
    "#merge two dataset. One containing all info about gene and the second one conatining description about their functions\n",
    "final_genes_deseas = pd.merge(gene_description, genes_diseases_hgnc_app, on='uniprot_ids')\n",
    "#rename column\n",
    "final_genes_deseas=final_genes_deseas.rename(columns={\"Function [CC]\":\"function\"})\n",
    "#get only first part of gene description\n",
    "final_genes_deseas['Description']= final_genes_deseas.function.str[10:150]\n",
    "#delete not necessary columns\n",
    "final_genes_deseas = final_genes_deseas.drop(['function','Entry','status'], axis = 1) \n",
    "final_genes_deseas = final_genes_deseas[['symbol','uniprot_ids','name','entrez_id','Description']]"
   ]
  },
  {
   "cell_type": "code",
   "execution_count": null,
   "metadata": {
    "id": "TAO1bw4ONvpg"
   },
   "outputs": [],
   "source": [
    "#fix column names and save xlsx file\n",
    "final_genes_deseas.rename(columns={\"symbol\":\"Gene symbol\",\"uniprot_ids\":\"Uniprot AC\",\"name\":'Protein name','entrez_id':\"Entrez Gene ID\"})\n",
    "final_genes_deseas.to_excel(dataset_folder+ '1.1/1.1-gene_deseas_associations.xlsx')\n",
    "final_genes_deseas.to_csv(dataset_folder+ '1.1/1.1-gene_deseas_associations.csv')"
   ]
  },
  {
   "cell_type": "code",
   "execution_count": null,
   "metadata": {
    "colab": {
     "base_uri": "https://localhost:8080/",
     "height": 407
    },
    "id": "9FVmghYoQdJR",
    "outputId": "b728b73c-57be-4244-8194-d5bc860688c2"
   },
   "outputs": [],
   "source": [
    "final_genes_deseas"
   ]
  },
  {
   "cell_type": "code",
   "execution_count": null,
   "metadata": {
    "id": "RM7VwTRcZWae"
   },
   "outputs": [],
   "source": [
    "## To save seed id and symbols correspondance\n",
    "seed_symbols, seed_ids = final_genes_deseas['symbol'].values ,final_genes_deseas['entrez_id'].values\n",
    "seed_symbols_to_ids = {}\n",
    "seed_ids_to_symbols = {}\n",
    "for key,value in zip(seed_symbols,seed_ids):\n",
    "  seed_symbols_to_ids[key] = value\n",
    "  seed_ids_to_symbols[value] = key\n",
    "\n",
    "\n",
    "def seed_symbol_to_id(symbol):\n",
    "  return seed_symbols_to_ids.get(symbol)\n",
    "\n",
    "def seed_id_to_symbol(id):\n",
    "  return seed_ids_to_symbols.get(id)\n"
   ]
  },
  {
   "cell_type": "markdown",
   "metadata": {
    "id": "QwICM-22Nvpg"
   },
   "source": [
    "# 1.2"
   ]
  },
  {
   "cell_type": "markdown",
   "metadata": {
    "id": "_NEfYc7Z2cGQ"
   },
   "source": [
    "# Get biogrid data"
   ]
  },
  {
   "cell_type": "code",
   "execution_count": null,
   "metadata": {},
   "outputs": [],
   "source": [
    "\n",
    "#only for Ale\n",
    "#biogrid_datafile = '/Users/digitalfirst/Desktop/BI/BIOGRID-ORGANISM-Homo_sapiens-4.2.191.tab3.txt'\n",
    "#read biogrid dataset \n",
    "biogrid_datafile = dataset_folder+'1.2/BIOGRID-ORGANISM-Homo_sapiens-4.2.191.tab3.txt'"
   ]
  },
  {
   "cell_type": "code",
   "execution_count": null,
   "metadata": {
    "colab": {
     "base_uri": "https://localhost:8080/"
    },
    "id": "4CKrwuvimoOh",
    "outputId": "f15bc1dd-06a6-4967-b6d7-5d12750662f2"
   },
   "outputs": [],
   "source": [
    "\n",
    "biogrid_data = pd.read_csv(biogrid_datafile,sep='\\t')\n",
    "#biogrid_data.info()"
   ]
  },
  {
   "cell_type": "code",
   "execution_count": null,
   "metadata": {
    "id": "XQ5MvHVE11Dt"
   },
   "outputs": [],
   "source": [
    "# Filter data to only physical interactions and Homo sapiens genes\n",
    "biogrid_data = biogrid_data[biogrid_data['Experimental System Type']=='physical']\n",
    "biogrid_data = biogrid_data[biogrid_data['Organism Name Interactor A']=='Homo sapiens']\n",
    "biogrid_data = biogrid_data[biogrid_data['Organism Name Interactor B']=='Homo sapiens']"
   ]
  },
  {
   "cell_type": "code",
   "execution_count": null,
   "metadata": {
    "colab": {
     "base_uri": "https://localhost:8080/",
     "height": 391
    },
    "id": "8wJa07ID5eon",
    "outputId": "620443f7-9d2c-4742-882f-5b143420338a"
   },
   "outputs": [],
   "source": [
    "biogrid_data.head(5)"
   ]
  },
  {
   "cell_type": "markdown",
   "metadata": {
    "id": "h7uYgIAt6fbi"
   },
   "source": [
    "#### Mapping protein Id to symbols\n"
   ]
  },
  {
   "cell_type": "code",
   "execution_count": null,
   "metadata": {
    "id": "cqLQV89pba0T"
   },
   "outputs": [],
   "source": [
    "biogrid_ids_A,biogrid_symbols_A  = biogrid_data['Entrez Gene Interactor A'].values ,biogrid_data['Official Symbol Interactor A'].values\n",
    "biogrid_ids_B,biogrid_symbols_B  = biogrid_data['Entrez Gene Interactor B'].values ,biogrid_data['Official Symbol Interactor B'].values\n",
    "\n",
    "symbols_to_ids = {}\n",
    "ids_to_symbols = {}\n",
    "for key,value in zip(biogrid_symbols_A,biogrid_ids_A):\n",
    "  symbols_to_ids[key] = value\n",
    "  ids_to_symbols[value] = key\n",
    "\n",
    "for key,value in zip(biogrid_symbols_B,biogrid_ids_B):\n",
    "  symbols_to_ids[key] = value\n",
    "  ids_to_symbols[value] = key \n",
    "  "
   ]
  },
  {
   "cell_type": "code",
   "execution_count": null,
   "metadata": {
    "id": "fHUEWEC_Yu6H"
   },
   "outputs": [],
   "source": [
    "def symbol_to_id(symbol):\n",
    "  id = symbols_to_ids.get(symbol)\n",
    "  if id ==None:\n",
    "    return seed_symbol_to_id(symbol)\n",
    "  return id\n",
    "\n",
    "def id_to_symbol(id):\n",
    "  symbol = ids_to_symbols.get(id)\n",
    "  if symbol == None:\n",
    "    return seed_id_to_symbol(id)\n",
    "  return symbol\n",
    "\n",
    "def symbol_link_to_id_link(link):\n",
    "  return (symbol_to_id(link[0]),symbol_to_id(link[1]))\n"
   ]
  },
  {
   "cell_type": "markdown",
   "metadata": {
    "id": "H4Jif0i0JY1V"
   },
   "source": [
    "##Get all nodes involved in interactions \n",
    "\n",
    "\n",
    "---\n",
    "\n"
   ]
  },
  {
   "cell_type": "code",
   "execution_count": null,
   "metadata": {
    "id": "-LGQgQwc_2uO"
   },
   "outputs": [],
   "source": [
    "gene_A_list = biogrid_data.iloc[:,1].values\n",
    "gene_B_list = biogrid_data.iloc[:,2].values\n",
    "A_B_list = np.append(gene_A_list,gene_B_list)\n",
    "A_set = set(gene_A_list)\n",
    "\n",
    "B_set =  set(gene_B_list)\n",
    "A_B_set = set(A_B_list)"
   ]
  },
  {
   "cell_type": "code",
   "execution_count": null,
   "metadata": {
    "colab": {
     "base_uri": "https://localhost:8080/"
    },
    "id": "YQ2tGfcAHpu6",
    "outputId": "833d2e80-abf3-401e-c917-d4622822f44e"
   },
   "outputs": [],
   "source": [
    "genes_biogrid = np.array([id_to_symbol(x) for x in A_B_set if str.isdigit(str(x))])\n",
    "genes_biogrid"
   ]
  },
  {
   "cell_type": "markdown",
   "metadata": {
    "id": "KR4mMY8cJpV5"
   },
   "source": [
    "##Get all interactions \n",
    "\n"
   ]
  },
  {
   "cell_type": "code",
   "execution_count": null,
   "metadata": {
    "colab": {
     "base_uri": "https://localhost:8080/"
    },
    "id": "gLR8LCg5D6TR",
    "outputId": "7f191901-adbb-4562-d696-d809620412da"
   },
   "outputs": [],
   "source": [
    "interactions = biogrid_data.iloc[:,1:3].values\n",
    "#interactions =np.array([[a,b] for a,b in interactions if(str.isdigit(str(a)) & str.isdigit(str(b)))])\n",
    "interactions =np.array([[id_to_symbol(a),id_to_symbol(b)] for a,b in interactions ])\n",
    "interactions.shape"
   ]
  },
  {
   "cell_type": "code",
   "execution_count": null,
   "metadata": {
    "colab": {
     "base_uri": "https://localhost:8080/"
    },
    "id": "9Bqp5DyfW3Nj",
    "outputId": "c1fa5503-f7ad-4ccf-d5bb-b6dddf49e070"
   },
   "outputs": [],
   "source": [
    "interactions"
   ]
  },
  {
   "cell_type": "markdown",
   "metadata": {
    "id": "q6HEt4l2UQxA"
   },
   "source": [
    "# Seed gene list "
   ]
  },
  {
   "cell_type": "code",
   "execution_count": null,
   "metadata": {
    "id": "nobmzU_UUPM8"
   },
   "outputs": [],
   "source": [
    "seed_genes_ids  =  final_genes_deseas['entrez_id'].values\n",
    "seed_genes_ids = [id_to_symbol(s) for s in seed_genes_ids]\n"
   ]
  },
  {
   "cell_type": "markdown",
   "metadata": {
    "id": "9mzjaC-TU0ev"
   },
   "source": [
    "#Now we build a dictionary of all interactions"
   ]
  },
  {
   "cell_type": "code",
   "execution_count": null,
   "metadata": {
    "id": "ZuBk2xllVaX3"
   },
   "outputs": [],
   "source": [
    "all_interactions_dict = collections.defaultdict(set)\n",
    "for a,b in interactions:\n",
    "  all_interactions_dict[a].add(b)\n",
    "  all_interactions_dict[b].add(a)"
   ]
  },
  {
   "cell_type": "markdown",
   "metadata": {
    "id": "QTsPM8xqiLc9"
   },
   "source": [
    "# Interactions including seed genes "
   ]
  },
  {
   "cell_type": "code",
   "execution_count": null,
   "metadata": {
    "id": "yxTCUWjcZDqD"
   },
   "outputs": [],
   "source": [
    "seed_interactions_dict = collections.defaultdict(set)\n",
    "for key in seed_genes_ids:\n",
    "  seed_interactions_dict[key] = all_interactions_dict[key]"
   ]
  },
  {
   "cell_type": "markdown",
   "metadata": {
    "id": "s9sGTd8jifxs"
   },
   "source": [
    "# Protein interacting with seed genes"
   ]
  },
  {
   "cell_type": "code",
   "execution_count": null,
   "metadata": {
    "colab": {
     "base_uri": "https://localhost:8080/"
    },
    "id": "XGPKvfXViXRw",
    "outputId": "1cde8dbc-e10d-41cd-b512-70701ec088ec"
   },
   "outputs": [],
   "source": [
    "non_seed_genes_ids = set()\n",
    "# from seed genes interactions dictionary, we retrieve all genes interacting with them\n",
    "# performing union of all set \n",
    "for key in seed_interactions_dict.keys():\n",
    "  non_seed_genes_ids = non_seed_genes_ids.union(seed_interactions_dict[key]) \n",
    "\n",
    "#We remove all seed genes included in the set\n",
    "non_seed_genes_ids = np.array([x for x in non_seed_genes_ids if x not in seed_genes_ids])\n",
    "\n",
    "# There we get only non seed gene which interacted with at least one seed gene\n",
    "len(non_seed_genes_ids)"
   ]
  },
  {
   "cell_type": "markdown",
   "metadata": {
    "id": "Q5Nin_0Ylelk"
   },
   "source": [
    "##Then we create a dictionary for interactions of non seed genes involved with at least one seed gene"
   ]
  },
  {
   "cell_type": "code",
   "execution_count": null,
   "metadata": {
    "id": "vhayZxQEl-GB"
   },
   "outputs": [],
   "source": [
    "non_seed_interactions_dict = collections.defaultdict(set)\n",
    "\n",
    "#looping on non seed gend ids \n",
    "for key in non_seed_genes_ids:\n",
    "  # we retrieve interactions from all interactions dictionary \n",
    "  related_genes = all_interactions_dict[key]\n",
    "\n",
    "  related_non_seed_genes = [x for x in related_genes if x not in seed_genes_ids]\n",
    "\n",
    "  #we add it tho the seed genes iteractions dictionary \n",
    "  non_seed_interactions_dict[key] = set(related_non_seed_genes)\n"
   ]
  },
  {
   "cell_type": "markdown",
   "metadata": {
    "id": "1UYkzP2Ooq0y"
   },
   "source": [
    "#Lets put all this in a data frame"
   ]
  },
  {
   "cell_type": "code",
   "execution_count": null,
   "metadata": {
    "id": "kwCN8oVAov8X"
   },
   "outputs": [],
   "source": [
    "values = []\n",
    "for a ,b in seed_interactions_dict.items():\n",
    "  values.append([a,'T',','.join(b)])\n",
    "\n",
    "for a ,b in non_seed_interactions_dict.items():\n",
    "  values.append([a,'F',','.join(b)])\n",
    "\n",
    "\n",
    "df = pd.DataFrame(values,columns=['gene','seed_gene_involved','interactions_seeds'])"
   ]
  },
  {
   "cell_type": "code",
   "execution_count": null,
   "metadata": {
    "colab": {
     "base_uri": "https://localhost:8080/",
     "height": 348
    },
    "id": "Vxu_l4gRgF1I",
    "outputId": "7817fcb5-a05e-4591-f1a9-c48e29b6795e"
   },
   "outputs": [],
   "source": [
    "df.sample(10)"
   ]
  },
  {
   "cell_type": "markdown",
   "metadata": {
    "id": "TJBbwYRHq7kN"
   },
   "source": [
    "#1.2 b - Store data in csv format"
   ]
  },
  {
   "cell_type": "code",
   "execution_count": null,
   "metadata": {
    "id": "QPjD8oRerEvB"
   },
   "outputs": [],
   "source": [
    "filename = dataset_folder + '1.2/interactions.csv'\n",
    "df.to_csv(filename, sep='\\t',index=False)"
   ]
  },
  {
   "cell_type": "markdown",
   "metadata": {
    "id": "UXgMRpllsi7k"
   },
   "source": [
    "#1.2 c - Summary"
   ]
  },
  {
   "cell_type": "code",
   "execution_count": null,
   "metadata": {
    "id": "YaG9DNm0sqUu"
   },
   "outputs": [],
   "source": [
    "n_seed_disgenet = len(set(seed_genes_ids))\n",
    "n_seed_biogrid = len(set([gene for gene in genes_biogrid if gene in seed_genes_ids]))\n",
    "n_interacting_genes = len(set(genes_biogrid))\n",
    "n_interactions = biogrid_data.shape[0]"
   ]
  },
  {
   "cell_type": "code",
   "execution_count": null,
   "metadata": {
    "colab": {
     "base_uri": "https://localhost:8080/",
     "height": 78
    },
    "id": "7FE6VV9fvlF6",
    "outputId": "465a17c3-200b-4952-b80d-7d120255eab5"
   },
   "outputs": [],
   "source": [
    "table = [[n_seed_disgenet,n_seed_biogrid,n_interacting_genes,n_interactions]]\n",
    "summary = pd.DataFrame(table, columns=['N° seed disgenet','N° seed biogrid','Interacting genes','Interactions'])\n",
    "summary"
   ]
  },
  {
   "cell_type": "markdown",
   "metadata": {
    "id": "LV3ETnVpw0ec"
   },
   "source": [
    "#1.3 Arrange interaction data"
   ]
  },
  {
   "cell_type": "code",
   "execution_count": null,
   "metadata": {
    "id": "MCf_dUzU2KXV"
   },
   "outputs": [],
   "source": [
    "genes_interactions = biogrid_data.values\n",
    "indexes = []\n",
    "i =0\n",
    "for row in genes_interactions:\n",
    "  check = str(row[7]) in seed_genes_ids\n",
    "  check_2 = str(row[8]) in seed_genes_ids\n",
    "  #  unwanted row were filtered out in biogrid data\n",
    "  if check_2  and check:\n",
    "    indexes.append(i)\n",
    "    i= i+1\n",
    "  \n",
    "\n"
   ]
  },
  {
   "cell_type": "markdown",
   "metadata": {
    "id": "drl29t7ZB6K9"
   },
   "source": [
    "#1.3 a - seed genes interactome: interactions that involve seed genes only"
   ]
  },
  {
   "cell_type": "code",
   "execution_count": null,
   "metadata": {
    "id": "FfUbqMsL_mKS"
   },
   "outputs": [],
   "source": [
    "only_seed_interactions = biogrid_data.iloc[indexes,[7,8,23,26]]\n",
    "only_seed_data = only_seed_interactions.values\n",
    "columns = ['interactor A gene symbol',' interactor B gene symbol', 'interactor A Uniprot AC', 'interactor B Uniprot AC']\n",
    "only_seed_interactions_df = pd.DataFrame(only_seed_data,columns=columns)"
   ]
  },
  {
   "cell_type": "code",
   "execution_count": null,
   "metadata": {
    "id": "xmRUu8LcSrG_"
   },
   "outputs": [],
   "source": [
    "#save gene seed interactions into csv file\n",
    "filename = dataset_folder + '1.3/gsi.csv'\n",
    "only_seed_interactions_df.to_csv(filename, sep='\\t',index=False)\n"
   ]
  },
  {
   "cell_type": "code",
   "execution_count": null,
   "metadata": {
    "colab": {
     "base_uri": "https://localhost:8080/",
     "height": 407
    },
    "id": "oJGIysXL4pp6",
    "outputId": "562c07a3-6ba0-4b43-970f-ba44c533b8f7"
   },
   "outputs": [],
   "source": [
    "only_seed_interactions_df"
   ]
  },
  {
   "cell_type": "markdown",
   "metadata": {
    "id": "zzPvmZDaCIMw"
   },
   "source": [
    "##1.3-b All proteins interacting with at least one seed gene"
   ]
  },
  {
   "cell_type": "code",
   "execution_count": null,
   "metadata": {
    "id": "ijLfvZuyCbDf"
   },
   "outputs": [],
   "source": [
    "proteins_interactions = biogrid_data.values\n",
    "indexes = []\n",
    "i =0\n",
    "for row in proteins_interactions:\n",
    "  check_1 = str(row[7]) in seed_genes_ids\n",
    "  check_2 = str(row[8]) in seed_genes_ids\n",
    "  # check_3 = row[35] =='Homo sapiens' # not necessary anymore because unwanted row were filtered out\n",
    "  # check_4 = row[36] =='Homo sapiens'\n",
    "  if (check_2  or check_1) :\n",
    "    indexes.append(i)\n",
    "    i= i+1"
   ]
  },
  {
   "cell_type": "code",
   "execution_count": null,
   "metadata": {
    "id": "eDImrysbQyIs"
   },
   "outputs": [],
   "source": [
    "all_proteins_interactions = biogrid_data.iloc[indexes,[7,8,23,26]]\n",
    "all_proteins_data = all_proteins_interactions.values\n",
    "columns = ['interactor A gene symbol',' interactor B gene symbol', 'interactor A Uniprot AC', 'interactor B Uniprot AC']\n",
    "all_proteins_interactions_df = pd.DataFrame(all_proteins_data,columns=columns)"
   ]
  },
  {
   "cell_type": "code",
   "execution_count": null,
   "metadata": {
    "colab": {
     "base_uri": "https://localhost:8080/",
     "height": 407
    },
    "id": "siwZAzIds7DT",
    "outputId": "5ad0aa08-6197-4dc0-fb3a-1b61b98f4118"
   },
   "outputs": [],
   "source": [
    "all_proteins_interactions_df"
   ]
  },
  {
   "cell_type": "markdown",
   "metadata": {
    "id": "EI2VCjlWqaJa"
   },
   "source": [
    "##Save interactome"
   ]
  },
  {
   "cell_type": "code",
   "execution_count": null,
   "metadata": {
    "id": "b9J0UnIOR0vF"
   },
   "outputs": [],
   "source": [
    "#save inteactome disease csv\n",
    "filename = dataset_folder + '1.3/interactome.csv'\n",
    "all_proteins_interactions_df.to_csv(filename, sep='\\t',index=False)\n",
    "\n"
   ]
  },
  {
   "cell_type": "markdown",
   "metadata": {
    "id": "K_CU5LlSqhLb"
   },
   "source": [
    "#2 - Data Analysis"
   ]
  },
  {
   "cell_type": "code",
   "execution_count": null,
   "metadata": {
    "colab": {
     "base_uri": "https://localhost:8080/"
    },
    "id": "ywbrVqV-qU3O",
    "outputId": "fcb863a6-67f7-4818-be0f-b4376d8fecdf"
   },
   "outputs": [],
   "source": [
    "!pip install networkx  # to install package needed for the network"
   ]
  },
  {
   "cell_type": "code",
   "execution_count": null,
   "metadata": {
    "id": "6OHLCne-sVaG"
   },
   "outputs": [],
   "source": [
    "import networkx as nx\n",
    "import matplotlib.pyplot as plt"
   ]
  },
  {
   "cell_type": "markdown",
   "metadata": {
    "id": "b9-iZcxismtM"
   },
   "source": [
    "### Build a network object from our data "
   ]
  },
  {
   "cell_type": "code",
   "execution_count": null,
   "metadata": {
    "id": "AbKA1e2rstNe"
   },
   "outputs": [],
   "source": [
    "bio_graph = nx.Graph()  # create the empty grap object "
   ]
  },
  {
   "cell_type": "code",
   "execution_count": null,
   "metadata": {
    "id": "xgAZ0zbpud7P"
   },
   "outputs": [],
   "source": [
    "links = all_proteins_interactions_df.iloc[:,:2].values# get all links \n",
    "edges = [tuple(link) for link in links ] # transform links in tuple for nx graph object "
   ]
  },
  {
   "cell_type": "code",
   "execution_count": null,
   "metadata": {
    "id": "bs7GTqzlvNxz"
   },
   "outputs": [],
   "source": [
    "bio_graph.add_edges_from(edges)"
   ]
  },
  {
   "cell_type": "markdown",
   "metadata": {
    "id": "rhleg6u5wh--"
   },
   "source": [
    "### Visualize graph "
   ]
  },
  {
   "cell_type": "code",
   "execution_count": null,
   "metadata": {
    "colab": {
     "base_uri": "https://localhost:8080/",
     "height": 248
    },
    "id": "plTD9BEfySzP",
    "outputId": "ce37650f-5526-40a2-8b04-f1f7f180c3d6"
   },
   "outputs": [],
   "source": [
    "nx.draw_networkx(bio_graph, \n",
    "                       with_labels=False,\n",
    "                       node_size=10,\n",
    "                       node_color=('b'), \n",
    "                       edge_color=('g'),\n",
    "                 \n",
    "\n",
    "                       )\n",
    "plt.show()"
   ]
  },
  {
   "cell_type": "markdown",
   "metadata": {
    "id": "PA4rfDFzTatP"
   },
   "source": [
    "##2.1 Main network measures"
   ]
  },
  {
   "cell_type": "markdown",
   "metadata": {
    "id": "_KF6_LYYqpH0"
   },
   "source": [
    "#### a - global measures"
   ]
  },
  {
   "cell_type": "code",
   "execution_count": null,
   "metadata": {
    "id": "m1Ky08d-USXN"
   },
   "outputs": [],
   "source": [
    "avg_degree = sum(nx.average_neighbor_degree(bio_graph).values())/ nx.number_of_nodes(bio_graph)\n",
    "avg_clus_coef = nx.average_clustering(bio_graph)\n"
   ]
  },
  {
   "cell_type": "code",
   "execution_count": null,
   "metadata": {
    "id": "qn7ufVNYUW9M"
   },
   "outputs": [],
   "source": [
    "avg_paths = []\n",
    "radiuses = []\n",
    "diameters = []\n",
    "for cc in nx.connected_components(bio_graph):\n",
    "  g = bio_graph.subgraph(cc)   \n",
    "  avg_paths.append(nx.average_shortest_path_length(g))\n",
    "  radiuses.append(nx.radius(g))\n",
    "  diameters.append(nx.diameter(g)) \n"
   ]
  },
  {
   "cell_type": "code",
   "execution_count": null,
   "metadata": {
    "id": "8UjjEsjOhfcf"
   },
   "outputs": [],
   "source": [
    "avg_path_lengths = np.mean(avg_paths)\n",
    "radius = np.max(radiuses)\n",
    "diameter = np.max(diameters)"
   ]
  },
  {
   "cell_type": "code",
   "execution_count": null,
   "metadata": {
    "colab": {
     "base_uri": "https://localhost:8080/"
    },
    "id": "y5jCiiEW2d13",
    "outputId": "bb5d6926-5703-408c-e201-4af724704a8d"
   },
   "outputs": [],
   "source": [
    "print(f\"Number of nodes               : {nx.number_of_nodes(bio_graph)}\")\n",
    "print(f\"Number of Links               : {nx.number_of_edges(bio_graph)}\")\n",
    "print(f\"Number of connected components: {nx.number_connected_components(bio_graph)}\")\n",
    "print(f\"Number of isolated nodes      : {nx.number_of_isolates(bio_graph)}\")\n",
    "print(f\"Average path length           : {avg_path_lengths}\")\n",
    "print(f\"Average Degree                : {avg_degree}\")\n",
    "print(f\"Average custering coefficient : {avg_clus_coef}\")\n",
    "print(f\"Network radius                : {radius}\")\n",
    "print(f\"Network diameter              : {diameter}\")\n",
    "print(f\"Network centralization              : {'#TODO'}\")"
   ]
  },
  {
   "cell_type": "markdown",
   "metadata": {
    "id": "mfkQ3yHMqx2s"
   },
   "source": [
    "#### b- LCC Measures"
   ]
  },
  {
   "cell_type": "code",
   "execution_count": null,
   "metadata": {
    "id": "4CA71rRBtXcu"
   },
   "outputs": [],
   "source": [
    "bio_graph_lcc = max(nx.connected_components(bio_graph), key=len)\n",
    "bio_graph_lcc = bio_graph.subgraph(bio_graph_lcc)"
   ]
  },
  {
   "cell_type": "code",
   "execution_count": null,
   "metadata": {
    "colab": {
     "base_uri": "https://localhost:8080/",
     "height": 248
    },
    "id": "eCFfiWhhtiKn",
    "outputId": "6015d20b-2a89-477e-d09a-ddc8c63b2a6c"
   },
   "outputs": [],
   "source": [
    "nx.draw_networkx(bio_graph_lcc, \n",
    "                 with_labels=False,\n",
    "                 node_size=5,\n",
    "                 node_color=('b'), \n",
    "                 edge_color=('g')\n",
    ")\n",
    "plt.show()"
   ]
  },
  {
   "cell_type": "code",
   "execution_count": null,
   "metadata": {},
   "outputs": [],
   "source": [
    "#calculate newtork centralization and network degree\n",
    "degs = list(bio_graph_lcc.degree(bio_graph_lcc.nodes))\n",
    "vals=[]\n",
    "d = nx.density(bio_graph_lcc)\n",
    "for k,v in degs:\n",
    "    vals.append(v)\n",
    "mm=max(vals)\n",
    "num_n = float(len(bio_graph_lcc.nodes()))\n",
    "centralization = (num_n/(num_n-2))*(mm/(num_n-1)-d)\n",
    "avg_degree = sum(nx.average_neighbor_degree(bio_graph_lcc).values())/ nx.number_of_nodes(bio_graph_lcc)\n",
    "avg_path_lengths = nx.average_shortest_path_length(bio_graph_lcc)"
   ]
  },
  {
   "cell_type": "markdown",
   "metadata": {
    "id": "-DQnEoW-q232"
   },
   "source": [
    "##### i - Global Measures"
   ]
  },
  {
   "cell_type": "code",
   "execution_count": null,
   "metadata": {
    "colab": {
     "base_uri": "https://localhost:8080/"
    },
    "id": "4V79HmUyrAMk",
    "outputId": "6a40f5c3-5ad6-4b25-9b46-1beef61ad7fd"
   },
   "outputs": [],
   "source": [
    "print(f\"Number of nodes               : {nx.number_of_nodes(bio_graph_lcc)}\")\n",
    "print(f\"Number of Links               : {nx.number_of_edges(bio_graph_lcc)}\")\n",
    "print(f\"Number of connected components: {nx.number_connected_components(bio_graph_lcc)}\")\n",
    "print(f\"Number of isolated nodes      : {nx.number_of_isolates(bio_graph_lcc)}\")\n",
    "print(f\"Average path length           : {avg_path_lengths}\")\n",
    "print(f\"Average Degree                : {avg_degree}\")\n",
    "print(f\"Average custering coefficient : {nx.average_clustering(bio_graph_lcc)}\")\n",
    "print(f\"Network radius                : {nx.radius(bio_graph_lcc)}\")\n",
    "print(f\"Network diameter              : {nx.diameter(bio_graph_lcc)}\")\n",
    "print(f\"Network centralization        : {centralization}\")"
   ]
  },
  {
   "cell_type": "markdown",
   "metadata": {
    "id": "RhQjKSoxq8pJ"
   },
   "source": [
    "##### ii - Local Measures"
   ]
  },
  {
   "cell_type": "markdown",
   "metadata": {
    "id": "yfaqZv2h2EvT"
   },
   "source": [
    " ###### Node degree\n",
    "\n"
   ]
  },
  {
   "cell_type": "code",
   "execution_count": null,
   "metadata": {
    "id": "0WAy777t2yaE"
   },
   "outputs": [],
   "source": [
    "g_degree = nx.degree(bio_graph_lcc)\n",
    "degree_df = pd.DataFrame(g_degree, columns=['Node','Degree'])\n",
    "#degree_df.head(10)"
   ]
  },
  {
   "cell_type": "markdown",
   "metadata": {
    "id": "gEjQUknL2fg6"
   },
   "source": [
    "###### Betweenness centrality"
   ]
  },
  {
   "cell_type": "code",
   "execution_count": null,
   "metadata": {
    "id": "-y3tSz073fS5"
   },
   "outputs": [],
   "source": [
    "g_b_centrality = nx.betweenness_centrality(bio_graph_lcc)\n",
    "#g_b_centrality"
   ]
  },
  {
   "cell_type": "markdown",
   "metadata": {
    "id": "DkAAaV9m2FDJ"
   },
   "source": [
    "###### Eigenvector centrality\n"
   ]
  },
  {
   "cell_type": "code",
   "execution_count": null,
   "metadata": {
    "id": "YC4iurPf3tDM"
   },
   "outputs": [],
   "source": [
    "g_e_centrality = nx.eigenvector_centrality(bio_graph_lcc)\n",
    "#g_e_centrality"
   ]
  },
  {
   "cell_type": "markdown",
   "metadata": {
    "id": "MIYRiTqM2FIb"
   },
   "source": [
    "###### Closeness centrality"
   ]
  },
  {
   "cell_type": "code",
   "execution_count": null,
   "metadata": {
    "id": "5VGI9JUE35bF"
   },
   "outputs": [],
   "source": [
    "g_c_centrality = nx.closeness_centrality(bio_graph_lcc)\n",
    "#g_c_centrality"
   ]
  },
  {
   "cell_type": "markdown",
   "metadata": {
    "id": "iqG10Lc-NepF"
   },
   "source": [
    "##### Show all local measures"
   ]
  },
  {
   "cell_type": "code",
   "execution_count": null,
   "metadata": {
    "id": "4T9NbnN5I6yo"
   },
   "outputs": [],
   "source": [
    "nodes = list(bio_graph_lcc.nodes)\n",
    "nodes_degree = list(degree_df['Degree'].values)\n",
    "b_centrality = list(g_b_centrality.values())\n",
    "e_centrality = list(g_e_centrality.values())\n",
    "c_centrality = list(g_c_centrality.values())\n"
   ]
  },
  {
   "cell_type": "markdown",
   "metadata": {
    "id": "LjleO4pz2FNn"
   },
   "source": [
    "###### Ratio Betweenness/Node degree"
   ]
  },
  {
   "cell_type": "code",
   "execution_count": null,
   "metadata": {
    "id": "K8_3EAsy4jLt"
   },
   "outputs": [],
   "source": [
    "ratio_b_d = np.array(b_centrality)/np.array(nodes_degree)"
   ]
  },
  {
   "cell_type": "code",
   "execution_count": null,
   "metadata": {
    "colab": {
     "base_uri": "https://localhost:8080/",
     "height": 407
    },
    "id": "pD0anpG3LhVy",
    "outputId": "5c658d8b-298a-4db9-b64b-000cd99aedb3"
   },
   "outputs": [],
   "source": [
    "columns = ['nodes','Degree','Betweeness Centrality','Eigen centrality','closeness centrality','Ratio']\n",
    "data = [nodes,nodes_degree,b_centrality,e_centrality,c_centrality,ratio_b_d]\n",
    "data = np.array(data).T;\n",
    "df = pd.DataFrame(data, columns=columns)\n",
    "df.sort_values(by='Betweeness Centrality',ascending=False)\n",
    "df['Betweeness Centrality','Eigen centrality','closeness centrality','Ratio'] = df['Betweeness Centrality','Eigen centrality','closeness centrality','Ratio'].round(5)\n",
    "df.head(20)"
   ]
  },
  {
   "cell_type": "markdown",
   "metadata": {
    "id": "CYqG9QQ_N4kO"
   },
   "source": [
    "#### 2.2 Clustering methods for disease modules discover"
   ]
  },
  {
   "cell_type": "code",
   "execution_count": null,
   "metadata": {
    "colab": {
     "base_uri": "https://localhost:8080/"
    },
    "id": "0HCpRWPcTFOa",
    "outputId": "ce84e0d5-8a54-48cd-ab81-4261e1b964e8"
   },
   "outputs": [],
   "source": [
    "!pip install markov_clustering[drawing]"
   ]
  },
  {
   "cell_type": "code",
   "execution_count": null,
   "metadata": {
    "id": "Fsa31IyFOAdb"
   },
   "outputs": [],
   "source": [
    "import markov_clustering as mc"
   ]
  },
  {
   "cell_type": "code",
   "execution_count": null,
   "metadata": {
    "id": "W50wOtkgUjf2"
   },
   "outputs": [],
   "source": [
    "#  get the adjacency matrix (in sparse form)\n",
    "matrix = nx.to_scipy_sparse_matrix(bio_graph)"
   ]
  },
  {
   "cell_type": "code",
   "execution_count": null,
   "metadata": {
    "id": "1nOPw9HHUor4"
   },
   "outputs": [],
   "source": [
    "result = mc.run_mcl(matrix)           # run MCL with default parameters\n",
    "clusters = mc.get_clusters(result)   # each element in cluster is represented by internal ID number"
   ]
  },
  {
   "cell_type": "markdown",
   "metadata": {
    "id": "yf-CMLM_7-e2"
   },
   "source": [
    "###### clusters with at least 10 nodes"
   ]
  },
  {
   "cell_type": "code",
   "execution_count": null,
   "metadata": {
    "id": "A6H_TNmZU9u6"
   },
   "outputs": [],
   "source": [
    "# we retrieve cluster with at least 10 elements \n",
    "above_10_clusters = [cluster for cluster in clusters if len(cluster)>=10]\n",
    "\n",
    "# We convert back the IDs to genes symbols\n",
    "nodes_list = list(bio_graph.nodes)\n",
    "symbols_clusters = [tuple([nodes_list[i] for i in cluster]) for cluster in above_10_clusters]"
   ]
  },
  {
   "cell_type": "markdown",
   "metadata": {
    "id": "cEOPqJwJ8RCC"
   },
   "source": [
    "#### hypergeometric test"
   ]
  },
  {
   "cell_type": "code",
   "execution_count": null,
   "metadata": {
    "id": "VldrTTHnKydC"
   },
   "outputs": [],
   "source": [
    "import random\n",
    "from collections import Counter\n",
    "from scipy.stats import hypergeom\n"
   ]
  },
  {
   "cell_type": "code",
   "execution_count": null,
   "metadata": {
    "id": "vMWSdrBrNgEn"
   },
   "outputs": [],
   "source": [
    "collection =  list(all_proteins_interactions_df.iloc[:,:2].values.flatten())\n",
    "collection_set = set(collection)"
   ]
  },
  {
   "cell_type": "code",
   "execution_count": null,
   "metadata": {
    "colab": {
     "base_uri": "https://localhost:8080/"
    },
    "id": "BLIdQTwbFkn3",
    "outputId": "d76ecdd9-e62b-436f-95a5-a68474ec4a69"
   },
   "outputs": [],
   "source": [
    "N_seed_genes = n_seed_biogrid # number of seedgenes in iogrid\n",
    "N_all_genes = len(genes_biogrid)\n",
    "N_non_seed_genes = N_all_genes - N_seed_genes\n",
    "prob_seed = N_seed_genes / N_all_genes\n",
    "prob_seed"
   ]
  },
  {
   "cell_type": "code",
   "execution_count": null,
   "metadata": {
    "id": "1FGKaqQrK4cK"
   },
   "outputs": [],
   "source": [
    "sample_size_max = 10\n",
    "\n"
   ]
  },
  {
   "cell_type": "code",
   "execution_count": null,
   "metadata": {
    "colab": {
     "base_uri": "https://localhost:8080/"
    },
    "id": "ob2E18wwM246",
    "outputId": "bee0c2cb-5d63-4744-d1c4-6d1ca1e26217"
   },
   "outputs": [],
   "source": [
    "probs = {}\n",
    "hpd = hypergeom(N_all_genes,N_seed_genes,sample_size_max)\n",
    "for x in range(1,sample_size_max):\n",
    "  probs[x] = hpd.pmf(x)\n",
    "\n",
    "probs"
   ]
  },
  {
   "cell_type": "markdown",
   "metadata": {
    "id": "KqfVrG6TQcU3"
   },
   "source": [
    "For p < 0.05 we have to find sample with at least 1 seed gene"
   ]
  },
  {
   "cell_type": "markdown",
   "metadata": {
    "id": "lgy-l_9xXpUS"
   },
   "source": [
    "#### Check cluster that contains the over represented Nodes"
   ]
  },
  {
   "cell_type": "code",
   "execution_count": null,
   "metadata": {
    "id": "YRrgvccqRGuu"
   },
   "outputs": [],
   "source": [
    "putative_disease_modules = []\n",
    "for cluster in symbols_clusters:\n",
    "  s = len(set(cluster).intersection(set(seed_genes_ids)))\n",
    "  if s > 0:\n",
    "    putative_disease_modules.append(cluster)\n",
    "\n",
    "#putative_disease_modules"
   ]
  },
  {
   "cell_type": "code",
   "execution_count": null,
   "metadata": {
    "id": "OnsjhRZATFQR"
   },
   "outputs": [],
   "source": [
    "module_data = []\n",
    "columns = ['module ID', 'no.of seed genes in the module',\n",
    "           'total no. of genes in each module', 'seed gene IDs', 'all gene IDs in the module', 'p-value']\n",
    "for id,module in enumerate(putative_disease_modules):\n",
    "  module_id = f'MOD_{id}'\n",
    "  n_seed_gene = len(set(module).intersection(set(seed_genes_ids)))\n",
    "  module_size = len(module)\n",
    "  seed_genes = ','.join(set(module).intersection(set(seed_genes_ids)))\n",
    "  all_genes = ','.join(module)\n",
    "  p_value = hypergeom(N_all_genes,N_seed_genes,module_size).pmf(n_seed_gene)\n",
    "\n",
    "  module_data.append([module_id,n_seed_gene,module_size,seed_genes,all_genes,p_value])\n",
    "\n",
    "  "
   ]
  },
  {
   "cell_type": "code",
   "execution_count": null,
   "metadata": {
    "colab": {
     "base_uri": "https://localhost:8080/",
     "height": 275
    },
    "id": "DhNRUbj5WD8r",
    "outputId": "1e7eac0d-dfae-43f4-bc7a-a008ef1bc3fe"
   },
   "outputs": [],
   "source": [
    "moduledf = pd.DataFrame(module_data,columns=columns)\n",
    "moduledf"
   ]
  },
  {
   "cell_type": "code",
   "execution_count": null,
   "metadata": {},
   "outputs": [],
   "source": []
  }
 ],
 "metadata": {
  "colab": {
   "include_colab_link": true,
   "name": "BI_hw1.ipynb",
   "provenance": []
  },
  "kernelspec": {
   "display_name": "Python 3",
   "language": "python",
   "name": "python3"
  },
  "language_info": {
   "codemirror_mode": {
    "name": "ipython",
    "version": 3
   },
   "file_extension": ".py",
   "mimetype": "text/x-python",
   "name": "python",
   "nbconvert_exporter": "python",
   "pygments_lexer": "ipython3",
   "version": "3.7.9"
  }
 },
 "nbformat": 4,
 "nbformat_minor": 1
}
