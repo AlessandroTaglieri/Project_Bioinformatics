{
  "nbformat": 4,
  "nbformat_minor": 0,
  "metadata": {
    "colab": {
      "name": "BI_hw1.ipynb",
      "provenance": [],
      "include_colab_link": true
    },
    "kernelspec": {
      "display_name": "Python 3",
      "language": "python",
      "name": "python3"
    },
    "language_info": {
      "codemirror_mode": {
        "name": "ipython",
        "version": 3
      },
      "file_extension": ".py",
      "mimetype": "text/x-python",
      "name": "python",
      "nbconvert_exporter": "python",
      "pygments_lexer": "ipython3",
      "version": "3.7.9"
    }
  },
  "cells": [
    {
      "cell_type": "markdown",
      "metadata": {
        "id": "view-in-github",
        "colab_type": "text"
      },
      "source": [
        "<a href=\"https://colab.research.google.com/github/AlessandroTaglieri/Project_Bioinformatics/blob/main/First%20project/BI_hw1.ipynb\" target=\"_parent\"><img src=\"https://colab.research.google.com/assets/colab-badge.svg\" alt=\"Open In Colab\"/></a>"
      ]
    },
    {
      "cell_type": "code",
      "metadata": {
        "colab": {
          "base_uri": "https://localhost:8080/"
        },
        "id": "Wl57nROYOHl2",
        "outputId": "30e4b880-32f2-4ca7-c8f7-b149fe2d6104"
      },
      "source": [
        "\n",
        "#comment if not running on colab\n",
        "from google.colab import drive\n",
        "drive.mount('/content/drive')"
      ],
      "execution_count": 1,
      "outputs": [
        {
          "output_type": "stream",
          "text": [
            "Mounted at /content/drive\n"
          ],
          "name": "stdout"
        }
      ]
    },
    {
      "cell_type": "code",
      "metadata": {
        "id": "alx8FV2wNvpf"
      },
      "source": [
        "#import libraries\n",
        "import pandas as pd\n",
        "import os\n",
        "import numpy as np\n",
        "import collections"
      ],
      "execution_count": 2,
      "outputs": []
    },
    {
      "cell_type": "code",
      "metadata": {
        "id": "DZFUTIgrOdVR"
      },
      "source": [
        "#change project folder to match yours\n",
        "project_folder ='/content/drive/MyDrive/BioinfoProject/Project_Bioinformatics/First_project/'\n",
        "#project_folder ='/'"
      ],
      "execution_count": 3,
      "outputs": []
    },
    {
      "cell_type": "code",
      "metadata": {
        "id": "I5uthtmDO--E"
      },
      "source": [
        "#change dataset folder to match yours\n",
        "dataset_folder = os.path.join(project_folder,'dataset/')"
      ],
      "execution_count": 4,
      "outputs": []
    },
    {
      "cell_type": "code",
      "metadata": {
        "id": "v54OIcfYmoOg"
      },
      "source": [
        "#only in local\n",
        "#dataset_folder=\"dataset/\""
      ],
      "execution_count": 6,
      "outputs": []
    },
    {
      "cell_type": "markdown",
      "metadata": {
        "id": "Qmi-z0dbNvpg"
      },
      "source": [
        "# 1.1"
      ]
    },
    {
      "cell_type": "code",
      "metadata": {
        "id": "qEGJ9Cf8Nvpg"
      },
      "source": [
        "#download curated gene-diesase associtaions from https://www.disgenet.org/downloads and covnert tsv in csv\n",
        "\n",
        "data = pd.read_csv(dataset_folder+ '1.1/curated_gene_disease_associations.csv')\n",
        "#get only data for intereted gene id C0043094\n",
        "gene_disease = data.loc[data['diseaseId'] == 'C0043094']\n",
        "\n",
        "#get list og gene symbols\n",
        "list_geneSymbol = gene_disease['geneSymbol']\n",
        "\n",
        "\n",
        "#download hgnc dataset from https://www.genenames.org/download/statistics-and-files/\n",
        "hgnc = pd.read_csv(dataset_folder+ \"1.1/hgnc_complete_set.txt\", sep='\\t', dtype = 'unicode')\n",
        "\n",
        "#get data (symbol,name,entrez_id,unirpot_idasdn status) for only genes stored in previous list\n",
        "genes_diseases_hgnc = hgnc.loc[hgnc['symbol'].isin(list_geneSymbol)][['symbol','name','entrez_id','uniprot_ids','status']]\n",
        "\n",
        "#get only approved data\n",
        "genes_diseases_hgnc_app = genes_diseases_hgnc.loc[genes_diseases_hgnc['status']=='Approved']\n",
        "\n",
        "\n",
        "#get list ofuniprotidthat we'll useto find gene descriptionin Uniprot\n",
        "list_uniprotID = genes_diseases_hgnc_app['uniprot_ids']\n",
        "\n",
        "#write in a file alll uniprot ids. This is necessary because we'll download only necessary description for these genes from uniprot \n",
        "with open(dataset_folder+ '1.1/uniprot_ids.txt', 'w') as f:\n",
        "    for item in list_uniprotID:\n",
        "        f.write(\"%s\\n\" % item)\n",
        "    f.close()\n",
        "\n",
        "#download data containing description for every gene. We used txt file for download them\n",
        "gene_description = pd.read_csv(dataset_folder+ '1.1/uniprot-yourlist%3AM20201123A94466D2655679D1FD8953E075198DA817123DO.csv')\n",
        "\n",
        "#rename column for the function of the gene\n",
        "gene_description=gene_description.rename(columns={\"yourlist:M20201123A94466D2655679D1FD8953E075198DA817123DO\":\"uniprot_ids\"})\n",
        "\n",
        "#merge two dataset. One containing all info about gene and the second one conatining description about their functions\n",
        "final_genes_deseas = pd.merge(gene_description, genes_diseases_hgnc_app, on='uniprot_ids')\n",
        "#rename column\n",
        "final_genes_deseas=final_genes_deseas.rename(columns={\"Function [CC]\":\"function\"})\n",
        "#get only first part of gene description\n",
        "final_genes_deseas['Description']= final_genes_deseas.function.str[10:150]\n",
        "#delete not necessary columns\n",
        "final_genes_deseas = final_genes_deseas.drop(['function','Entry','status'], axis = 1) \n",
        "final_genes_deseas = final_genes_deseas[['symbol','uniprot_ids','name','entrez_id','Description']]"
      ],
      "execution_count": 5,
      "outputs": []
    },
    {
      "cell_type": "code",
      "metadata": {
        "id": "TAO1bw4ONvpg"
      },
      "source": [
        "#fix column names and save xlsx file\n",
        "final_genes_deseas.rename(columns={\"symbol\":\"Gene symbol\",\"uniprot_ids\":\"Uniprot AC\",\"name\":'Protein name','entrez_id':\"Entrez Gene ID\"})\n",
        "final_genes_deseas.to_excel(dataset_folder+ '1.1/1.1-gene_deseas_associations.xlsx')\n",
        "final_genes_deseas.to_csv(dataset_folder+ '1.1/1.1-gene_deseas_associations.csv')"
      ],
      "execution_count": 6,
      "outputs": []
    },
    {
      "cell_type": "code",
      "metadata": {
        "colab": {
          "base_uri": "https://localhost:8080/",
          "height": 407
        },
        "id": "9FVmghYoQdJR",
        "outputId": "b728b73c-57be-4244-8194-d5bc860688c2"
      },
      "source": [
        "final_genes_deseas"
      ],
      "execution_count": 7,
      "outputs": [
        {
          "output_type": "execute_result",
          "data": {
            "text/html": [
              "<div>\n",
              "<style scoped>\n",
              "    .dataframe tbody tr th:only-of-type {\n",
              "        vertical-align: middle;\n",
              "    }\n",
              "\n",
              "    .dataframe tbody tr th {\n",
              "        vertical-align: top;\n",
              "    }\n",
              "\n",
              "    .dataframe thead th {\n",
              "        text-align: right;\n",
              "    }\n",
              "</style>\n",
              "<table border=\"1\" class=\"dataframe\">\n",
              "  <thead>\n",
              "    <tr style=\"text-align: right;\">\n",
              "      <th></th>\n",
              "      <th>symbol</th>\n",
              "      <th>uniprot_ids</th>\n",
              "      <th>name</th>\n",
              "      <th>entrez_id</th>\n",
              "      <th>Description</th>\n",
              "    </tr>\n",
              "  </thead>\n",
              "  <tbody>\n",
              "    <tr>\n",
              "      <th>0</th>\n",
              "      <td>ABCG1</td>\n",
              "      <td>P45844</td>\n",
              "      <td>ATP binding cassette subfamily G member 1</td>\n",
              "      <td>9619</td>\n",
              "      <td>Catalyzes the efflux of phospholipids such as ...</td>\n",
              "    </tr>\n",
              "    <tr>\n",
              "      <th>1</th>\n",
              "      <td>ACADM</td>\n",
              "      <td>P11310</td>\n",
              "      <td>acyl-CoA dehydrogenase medium chain</td>\n",
              "      <td>34</td>\n",
              "      <td>Acyl-CoA dehydrogenase specific for acyl chain...</td>\n",
              "    </tr>\n",
              "    <tr>\n",
              "      <th>2</th>\n",
              "      <td>ACE</td>\n",
              "      <td>P12821</td>\n",
              "      <td>angiotensin I converting enzyme</td>\n",
              "      <td>1636</td>\n",
              "      <td>Converts angiotensin I to angiotensin II by re...</td>\n",
              "    </tr>\n",
              "    <tr>\n",
              "      <th>3</th>\n",
              "      <td>ADIPOQ</td>\n",
              "      <td>Q15848</td>\n",
              "      <td>adiponectin, C1Q and collagen domain containing</td>\n",
              "      <td>9370</td>\n",
              "      <td>Important adipokine involved in the control of...</td>\n",
              "    </tr>\n",
              "    <tr>\n",
              "      <th>4</th>\n",
              "      <td>AHR</td>\n",
              "      <td>P35869</td>\n",
              "      <td>aryl hydrocarbon receptor</td>\n",
              "      <td>196</td>\n",
              "      <td>Ligand-activated transcriptional activator. Bi...</td>\n",
              "    </tr>\n",
              "    <tr>\n",
              "      <th>...</th>\n",
              "      <td>...</td>\n",
              "      <td>...</td>\n",
              "      <td>...</td>\n",
              "      <td>...</td>\n",
              "      <td>...</td>\n",
              "    </tr>\n",
              "    <tr>\n",
              "      <th>97</th>\n",
              "      <td>TSEN2</td>\n",
              "      <td>Q8NCE0</td>\n",
              "      <td>tRNA splicing endonuclease subunit 2</td>\n",
              "      <td>80746</td>\n",
              "      <td>Constitutes one of the two catalytic subunit o...</td>\n",
              "    </tr>\n",
              "    <tr>\n",
              "      <th>98</th>\n",
              "      <td>VIM</td>\n",
              "      <td>P08670</td>\n",
              "      <td>vimentin</td>\n",
              "      <td>7431</td>\n",
              "      <td>Vimentins are class-III intermediate filaments...</td>\n",
              "    </tr>\n",
              "    <tr>\n",
              "      <th>99</th>\n",
              "      <td>VPS13D</td>\n",
              "      <td>Q5THJ4</td>\n",
              "      <td>vacuolar protein sorting 13 homolog D</td>\n",
              "      <td>55187</td>\n",
              "      <td>Functions in promoting mitochondrial clearance...</td>\n",
              "    </tr>\n",
              "    <tr>\n",
              "      <th>100</th>\n",
              "      <td>ZDHHC2</td>\n",
              "      <td>Q9UIJ5</td>\n",
              "      <td>zinc finger DHHC-type palmitoyltransferase 2</td>\n",
              "      <td>51201</td>\n",
              "      <td>Palmitoyltransferase that catalyzes the additi...</td>\n",
              "    </tr>\n",
              "    <tr>\n",
              "      <th>101</th>\n",
              "      <td>ZWILCH</td>\n",
              "      <td>Q9H900</td>\n",
              "      <td>zwilch kinetochore protein</td>\n",
              "      <td>55055</td>\n",
              "      <td>Essential component of the mitotic checkpoint,...</td>\n",
              "    </tr>\n",
              "  </tbody>\n",
              "</table>\n",
              "<p>102 rows × 5 columns</p>\n",
              "</div>"
            ],
            "text/plain": [
              "     symbol  ...                                        Description\n",
              "0     ABCG1  ...  Catalyzes the efflux of phospholipids such as ...\n",
              "1     ACADM  ...  Acyl-CoA dehydrogenase specific for acyl chain...\n",
              "2       ACE  ...  Converts angiotensin I to angiotensin II by re...\n",
              "3    ADIPOQ  ...  Important adipokine involved in the control of...\n",
              "4       AHR  ...  Ligand-activated transcriptional activator. Bi...\n",
              "..      ...  ...                                                ...\n",
              "97    TSEN2  ...  Constitutes one of the two catalytic subunit o...\n",
              "98      VIM  ...  Vimentins are class-III intermediate filaments...\n",
              "99   VPS13D  ...  Functions in promoting mitochondrial clearance...\n",
              "100  ZDHHC2  ...  Palmitoyltransferase that catalyzes the additi...\n",
              "101  ZWILCH  ...  Essential component of the mitotic checkpoint,...\n",
              "\n",
              "[102 rows x 5 columns]"
            ]
          },
          "metadata": {
            "tags": []
          },
          "execution_count": 7
        }
      ]
    },
    {
      "cell_type": "code",
      "metadata": {
        "id": "RM7VwTRcZWae"
      },
      "source": [
        "## To save seed id and symbols correspondance\n",
        "seed_symbols, seed_ids = final_genes_deseas['symbol'].values ,final_genes_deseas['entrez_id'].values\n",
        "seed_symbols_to_ids = {}\n",
        "seed_ids_to_symbols = {}\n",
        "for key,value in zip(seed_symbols,seed_ids):\n",
        "  seed_symbols_to_ids[key] = value\n",
        "  seed_ids_to_symbols[value] = key\n",
        "\n",
        "\n",
        "def seed_symbol_to_id(symbol):\n",
        "  return seed_symbols_to_ids.get(symbol)\n",
        "\n",
        "def seed_id_to_symbol(id):\n",
        "  return seed_ids_to_symbols.get(id)\n"
      ],
      "execution_count": 8,
      "outputs": []
    },
    {
      "cell_type": "markdown",
      "metadata": {
        "id": "QwICM-22Nvpg"
      },
      "source": [
        "# 1.2"
      ]
    },
    {
      "cell_type": "markdown",
      "metadata": {
        "id": "_NEfYc7Z2cGQ"
      },
      "source": [
        "# Get biogrid data"
      ]
    },
    {
      "cell_type": "code",
      "metadata": {
        "id": "4CKrwuvimoOh",
        "colab": {
          "base_uri": "https://localhost:8080/"
        },
        "outputId": "f15bc1dd-06a6-4967-b6d7-5d12750662f2"
      },
      "source": [
        "#read biogrid dataset \n",
        "biogrid_datafile = dataset_folder+'1.2/BIOGRID-ORGANISM-Homo_sapiens-4.2.191.tab3.txt'\n",
        "biogrid_data = pd.read_csv(biogrid_datafile,sep='\\t')\n",
        "#biogrid_data.info()"
      ],
      "execution_count": 9,
      "outputs": [
        {
          "output_type": "stream",
          "text": [
            "/usr/local/lib/python3.6/dist-packages/IPython/core/interactiveshell.py:2718: DtypeWarning: Columns (1,18) have mixed types.Specify dtype option on import or set low_memory=False.\n",
            "  interactivity=interactivity, compiler=compiler, result=result)\n"
          ],
          "name": "stderr"
        }
      ]
    },
    {
      "cell_type": "code",
      "metadata": {
        "id": "XQ5MvHVE11Dt"
      },
      "source": [
        "# Filter data to only physical interactions and Homo sapiens genes\n",
        "biogrid_data = biogrid_data[biogrid_data['Experimental System Type']=='physical']\n",
        "biogrid_data = biogrid_data[biogrid_data['Organism Name Interactor A']=='Homo sapiens']\n",
        "biogrid_data = biogrid_data[biogrid_data['Organism Name Interactor B']=='Homo sapiens']"
      ],
      "execution_count": 13,
      "outputs": []
    },
    {
      "cell_type": "code",
      "metadata": {
        "colab": {
          "base_uri": "https://localhost:8080/",
          "height": 391
        },
        "id": "8wJa07ID5eon",
        "outputId": "620443f7-9d2c-4742-882f-5b143420338a"
      },
      "source": [
        "biogrid_data.head(5)"
      ],
      "execution_count": 14,
      "outputs": [
        {
          "output_type": "execute_result",
          "data": {
            "text/html": [
              "<div>\n",
              "<style scoped>\n",
              "    .dataframe tbody tr th:only-of-type {\n",
              "        vertical-align: middle;\n",
              "    }\n",
              "\n",
              "    .dataframe tbody tr th {\n",
              "        vertical-align: top;\n",
              "    }\n",
              "\n",
              "    .dataframe thead th {\n",
              "        text-align: right;\n",
              "    }\n",
              "</style>\n",
              "<table border=\"1\" class=\"dataframe\">\n",
              "  <thead>\n",
              "    <tr style=\"text-align: right;\">\n",
              "      <th></th>\n",
              "      <th>#BioGRID Interaction ID</th>\n",
              "      <th>Entrez Gene Interactor A</th>\n",
              "      <th>Entrez Gene Interactor B</th>\n",
              "      <th>BioGRID ID Interactor A</th>\n",
              "      <th>BioGRID ID Interactor B</th>\n",
              "      <th>Systematic Name Interactor A</th>\n",
              "      <th>Systematic Name Interactor B</th>\n",
              "      <th>Official Symbol Interactor A</th>\n",
              "      <th>Official Symbol Interactor B</th>\n",
              "      <th>Synonyms Interactor A</th>\n",
              "      <th>Synonyms Interactor B</th>\n",
              "      <th>Experimental System</th>\n",
              "      <th>Experimental System Type</th>\n",
              "      <th>Author</th>\n",
              "      <th>Publication Source</th>\n",
              "      <th>Organism ID Interactor A</th>\n",
              "      <th>Organism ID Interactor B</th>\n",
              "      <th>Throughput</th>\n",
              "      <th>Score</th>\n",
              "      <th>Modification</th>\n",
              "      <th>Qualifications</th>\n",
              "      <th>Tags</th>\n",
              "      <th>Source Database</th>\n",
              "      <th>SWISS-PROT Accessions Interactor A</th>\n",
              "      <th>TREMBL Accessions Interactor A</th>\n",
              "      <th>REFSEQ Accessions Interactor A</th>\n",
              "      <th>SWISS-PROT Accessions Interactor B</th>\n",
              "      <th>TREMBL Accessions Interactor B</th>\n",
              "      <th>REFSEQ Accessions Interactor B</th>\n",
              "      <th>Ontology Term IDs</th>\n",
              "      <th>Ontology Term Names</th>\n",
              "      <th>Ontology Term Categories</th>\n",
              "      <th>Ontology Term Qualifier IDs</th>\n",
              "      <th>Ontology Term Qualifier Names</th>\n",
              "      <th>Ontology Term Types</th>\n",
              "      <th>Organism Name Interactor A</th>\n",
              "      <th>Organism Name Interactor B</th>\n",
              "    </tr>\n",
              "  </thead>\n",
              "  <tbody>\n",
              "    <tr>\n",
              "      <th>0</th>\n",
              "      <td>103</td>\n",
              "      <td>6416</td>\n",
              "      <td>2318</td>\n",
              "      <td>112315</td>\n",
              "      <td>108607</td>\n",
              "      <td>-</td>\n",
              "      <td>-</td>\n",
              "      <td>MAP2K4</td>\n",
              "      <td>FLNC</td>\n",
              "      <td>JNKK|JNKK1|MAPKK4|MEK4|MKK4|PRKMK4|SAPKK-1|SAP...</td>\n",
              "      <td>ABP-280|ABP280A|ABPA|ABPL|FLN2|MFM5|MPD4</td>\n",
              "      <td>Two-hybrid</td>\n",
              "      <td>physical</td>\n",
              "      <td>Marti A (1997)</td>\n",
              "      <td>PUBMED:9006895</td>\n",
              "      <td>9606</td>\n",
              "      <td>9606</td>\n",
              "      <td>Low Throughput</td>\n",
              "      <td>-</td>\n",
              "      <td>-</td>\n",
              "      <td>-</td>\n",
              "      <td>-</td>\n",
              "      <td>BIOGRID</td>\n",
              "      <td>P45985</td>\n",
              "      <td>-</td>\n",
              "      <td>NP_003001|NP_001268364</td>\n",
              "      <td>Q14315</td>\n",
              "      <td>Q59H94</td>\n",
              "      <td>NP_001120959|NP_001449</td>\n",
              "      <td>-</td>\n",
              "      <td>-</td>\n",
              "      <td>-</td>\n",
              "      <td>-</td>\n",
              "      <td>-</td>\n",
              "      <td>-</td>\n",
              "      <td>Homo sapiens</td>\n",
              "      <td>Homo sapiens</td>\n",
              "    </tr>\n",
              "    <tr>\n",
              "      <th>1</th>\n",
              "      <td>117</td>\n",
              "      <td>84665</td>\n",
              "      <td>88</td>\n",
              "      <td>124185</td>\n",
              "      <td>106603</td>\n",
              "      <td>-</td>\n",
              "      <td>-</td>\n",
              "      <td>MYPN</td>\n",
              "      <td>ACTN2</td>\n",
              "      <td>CMD1DD|CMH22|MYOP|RCM4</td>\n",
              "      <td>CMD1AA</td>\n",
              "      <td>Two-hybrid</td>\n",
              "      <td>physical</td>\n",
              "      <td>Bang ML (2001)</td>\n",
              "      <td>PUBMED:11309420</td>\n",
              "      <td>9606</td>\n",
              "      <td>9606</td>\n",
              "      <td>Low Throughput</td>\n",
              "      <td>-</td>\n",
              "      <td>-</td>\n",
              "      <td>-</td>\n",
              "      <td>-</td>\n",
              "      <td>BIOGRID</td>\n",
              "      <td>Q86TC9</td>\n",
              "      <td>A0A087WX60</td>\n",
              "      <td>NP_001243197|NP_001243196|NP_115967</td>\n",
              "      <td>P35609</td>\n",
              "      <td>Q59FD9|F6THM6</td>\n",
              "      <td>NP_001094|NP_001265272|NP_001265273</td>\n",
              "      <td>-</td>\n",
              "      <td>-</td>\n",
              "      <td>-</td>\n",
              "      <td>-</td>\n",
              "      <td>-</td>\n",
              "      <td>-</td>\n",
              "      <td>Homo sapiens</td>\n",
              "      <td>Homo sapiens</td>\n",
              "    </tr>\n",
              "    <tr>\n",
              "      <th>2</th>\n",
              "      <td>183</td>\n",
              "      <td>90</td>\n",
              "      <td>2339</td>\n",
              "      <td>106605</td>\n",
              "      <td>108625</td>\n",
              "      <td>-</td>\n",
              "      <td>-</td>\n",
              "      <td>ACVR1</td>\n",
              "      <td>FNTA</td>\n",
              "      <td>ACTRI|ACVR1A|ACVRLK2|ALK2|FOP|SKR1|TSRI</td>\n",
              "      <td>FPTA|PGGT1A|PTAR2</td>\n",
              "      <td>Two-hybrid</td>\n",
              "      <td>physical</td>\n",
              "      <td>Wang T (1996)</td>\n",
              "      <td>PUBMED:8599089</td>\n",
              "      <td>9606</td>\n",
              "      <td>9606</td>\n",
              "      <td>Low Throughput</td>\n",
              "      <td>-</td>\n",
              "      <td>-</td>\n",
              "      <td>-</td>\n",
              "      <td>-</td>\n",
              "      <td>BIOGRID</td>\n",
              "      <td>Q04771</td>\n",
              "      <td>D3DPA4</td>\n",
              "      <td>NP_001104537|NP_001096</td>\n",
              "      <td>P49354</td>\n",
              "      <td>-</td>\n",
              "      <td>NP_002018</td>\n",
              "      <td>-</td>\n",
              "      <td>-</td>\n",
              "      <td>-</td>\n",
              "      <td>-</td>\n",
              "      <td>-</td>\n",
              "      <td>-</td>\n",
              "      <td>Homo sapiens</td>\n",
              "      <td>Homo sapiens</td>\n",
              "    </tr>\n",
              "    <tr>\n",
              "      <th>3</th>\n",
              "      <td>278</td>\n",
              "      <td>2624</td>\n",
              "      <td>5371</td>\n",
              "      <td>108894</td>\n",
              "      <td>111384</td>\n",
              "      <td>-</td>\n",
              "      <td>-</td>\n",
              "      <td>GATA2</td>\n",
              "      <td>PML</td>\n",
              "      <td>DCML|IMD21|MONOMAC|NFE1B</td>\n",
              "      <td>MYL|PP8675|RNF71|TRIM19</td>\n",
              "      <td>Two-hybrid</td>\n",
              "      <td>physical</td>\n",
              "      <td>Tsuzuki S (2000)</td>\n",
              "      <td>PUBMED:10938104</td>\n",
              "      <td>9606</td>\n",
              "      <td>9606</td>\n",
              "      <td>Low Throughput</td>\n",
              "      <td>-</td>\n",
              "      <td>-</td>\n",
              "      <td>-</td>\n",
              "      <td>-</td>\n",
              "      <td>BIOGRID</td>\n",
              "      <td>P23769</td>\n",
              "      <td>-</td>\n",
              "      <td>NP_001139134|NP_116027|NP_001139133</td>\n",
              "      <td>P29590</td>\n",
              "      <td>-</td>\n",
              "      <td>NP_150250|NP_150253|NP_150252|NP_150247|NP_150...</td>\n",
              "      <td>-</td>\n",
              "      <td>-</td>\n",
              "      <td>-</td>\n",
              "      <td>-</td>\n",
              "      <td>-</td>\n",
              "      <td>-</td>\n",
              "      <td>Homo sapiens</td>\n",
              "      <td>Homo sapiens</td>\n",
              "    </tr>\n",
              "    <tr>\n",
              "      <th>4</th>\n",
              "      <td>418</td>\n",
              "      <td>6118</td>\n",
              "      <td>6774</td>\n",
              "      <td>112038</td>\n",
              "      <td>112651</td>\n",
              "      <td>RP4-547C9.3</td>\n",
              "      <td>-</td>\n",
              "      <td>RPA2</td>\n",
              "      <td>STAT3</td>\n",
              "      <td>REPA2|RP-A p32|RP-A p34|RPA32</td>\n",
              "      <td>ADMIO|APRF|HIES</td>\n",
              "      <td>Two-hybrid</td>\n",
              "      <td>physical</td>\n",
              "      <td>Kim J (2000)</td>\n",
              "      <td>PUBMED:10875894</td>\n",
              "      <td>9606</td>\n",
              "      <td>9606</td>\n",
              "      <td>Low Throughput</td>\n",
              "      <td>-</td>\n",
              "      <td>-</td>\n",
              "      <td>-</td>\n",
              "      <td>-</td>\n",
              "      <td>BIOGRID</td>\n",
              "      <td>P15927</td>\n",
              "      <td>B4DUL2</td>\n",
              "      <td>NP_001342057|NP_002937|NP_001284487|NP_0013420...</td>\n",
              "      <td>P40763</td>\n",
              "      <td>-</td>\n",
              "      <td>NP_644805|NP_003141|NP_001356447|NP_001356443|...</td>\n",
              "      <td>-</td>\n",
              "      <td>-</td>\n",
              "      <td>-</td>\n",
              "      <td>-</td>\n",
              "      <td>-</td>\n",
              "      <td>-</td>\n",
              "      <td>Homo sapiens</td>\n",
              "      <td>Homo sapiens</td>\n",
              "    </tr>\n",
              "  </tbody>\n",
              "</table>\n",
              "</div>"
            ],
            "text/plain": [
              "   #BioGRID Interaction ID  ... Organism Name Interactor B\n",
              "0                      103  ...               Homo sapiens\n",
              "1                      117  ...               Homo sapiens\n",
              "2                      183  ...               Homo sapiens\n",
              "3                      278  ...               Homo sapiens\n",
              "4                      418  ...               Homo sapiens\n",
              "\n",
              "[5 rows x 37 columns]"
            ]
          },
          "metadata": {
            "tags": []
          },
          "execution_count": 14
        }
      ]
    },
    {
      "cell_type": "markdown",
      "metadata": {
        "id": "h7uYgIAt6fbi"
      },
      "source": [
        "#### Mapping protein Id to symbols\n"
      ]
    },
    {
      "cell_type": "code",
      "metadata": {
        "id": "cqLQV89pba0T"
      },
      "source": [
        "biogrid_ids_A,biogrid_symbols_A  = biogrid_data['Entrez Gene Interactor A'].values ,biogrid_data['Official Symbol Interactor A'].values\n",
        "biogrid_ids_B,biogrid_symbols_B  = biogrid_data['Entrez Gene Interactor B'].values ,biogrid_data['Official Symbol Interactor B'].values\n",
        "\n",
        "symbols_to_ids = {}\n",
        "ids_to_symbols = {}\n",
        "for key,value in zip(biogrid_symbols_A,biogrid_ids_A):\n",
        "  symbols_to_ids[key] = value\n",
        "  ids_to_symbols[value] = key\n",
        "\n",
        "for key,value in zip(biogrid_symbols_B,biogrid_ids_B):\n",
        "  symbols_to_ids[key] = value\n",
        "  ids_to_symbols[value] = key \n",
        "  "
      ],
      "execution_count": 18,
      "outputs": []
    },
    {
      "cell_type": "code",
      "metadata": {
        "id": "fHUEWEC_Yu6H"
      },
      "source": [
        "def symbol_to_id(symbol):\n",
        "  id = symbols_to_ids.get(symbol)\n",
        "  if id ==None:\n",
        "    return seed_symbol_to_id(symbol)\n",
        "  return id\n",
        "\n",
        "def id_to_symbol(id):\n",
        "  symbol = ids_to_symbols.get(id)\n",
        "  if symbol == None:\n",
        "    return seed_id_to_symbol(id)\n",
        "  return symbol\n",
        "\n",
        "def symbol_link_to_id_link(link):\n",
        "  return (symbol_to_id(link[0]),symbol_to_id(link[1]))\n"
      ],
      "execution_count": 22,
      "outputs": []
    },
    {
      "cell_type": "markdown",
      "metadata": {
        "id": "H4Jif0i0JY1V"
      },
      "source": [
        "##Get all nodes involved in interactions \n",
        "\n",
        "\n",
        "---\n",
        "\n"
      ]
    },
    {
      "cell_type": "code",
      "metadata": {
        "id": "-LGQgQwc_2uO"
      },
      "source": [
        "gene_A_list = biogrid_data.iloc[:,1].values\n",
        "gene_B_list = biogrid_data.iloc[:,2].values\n",
        "A_B_list = np.append(gene_A_list,gene_B_list)\n",
        "A_set = set(gene_A_list)\n",
        "\n",
        "B_set =  set(gene_B_list)\n",
        "A_B_set = set(A_B_list)"
      ],
      "execution_count": 19,
      "outputs": []
    },
    {
      "cell_type": "code",
      "metadata": {
        "colab": {
          "base_uri": "https://localhost:8080/"
        },
        "id": "YQ2tGfcAHpu6",
        "outputId": "833d2e80-abf3-401e-c917-d4622822f44e"
      },
      "source": [
        "genes_biogrid = np.array([id_to_symbol(x) for x in A_B_set if str.isdigit(str(x))])\n",
        "genes_biogrid"
      ],
      "execution_count": 23,
      "outputs": [
        {
          "output_type": "execute_result",
          "data": {
            "text/plain": [
              "array(['A1BG', 'A2M', 'CCDC58', ..., 'RPL10A', 'SPAG7', 'CPNE4'],\n",
              "      dtype='<U22')"
            ]
          },
          "metadata": {
            "tags": []
          },
          "execution_count": 23
        }
      ]
    },
    {
      "cell_type": "markdown",
      "metadata": {
        "id": "KR4mMY8cJpV5"
      },
      "source": [
        "##Get all interactions \n",
        "\n"
      ]
    },
    {
      "cell_type": "code",
      "metadata": {
        "colab": {
          "base_uri": "https://localhost:8080/"
        },
        "id": "gLR8LCg5D6TR",
        "outputId": "7f191901-adbb-4562-d696-d809620412da"
      },
      "source": [
        "interactions = biogrid_data.iloc[:,1:3].values\n",
        "#interactions =np.array([[a,b] for a,b in interactions if(str.isdigit(str(a)) & str.isdigit(str(b)))])\n",
        "interactions =np.array([[id_to_symbol(a),id_to_symbol(b)] for a,b in interactions ])\n",
        "interactions.shape"
      ],
      "execution_count": 24,
      "outputs": [
        {
          "output_type": "execute_result",
          "data": {
            "text/plain": [
              "(630323, 2)"
            ]
          },
          "metadata": {
            "tags": []
          },
          "execution_count": 24
        }
      ]
    },
    {
      "cell_type": "code",
      "metadata": {
        "colab": {
          "base_uri": "https://localhost:8080/"
        },
        "id": "9Bqp5DyfW3Nj",
        "outputId": "c1fa5503-f7ad-4ccf-d5bb-b6dddf49e070"
      },
      "source": [
        "interactions"
      ],
      "execution_count": 25,
      "outputs": [
        {
          "output_type": "execute_result",
          "data": {
            "text/plain": [
              "array([['MAP2K4', 'FLNC'],\n",
              "       ['MYPN', 'ACTN2'],\n",
              "       ['ACVR1', 'FNTA'],\n",
              "       ...,\n",
              "       ['BCAR1', 'QTRTD1'],\n",
              "       ['BCAR1', 'EPT1'],\n",
              "       ['BCAR1', 'C12orf5']], dtype='<U22')"
            ]
          },
          "metadata": {
            "tags": []
          },
          "execution_count": 25
        }
      ]
    },
    {
      "cell_type": "markdown",
      "metadata": {
        "id": "q6HEt4l2UQxA"
      },
      "source": [
        "# Seed gene list "
      ]
    },
    {
      "cell_type": "code",
      "metadata": {
        "id": "nobmzU_UUPM8"
      },
      "source": [
        "seed_genes_ids  =  final_genes_deseas['entrez_id'].values\n",
        "seed_genes_ids = [id_to_symbol(s) for s in seed_genes_ids]\n"
      ],
      "execution_count": 26,
      "outputs": []
    },
    {
      "cell_type": "markdown",
      "metadata": {
        "id": "9mzjaC-TU0ev"
      },
      "source": [
        "#Now we build a dictionary of all interactions"
      ]
    },
    {
      "cell_type": "code",
      "metadata": {
        "id": "ZuBk2xllVaX3"
      },
      "source": [
        "all_interactions_dict = collections.defaultdict(set)\n",
        "for a,b in interactions:\n",
        "  all_interactions_dict[a].add(b)\n",
        "  all_interactions_dict[b].add(a)"
      ],
      "execution_count": 27,
      "outputs": []
    },
    {
      "cell_type": "markdown",
      "metadata": {
        "id": "QTsPM8xqiLc9"
      },
      "source": [
        "# Interactions including seed genes "
      ]
    },
    {
      "cell_type": "code",
      "metadata": {
        "id": "yxTCUWjcZDqD"
      },
      "source": [
        "seed_interactions_dict = collections.defaultdict(set)\n",
        "for key in seed_genes_ids:\n",
        "  seed_interactions_dict[key] = all_interactions_dict[key]"
      ],
      "execution_count": 28,
      "outputs": []
    },
    {
      "cell_type": "markdown",
      "metadata": {
        "id": "s9sGTd8jifxs"
      },
      "source": [
        "# Protein interacting with seed genes"
      ]
    },
    {
      "cell_type": "code",
      "metadata": {
        "colab": {
          "base_uri": "https://localhost:8080/"
        },
        "id": "XGPKvfXViXRw",
        "outputId": "1cde8dbc-e10d-41cd-b512-70701ec088ec"
      },
      "source": [
        "non_seed_genes_ids = set()\n",
        "# from seed genes interactions dictionary, we retrieve all genes interacting with them\n",
        "# performing union of all set \n",
        "for key in seed_interactions_dict.keys():\n",
        "  non_seed_genes_ids = non_seed_genes_ids.union(seed_interactions_dict[key]) \n",
        "\n",
        "#We remove all seed genes included in the set\n",
        "non_seed_genes_ids = np.array([x for x in non_seed_genes_ids if x not in seed_genes_ids])\n",
        "\n",
        "# There we get only non seed gene which interacted with at least one seed gene\n",
        "len(non_seed_genes_ids)"
      ],
      "execution_count": 29,
      "outputs": [
        {
          "output_type": "execute_result",
          "data": {
            "text/plain": [
              "5670"
            ]
          },
          "metadata": {
            "tags": []
          },
          "execution_count": 29
        }
      ]
    },
    {
      "cell_type": "markdown",
      "metadata": {
        "id": "Q5Nin_0Ylelk"
      },
      "source": [
        "##Then we create a dictionary for interactions of non seed genes involved with at least one seed gene"
      ]
    },
    {
      "cell_type": "code",
      "metadata": {
        "id": "vhayZxQEl-GB"
      },
      "source": [
        "non_seed_interactions_dict = collections.defaultdict(set)\n",
        "\n",
        "#looping on non seed gend ids \n",
        "for key in non_seed_genes_ids:\n",
        "  # we retrieve interactions from all interactions dictionary \n",
        "  related_genes = all_interactions_dict[key]\n",
        "\n",
        "  related_non_seed_genes = [x for x in related_genes if x not in seed_genes_ids]\n",
        "\n",
        "  #we add it tho the seed genes iteractions dictionary \n",
        "  non_seed_interactions_dict[key] = set(related_non_seed_genes)\n"
      ],
      "execution_count": 31,
      "outputs": []
    },
    {
      "cell_type": "markdown",
      "metadata": {
        "id": "1UYkzP2Ooq0y"
      },
      "source": [
        "#Lets put all this in a data frame"
      ]
    },
    {
      "cell_type": "code",
      "metadata": {
        "id": "kwCN8oVAov8X"
      },
      "source": [
        "values = []\n",
        "for a ,b in seed_interactions_dict.items():\n",
        "  values.append([a,'T',','.join(b)])\n",
        "\n",
        "for a ,b in non_seed_interactions_dict.items():\n",
        "  values.append([a,'F',','.join(b)])\n",
        "\n",
        "\n",
        "df = pd.DataFrame(values,columns=['gene','seed_gene_involved','interactions_seeds'])"
      ],
      "execution_count": 32,
      "outputs": []
    },
    {
      "cell_type": "code",
      "metadata": {
        "colab": {
          "base_uri": "https://localhost:8080/",
          "height": 348
        },
        "id": "Vxu_l4gRgF1I",
        "outputId": "7817fcb5-a05e-4591-f1a9-c48e29b6795e"
      },
      "source": [
        "df.sample(10)"
      ],
      "execution_count": 36,
      "outputs": [
        {
          "output_type": "execute_result",
          "data": {
            "text/html": [
              "<div>\n",
              "<style scoped>\n",
              "    .dataframe tbody tr th:only-of-type {\n",
              "        vertical-align: middle;\n",
              "    }\n",
              "\n",
              "    .dataframe tbody tr th {\n",
              "        vertical-align: top;\n",
              "    }\n",
              "\n",
              "    .dataframe thead th {\n",
              "        text-align: right;\n",
              "    }\n",
              "</style>\n",
              "<table border=\"1\" class=\"dataframe\">\n",
              "  <thead>\n",
              "    <tr style=\"text-align: right;\">\n",
              "      <th></th>\n",
              "      <th>gene</th>\n",
              "      <th>seed_gene_involved</th>\n",
              "      <th>interactions_seeds</th>\n",
              "    </tr>\n",
              "  </thead>\n",
              "  <tbody>\n",
              "    <tr>\n",
              "      <th>5032</th>\n",
              "      <td>TTC5</td>\n",
              "      <td>F</td>\n",
              "      <td>STPG2,RFPL2,GOLGA6A,CDIPT,TUBB,TUBA1A,CAND1,TU...</td>\n",
              "    </tr>\n",
              "    <tr>\n",
              "      <th>5188</th>\n",
              "      <td>ARIH1</td>\n",
              "      <td>F</td>\n",
              "      <td>BATF3,TNFAIP3,ILF2,DHPS,HOXB9,CAMKV,KLHL12,OBS...</td>\n",
              "    </tr>\n",
              "    <tr>\n",
              "      <th>3720</th>\n",
              "      <td>TMED10</td>\n",
              "      <td>F</td>\n",
              "      <td>TPT1,CDK2,NR2C2,LMBR1L,FBXO6,COPB2,LMAN2,ESR2,...</td>\n",
              "    </tr>\n",
              "    <tr>\n",
              "      <th>1057</th>\n",
              "      <td>KIR2DL3</td>\n",
              "      <td>F</td>\n",
              "      <td>AGTRAP,COQ9,CXCL16,TMEM86B,TMEM222,CDIPT,JAGN1...</td>\n",
              "    </tr>\n",
              "    <tr>\n",
              "      <th>5567</th>\n",
              "      <td>UPF3B</td>\n",
              "      <td>F</td>\n",
              "      <td>SERBP1,CASC3,YEATS4,WBP11,USP21,HIST1H2BG,UPF2...</td>\n",
              "    </tr>\n",
              "    <tr>\n",
              "      <th>4755</th>\n",
              "      <td>KRTAP10-7</td>\n",
              "      <td>F</td>\n",
              "      <td>CRY2,ZNF20,ZBTB24,PFKL,ZNF26,POLL,ZSCAN21,LCE1...</td>\n",
              "    </tr>\n",
              "    <tr>\n",
              "      <th>443</th>\n",
              "      <td>PCNA</td>\n",
              "      <td>F</td>\n",
              "      <td>KAT5,FIBP,DHX15,TFAP4,MSH3,HIST1H2BB,UNG,SENP8...</td>\n",
              "    </tr>\n",
              "    <tr>\n",
              "      <th>817</th>\n",
              "      <td>XKR5</td>\n",
              "      <td>F</td>\n",
              "      <td></td>\n",
              "    </tr>\n",
              "    <tr>\n",
              "      <th>19</th>\n",
              "      <td>CTSD</td>\n",
              "      <td>T</td>\n",
              "      <td>DCAF4,SHBG,HSPB2,AGR2,RAB5B,ATP1B1,PPT1,PPME1,...</td>\n",
              "    </tr>\n",
              "    <tr>\n",
              "      <th>602</th>\n",
              "      <td>SREBF1</td>\n",
              "      <td>F</td>\n",
              "      <td>MED12,HIST1H4A,LMNA,ATXN1,MED25,GCN1L1,PVALB,T...</td>\n",
              "    </tr>\n",
              "  </tbody>\n",
              "</table>\n",
              "</div>"
            ],
            "text/plain": [
              "           gene  ...                                 interactions_seeds\n",
              "5032       TTC5  ...  STPG2,RFPL2,GOLGA6A,CDIPT,TUBB,TUBA1A,CAND1,TU...\n",
              "5188      ARIH1  ...  BATF3,TNFAIP3,ILF2,DHPS,HOXB9,CAMKV,KLHL12,OBS...\n",
              "3720     TMED10  ...  TPT1,CDK2,NR2C2,LMBR1L,FBXO6,COPB2,LMAN2,ESR2,...\n",
              "1057    KIR2DL3  ...  AGTRAP,COQ9,CXCL16,TMEM86B,TMEM222,CDIPT,JAGN1...\n",
              "5567      UPF3B  ...  SERBP1,CASC3,YEATS4,WBP11,USP21,HIST1H2BG,UPF2...\n",
              "4755  KRTAP10-7  ...  CRY2,ZNF20,ZBTB24,PFKL,ZNF26,POLL,ZSCAN21,LCE1...\n",
              "443        PCNA  ...  KAT5,FIBP,DHX15,TFAP4,MSH3,HIST1H2BB,UNG,SENP8...\n",
              "817        XKR5  ...                                                   \n",
              "19         CTSD  ...  DCAF4,SHBG,HSPB2,AGR2,RAB5B,ATP1B1,PPT1,PPME1,...\n",
              "602      SREBF1  ...  MED12,HIST1H4A,LMNA,ATXN1,MED25,GCN1L1,PVALB,T...\n",
              "\n",
              "[10 rows x 3 columns]"
            ]
          },
          "metadata": {
            "tags": []
          },
          "execution_count": 36
        }
      ]
    },
    {
      "cell_type": "markdown",
      "metadata": {
        "id": "TJBbwYRHq7kN"
      },
      "source": [
        "#1.2 b - Store data in csv format"
      ]
    },
    {
      "cell_type": "code",
      "metadata": {
        "id": "QPjD8oRerEvB"
      },
      "source": [
        "filename = dataset_folder + '1.2/interactions.csv'\n",
        "df.to_csv(filename, sep='\\t',index=False)"
      ],
      "execution_count": 37,
      "outputs": []
    },
    {
      "cell_type": "markdown",
      "metadata": {
        "id": "UXgMRpllsi7k"
      },
      "source": [
        "#1.2 c - Summary"
      ]
    },
    {
      "cell_type": "code",
      "metadata": {
        "id": "YaG9DNm0sqUu"
      },
      "source": [
        "n_seed_disgenet = len(set(seed_genes_ids))\n",
        "n_seed_biogrid = len(set([gene for gene in genes_biogrid if gene in seed_genes_ids]))\n",
        "n_interacting_genes = len(set(genes_biogrid))\n",
        "n_interactions = biogrid_data.shape[0]"
      ],
      "execution_count": 38,
      "outputs": []
    },
    {
      "cell_type": "code",
      "metadata": {
        "colab": {
          "base_uri": "https://localhost:8080/",
          "height": 78
        },
        "id": "7FE6VV9fvlF6",
        "outputId": "465a17c3-200b-4952-b80d-7d120255eab5"
      },
      "source": [
        "table = [[n_seed_disgenet,n_seed_biogrid,n_interacting_genes,n_interactions]]\n",
        "summary = pd.DataFrame(table, columns=['N° seed disgenet','N° seed biogrid','Interacting genes','Interactions'])\n",
        "summary"
      ],
      "execution_count": 39,
      "outputs": [
        {
          "output_type": "execute_result",
          "data": {
            "text/html": [
              "<div>\n",
              "<style scoped>\n",
              "    .dataframe tbody tr th:only-of-type {\n",
              "        vertical-align: middle;\n",
              "    }\n",
              "\n",
              "    .dataframe tbody tr th {\n",
              "        vertical-align: top;\n",
              "    }\n",
              "\n",
              "    .dataframe thead th {\n",
              "        text-align: right;\n",
              "    }\n",
              "</style>\n",
              "<table border=\"1\" class=\"dataframe\">\n",
              "  <thead>\n",
              "    <tr style=\"text-align: right;\">\n",
              "      <th></th>\n",
              "      <th>N° seed disgenet</th>\n",
              "      <th>N° seed biogrid</th>\n",
              "      <th>Interacting genes</th>\n",
              "      <th>Interactions</th>\n",
              "    </tr>\n",
              "  </thead>\n",
              "  <tbody>\n",
              "    <tr>\n",
              "      <th>0</th>\n",
              "      <td>102</td>\n",
              "      <td>100</td>\n",
              "      <td>18909</td>\n",
              "      <td>630323</td>\n",
              "    </tr>\n",
              "  </tbody>\n",
              "</table>\n",
              "</div>"
            ],
            "text/plain": [
              "   N° seed disgenet  N° seed biogrid  Interacting genes  Interactions\n",
              "0               102              100              18909        630323"
            ]
          },
          "metadata": {
            "tags": []
          },
          "execution_count": 39
        }
      ]
    },
    {
      "cell_type": "markdown",
      "metadata": {
        "id": "LV3ETnVpw0ec"
      },
      "source": [
        "#1.3 Arrange interaction data"
      ]
    },
    {
      "cell_type": "code",
      "metadata": {
        "id": "MCf_dUzU2KXV"
      },
      "source": [
        "genes_interactions = biogrid_data.values\n",
        "indexes = []\n",
        "i =0\n",
        "for row in genes_interactions:\n",
        "  check = str(row[7]) in seed_genes_ids\n",
        "  check_2 = str(row[8]) in seed_genes_ids\n",
        "  #  unwanted row were filtered out in biogrid data\n",
        "  if check_2  and check:\n",
        "    indexes.append(i)\n",
        "    i= i+1\n",
        "  \n",
        "\n"
      ],
      "execution_count": 49,
      "outputs": []
    },
    {
      "cell_type": "markdown",
      "metadata": {
        "id": "drl29t7ZB6K9"
      },
      "source": [
        "#1.3 a - seed genes interactome: interactions that involve seed genes only"
      ]
    },
    {
      "cell_type": "code",
      "metadata": {
        "id": "FfUbqMsL_mKS"
      },
      "source": [
        "only_seed_interactions = biogrid_data.iloc[indexes,[7,8,23,26]]\n",
        "only_seed_data = only_seed_interactions.values\n",
        "columns = ['interactor A gene symbol',' interactor B gene symbol', 'interactor A Uniprot AC', 'interactor B Uniprot AC']\n",
        "only_seed_interactions_df = pd.DataFrame(only_seed_data,columns=columns)"
      ],
      "execution_count": 50,
      "outputs": []
    },
    {
      "cell_type": "code",
      "metadata": {
        "id": "xmRUu8LcSrG_"
      },
      "source": [
        "#save gene seed interactions into csv file\n",
        "filename = dataset_folder + '1.3/gsi.csv'\n",
        "only_seed_interactions_df.to_csv(filename, sep='\\t',index=False)\n"
      ],
      "execution_count": 56,
      "outputs": []
    },
    {
      "cell_type": "code",
      "metadata": {
        "id": "oJGIysXL4pp6",
        "outputId": "562c07a3-6ba0-4b43-970f-ba44c533b8f7",
        "colab": {
          "base_uri": "https://localhost:8080/",
          "height": 407
        }
      },
      "source": [
        "only_seed_interactions_df"
      ],
      "execution_count": 52,
      "outputs": [
        {
          "output_type": "execute_result",
          "data": {
            "text/html": [
              "<div>\n",
              "<style scoped>\n",
              "    .dataframe tbody tr th:only-of-type {\n",
              "        vertical-align: middle;\n",
              "    }\n",
              "\n",
              "    .dataframe tbody tr th {\n",
              "        vertical-align: top;\n",
              "    }\n",
              "\n",
              "    .dataframe thead th {\n",
              "        text-align: right;\n",
              "    }\n",
              "</style>\n",
              "<table border=\"1\" class=\"dataframe\">\n",
              "  <thead>\n",
              "    <tr style=\"text-align: right;\">\n",
              "      <th></th>\n",
              "      <th>interactor A gene symbol</th>\n",
              "      <th>interactor B gene symbol</th>\n",
              "      <th>interactor A Uniprot AC</th>\n",
              "      <th>interactor B Uniprot AC</th>\n",
              "    </tr>\n",
              "  </thead>\n",
              "  <tbody>\n",
              "    <tr>\n",
              "      <th>0</th>\n",
              "      <td>MAP2K4</td>\n",
              "      <td>FLNC</td>\n",
              "      <td>P45985</td>\n",
              "      <td>Q14315</td>\n",
              "    </tr>\n",
              "    <tr>\n",
              "      <th>1</th>\n",
              "      <td>MYPN</td>\n",
              "      <td>ACTN2</td>\n",
              "      <td>Q86TC9</td>\n",
              "      <td>P35609</td>\n",
              "    </tr>\n",
              "    <tr>\n",
              "      <th>2</th>\n",
              "      <td>ACVR1</td>\n",
              "      <td>FNTA</td>\n",
              "      <td>Q04771</td>\n",
              "      <td>P49354</td>\n",
              "    </tr>\n",
              "    <tr>\n",
              "      <th>3</th>\n",
              "      <td>GATA2</td>\n",
              "      <td>PML</td>\n",
              "      <td>P23769</td>\n",
              "      <td>P29590</td>\n",
              "    </tr>\n",
              "    <tr>\n",
              "      <th>4</th>\n",
              "      <td>RPA2</td>\n",
              "      <td>STAT3</td>\n",
              "      <td>P15927</td>\n",
              "      <td>P40763</td>\n",
              "    </tr>\n",
              "    <tr>\n",
              "      <th>...</th>\n",
              "      <td>...</td>\n",
              "      <td>...</td>\n",
              "      <td>...</td>\n",
              "      <td>...</td>\n",
              "    </tr>\n",
              "    <tr>\n",
              "      <th>147</th>\n",
              "      <td>JAK2</td>\n",
              "      <td>SOCS1</td>\n",
              "      <td>O60674</td>\n",
              "      <td>O15524</td>\n",
              "    </tr>\n",
              "    <tr>\n",
              "      <th>148</th>\n",
              "      <td>BYSL</td>\n",
              "      <td>KRT8</td>\n",
              "      <td>Q13895</td>\n",
              "      <td>P05787</td>\n",
              "    </tr>\n",
              "    <tr>\n",
              "      <th>149</th>\n",
              "      <td>KRT18</td>\n",
              "      <td>CBL</td>\n",
              "      <td>P05783</td>\n",
              "      <td>P22681</td>\n",
              "    </tr>\n",
              "    <tr>\n",
              "      <th>150</th>\n",
              "      <td>KRT18</td>\n",
              "      <td>DNAJB6</td>\n",
              "      <td>P05783</td>\n",
              "      <td>O75190</td>\n",
              "    </tr>\n",
              "    <tr>\n",
              "      <th>151</th>\n",
              "      <td>LMNA</td>\n",
              "      <td>LMNB1</td>\n",
              "      <td>P02545</td>\n",
              "      <td>P20700</td>\n",
              "    </tr>\n",
              "  </tbody>\n",
              "</table>\n",
              "<p>152 rows × 4 columns</p>\n",
              "</div>"
            ],
            "text/plain": [
              "    interactor A gene symbol  ... interactor B Uniprot AC\n",
              "0                     MAP2K4  ...                  Q14315\n",
              "1                       MYPN  ...                  P35609\n",
              "2                      ACVR1  ...                  P49354\n",
              "3                      GATA2  ...                  P29590\n",
              "4                       RPA2  ...                  P40763\n",
              "..                       ...  ...                     ...\n",
              "147                     JAK2  ...                  O15524\n",
              "148                     BYSL  ...                  P05787\n",
              "149                    KRT18  ...                  P22681\n",
              "150                    KRT18  ...                  O75190\n",
              "151                     LMNA  ...                  P20700\n",
              "\n",
              "[152 rows x 4 columns]"
            ]
          },
          "metadata": {
            "tags": []
          },
          "execution_count": 52
        }
      ]
    },
    {
      "cell_type": "markdown",
      "metadata": {
        "id": "zzPvmZDaCIMw"
      },
      "source": [
        "##1.3-b All proteins interacting with at least one seed gene"
      ]
    },
    {
      "cell_type": "code",
      "metadata": {
        "id": "ijLfvZuyCbDf"
      },
      "source": [
        "proteins_interactions = biogrid_data.values\n",
        "indexes = []\n",
        "i =0\n",
        "for row in proteins_interactions:\n",
        "  check_1 = str(row[7]) in seed_genes_ids\n",
        "  check_2 = str(row[8]) in seed_genes_ids\n",
        "  # check_3 = row[35] =='Homo sapiens' # not necessary anymore because unwanted row were filtered out\n",
        "  # check_4 = row[36] =='Homo sapiens'\n",
        "  if (check_2  or check_1) :\n",
        "    indexes.append(i)\n",
        "    i= i+1"
      ],
      "execution_count": 53,
      "outputs": []
    },
    {
      "cell_type": "code",
      "metadata": {
        "id": "eDImrysbQyIs"
      },
      "source": [
        "all_proteins_interactions = biogrid_data.iloc[indexes,[7,8,23,26]]\n",
        "all_proteins_data = all_proteins_interactions.values\n",
        "columns = ['interactor A gene symbol',' interactor B gene symbol', 'interactor A Uniprot AC', 'interactor B Uniprot AC']\n",
        "all_proteins_interactions_df = pd.DataFrame(all_proteins_data,columns=columns)"
      ],
      "execution_count": 54,
      "outputs": []
    },
    {
      "cell_type": "code",
      "metadata": {
        "id": "siwZAzIds7DT",
        "colab": {
          "base_uri": "https://localhost:8080/",
          "height": 407
        },
        "outputId": "5ad0aa08-6197-4dc0-fb3a-1b61b98f4118"
      },
      "source": [
        "all_proteins_interactions_df"
      ],
      "execution_count": 55,
      "outputs": [
        {
          "output_type": "execute_result",
          "data": {
            "text/html": [
              "<div>\n",
              "<style scoped>\n",
              "    .dataframe tbody tr th:only-of-type {\n",
              "        vertical-align: middle;\n",
              "    }\n",
              "\n",
              "    .dataframe tbody tr th {\n",
              "        vertical-align: top;\n",
              "    }\n",
              "\n",
              "    .dataframe thead th {\n",
              "        text-align: right;\n",
              "    }\n",
              "</style>\n",
              "<table border=\"1\" class=\"dataframe\">\n",
              "  <thead>\n",
              "    <tr style=\"text-align: right;\">\n",
              "      <th></th>\n",
              "      <th>interactor A gene symbol</th>\n",
              "      <th>interactor B gene symbol</th>\n",
              "      <th>interactor A Uniprot AC</th>\n",
              "      <th>interactor B Uniprot AC</th>\n",
              "    </tr>\n",
              "  </thead>\n",
              "  <tbody>\n",
              "    <tr>\n",
              "      <th>0</th>\n",
              "      <td>MAP2K4</td>\n",
              "      <td>FLNC</td>\n",
              "      <td>P45985</td>\n",
              "      <td>Q14315</td>\n",
              "    </tr>\n",
              "    <tr>\n",
              "      <th>1</th>\n",
              "      <td>MYPN</td>\n",
              "      <td>ACTN2</td>\n",
              "      <td>Q86TC9</td>\n",
              "      <td>P35609</td>\n",
              "    </tr>\n",
              "    <tr>\n",
              "      <th>2</th>\n",
              "      <td>ACVR1</td>\n",
              "      <td>FNTA</td>\n",
              "      <td>Q04771</td>\n",
              "      <td>P49354</td>\n",
              "    </tr>\n",
              "    <tr>\n",
              "      <th>3</th>\n",
              "      <td>GATA2</td>\n",
              "      <td>PML</td>\n",
              "      <td>P23769</td>\n",
              "      <td>P29590</td>\n",
              "    </tr>\n",
              "    <tr>\n",
              "      <th>4</th>\n",
              "      <td>RPA2</td>\n",
              "      <td>STAT3</td>\n",
              "      <td>P15927</td>\n",
              "      <td>P40763</td>\n",
              "    </tr>\n",
              "    <tr>\n",
              "      <th>...</th>\n",
              "      <td>...</td>\n",
              "      <td>...</td>\n",
              "      <td>...</td>\n",
              "      <td>...</td>\n",
              "    </tr>\n",
              "    <tr>\n",
              "      <th>12882</th>\n",
              "      <td>RB1</td>\n",
              "      <td>HDAC1</td>\n",
              "      <td>P06400</td>\n",
              "      <td>Q13547</td>\n",
              "    </tr>\n",
              "    <tr>\n",
              "      <th>12883</th>\n",
              "      <td>MYOD1</td>\n",
              "      <td>HDAC1</td>\n",
              "      <td>P15172</td>\n",
              "      <td>Q13547</td>\n",
              "    </tr>\n",
              "    <tr>\n",
              "      <th>12884</th>\n",
              "      <td>RUVBL1</td>\n",
              "      <td>EP400</td>\n",
              "      <td>Q9Y265</td>\n",
              "      <td>Q96L91</td>\n",
              "    </tr>\n",
              "    <tr>\n",
              "      <th>12885</th>\n",
              "      <td>EP400</td>\n",
              "      <td>RUVBL1</td>\n",
              "      <td>Q96L91</td>\n",
              "      <td>Q9Y265</td>\n",
              "    </tr>\n",
              "    <tr>\n",
              "      <th>12886</th>\n",
              "      <td>MYC</td>\n",
              "      <td>RUVBL1</td>\n",
              "      <td>P01106</td>\n",
              "      <td>Q9Y265</td>\n",
              "    </tr>\n",
              "  </tbody>\n",
              "</table>\n",
              "<p>12887 rows × 4 columns</p>\n",
              "</div>"
            ],
            "text/plain": [
              "      interactor A gene symbol  ... interactor B Uniprot AC\n",
              "0                       MAP2K4  ...                  Q14315\n",
              "1                         MYPN  ...                  P35609\n",
              "2                        ACVR1  ...                  P49354\n",
              "3                        GATA2  ...                  P29590\n",
              "4                         RPA2  ...                  P40763\n",
              "...                        ...  ...                     ...\n",
              "12882                      RB1  ...                  Q13547\n",
              "12883                    MYOD1  ...                  Q13547\n",
              "12884                   RUVBL1  ...                  Q96L91\n",
              "12885                    EP400  ...                  Q9Y265\n",
              "12886                      MYC  ...                  Q9Y265\n",
              "\n",
              "[12887 rows x 4 columns]"
            ]
          },
          "metadata": {
            "tags": []
          },
          "execution_count": 55
        }
      ]
    },
    {
      "cell_type": "markdown",
      "metadata": {
        "id": "EI2VCjlWqaJa"
      },
      "source": [
        "##Save interactome"
      ]
    },
    {
      "cell_type": "code",
      "metadata": {
        "id": "b9J0UnIOR0vF"
      },
      "source": [
        "#save inteactome disease csv\n",
        "filename = dataset_folder + '1.3/interactome.csv'\n",
        "all_proteins_interactions_df.to_csv(filename, sep='\\t',index=False)\n",
        "\n"
      ],
      "execution_count": 57,
      "outputs": []
    },
    {
      "cell_type": "markdown",
      "metadata": {
        "id": "K_CU5LlSqhLb"
      },
      "source": [
        "#2 - Data Analysis"
      ]
    },
    {
      "cell_type": "code",
      "metadata": {
        "id": "ywbrVqV-qU3O",
        "colab": {
          "base_uri": "https://localhost:8080/"
        },
        "outputId": "fcb863a6-67f7-4818-be0f-b4376d8fecdf"
      },
      "source": [
        "!pip install networkx  # to install package needed for the network"
      ],
      "execution_count": 58,
      "outputs": [
        {
          "output_type": "stream",
          "text": [
            "Requirement already satisfied: networkx in /usr/local/lib/python3.6/dist-packages (2.5)\n",
            "Requirement already satisfied: decorator>=4.3.0 in /usr/local/lib/python3.6/dist-packages (from networkx) (4.4.2)\n"
          ],
          "name": "stdout"
        }
      ]
    },
    {
      "cell_type": "code",
      "metadata": {
        "id": "6OHLCne-sVaG"
      },
      "source": [
        "import networkx as nx\n",
        "import matplotlib.pyplot as plt"
      ],
      "execution_count": 153,
      "outputs": []
    },
    {
      "cell_type": "markdown",
      "metadata": {
        "id": "b9-iZcxismtM"
      },
      "source": [
        "### Build a network object from our data "
      ]
    },
    {
      "cell_type": "code",
      "metadata": {
        "id": "AbKA1e2rstNe"
      },
      "source": [
        "bio_graph = nx.Graph()  # create the empty grap object "
      ],
      "execution_count": 154,
      "outputs": []
    },
    {
      "cell_type": "code",
      "metadata": {
        "id": "xgAZ0zbpud7P"
      },
      "source": [
        "links = all_proteins_interactions_df.iloc[:,:2].values# get all links \n",
        "edges = [tuple(link) for link in links ] # transform links in tuple for nx graph object "
      ],
      "execution_count": 155,
      "outputs": []
    },
    {
      "cell_type": "code",
      "metadata": {
        "id": "bs7GTqzlvNxz"
      },
      "source": [
        "bio_graph.add_edges_from(edges)"
      ],
      "execution_count": 156,
      "outputs": []
    },
    {
      "cell_type": "markdown",
      "metadata": {
        "id": "rhleg6u5wh--"
      },
      "source": [
        "### Visualize graph "
      ]
    },
    {
      "cell_type": "code",
      "metadata": {
        "id": "plTD9BEfySzP",
        "colab": {
          "base_uri": "https://localhost:8080/",
          "height": 248
        },
        "outputId": "ce37650f-5526-40a2-8b04-f1f7f180c3d6"
      },
      "source": [
        "nx.draw_networkx(bio_graph, \n",
        "                       with_labels=False,\n",
        "                       node_size=10,\n",
        "                       node_color=('b'), \n",
        "                       edge_color=('g'),\n",
        "                 \n",
        "\n",
        "                       )\n",
        "plt.show()"
      ],
      "execution_count": 42,
      "outputs": [
        {
          "output_type": "display_data",
          "data": {
            "image/png": "[encoded data removed]",
            "text/plain": [
              "<Figure size 432x288 with 1 Axes>"
            ]
          },
          "metadata": {
            "tags": []
          }
        }
      ]
    },
    {
      "cell_type": "markdown",
      "metadata": {
        "id": "PA4rfDFzTatP"
      },
      "source": [
        "##2.1 Main network measures"
      ]
    },
    {
      "cell_type": "markdown",
      "metadata": {
        "id": "_KF6_LYYqpH0"
      },
      "source": [
        "#### a - global measures"
      ]
    },
    {
      "cell_type": "code",
      "metadata": {
        "id": "m1Ky08d-USXN"
      },
      "source": [
        "avg_degree = sum(nx.average_neighbor_degree(bio_graph).values())/ nx.number_of_nodes(bio_graph)\n",
        "avg_clus_coef = nx.average_clustering(bio_graph)\n"
      ],
      "execution_count": 157,
      "outputs": []
    },
    {
      "cell_type": "code",
      "metadata": {
        "id": "qn7ufVNYUW9M"
      },
      "source": [
        "avg_paths = []\n",
        "radiuses = []\n",
        "diameters = []\n",
        "for cc in nx.connected_components(bio_graph):\n",
        "  g = bio_graph.subgraph(cc)   \n",
        "  avg_paths.append(nx.average_shortest_path_length(g))\n",
        "  radiuses.append(nx.radius(g))\n",
        "  diameters.append(nx.diameter(g)) \n"
      ],
      "execution_count": 158,
      "outputs": []
    },
    {
      "cell_type": "code",
      "metadata": {
        "id": "8UjjEsjOhfcf"
      },
      "source": [
        "avg_path_lengths = np.mean(avg_paths)\n",
        "radius = np.max(radiuses)\n",
        "diameter = np.max(diameters)"
      ],
      "execution_count": 159,
      "outputs": []
    },
    {
      "cell_type": "code",
      "metadata": {
        "id": "y5jCiiEW2d13",
        "colab": {
          "base_uri": "https://localhost:8080/"
        },
        "outputId": "bb5d6926-5703-408c-e201-4af724704a8d"
      },
      "source": [
        "print(f\"Number of nodes               : {nx.number_of_nodes(bio_graph)}\")\n",
        "print(f\"Number of Links               : {nx.number_of_edges(bio_graph)}\")\n",
        "print(f\"Number of connected components: {nx.number_connected_components(bio_graph)}\")\n",
        "print(f\"Number of isolated nodes      : {nx.number_of_isolates(bio_graph)}\")\n",
        "print(f\"Average path length           : {avg_path_lengths}\")\n",
        "print(f\"Average Degree                : {avg_degree}\")\n",
        "print(f\"Average custering coefficient : {avg_clus_coef}\")\n",
        "print(f\"Network radius                : {radius}\")\n",
        "print(f\"Network diameter              : {diameter}\")\n",
        "print(f\"Network centralization              : {'#TODO'}\")"
      ],
      "execution_count": 160,
      "outputs": [
        {
          "output_type": "stream",
          "text": [
            "Number of nodes               : 4826\n",
            "Number of Links               : 9916\n",
            "Number of connected components: 204\n",
            "Number of isolated nodes      : 0\n",
            "Average path length           : 0.9100962842401638\n",
            "Average Degree                : 17.148766044645775\n",
            "Average custering coefficient : 0.09234960083891741\n",
            "Network radius                : 8\n",
            "Network diameter              : 15\n",
            "Network centralization              : #TODO\n"
          ],
          "name": "stdout"
        }
      ]
    },
    {
      "cell_type": "markdown",
      "metadata": {
        "id": "mfkQ3yHMqx2s"
      },
      "source": [
        "#### b- LCC Measures"
      ]
    },
    {
      "cell_type": "code",
      "metadata": {
        "id": "4CA71rRBtXcu"
      },
      "source": [
        "bio_graph_lcc = max(nx.connected_components(bio_graph), key=len)\n",
        "bio_graph_lcc = bio_graph.subgraph(bio_graph_lcc)"
      ],
      "execution_count": 161,
      "outputs": []
    },
    {
      "cell_type": "code",
      "metadata": {
        "id": "eCFfiWhhtiKn",
        "colab": {
          "base_uri": "https://localhost:8080/",
          "height": 248
        },
        "outputId": "6015d20b-2a89-477e-d09a-ddc8c63b2a6c"
      },
      "source": [
        "nx.draw_networkx(bio_graph_lcc, \n",
        "                 with_labels=False,\n",
        "                 node_size=5,\n",
        "                 node_color=('b'), \n",
        "                 edge_color=('g')\n",
        ")\n",
        "plt.show()"
      ],
      "execution_count": 48,
      "outputs": [
        {
          "output_type": "display_data",
          "data": {
            "image/png": "[encoded data removed]",
            "text/plain": [
              "<Figure size 432x288 with 1 Axes>"
            ]
          },
          "metadata": {
            "tags": []
          }
        }
      ]
    },
    {
      "cell_type": "markdown",
      "metadata": {
        "id": "-DQnEoW-q232"
      },
      "source": [
        "##### i - Global Measures"
      ]
    },
    {
      "cell_type": "code",
      "metadata": {
        "id": "4V79HmUyrAMk",
        "colab": {
          "base_uri": "https://localhost:8080/"
        },
        "outputId": "6a40f5c3-5ad6-4b25-9b46-1beef61ad7fd"
      },
      "source": [
        "print(f\"Number of nodes               : {nx.number_of_nodes(bio_graph_lcc)}\")\n",
        "print(f\"Number of Links               : {nx.number_of_edges(bio_graph_lcc)}\")\n",
        "print(f\"Number of connected components: {nx.number_connected_components(bio_graph_lcc)}\")\n",
        "print(f\"Number of isolated nodes      : {nx.number_of_isolates(bio_graph_lcc)}\")\n",
        "print(f\"Average path length           : {avg_path_lengths}\")\n",
        "#print(f\"Average Degree                : {nx.de}\")\n",
        "print(f\"Average custering coefficient : {nx.average_clustering(bio_graph_lcc)}\")\n",
        "print(f\"Network radius                : {nx.radius(bio_graph_lcc)}\")\n",
        "print(f\"Network diameter              : {nx.diameter(bio_graph_lcc)}\")\n",
        "print(f\"Network centralization              : {'#TODO'}\")"
      ],
      "execution_count": 162,
      "outputs": [
        {
          "output_type": "stream",
          "text": [
            "Number of nodes               : 4389\n",
            "Number of Links               : 9613\n",
            "Number of connected components: 1\n",
            "Number of isolated nodes      : 0\n",
            "Average path length           : 0.9100962842401638\n",
            "Average custering coefficient : 0.09865857985462491\n",
            "Network radius                : 8\n",
            "Network diameter              : 15\n",
            "Network centralization              : #TODO\n"
          ],
          "name": "stdout"
        }
      ]
    },
    {
      "cell_type": "markdown",
      "metadata": {
        "id": "RhQjKSoxq8pJ"
      },
      "source": [
        "##### ii - Local Measures"
      ]
    },
    {
      "cell_type": "markdown",
      "metadata": {
        "id": "yfaqZv2h2EvT"
      },
      "source": [
        " ###### Node degree\n",
        "\n"
      ]
    },
    {
      "cell_type": "code",
      "metadata": {
        "id": "0WAy777t2yaE"
      },
      "source": [
        "g_degree = nx.degree(bio_graph_lcc)\n",
        "degree_df = pd.DataFrame(g_degree, columns=['Node','Degree'])\n",
        "#degree_df.head(10)"
      ],
      "execution_count": 163,
      "outputs": []
    },
    {
      "cell_type": "markdown",
      "metadata": {
        "id": "gEjQUknL2fg6"
      },
      "source": [
        "###### Betweenness centrality"
      ]
    },
    {
      "cell_type": "code",
      "metadata": {
        "id": "-y3tSz073fS5"
      },
      "source": [
        "g_b_centrality = nx.betweenness_centrality(bio_graph_lcc)\n",
        "#g_b_centrality"
      ],
      "execution_count": 164,
      "outputs": []
    },
    {
      "cell_type": "markdown",
      "metadata": {
        "id": "DkAAaV9m2FDJ"
      },
      "source": [
        "###### Eigenvector centrality\n"
      ]
    },
    {
      "cell_type": "code",
      "metadata": {
        "id": "YC4iurPf3tDM"
      },
      "source": [
        "g_e_centrality = nx.eigenvector_centrality(bio_graph_lcc)\n",
        "#g_e_centrality"
      ],
      "execution_count": 165,
      "outputs": []
    },
    {
      "cell_type": "markdown",
      "metadata": {
        "id": "MIYRiTqM2FIb"
      },
      "source": [
        "###### Closeness centrality"
      ]
    },
    {
      "cell_type": "code",
      "metadata": {
        "id": "5VGI9JUE35bF"
      },
      "source": [
        "g_c_centrality = nx.closeness_centrality(bio_graph_lcc)\n",
        "#g_c_centrality"
      ],
      "execution_count": 166,
      "outputs": []
    },
    {
      "cell_type": "markdown",
      "metadata": {
        "id": "iqG10Lc-NepF"
      },
      "source": [
        "##### Show all local measures"
      ]
    },
    {
      "cell_type": "code",
      "metadata": {
        "id": "4T9NbnN5I6yo"
      },
      "source": [
        "nodes = list(bio_graph_lcc.nodes)\n",
        "nodes_degree = list(degree_df['Degree'].values)\n",
        "b_centrality = list(g_b_centrality.values())\n",
        "e_centrality = list(g_e_centrality.values())\n",
        "c_centrality = list(g_c_centrality.values())\n"
      ],
      "execution_count": 167,
      "outputs": []
    },
    {
      "cell_type": "markdown",
      "metadata": {
        "id": "LjleO4pz2FNn"
      },
      "source": [
        "###### Ratio Betweenness/Node degree"
      ]
    },
    {
      "cell_type": "code",
      "metadata": {
        "id": "K8_3EAsy4jLt"
      },
      "source": [
        "ratio_b_d = np.array(b_centrality)/np.array(nodes_degree)"
      ],
      "execution_count": 168,
      "outputs": []
    },
    {
      "cell_type": "code",
      "metadata": {
        "id": "pD0anpG3LhVy",
        "colab": {
          "base_uri": "https://localhost:8080/",
          "height": 407
        },
        "outputId": "5c658d8b-298a-4db9-b64b-000cd99aedb3"
      },
      "source": [
        "columns = ['nodes','Degree','Betweeness Centrality','Eigen centrality','closeness centrality','Ratio']\n",
        "data = [nodes,nodes_degree,b_centrality,e_centrality,c_centrality,ratio_b_d]\n",
        "data = np.array(data).T;\n",
        "df = pd.DataFrame(data, columns=columns)\n",
        "df.sort_values(by='Degree',ascending=False)"
      ],
      "execution_count": 169,
      "outputs": [
        {
          "output_type": "execute_result",
          "data": {
            "text/html": [
              "<div>\n",
              "<style scoped>\n",
              "    .dataframe tbody tr th:only-of-type {\n",
              "        vertical-align: middle;\n",
              "    }\n",
              "\n",
              "    .dataframe tbody tr th {\n",
              "        vertical-align: top;\n",
              "    }\n",
              "\n",
              "    .dataframe thead th {\n",
              "        text-align: right;\n",
              "    }\n",
              "</style>\n",
              "<table border=\"1\" class=\"dataframe\">\n",
              "  <thead>\n",
              "    <tr style=\"text-align: right;\">\n",
              "      <th></th>\n",
              "      <th>nodes</th>\n",
              "      <th>Degree</th>\n",
              "      <th>Betweeness Centrality</th>\n",
              "      <th>Eigen centrality</th>\n",
              "      <th>closeness centrality</th>\n",
              "      <th>Ratio</th>\n",
              "    </tr>\n",
              "  </thead>\n",
              "  <tbody>\n",
              "    <tr>\n",
              "      <th>1157</th>\n",
              "      <td>MDFI</td>\n",
              "      <td>98</td>\n",
              "      <td>0.03582301901057301</td>\n",
              "      <td>0.01609308194925159</td>\n",
              "      <td>0.25958353052531946</td>\n",
              "      <td>0.00036554101031196953</td>\n",
              "    </tr>\n",
              "    <tr>\n",
              "      <th>35</th>\n",
              "      <td>BRCA1</td>\n",
              "      <td>95</td>\n",
              "      <td>0.06595412084596748</td>\n",
              "      <td>0.07349077731555746</td>\n",
              "      <td>0.27933032019861226</td>\n",
              "      <td>0.000694253903641763</td>\n",
              "    </tr>\n",
              "    <tr>\n",
              "      <th>1441</th>\n",
              "      <td>XIAP</td>\n",
              "      <td>9</td>\n",
              "      <td>0.0012728305497665992</td>\n",
              "      <td>0.0007986838958323306</td>\n",
              "      <td>0.21734607954826887</td>\n",
              "      <td>0.00014142561664073325</td>\n",
              "    </tr>\n",
              "    <tr>\n",
              "      <th>58</th>\n",
              "      <td>MCM5</td>\n",
              "      <td>9</td>\n",
              "      <td>0.0018307059499518444</td>\n",
              "      <td>0.0017526477105750415</td>\n",
              "      <td>0.22688728024819027</td>\n",
              "      <td>0.0002034117722168716</td>\n",
              "    </tr>\n",
              "    <tr>\n",
              "      <th>2714</th>\n",
              "      <td>CDK5RAP3</td>\n",
              "      <td>9</td>\n",
              "      <td>0.002731341065139078</td>\n",
              "      <td>0.00012734864500706878</td>\n",
              "      <td>0.2038654525181193</td>\n",
              "      <td>0.00030348234057100867</td>\n",
              "    </tr>\n",
              "    <tr>\n",
              "      <th>...</th>\n",
              "      <td>...</td>\n",
              "      <td>...</td>\n",
              "      <td>...</td>\n",
              "      <td>...</td>\n",
              "      <td>...</td>\n",
              "      <td>...</td>\n",
              "    </tr>\n",
              "    <tr>\n",
              "      <th>2814</th>\n",
              "      <td>PDIA4</td>\n",
              "      <td>1</td>\n",
              "      <td>0.0</td>\n",
              "      <td>1.0271049349746429e-05</td>\n",
              "      <td>0.16869137321236352</td>\n",
              "      <td>0.0</td>\n",
              "    </tr>\n",
              "    <tr>\n",
              "      <th>2812</th>\n",
              "      <td>SLC4A7</td>\n",
              "      <td>1</td>\n",
              "      <td>0.0</td>\n",
              "      <td>9.804992573503242e-05</td>\n",
              "      <td>0.18106792110258316</td>\n",
              "      <td>0.0</td>\n",
              "    </tr>\n",
              "    <tr>\n",
              "      <th>2810</th>\n",
              "      <td>LCN1</td>\n",
              "      <td>1</td>\n",
              "      <td>0.0</td>\n",
              "      <td>2.461647894669171e-05</td>\n",
              "      <td>0.1797623924621057</td>\n",
              "      <td>0.0</td>\n",
              "    </tr>\n",
              "    <tr>\n",
              "      <th>2809</th>\n",
              "      <td>DFFB</td>\n",
              "      <td>1</td>\n",
              "      <td>0.0</td>\n",
              "      <td>8.438144785776394e-05</td>\n",
              "      <td>0.19601536674707407</td>\n",
              "      <td>0.0</td>\n",
              "    </tr>\n",
              "    <tr>\n",
              "      <th>2194</th>\n",
              "      <td>YIPF4</td>\n",
              "      <td>1</td>\n",
              "      <td>0.0</td>\n",
              "      <td>6.501218930852188e-05</td>\n",
              "      <td>0.17376153328317429</td>\n",
              "      <td>0.0</td>\n",
              "    </tr>\n",
              "  </tbody>\n",
              "</table>\n",
              "<p>4389 rows × 6 columns</p>\n",
              "</div>"
            ],
            "text/plain": [
              "         nodes Degree  ... closeness centrality                   Ratio\n",
              "1157      MDFI     98  ...  0.25958353052531946  0.00036554101031196953\n",
              "35       BRCA1     95  ...  0.27933032019861226    0.000694253903641763\n",
              "1441      XIAP      9  ...  0.21734607954826887  0.00014142561664073325\n",
              "58        MCM5      9  ...  0.22688728024819027   0.0002034117722168716\n",
              "2714  CDK5RAP3      9  ...   0.2038654525181193  0.00030348234057100867\n",
              "...        ...    ...  ...                  ...                     ...\n",
              "2814     PDIA4      1  ...  0.16869137321236352                     0.0\n",
              "2812    SLC4A7      1  ...  0.18106792110258316                     0.0\n",
              "2810      LCN1      1  ...   0.1797623924621057                     0.0\n",
              "2809      DFFB      1  ...  0.19601536674707407                     0.0\n",
              "2194     YIPF4      1  ...  0.17376153328317429                     0.0\n",
              "\n",
              "[4389 rows x 6 columns]"
            ]
          },
          "metadata": {
            "tags": []
          },
          "execution_count": 169
        }
      ]
    },
    {
      "cell_type": "markdown",
      "metadata": {
        "id": "CYqG9QQ_N4kO"
      },
      "source": [
        "#### 2.2 Clustering methods for disease modules discover"
      ]
    },
    {
      "cell_type": "code",
      "metadata": {
        "colab": {
          "base_uri": "https://localhost:8080/"
        },
        "id": "0HCpRWPcTFOa",
        "outputId": "ce84e0d5-8a54-48cd-ab81-4261e1b964e8"
      },
      "source": [
        "!pip install markov_clustering[drawing]"
      ],
      "execution_count": 170,
      "outputs": [
        {
          "output_type": "stream",
          "text": [
            "Requirement already satisfied: markov_clustering[drawing] in /usr/local/lib/python3.6/dist-packages (0.0.6.dev0)\n",
            "Requirement already satisfied: scikit-learn in /usr/local/lib/python3.6/dist-packages (from markov_clustering[drawing]) (0.22.2.post1)\n",
            "Requirement already satisfied: scipy>=0.19.0 in /usr/local/lib/python3.6/dist-packages (from markov_clustering[drawing]) (1.4.1)\n",
            "Requirement already satisfied: numpy in /usr/local/lib/python3.6/dist-packages (from markov_clustering[drawing]) (1.18.5)\n",
            "Requirement already satisfied: matplotlib; extra == \"drawing\" in /usr/local/lib/python3.6/dist-packages (from markov_clustering[drawing]) (3.2.2)\n",
            "Requirement already satisfied: networkx; extra == \"drawing\" in /usr/local/lib/python3.6/dist-packages (from markov_clustering[drawing]) (2.5)\n",
            "Requirement already satisfied: joblib>=0.11 in /usr/local/lib/python3.6/dist-packages (from scikit-learn->markov_clustering[drawing]) (0.17.0)\n",
            "Requirement already satisfied: pyparsing!=2.0.4,!=2.1.2,!=2.1.6,>=2.0.1 in /usr/local/lib/python3.6/dist-packages (from matplotlib; extra == \"drawing\"->markov_clustering[drawing]) (2.4.7)\n",
            "Requirement already satisfied: kiwisolver>=1.0.1 in /usr/local/lib/python3.6/dist-packages (from matplotlib; extra == \"drawing\"->markov_clustering[drawing]) (1.3.1)\n",
            "Requirement already satisfied: python-dateutil>=2.1 in /usr/local/lib/python3.6/dist-packages (from matplotlib; extra == \"drawing\"->markov_clustering[drawing]) (2.8.1)\n",
            "Requirement already satisfied: cycler>=0.10 in /usr/local/lib/python3.6/dist-packages (from matplotlib; extra == \"drawing\"->markov_clustering[drawing]) (0.10.0)\n",
            "Requirement already satisfied: decorator>=4.3.0 in /usr/local/lib/python3.6/dist-packages (from networkx; extra == \"drawing\"->markov_clustering[drawing]) (4.4.2)\n",
            "Requirement already satisfied: six>=1.5 in /usr/local/lib/python3.6/dist-packages (from python-dateutil>=2.1->matplotlib; extra == \"drawing\"->markov_clustering[drawing]) (1.15.0)\n"
          ],
          "name": "stdout"
        }
      ]
    },
    {
      "cell_type": "code",
      "metadata": {
        "id": "Fsa31IyFOAdb"
      },
      "source": [
        "import markov_clustering as mc"
      ],
      "execution_count": 64,
      "outputs": []
    },
    {
      "cell_type": "code",
      "metadata": {
        "id": "W50wOtkgUjf2"
      },
      "source": [
        "#  get the adjacency matrix (in sparse form)\n",
        "matrix = nx.to_scipy_sparse_matrix(bio_graph)"
      ],
      "execution_count": 65,
      "outputs": []
    },
    {
      "cell_type": "code",
      "metadata": {
        "id": "1nOPw9HHUor4"
      },
      "source": [
        "result = mc.run_mcl(matrix)           # run MCL with default parameters\n",
        "clusters = mc.get_clusters(result)   # each element in cluster is represented by internal ID number"
      ],
      "execution_count": 66,
      "outputs": []
    },
    {
      "cell_type": "markdown",
      "metadata": {
        "id": "yf-CMLM_7-e2"
      },
      "source": [
        "###### clusters with at least 10 nodes"
      ]
    },
    {
      "cell_type": "code",
      "metadata": {
        "id": "A6H_TNmZU9u6"
      },
      "source": [
        "# we retrieve cluster with at least 10 elements \n",
        "above_10_clusters = [cluster for cluster in clusters if len(cluster)>=10]\n",
        "\n",
        "# We convert back the IDs to genes symbols\n",
        "nodes_list = list(bio_graph.nodes)\n",
        "symbols_clusters = [tuple([nodes_list[i] for i in cluster]) for cluster in above_10_clusters]"
      ],
      "execution_count": 67,
      "outputs": []
    },
    {
      "cell_type": "markdown",
      "metadata": {
        "id": "cEOPqJwJ8RCC"
      },
      "source": [
        "#### hypergeometric test"
      ]
    },
    {
      "cell_type": "code",
      "metadata": {
        "id": "VldrTTHnKydC"
      },
      "source": [
        "import random\n",
        "from collections import Counter\n",
        "from scipy.stats import hypergeom\n"
      ],
      "execution_count": 124,
      "outputs": []
    },
    {
      "cell_type": "code",
      "metadata": {
        "id": "vMWSdrBrNgEn"
      },
      "source": [
        "collection =  list(all_proteins_interactions_df.iloc[:,:2].values.flatten())\n",
        "collection_set = set(collection)"
      ],
      "execution_count": 69,
      "outputs": []
    },
    {
      "cell_type": "code",
      "metadata": {
        "colab": {
          "base_uri": "https://localhost:8080/"
        },
        "id": "BLIdQTwbFkn3",
        "outputId": "d76ecdd9-e62b-436f-95a5-a68474ec4a69"
      },
      "source": [
        "N_seed_genes = n_seed_biogrid # number of seedgenes in iogrid\n",
        "N_all_genes = len(genes_biogrid)\n",
        "N_non_seed_genes = N_all_genes - N_seed_genes\n",
        "prob_seed = N_seed_genes / N_all_genes\n",
        "prob_seed"
      ],
      "execution_count": 139,
      "outputs": [
        {
          "output_type": "execute_result",
          "data": {
            "text/plain": [
              "0.004557054320087495"
            ]
          },
          "metadata": {
            "tags": []
          },
          "execution_count": 139
        }
      ]
    },
    {
      "cell_type": "code",
      "metadata": {
        "id": "1FGKaqQrK4cK"
      },
      "source": [
        "sample_size_max = 10\n",
        "\n"
      ],
      "execution_count": 171,
      "outputs": []
    },
    {
      "cell_type": "code",
      "metadata": {
        "id": "ob2E18wwM246",
        "outputId": "bee0c2cb-5d63-4744-d1c4-6d1ca1e26217",
        "colab": {
          "base_uri": "https://localhost:8080/"
        }
      },
      "source": [
        "probs = {}\n",
        "hpd = hypergeom(N_all_genes,N_seed_genes,sample_size_max)\n",
        "for x in range(1,sample_size_max):\n",
        "  probs[x] = hpd.pmf(x)\n",
        "\n",
        "probs"
      ],
      "execution_count": 140,
      "outputs": [
        {
          "output_type": "execute_result",
          "data": {
            "text/plain": [
              "{1: 0.043752861133658456,\n",
              " 2: 0.0008926497360273107,\n",
              " 3: 1.0682746302870106e-05,\n",
              " 4: 8.303856511132288e-08,\n",
              " 5: 4.38025674278221e-10,\n",
              " 6: 1.5877762155442661e-12,\n",
              " 7: 3.904869982719714e-15,\n",
              " 8: 6.234884197727557e-18,\n",
              " 9: 5.8356793296410964e-21}"
            ]
          },
          "metadata": {
            "tags": []
          },
          "execution_count": 140
        }
      ]
    },
    {
      "cell_type": "markdown",
      "metadata": {
        "id": "KqfVrG6TQcU3"
      },
      "source": [
        "For p < 0.05 we have to find sample with at least 1 seed gene"
      ]
    },
    {
      "cell_type": "markdown",
      "metadata": {
        "id": "lgy-l_9xXpUS"
      },
      "source": [
        "#### Check cluster that contains the over represented Nodes"
      ]
    },
    {
      "cell_type": "code",
      "metadata": {
        "id": "YRrgvccqRGuu"
      },
      "source": [
        "putative_disease_modules = []\n",
        "for cluster in symbols_clusters:\n",
        "  s = len(set(cluster).intersection(set(seed_genes_ids)))\n",
        "  if s > 0:\n",
        "    putative_disease_modules.append(cluster)\n",
        "\n",
        "#putative_disease_modules"
      ],
      "execution_count": 143,
      "outputs": []
    },
    {
      "cell_type": "code",
      "metadata": {
        "id": "OnsjhRZATFQR"
      },
      "source": [
        "module_data = []\n",
        "columns = ['module ID', 'no.of seed genes in the module',\n",
        "           'total no. of genes in each module', 'seed gene IDs', 'all gene IDs in the module', 'p-value']\n",
        "for id,module in enumerate(putative_disease_modules):\n",
        "  module_id = f'MOD_{id}'\n",
        "  n_seed_gene = len(set(module).intersection(set(seed_genes_ids)))\n",
        "  module_size = len(module)\n",
        "  seed_genes = ','.join(set(module).intersection(set(seed_genes_ids)))\n",
        "  all_genes = ','.join(module)\n",
        "  p_value = hypergeom(N_all_genes,N_seed_genes,total_n).pmf(n_seed_gene)\n",
        "\n",
        "  module_data.append([module_id,n_seed_gene,module_size,seed_genes,all_genes,p_value])\n",
        "\n",
        "  "
      ],
      "execution_count": 149,
      "outputs": []
    },
    {
      "cell_type": "code",
      "metadata": {
        "id": "DhNRUbj5WD8r",
        "outputId": "1e7eac0d-dfae-43f4-bc7a-a008ef1bc3fe",
        "colab": {
          "base_uri": "https://localhost:8080/",
          "height": 275
        }
      },
      "source": [
        "moduledf = pd.DataFrame(module_data,columns=columns)\n",
        "moduledf"
      ],
      "execution_count": 150,
      "outputs": [
        {
          "output_type": "execute_result",
          "data": {
            "text/html": [
              "<div>\n",
              "<style scoped>\n",
              "    .dataframe tbody tr th:only-of-type {\n",
              "        vertical-align: middle;\n",
              "    }\n",
              "\n",
              "    .dataframe tbody tr th {\n",
              "        vertical-align: top;\n",
              "    }\n",
              "\n",
              "    .dataframe thead th {\n",
              "        text-align: right;\n",
              "    }\n",
              "</style>\n",
              "<table border=\"1\" class=\"dataframe\">\n",
              "  <thead>\n",
              "    <tr style=\"text-align: right;\">\n",
              "      <th></th>\n",
              "      <th>module ID</th>\n",
              "      <th>no.of seed genes in the module</th>\n",
              "      <th>total no. of genes in each module</th>\n",
              "      <th>seed gene IDs</th>\n",
              "      <th>all gene IDs in the module</th>\n",
              "      <th>p-value</th>\n",
              "    </tr>\n",
              "  </thead>\n",
              "  <tbody>\n",
              "    <tr>\n",
              "      <th>0</th>\n",
              "      <td>MOD_0</td>\n",
              "      <td>1</td>\n",
              "      <td>54</td>\n",
              "      <td>SIPA1L1</td>\n",
              "      <td>SFN,CDC42EP1,FAM189A2,BAG3,CHST1,MAPKAP1,IRS2,...</td>\n",
              "      <td>0.043753</td>\n",
              "    </tr>\n",
              "    <tr>\n",
              "      <th>1</th>\n",
              "      <td>MOD_1</td>\n",
              "      <td>1</td>\n",
              "      <td>50</td>\n",
              "      <td>KCNMB1</td>\n",
              "      <td>FASN,EWSR1,ZDHHC3,MYL6,NUDT21,SLC22A24,MVK,PGL...</td>\n",
              "      <td>0.043753</td>\n",
              "    </tr>\n",
              "    <tr>\n",
              "      <th>2</th>\n",
              "      <td>MOD_2</td>\n",
              "      <td>1</td>\n",
              "      <td>26</td>\n",
              "      <td>TNF</td>\n",
              "      <td>TRAIP,FLII,TRAF1,HIVEP3,TRAF2,TNFRSF25,TRADD,F...</td>\n",
              "      <td>0.043753</td>\n",
              "    </tr>\n",
              "    <tr>\n",
              "      <th>3</th>\n",
              "      <td>MOD_3</td>\n",
              "      <td>1</td>\n",
              "      <td>14</td>\n",
              "      <td>MYO1B</td>\n",
              "      <td>EIF4A1,AKAP17A,EIF4E,EIF4A2,PDCD4,MYO1B,EIF4G3...</td>\n",
              "      <td>0.043753</td>\n",
              "    </tr>\n",
              "    <tr>\n",
              "      <th>4</th>\n",
              "      <td>MOD_4</td>\n",
              "      <td>1</td>\n",
              "      <td>51</td>\n",
              "      <td>VIM</td>\n",
              "      <td>KIAA0408,CCDC85B,CEP70,VIM,KANSL1,ZBTB43,ZC2HC...</td>\n",
              "      <td>0.043753</td>\n",
              "    </tr>\n",
              "    <tr>\n",
              "      <th>5</th>\n",
              "      <td>MOD_5</td>\n",
              "      <td>1</td>\n",
              "      <td>30</td>\n",
              "      <td>NDUFB9</td>\n",
              "      <td>MAGEA11,MGME1,ENOX1,DNAJC10,MXD3,COX7A2L,ACTN1...</td>\n",
              "      <td>0.043753</td>\n",
              "    </tr>\n",
              "    <tr>\n",
              "      <th>6</th>\n",
              "      <td>MOD_6</td>\n",
              "      <td>1</td>\n",
              "      <td>10</td>\n",
              "      <td>TPM4</td>\n",
              "      <td>SF3A3,TCERG1,RNU2-1,RNU1-4,PRPF40A,SF3A1,DNAJB...</td>\n",
              "      <td>0.043753</td>\n",
              "    </tr>\n",
              "  </tbody>\n",
              "</table>\n",
              "</div>"
            ],
            "text/plain": [
              "  module ID  ...   p-value\n",
              "0     MOD_0  ...  0.043753\n",
              "1     MOD_1  ...  0.043753\n",
              "2     MOD_2  ...  0.043753\n",
              "3     MOD_3  ...  0.043753\n",
              "4     MOD_4  ...  0.043753\n",
              "5     MOD_5  ...  0.043753\n",
              "6     MOD_6  ...  0.043753\n",
              "\n",
              "[7 rows x 6 columns]"
            ]
          },
          "metadata": {
            "tags": []
          },
          "execution_count": 150
        }
      ]
    }
  ]
}